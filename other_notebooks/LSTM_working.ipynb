{
 "cells": [
  {
   "cell_type": "code",
   "execution_count": 1,
   "id": "8701bcce-224d-40b3-9ae2-cc53562c3036",
   "metadata": {},
   "outputs": [],
   "source": [
    "import numpy as np\n",
    "import pandas as pd\n",
    "from sklearn.preprocessing import MinMaxScaler\n",
    "import matplotlib.pyplot as plt\n",
    "import os\n",
    "from datetime import datetime, timedelta\n",
    "\n",
    "import torch\n",
    "import torch.nn as nn"
   ]
  },
  {
   "cell_type": "code",
   "execution_count": 143,
   "id": "5f479f0c-b4e6-451d-84a5-976c72860109",
   "metadata": {},
   "outputs": [],
   "source": [
    "import sys\n",
    "sys.path.insert(1, '/home/krystian/Repos/XTB-Trader/utility')\n",
    "sys.path.insert(1, '/home/krystian/Repos/XTB-Trader')\n",
    "from XTBClient.api import XTBClient, PERIOD\n",
    "from utility import utility \n",
    "\n",
    "def get_data_for_symbol(symbol):\n",
    "    c = XTBClient()\n",
    "    c.login(os.environ.get(\"XTB_user_num\"), os.environ.get(\"XTB_pass\"))\n",
    "    df = c.get_candles_in_range(symbol, PERIOD.FIVE_MINUTES.value, start=datetime.now() - timedelta(days=150))\n",
    "    c.logout()\n",
    "    \n",
    "    df = df.reset_index()\n",
    "    df.rename(columns={\"timestamp\": \"date\"}, inplace=True)\n",
    "    \n",
    "    df['date'] = df['date'].apply(pd.to_datetime)\n",
    "    df.set_index('date',inplace=True)\n",
    "    df.drop([col for col in df.columns if col != \"close\"], axis=1, inplace=True)\n",
    "    return df\n",
    "\n",
    "\n",
    "# def yf_get_data_for_symbol(symbol):\n",
    "    # df = utility.collect_yf(\"EURUSD=x\", \"1mo\", \"1h\")\n",
    "    # df = df.reset_index()\n",
    "    # df.rename(columns={\"timestamp\": \"date\"}, inplace=True)\n",
    "    \n",
    "    # df['date'] = df['date'].apply(pd.to_datetime)\n",
    "    # df.set_index('date',inplace=True)\n",
    "    # return df"
   ]
  },
  {
   "cell_type": "code",
   "execution_count": 3,
   "id": "9c1e0e9b-30d0-406b-b527-5bc447ffd8ae",
   "metadata": {},
   "outputs": [
    {
     "data": {
      "text/html": [
       "<div>\n",
       "<style scoped>\n",
       "    .dataframe tbody tr th:only-of-type {\n",
       "        vertical-align: middle;\n",
       "    }\n",
       "\n",
       "    .dataframe tbody tr th {\n",
       "        vertical-align: top;\n",
       "    }\n",
       "\n",
       "    .dataframe thead th {\n",
       "        text-align: right;\n",
       "    }\n",
       "</style>\n",
       "<table border=\"1\" class=\"dataframe\">\n",
       "  <thead>\n",
       "    <tr style=\"text-align: right;\">\n",
       "      <th></th>\n",
       "      <th>open</th>\n",
       "      <th>close</th>\n",
       "      <th>high</th>\n",
       "      <th>low</th>\n",
       "      <th>volume</th>\n",
       "    </tr>\n",
       "    <tr>\n",
       "      <th>date</th>\n",
       "      <th></th>\n",
       "      <th></th>\n",
       "      <th></th>\n",
       "      <th></th>\n",
       "      <th></th>\n",
       "    </tr>\n",
       "  </thead>\n",
       "  <tbody>\n",
       "    <tr>\n",
       "      <th>2023-05-23 22:00:00</th>\n",
       "      <td>1.07716</td>\n",
       "      <td>1.07724</td>\n",
       "      <td>1.07730</td>\n",
       "      <td>1.07716</td>\n",
       "      <td>227.0</td>\n",
       "    </tr>\n",
       "    <tr>\n",
       "      <th>2023-05-23 22:05:00</th>\n",
       "      <td>1.07724</td>\n",
       "      <td>1.07710</td>\n",
       "      <td>1.07724</td>\n",
       "      <td>1.07700</td>\n",
       "      <td>193.0</td>\n",
       "    </tr>\n",
       "    <tr>\n",
       "      <th>2023-05-23 22:10:00</th>\n",
       "      <td>1.07710</td>\n",
       "      <td>1.07706</td>\n",
       "      <td>1.07711</td>\n",
       "      <td>1.07701</td>\n",
       "      <td>407.0</td>\n",
       "    </tr>\n",
       "    <tr>\n",
       "      <th>2023-05-23 22:15:00</th>\n",
       "      <td>1.07707</td>\n",
       "      <td>1.07707</td>\n",
       "      <td>1.07714</td>\n",
       "      <td>1.07704</td>\n",
       "      <td>416.0</td>\n",
       "    </tr>\n",
       "    <tr>\n",
       "      <th>2023-05-23 22:20:00</th>\n",
       "      <td>1.07708</td>\n",
       "      <td>1.07708</td>\n",
       "      <td>1.07712</td>\n",
       "      <td>1.07706</td>\n",
       "      <td>374.0</td>\n",
       "    </tr>\n",
       "    <tr>\n",
       "      <th>...</th>\n",
       "      <td>...</td>\n",
       "      <td>...</td>\n",
       "      <td>...</td>\n",
       "      <td>...</td>\n",
       "      <td>...</td>\n",
       "    </tr>\n",
       "    <tr>\n",
       "      <th>2023-06-29 00:50:00</th>\n",
       "      <td>1.09019</td>\n",
       "      <td>1.09040</td>\n",
       "      <td>1.09051</td>\n",
       "      <td>1.09004</td>\n",
       "      <td>2219.0</td>\n",
       "    </tr>\n",
       "    <tr>\n",
       "      <th>2023-06-29 00:55:00</th>\n",
       "      <td>1.09043</td>\n",
       "      <td>1.09065</td>\n",
       "      <td>1.09069</td>\n",
       "      <td>1.09030</td>\n",
       "      <td>1796.0</td>\n",
       "    </tr>\n",
       "    <tr>\n",
       "      <th>2023-06-29 01:00:00</th>\n",
       "      <td>1.09067</td>\n",
       "      <td>1.09075</td>\n",
       "      <td>1.09078</td>\n",
       "      <td>1.09055</td>\n",
       "      <td>2121.0</td>\n",
       "    </tr>\n",
       "    <tr>\n",
       "      <th>2023-06-29 01:05:00</th>\n",
       "      <td>1.09075</td>\n",
       "      <td>1.09087</td>\n",
       "      <td>1.09090</td>\n",
       "      <td>1.09066</td>\n",
       "      <td>2008.0</td>\n",
       "    </tr>\n",
       "    <tr>\n",
       "      <th>2023-06-29 01:10:00</th>\n",
       "      <td>1.09087</td>\n",
       "      <td>1.09088</td>\n",
       "      <td>1.09095</td>\n",
       "      <td>1.09087</td>\n",
       "      <td>209.0</td>\n",
       "    </tr>\n",
       "  </tbody>\n",
       "</table>\n",
       "<p>7466 rows × 5 columns</p>\n",
       "</div>"
      ],
      "text/plain": [
       "                        open    close     high      low  volume\n",
       "date                                                           \n",
       "2023-05-23 22:00:00  1.07716  1.07724  1.07730  1.07716   227.0\n",
       "2023-05-23 22:05:00  1.07724  1.07710  1.07724  1.07700   193.0\n",
       "2023-05-23 22:10:00  1.07710  1.07706  1.07711  1.07701   407.0\n",
       "2023-05-23 22:15:00  1.07707  1.07707  1.07714  1.07704   416.0\n",
       "2023-05-23 22:20:00  1.07708  1.07708  1.07712  1.07706   374.0\n",
       "...                      ...      ...      ...      ...     ...\n",
       "2023-06-29 00:50:00  1.09019  1.09040  1.09051  1.09004  2219.0\n",
       "2023-06-29 00:55:00  1.09043  1.09065  1.09069  1.09030  1796.0\n",
       "2023-06-29 01:00:00  1.09067  1.09075  1.09078  1.09055  2121.0\n",
       "2023-06-29 01:05:00  1.09075  1.09087  1.09090  1.09066  2008.0\n",
       "2023-06-29 01:10:00  1.09087  1.09088  1.09095  1.09087   209.0\n",
       "\n",
       "[7466 rows x 5 columns]"
      ]
     },
     "execution_count": 3,
     "metadata": {},
     "output_type": "execute_result"
    }
   ],
   "source": [
    "df = get_data_for_symbol(\"EURUSD\")\n",
    "df"
   ]
  },
  {
   "cell_type": "code",
   "execution_count": 4,
   "id": "fb9a3d95-c30e-46b9-aebc-f67a952f47c9",
   "metadata": {},
   "outputs": [],
   "source": [
    "closed_prices = df[\"close\"]"
   ]
  },
  {
   "cell_type": "code",
   "execution_count": 5,
   "id": "808dbdb6-ef54-41b5-bf2b-ed3bf61d1b40",
   "metadata": {},
   "outputs": [],
   "source": [
    "seq_len = 15\n",
    "\n",
    "mm = MinMaxScaler()\n",
    "scaled_price = mm.fit_transform(np.array(closed_prices)[... , None]).squeeze()"
   ]
  },
  {
   "cell_type": "code",
   "execution_count": 6,
   "id": "0d3761b2-a2f8-4835-b44c-c445fdd24298",
   "metadata": {},
   "outputs": [],
   "source": [
    "X = []\n",
    "y = []\n",
    "\n",
    "for i in range(len(scaled_price) - seq_len):\n",
    "    X.append(scaled_price[i : i + seq_len])\n",
    "    y.append(scaled_price[i + seq_len])"
   ]
  },
  {
   "cell_type": "code",
   "execution_count": 7,
   "id": "751ce051-a232-457f-a921-6d30b7ca4ac5",
   "metadata": {},
   "outputs": [],
   "source": [
    "X = np.array(X)[... , None]\n",
    "y = np.array(y)[... , None]"
   ]
  },
  {
   "cell_type": "code",
   "execution_count": 8,
   "id": "c9ad2590-0682-41ae-bb44-d3394b9c78d2",
   "metadata": {},
   "outputs": [],
   "source": [
    "train_x = torch.from_numpy(X[:int(0.8 * X.shape[0])]).float()\n",
    "train_y = torch.from_numpy(y[:int(0.8 * X.shape[0])]).float()\n",
    "test_x = torch.from_numpy(X[int(0.8 * X.shape[0]):]).float()\n",
    "test_y = torch.from_numpy(y[int(0.8 * X.shape[0]):]).float()"
   ]
  },
  {
   "cell_type": "code",
   "execution_count": 9,
   "id": "956b19bd-2707-46b2-85a5-133528af1b9c",
   "metadata": {},
   "outputs": [],
   "source": [
    "class Model(nn.Module):\n",
    "    def __init__(self , input_size , hidden_size):\n",
    "        super().__init__()\n",
    "        self.lstm = nn.LSTM(input_size , hidden_size , batch_first = True)\n",
    "        self.fc = nn.Linear(hidden_size , 1)\n",
    "    def forward(self , x):\n",
    "        output , (hidden , cell) = self.lstm(x)\n",
    "        return self.fc(hidden[-1 , :])\n",
    "   "
   ]
  },
  {
   "cell_type": "code",
   "execution_count": 10,
   "id": "015c1a34-7289-4874-83e9-1f9bf3bc056f",
   "metadata": {},
   "outputs": [],
   "source": [
    "model = Model(1 , 64)\n",
    "\n",
    "\n",
    "optimizer = torch.optim.Adam(model.parameters() , lr = 0.001)\n",
    "loss_fn = nn.MSELoss()"
   ]
  },
  {
   "cell_type": "code",
   "execution_count": 11,
   "id": "9647e64a-6142-40bd-b64c-5d6f1edc3b6b",
   "metadata": {},
   "outputs": [
    {
     "name": "stdout",
     "output_type": "stream",
     "text": [
      "10 epoch loss 0.11490404\n",
      "20 epoch loss 0.039181095\n",
      "30 epoch loss 0.034719285\n",
      "40 epoch loss 0.028634062\n",
      "50 epoch loss 0.017279672\n",
      "60 epoch loss 0.0044001723\n",
      "70 epoch loss 0.0024585624\n",
      "80 epoch loss 0.001719324\n",
      "90 epoch loss 0.0013905038\n"
     ]
    }
   ],
   "source": [
    "num_epochs = 100\n",
    "for epoch in range(num_epochs):\n",
    "    output = model(train_x)\n",
    "    loss = loss_fn(output , train_y)\n",
    "\n",
    "    optimizer.zero_grad()\n",
    "    loss.backward()\n",
    "    optimizer.step()\n",
    "\n",
    "    if epoch % 10 == 0 and epoch != 0:\n",
    "        print(epoch , \"epoch loss\" , loss.detach().numpy())"
   ]
  },
  {
   "cell_type": "code",
   "execution_count": 12,
   "id": "c5afec04-0807-4b77-99aa-2f98d2364d4c",
   "metadata": {},
   "outputs": [],
   "source": [
    "model.eval()\n",
    "with torch.no_grad():\n",
    "    output = model(test_x)\n",
    "\n",
    "pred = mm.inverse_transform(output.numpy())\n",
    "real = mm.inverse_transform(test_y.numpy())\n",
    "index = df[int(0.8*len(df)+3):].index"
   ]
  },
  {
   "cell_type": "code",
   "execution_count": 13,
   "id": "f5ce9008-9f3c-4ca3-a271-276bd85d31b1",
   "metadata": {},
   "outputs": [
    {
     "data": {
      "image/png": "[encoded data removed]",
      "text/plain": [
       "<Figure size 640x480 with 1 Axes>"
      ]
     },
     "metadata": {},
     "output_type": "display_data"
    }
   ],
   "source": [
    "plt.plot(index, pred.squeeze() , color = \"red\" , label = \"predicted\")\n",
    "plt.plot(index, real.squeeze() , color = \"green\" , label = \"real\")\n",
    "plt.xticks(fontsize=5)\n",
    "plt.show()"
   ]
  },
  {
   "cell_type": "code",
   "execution_count": 14,
   "id": "d466f684-8fb8-41a2-9676-7b35a3fcca1a",
   "metadata": {},
   "outputs": [],
   "source": [
    "torch.save(model, \"lstm_model\")"
   ]
  },
  {
   "cell_type": "code",
   "execution_count": 15,
   "id": "bf3f49df-f78b-4ae7-bfb4-e1c7bd6a4ca8",
   "metadata": {},
   "outputs": [],
   "source": [
    "trained_till = df[:train_x.shape[0]].index.max()"
   ]
  },
  {
   "cell_type": "code",
   "execution_count": 16,
   "id": "9180f96b-d40b-4cba-8169-955632d77d58",
   "metadata": {},
   "outputs": [
    {
     "name": "stdout",
     "output_type": "stream",
     "text": [
      "Model trained using data to: 2023-06-21 18:40:00\n"
     ]
    }
   ],
   "source": [
    "print(\"Model trained using data to: \" + str(trained_till))"
   ]
  },
  {
   "cell_type": "markdown",
   "id": "c97085a5-55a6-42ef-9e3f-a44ff88ece0b",
   "metadata": {},
   "source": [
    "# Evaluation"
   ]
  },
  {
   "cell_type": "code",
   "execution_count": 17,
   "id": "2075f131-75f7-4af1-b899-cd35cda68092",
   "metadata": {},
   "outputs": [],
   "source": [
    "df = get_data_for_symbol(\"EURUSD\")"
   ]
  },
  {
   "cell_type": "code",
   "execution_count": 18,
   "id": "81559a25-c2fb-4352-a65f-4881aabd2c53",
   "metadata": {},
   "outputs": [],
   "source": [
    "df = df[df.index > trained_till]"
   ]
  },
  {
   "cell_type": "code",
   "execution_count": 19,
   "id": "cb76bf8b-3173-4e9a-bb94-cb089c616178",
   "metadata": {},
   "outputs": [
    {
     "data": {
      "text/html": [
       "<div>\n",
       "<style scoped>\n",
       "    .dataframe tbody tr th:only-of-type {\n",
       "        vertical-align: middle;\n",
       "    }\n",
       "\n",
       "    .dataframe tbody tr th {\n",
       "        vertical-align: top;\n",
       "    }\n",
       "\n",
       "    .dataframe thead th {\n",
       "        text-align: right;\n",
       "    }\n",
       "</style>\n",
       "<table border=\"1\" class=\"dataframe\">\n",
       "  <thead>\n",
       "    <tr style=\"text-align: right;\">\n",
       "      <th></th>\n",
       "      <th>open</th>\n",
       "      <th>close</th>\n",
       "      <th>high</th>\n",
       "      <th>low</th>\n",
       "      <th>volume</th>\n",
       "    </tr>\n",
       "    <tr>\n",
       "      <th>date</th>\n",
       "      <th></th>\n",
       "      <th></th>\n",
       "      <th></th>\n",
       "      <th></th>\n",
       "      <th></th>\n",
       "    </tr>\n",
       "  </thead>\n",
       "  <tbody>\n",
       "    <tr>\n",
       "      <th>2023-06-21 18:45:00</th>\n",
       "      <td>1.09862</td>\n",
       "      <td>1.09833</td>\n",
       "      <td>1.09862</td>\n",
       "      <td>1.09832</td>\n",
       "      <td>2866.0</td>\n",
       "    </tr>\n",
       "    <tr>\n",
       "      <th>2023-06-21 18:50:00</th>\n",
       "      <td>1.09833</td>\n",
       "      <td>1.09842</td>\n",
       "      <td>1.09848</td>\n",
       "      <td>1.09833</td>\n",
       "      <td>3289.0</td>\n",
       "    </tr>\n",
       "    <tr>\n",
       "      <th>2023-06-21 18:55:00</th>\n",
       "      <td>1.09841</td>\n",
       "      <td>1.09845</td>\n",
       "      <td>1.09848</td>\n",
       "      <td>1.09828</td>\n",
       "      <td>3517.0</td>\n",
       "    </tr>\n",
       "    <tr>\n",
       "      <th>2023-06-21 19:00:00</th>\n",
       "      <td>1.09842</td>\n",
       "      <td>1.09832</td>\n",
       "      <td>1.09844</td>\n",
       "      <td>1.09810</td>\n",
       "      <td>3014.0</td>\n",
       "    </tr>\n",
       "    <tr>\n",
       "      <th>2023-06-21 19:05:00</th>\n",
       "      <td>1.09832</td>\n",
       "      <td>1.09850</td>\n",
       "      <td>1.09855</td>\n",
       "      <td>1.09830</td>\n",
       "      <td>2302.0</td>\n",
       "    </tr>\n",
       "    <tr>\n",
       "      <th>...</th>\n",
       "      <td>...</td>\n",
       "      <td>...</td>\n",
       "      <td>...</td>\n",
       "      <td>...</td>\n",
       "      <td>...</td>\n",
       "    </tr>\n",
       "    <tr>\n",
       "      <th>2023-06-29 00:50:00</th>\n",
       "      <td>1.09019</td>\n",
       "      <td>1.09040</td>\n",
       "      <td>1.09051</td>\n",
       "      <td>1.09004</td>\n",
       "      <td>2219.0</td>\n",
       "    </tr>\n",
       "    <tr>\n",
       "      <th>2023-06-29 00:55:00</th>\n",
       "      <td>1.09043</td>\n",
       "      <td>1.09065</td>\n",
       "      <td>1.09069</td>\n",
       "      <td>1.09030</td>\n",
       "      <td>1796.0</td>\n",
       "    </tr>\n",
       "    <tr>\n",
       "      <th>2023-06-29 01:00:00</th>\n",
       "      <td>1.09067</td>\n",
       "      <td>1.09075</td>\n",
       "      <td>1.09078</td>\n",
       "      <td>1.09055</td>\n",
       "      <td>2121.0</td>\n",
       "    </tr>\n",
       "    <tr>\n",
       "      <th>2023-06-29 01:05:00</th>\n",
       "      <td>1.09075</td>\n",
       "      <td>1.09087</td>\n",
       "      <td>1.09090</td>\n",
       "      <td>1.09066</td>\n",
       "      <td>2008.0</td>\n",
       "    </tr>\n",
       "    <tr>\n",
       "      <th>2023-06-29 01:10:00</th>\n",
       "      <td>1.09087</td>\n",
       "      <td>1.09088</td>\n",
       "      <td>1.09095</td>\n",
       "      <td>1.09087</td>\n",
       "      <td>209.0</td>\n",
       "    </tr>\n",
       "  </tbody>\n",
       "</table>\n",
       "<p>1506 rows × 5 columns</p>\n",
       "</div>"
      ],
      "text/plain": [
       "                        open    close     high      low  volume\n",
       "date                                                           \n",
       "2023-06-21 18:45:00  1.09862  1.09833  1.09862  1.09832  2866.0\n",
       "2023-06-21 18:50:00  1.09833  1.09842  1.09848  1.09833  3289.0\n",
       "2023-06-21 18:55:00  1.09841  1.09845  1.09848  1.09828  3517.0\n",
       "2023-06-21 19:00:00  1.09842  1.09832  1.09844  1.09810  3014.0\n",
       "2023-06-21 19:05:00  1.09832  1.09850  1.09855  1.09830  2302.0\n",
       "...                      ...      ...      ...      ...     ...\n",
       "2023-06-29 00:50:00  1.09019  1.09040  1.09051  1.09004  2219.0\n",
       "2023-06-29 00:55:00  1.09043  1.09065  1.09069  1.09030  1796.0\n",
       "2023-06-29 01:00:00  1.09067  1.09075  1.09078  1.09055  2121.0\n",
       "2023-06-29 01:05:00  1.09075  1.09087  1.09090  1.09066  2008.0\n",
       "2023-06-29 01:10:00  1.09087  1.09088  1.09095  1.09087   209.0\n",
       "\n",
       "[1506 rows x 5 columns]"
      ]
     },
     "execution_count": 19,
     "metadata": {},
     "output_type": "execute_result"
    }
   ],
   "source": [
    "df"
   ]
  },
  {
   "cell_type": "code",
   "execution_count": 104,
   "id": "510c2f3f-ff1d-4e7d-a852-ffcd481ba7cb",
   "metadata": {},
   "outputs": [],
   "source": [
    "model = torch.load(\"lstm_model\")"
   ]
  },
  {
   "cell_type": "code",
   "execution_count": 105,
   "id": "62984251-c53c-4a86-94e4-b7baa0c59bd6",
   "metadata": {},
   "outputs": [
    {
     "data": {
      "text/plain": [
       "Model(\n",
       "  (lstm): LSTM(1, 64, batch_first=True)\n",
       "  (fc): Linear(in_features=64, out_features=1, bias=True)\n",
       ")"
      ]
     },
     "execution_count": 105,
     "metadata": {},
     "output_type": "execute_result"
    }
   ],
   "source": [
    "model.eval()"
   ]
  },
  {
   "cell_type": "code",
   "execution_count": 106,
   "id": "7ee6349a-9452-4fa8-b239-3cdd57c75008",
   "metadata": {},
   "outputs": [],
   "source": [
    "closed_prices = df[\"close\"]"
   ]
  },
  {
   "cell_type": "code",
   "execution_count": 107,
   "id": "bec5ed24-e22b-4228-a19b-3d4d86fe7b69",
   "metadata": {},
   "outputs": [],
   "source": [
    "seq_len = 15\n",
    "\n",
    "mm = MinMaxScaler()\n",
    "scaled_price = mm.fit_transform(np.array(closed_prices)[... , None]).squeeze()"
   ]
  },
  {
   "cell_type": "code",
   "execution_count": 108,
   "id": "30b9857a-5a5e-499c-abe5-ad1f2e12b817",
   "metadata": {},
   "outputs": [],
   "source": [
    "X = []\n",
    "y = []\n",
    "\n",
    "for i in range(len(scaled_price) - seq_len):\n",
    "    X.append(scaled_price[i : i + seq_len])\n",
    "    y.append(scaled_price[i + seq_len])"
   ]
  },
  {
   "cell_type": "code",
   "execution_count": 109,
   "id": "86eeb242-f1ac-4b8f-9b41-61c170ffa71f",
   "metadata": {},
   "outputs": [],
   "source": [
    "X = np.array(X)[... , None]\n",
    "y = np.array(y)[... , None]"
   ]
  },
  {
   "cell_type": "code",
   "execution_count": 110,
   "id": "3a55d7b5-dc4f-45d1-b7b4-e1cd8866427d",
   "metadata": {},
   "outputs": [],
   "source": [
    "test_x = torch.from_numpy(X).float()\n",
    "test_y = torch.from_numpy(y).float()"
   ]
  },
  {
   "cell_type": "code",
   "execution_count": 111,
   "id": "de428801-732e-41e8-a4cb-933b71a232db",
   "metadata": {},
   "outputs": [],
   "source": [
    "model.eval()\n",
    "with torch.no_grad():\n",
    "    output = model(test_x)\n",
    "\n",
    "pred = mm.inverse_transform(output.numpy())\n",
    "real = mm.inverse_transform(test_y.numpy())\n",
    "index = df.head(real.shape[0]).index"
   ]
  },
  {
   "cell_type": "code",
   "execution_count": 112,
   "id": "1d4a3722-8161-4dbd-8455-f099bcf9f745",
   "metadata": {},
   "outputs": [
    {
     "data": {
      "image/png": "[encoded data removed]",
      "text/plain": [
       "<Figure size 640x480 with 1 Axes>"
      ]
     },
     "metadata": {},
     "output_type": "display_data"
    }
   ],
   "source": [
    "plt.plot(index, pred.squeeze() , color = \"red\" , label = \"predicted\")\n",
    "plt.plot(index, real.squeeze() , color = \"green\" , label = \"real\")\n",
    "plt.xticks(fontsize=5)\n",
    "plt.show()"
   ]
  },
  {
   "cell_type": "markdown",
   "id": "15d8383c-2fe6-47d6-8dd3-3407c3f49080",
   "metadata": {},
   "source": [
    "# Evaluation 2"
   ]
  },
  {
   "cell_type": "code",
   "execution_count": 144,
   "id": "4ee39ffe-7ce9-481c-a617-ab1bc882588b",
   "metadata": {},
   "outputs": [],
   "source": [
    "df = get_data_for_symbol(\"EURUSD\")\n",
    "df = df[df.index > trained_till]"
   ]
  },
  {
   "cell_type": "code",
   "execution_count": 145,
   "id": "c49ca241-fb9c-4ee5-a95a-3a7a45facd41",
   "metadata": {},
   "outputs": [],
   "source": [
    "model = torch.load(\"lstm_model\")"
   ]
  },
  {
   "cell_type": "code",
   "execution_count": 146,
   "id": "8b701e40-57fe-47ce-ac53-07f6d6923add",
   "metadata": {},
   "outputs": [],
   "source": [
    "closed_prices = df[\"close\"]"
   ]
  },
  {
   "cell_type": "code",
   "execution_count": 147,
   "id": "4fc8c9c7-1097-406e-8348-2161e9556fd4",
   "metadata": {},
   "outputs": [],
   "source": [
    "seq_len = 15\n",
    "\n",
    "mm = MinMaxScaler()\n",
    "scaled_price = mm.fit_transform(np.array(closed_prices)[... , None]).squeeze()"
   ]
  },
  {
   "cell_type": "code",
   "execution_count": 148,
   "id": "ad24ba17-39ef-42be-af24-47e20b2be68a",
   "metadata": {},
   "outputs": [],
   "source": [
    "n_steps = 150 "
   ]
  },
  {
   "cell_type": "code",
   "execution_count": 149,
   "id": "95cd22d6-a77d-4973-ad03-330e7768ae4a",
   "metadata": {},
   "outputs": [],
   "source": [
    "input_seq = scaled_price[-seq_len:]"
   ]
  },
  {
   "cell_type": "code",
   "execution_count": 150,
   "id": "c2f216cb-e492-4e3c-a517-853477bb14a6",
   "metadata": {},
   "outputs": [],
   "source": [
    "predictions = []"
   ]
  },
  {
   "cell_type": "code",
   "execution_count": 151,
   "id": "b9a94d09-5210-4595-870a-56a308bec196",
   "metadata": {},
   "outputs": [],
   "source": [
    "with torch.no_grad():\n",
    "    for _ in range(n_steps):\n",
    "        input_tensor = torch.from_numpy(np.array(input_seq)[-seq_len:].reshape(1, -1, 1)).float()\n",
    "\n",
    "        output = model(input_tensor)\n",
    "        prediction = mm.inverse_transform(output.numpy())[0][0]\n",
    "        \n",
    "        prediction = np.array(prediction).reshape(1, 1)\n",
    "        prediction = mm.transform(prediction)[0][0]\n",
    "        \n",
    "        predictions.append(prediction)\n",
    "        input_seq = np.append(input_seq[1:], prediction)\n"
   ]
  },
  {
   "cell_type": "code",
   "execution_count": 152,
   "id": "d60f8b4e-3906-4194-ab91-33a9560ea6d6",
   "metadata": {},
   "outputs": [],
   "source": [
    "predictions = mm.inverse_transform(np.array(predictions).reshape(1,-1)).reshape(-1,1)"
   ]
  },
  {
   "cell_type": "code",
   "execution_count": 153,
   "id": "ec6faab1-5283-4e2c-b9fc-9159431279c5",
   "metadata": {},
   "outputs": [],
   "source": [
    "future_index = pd.date_range(start=df.index[-1], periods=n_steps+1, freq='5min')[1:]"
   ]
  },
  {
   "cell_type": "code",
   "execution_count": 154,
   "id": "20ae7d59-9f91-4b92-a25f-c2c5cffe0cea",
   "metadata": {},
   "outputs": [],
   "source": [
    "predictions_df = pd.DataFrame(predictions, index=future_index, columns=['predicted_close'])"
   ]
  },
  {
   "cell_type": "code",
   "execution_count": 157,
   "id": "1df46f38-ff59-4de9-a785-04485900dafe",
   "metadata": {},
   "outputs": [],
   "source": [
    "new_df = pd.concat([df, predictions_df], axis=0)"
   ]
  },
  {
   "cell_type": "code",
   "execution_count": 158,
   "id": "70f39372-383e-4d5a-a158-1bbe05f05c0d",
   "metadata": {},
   "outputs": [
    {
     "data": {
      "text/plain": [
       "<AxesSubplot: >"
      ]
     },
     "execution_count": 158,
     "metadata": {},
     "output_type": "execute_result"
    },
    {
     "data": {
      "image/png": "[encoded data removed]",
      "text/plain": [
       "<Figure size 640x480 with 1 Axes>"
      ]
     },
     "metadata": {},
     "output_type": "display_data"
    }
   ],
   "source": [
    "# plt.plot(index, real.squeeze(), color='green', label='real') \n",
    "# plt.plot(future_index, predictions, color='red', label='predicted')\n",
    "# plt.xticks(fontsize=5)\n",
    "# plt.legend()\n",
    "# plt.show()\n",
    "new_df[['close', 'predicted_close']].plot()"
   ]
  },
  {
   "cell_type": "code",
   "execution_count": 242,
   "id": "00c01bbb-1836-4c35-95aa-fcd5ebc7ebf6",
   "metadata": {},
   "outputs": [],
   "source": [
    "\n",
    "class Model(nn.Module):\n",
    "    def __init__(self , input_size , hidden_size):\n",
    "        super().__init__()\n",
    "        self.lstm = nn.LSTM(input_size , hidden_size , batch_first = True)\n",
    "        self.fc = nn.Linear(hidden_size , 1)\n",
    "    def forward(self , x):\n",
    "        output , (hidden , cell) = self.lstm(x)\n",
    "        return self.fc(hidden[-1 , :])\n",
    "    \n",
    "class ForexPredictor:\n",
    "    def __init__(self, symbol, period, interval, model_path):\n",
    "        self.df = None\n",
    "        self.symbol = symbol\n",
    "        self.period = period\n",
    "        self.interval = interval\n",
    "        self.model_path = model_path\n",
    "        self.trained_till = None\n",
    "        self.model = None\n",
    "\n",
    "    def train(self, df, seq_len=15):\n",
    "        closed_prices = df[\"close\"]\n",
    "\n",
    "        seq_len = 15\n",
    "\n",
    "        mm = MinMaxScaler()\n",
    "        scaled_price = mm.fit_transform(np.array(closed_prices)[... , None]).squeeze()\n",
    "        \n",
    "        \n",
    "        X = []\n",
    "        y = []\n",
    "\n",
    "        for i in range(len(scaled_price) - seq_len):\n",
    "            X.append(scaled_price[i : i + seq_len])\n",
    "            y.append(scaled_price[i + seq_len])\n",
    "            \n",
    "            \n",
    "        X = np.array(X)[... , None]\n",
    "        y = np.array(y)[... , None]\n",
    "\n",
    "        train_x = torch.from_numpy(X[:int(0.8 * X.shape[0])]).float()\n",
    "        train_y = torch.from_numpy(y[:int(0.8 * X.shape[0])]).float()\n",
    "        test_x = torch.from_numpy(X[int(0.8 * X.shape[0]):]).float()\n",
    "        test_y = torch.from_numpy(y[int(0.8 * X.shape[0]):]).float()\n",
    "\n",
    "\n",
    "\n",
    "\n",
    "        model = Model(1 , 64)\n",
    "\n",
    "\n",
    "        optimizer = torch.optim.Adam(model.parameters() , lr = 0.001)\n",
    "        loss_fn = nn.MSELoss()\n",
    "\n",
    "        num_epochs = 100\n",
    "        for epoch in range(num_epochs):\n",
    "            output = model(train_x)\n",
    "            loss = loss_fn(output , train_y)\n",
    "\n",
    "            optimizer.zero_grad()\n",
    "            loss.backward()\n",
    "            optimizer.step()\n",
    "\n",
    "            # if epoch % 10 == 0 and epoch != 0:\n",
    "                # print(epoch , \"epoch loss\" , loss.detach().numpy())\n",
    "\n",
    "        model.eval()\n",
    "        # torch.save(model, \"ABC\")\n",
    "        self.model = model\n",
    "        self.trained_till = df[:train_x.shape[0]].index.max()\n",
    "        self.save_model()\n",
    "\n",
    "    def save_model(self):\n",
    "        torch.save(self.model, self.model_path)\n",
    "\n",
    "    def load_model(self):\n",
    "        try:\n",
    "            return torch.load(self.model_path)\n",
    "        except FileNotFoundError:\n",
    "            print(\"First train the model\")\n",
    "            return None\n",
    "    \n",
    "    \n",
    "    def predict(self, df, n_steps):\n",
    "        if self.trained_till:\n",
    "            df = df[df.index > self.trained_till]\n",
    "            \n",
    "        model = torch.load(self.model_path)\n",
    "        \n",
    "        closed_prices = df[\"close\"]\n",
    "        seq_len = 15\n",
    "\n",
    "        mm = MinMaxScaler()\n",
    "        scaled_price = mm.fit_transform(np.array(closed_prices)[... , None]).squeeze()\n",
    "        \n",
    "        input_seq = scaled_price[-seq_len:]\n",
    "        predictions = []\n",
    "        with torch.no_grad():\n",
    "            for _ in range(n_steps):\n",
    "                input_tensor = torch.from_numpy(np.array(input_seq)[-seq_len:].reshape(1, -1, 1)).float()\n",
    "\n",
    "                output = model(input_tensor)\n",
    "                prediction = mm.inverse_transform(output.numpy())[0][0]\n",
    "\n",
    "                prediction = np.array(prediction).reshape(1, 1)\n",
    "                prediction = mm.transform(prediction)[0][0]\n",
    "\n",
    "                predictions.append(prediction)\n",
    "                input_seq = np.append(input_seq[1:], prediction)\n",
    "                \n",
    "                \n",
    "        predictions = mm.inverse_transform(np.array(predictions).reshape(1,-1)).reshape(-1,1)\n",
    "        future_index = pd.date_range(start=df.index[-1], periods=n_steps+1, freq='5min')[1:]\n",
    "        \n",
    "        \n",
    "        predictions_df = pd.DataFrame(predictions, index=future_index, columns=['predicted_close'])\n",
    "        \n",
    "        new_df = pd.concat([df, predictions_df], axis=0)\n",
    "        \n",
    "        return new_df"
   ]
  },
  {
   "cell_type": "code",
   "execution_count": 243,
   "id": "c5a94349-bb6f-4329-b8ed-c7e252f88dce",
   "metadata": {},
   "outputs": [],
   "source": [
    "fp = ForexPredictor(\"EURUSD\", \"1mo\", \"5m\", \"new_model\")"
   ]
  },
  {
   "cell_type": "code",
   "execution_count": 244,
   "id": "103a8e49-853f-41d9-87da-f3ddb19112d7",
   "metadata": {},
   "outputs": [],
   "source": [
    "df = get_data_for_symbol(\"EURUSD\")"
   ]
  },
  {
   "cell_type": "code",
   "execution_count": 245,
   "id": "19e7555f-3eef-43eb-b877-8cd0ca78071b",
   "metadata": {},
   "outputs": [
    {
     "data": {
      "text/plain": [
       "<AxesSubplot: xlabel='date'>"
      ]
     },
     "execution_count": 245,
     "metadata": {},
     "output_type": "execute_result"
    },
    {
     "data": {
      "image/png": "[encoded data removed]",
      "text/plain": [
       "<Figure size 640x480 with 1 Axes>"
      ]
     },
     "metadata": {},
     "output_type": "display_data"
    }
   ],
   "source": [
    "df[['close']].plot()"
   ]
  },
  {
   "cell_type": "code",
   "execution_count": 246,
   "id": "e29ebb45-7e4a-4d07-89ce-1d4183c6b6bd",
   "metadata": {},
   "outputs": [
    {
     "data": {
      "text/html": [
       "<div>\n",
       "<style scoped>\n",
       "    .dataframe tbody tr th:only-of-type {\n",
       "        vertical-align: middle;\n",
       "    }\n",
       "\n",
       "    .dataframe tbody tr th {\n",
       "        vertical-align: top;\n",
       "    }\n",
       "\n",
       "    .dataframe thead th {\n",
       "        text-align: right;\n",
       "    }\n",
       "</style>\n",
       "<table border=\"1\" class=\"dataframe\">\n",
       "  <thead>\n",
       "    <tr style=\"text-align: right;\">\n",
       "      <th></th>\n",
       "      <th>close</th>\n",
       "    </tr>\n",
       "    <tr>\n",
       "      <th>date</th>\n",
       "      <th></th>\n",
       "    </tr>\n",
       "  </thead>\n",
       "  <tbody>\n",
       "    <tr>\n",
       "      <th>2023-05-23 22:00:00</th>\n",
       "      <td>1.07724</td>\n",
       "    </tr>\n",
       "    <tr>\n",
       "      <th>2023-05-23 22:05:00</th>\n",
       "      <td>1.07710</td>\n",
       "    </tr>\n",
       "    <tr>\n",
       "      <th>2023-05-23 22:10:00</th>\n",
       "      <td>1.07706</td>\n",
       "    </tr>\n",
       "    <tr>\n",
       "      <th>2023-05-23 22:15:00</th>\n",
       "      <td>1.07707</td>\n",
       "    </tr>\n",
       "    <tr>\n",
       "      <th>2023-05-23 22:20:00</th>\n",
       "      <td>1.07708</td>\n",
       "    </tr>\n",
       "    <tr>\n",
       "      <th>...</th>\n",
       "      <td>...</td>\n",
       "    </tr>\n",
       "    <tr>\n",
       "      <th>2023-05-28 23:35:00</th>\n",
       "      <td>1.07212</td>\n",
       "    </tr>\n",
       "    <tr>\n",
       "      <th>2023-05-28 23:40:00</th>\n",
       "      <td>1.07221</td>\n",
       "    </tr>\n",
       "    <tr>\n",
       "      <th>2023-05-28 23:45:00</th>\n",
       "      <td>1.07229</td>\n",
       "    </tr>\n",
       "    <tr>\n",
       "      <th>2023-05-28 23:50:00</th>\n",
       "      <td>1.07226</td>\n",
       "    </tr>\n",
       "    <tr>\n",
       "      <th>2023-05-28 23:55:00</th>\n",
       "      <td>1.07211</td>\n",
       "    </tr>\n",
       "  </tbody>\n",
       "</table>\n",
       "<p>876 rows × 1 columns</p>\n",
       "</div>"
      ],
      "text/plain": [
       "                       close\n",
       "date                        \n",
       "2023-05-23 22:00:00  1.07724\n",
       "2023-05-23 22:05:00  1.07710\n",
       "2023-05-23 22:10:00  1.07706\n",
       "2023-05-23 22:15:00  1.07707\n",
       "2023-05-23 22:20:00  1.07708\n",
       "...                      ...\n",
       "2023-05-28 23:35:00  1.07212\n",
       "2023-05-28 23:40:00  1.07221\n",
       "2023-05-28 23:45:00  1.07229\n",
       "2023-05-28 23:50:00  1.07226\n",
       "2023-05-28 23:55:00  1.07211\n",
       "\n",
       "[876 rows x 1 columns]"
      ]
     },
     "execution_count": 246,
     "metadata": {},
     "output_type": "execute_result"
    }
   ],
   "source": [
    "train = df[df.index < pd.to_datetime(\"2023-05-29 00:00:00\")]\n",
    "train"
   ]
  },
  {
   "cell_type": "code",
   "execution_count": 248,
   "id": "ea96471e-5eef-4221-b7f4-0935c9baa412",
   "metadata": {},
   "outputs": [],
   "source": [
    "fp.train(train)"
   ]
  },
  {
   "cell_type": "code",
   "execution_count": 254,
   "id": "5a8faeca-8a13-4fb9-8337-c217b3067240",
   "metadata": {},
   "outputs": [
    {
     "data": {
      "text/html": [
       "<div>\n",
       "<style scoped>\n",
       "    .dataframe tbody tr th:only-of-type {\n",
       "        vertical-align: middle;\n",
       "    }\n",
       "\n",
       "    .dataframe tbody tr th {\n",
       "        vertical-align: top;\n",
       "    }\n",
       "\n",
       "    .dataframe thead th {\n",
       "        text-align: right;\n",
       "    }\n",
       "</style>\n",
       "<table border=\"1\" class=\"dataframe\">\n",
       "  <thead>\n",
       "    <tr style=\"text-align: right;\">\n",
       "      <th></th>\n",
       "      <th>close</th>\n",
       "    </tr>\n",
       "    <tr>\n",
       "      <th>date</th>\n",
       "      <th></th>\n",
       "    </tr>\n",
       "  </thead>\n",
       "  <tbody>\n",
       "    <tr>\n",
       "      <th>2023-05-29 00:00:00</th>\n",
       "      <td>1.07203</td>\n",
       "    </tr>\n",
       "    <tr>\n",
       "      <th>2023-05-29 00:05:00</th>\n",
       "      <td>1.07174</td>\n",
       "    </tr>\n",
       "    <tr>\n",
       "      <th>2023-05-29 00:10:00</th>\n",
       "      <td>1.07188</td>\n",
       "    </tr>\n",
       "    <tr>\n",
       "      <th>2023-05-29 00:15:00</th>\n",
       "      <td>1.07190</td>\n",
       "    </tr>\n",
       "    <tr>\n",
       "      <th>2023-05-29 00:20:00</th>\n",
       "      <td>1.07186</td>\n",
       "    </tr>\n",
       "    <tr>\n",
       "      <th>...</th>\n",
       "      <td>...</td>\n",
       "    </tr>\n",
       "    <tr>\n",
       "      <th>2023-06-29 00:50:00</th>\n",
       "      <td>1.09040</td>\n",
       "    </tr>\n",
       "    <tr>\n",
       "      <th>2023-06-29 00:55:00</th>\n",
       "      <td>1.09065</td>\n",
       "    </tr>\n",
       "    <tr>\n",
       "      <th>2023-06-29 01:00:00</th>\n",
       "      <td>1.09075</td>\n",
       "    </tr>\n",
       "    <tr>\n",
       "      <th>2023-06-29 01:05:00</th>\n",
       "      <td>1.09087</td>\n",
       "    </tr>\n",
       "    <tr>\n",
       "      <th>2023-06-29 01:10:00</th>\n",
       "      <td>1.09076</td>\n",
       "    </tr>\n",
       "  </tbody>\n",
       "</table>\n",
       "<p>6590 rows × 1 columns</p>\n",
       "</div>"
      ],
      "text/plain": [
       "                       close\n",
       "date                        \n",
       "2023-05-29 00:00:00  1.07203\n",
       "2023-05-29 00:05:00  1.07174\n",
       "2023-05-29 00:10:00  1.07188\n",
       "2023-05-29 00:15:00  1.07190\n",
       "2023-05-29 00:20:00  1.07186\n",
       "...                      ...\n",
       "2023-06-29 00:50:00  1.09040\n",
       "2023-06-29 00:55:00  1.09065\n",
       "2023-06-29 01:00:00  1.09075\n",
       "2023-06-29 01:05:00  1.09087\n",
       "2023-06-29 01:10:00  1.09076\n",
       "\n",
       "[6590 rows x 1 columns]"
      ]
     },
     "execution_count": 254,
     "metadata": {},
     "output_type": "execute_result"
    }
   ],
   "source": [
    "to_predict = df[df.index >= pd.to_datetime(\"2023-05-29 00:00:00\")]\n",
    "to_predict"
   ]
  },
  {
   "cell_type": "code",
   "execution_count": 255,
   "id": "4282f875-ab04-47d1-9467-01a08f6607cc",
   "metadata": {},
   "outputs": [],
   "source": [
    "new_df = fp.predict(df, 150)"
   ]
  },
  {
   "cell_type": "code",
   "execution_count": 258,
   "id": "cfeaff90-250c-471f-b28d-f21985a5cca5",
   "metadata": {},
   "outputs": [
    {
     "data": {
      "text/html": [
       "<div>\n",
       "<style scoped>\n",
       "    .dataframe tbody tr th:only-of-type {\n",
       "        vertical-align: middle;\n",
       "    }\n",
       "\n",
       "    .dataframe tbody tr th {\n",
       "        vertical-align: top;\n",
       "    }\n",
       "\n",
       "    .dataframe thead th {\n",
       "        text-align: right;\n",
       "    }\n",
       "</style>\n",
       "<table border=\"1\" class=\"dataframe\">\n",
       "  <thead>\n",
       "    <tr style=\"text-align: right;\">\n",
       "      <th></th>\n",
       "      <th>close</th>\n",
       "      <th>predicted_close</th>\n",
       "    </tr>\n",
       "  </thead>\n",
       "  <tbody>\n",
       "    <tr>\n",
       "      <th>2023-06-29 01:15:00</th>\n",
       "      <td>NaN</td>\n",
       "      <td>1.089281</td>\n",
       "    </tr>\n",
       "    <tr>\n",
       "      <th>2023-06-29 01:20:00</th>\n",
       "      <td>NaN</td>\n",
       "      <td>1.089141</td>\n",
       "    </tr>\n",
       "    <tr>\n",
       "      <th>2023-06-29 01:25:00</th>\n",
       "      <td>NaN</td>\n",
       "      <td>1.088987</td>\n",
       "    </tr>\n",
       "    <tr>\n",
       "      <th>2023-06-29 01:30:00</th>\n",
       "      <td>NaN</td>\n",
       "      <td>1.088816</td>\n",
       "    </tr>\n",
       "    <tr>\n",
       "      <th>2023-06-29 01:35:00</th>\n",
       "      <td>NaN</td>\n",
       "      <td>1.088639</td>\n",
       "    </tr>\n",
       "    <tr>\n",
       "      <th>...</th>\n",
       "      <td>...</td>\n",
       "      <td>...</td>\n",
       "    </tr>\n",
       "    <tr>\n",
       "      <th>2023-06-29 13:20:00</th>\n",
       "      <td>NaN</td>\n",
       "      <td>1.077625</td>\n",
       "    </tr>\n",
       "    <tr>\n",
       "      <th>2023-06-29 13:25:00</th>\n",
       "      <td>NaN</td>\n",
       "      <td>1.077625</td>\n",
       "    </tr>\n",
       "    <tr>\n",
       "      <th>2023-06-29 13:30:00</th>\n",
       "      <td>NaN</td>\n",
       "      <td>1.077625</td>\n",
       "    </tr>\n",
       "    <tr>\n",
       "      <th>2023-06-29 13:35:00</th>\n",
       "      <td>NaN</td>\n",
       "      <td>1.077625</td>\n",
       "    </tr>\n",
       "    <tr>\n",
       "      <th>2023-06-29 13:40:00</th>\n",
       "      <td>NaN</td>\n",
       "      <td>1.077625</td>\n",
       "    </tr>\n",
       "  </tbody>\n",
       "</table>\n",
       "<p>150 rows × 2 columns</p>\n",
       "</div>"
      ],
      "text/plain": [
       "                     close  predicted_close\n",
       "2023-06-29 01:15:00    NaN         1.089281\n",
       "2023-06-29 01:20:00    NaN         1.089141\n",
       "2023-06-29 01:25:00    NaN         1.088987\n",
       "2023-06-29 01:30:00    NaN         1.088816\n",
       "2023-06-29 01:35:00    NaN         1.088639\n",
       "...                    ...              ...\n",
       "2023-06-29 13:20:00    NaN         1.077625\n",
       "2023-06-29 13:25:00    NaN         1.077625\n",
       "2023-06-29 13:30:00    NaN         1.077625\n",
       "2023-06-29 13:35:00    NaN         1.077625\n",
       "2023-06-29 13:40:00    NaN         1.077625\n",
       "\n",
       "[150 rows x 2 columns]"
      ]
     },
     "execution_count": 258,
     "metadata": {},
     "output_type": "execute_result"
    }
   ],
   "source": [
    "new_df[new_df.predicted_close.notnull() ]"
   ]
  },
  {
   "cell_type": "code",
   "execution_count": 250,
   "id": "d4ad7097-98be-4b5c-87b4-34f88584ac7c",
   "metadata": {},
   "outputs": [
    {
     "data": {
      "text/plain": [
       "<AxesSubplot: >"
      ]
     },
     "execution_count": 250,
     "metadata": {},
     "output_type": "execute_result"
    },
    {
     "data": {
      "image/png": "[encoded data removed]",
      "text/plain": [
       "<Figure size 640x480 with 1 Axes>"
      ]
     },
     "metadata": {},
     "output_type": "display_data"
    }
   ],
   "source": [
    "new_df[['close', 'predicted_close']].plot()"
   ]
  },
  {
   "cell_type": "code",
   "execution_count": null,
   "id": "13c89ba5-dbf0-4dcd-bfeb-475d0a3dcefe",
   "metadata": {},
   "outputs": [],
   "source": []
  }
 ],
 "metadata": {
  "kernelspec": {
   "display_name": "Python 3 (ipykernel)",
   "language": "python",
   "name": "python3"
  },
  "language_info": {
   "codemirror_mode": {
    "name": "ipython",
    "version": 3
   },
   "file_extension": ".py",
   "mimetype": "text/x-python",
   "name": "python",
   "nbconvert_exporter": "python",
   "pygments_lexer": "ipython3",
   "version": "3.10.6"
  }
 },
 "nbformat": 4,
 "nbformat_minor": 5
}
