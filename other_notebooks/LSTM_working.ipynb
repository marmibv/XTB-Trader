{
 "cells": [
  {
   "cell_type": "code",
   "execution_count": 31,
   "id": "8701bcce-224d-40b3-9ae2-cc53562c3036",
   "metadata": {},
   "outputs": [],
   "source": [
    "import numpy as np\n",
    "import pandas as pd\n",
    "from sklearn.preprocessing import MinMaxScaler\n",
    "import matplotlib.pyplot as plt\n",
    "import os\n",
    "from datetime import datetime, timedelta\n",
    "\n",
    "import torch\n",
    "import torch.nn as nn"
   ]
  },
  {
   "cell_type": "code",
   "execution_count": 32,
   "id": "5f479f0c-b4e6-451d-84a5-976c72860109",
   "metadata": {},
   "outputs": [],
   "source": [
    "import sys\n",
    "sys.path.insert(1, '/home/krystian/Repos/XTB-Trader/utility')\n",
    "sys.path.insert(1, '/home/krystian/Repos/XTB-Trader')\n",
    "from XTBClient.api import XTBClient, PERIOD\n",
    "from utility import utility \n",
    "\n",
    "def get_data_for_symbol(symbol):\n",
    "    c = XTBClient()\n",
    "    c.login(os.environ.get(\"XTB_user_num\"), os.environ.get(\"XTB_pass\"))\n",
    "    df = c.get_candles_in_range(symbol, PERIOD.FIVE_MINUTES.value, start=datetime.now() - timedelta(days=150))\n",
    "    c.logout()\n",
    "    \n",
    "    df = df.reset_index()\n",
    "    df.rename(columns={\"timestamp\": \"date\"}, inplace=True)\n",
    "    \n",
    "    df['date'] = df['date'].apply(pd.to_datetime)\n",
    "    df.set_index('date',inplace=True)\n",
    "    return df\n",
    "\n",
    "\n",
    "# def yf_get_data_for_symbol(symbol):\n",
    "    # df = utility.collect_yf(\"EURUSD=x\", \"1mo\", \"1h\")\n",
    "    # df = df.reset_index()\n",
    "    # df.rename(columns={\"timestamp\": \"date\"}, inplace=True)\n",
    "    \n",
    "    # df['date'] = df['date'].apply(pd.to_datetime)\n",
    "    # df.set_index('date',inplace=True)\n",
    "    # return df"
   ]
  },
  {
   "cell_type": "code",
   "execution_count": 33,
   "id": "9c1e0e9b-30d0-406b-b527-5bc447ffd8ae",
   "metadata": {},
   "outputs": [
    {
     "data": {
      "text/html": [
       "<div>\n",
       "<style scoped>\n",
       "    .dataframe tbody tr th:only-of-type {\n",
       "        vertical-align: middle;\n",
       "    }\n",
       "\n",
       "    .dataframe tbody tr th {\n",
       "        vertical-align: top;\n",
       "    }\n",
       "\n",
       "    .dataframe thead th {\n",
       "        text-align: right;\n",
       "    }\n",
       "</style>\n",
       "<table border=\"1\" class=\"dataframe\">\n",
       "  <thead>\n",
       "    <tr style=\"text-align: right;\">\n",
       "      <th></th>\n",
       "      <th>open</th>\n",
       "      <th>close</th>\n",
       "      <th>high</th>\n",
       "      <th>low</th>\n",
       "      <th>volume</th>\n",
       "    </tr>\n",
       "    <tr>\n",
       "      <th>date</th>\n",
       "      <th></th>\n",
       "      <th></th>\n",
       "      <th></th>\n",
       "      <th></th>\n",
       "      <th></th>\n",
       "    </tr>\n",
       "  </thead>\n",
       "  <tbody>\n",
       "    <tr>\n",
       "      <th>2023-05-23 22:00:00</th>\n",
       "      <td>1.07716</td>\n",
       "      <td>1.07724</td>\n",
       "      <td>1.07730</td>\n",
       "      <td>1.07716</td>\n",
       "      <td>227.0</td>\n",
       "    </tr>\n",
       "    <tr>\n",
       "      <th>2023-05-23 22:05:00</th>\n",
       "      <td>1.07724</td>\n",
       "      <td>1.07710</td>\n",
       "      <td>1.07724</td>\n",
       "      <td>1.07700</td>\n",
       "      <td>193.0</td>\n",
       "    </tr>\n",
       "    <tr>\n",
       "      <th>2023-05-23 22:10:00</th>\n",
       "      <td>1.07710</td>\n",
       "      <td>1.07706</td>\n",
       "      <td>1.07711</td>\n",
       "      <td>1.07701</td>\n",
       "      <td>407.0</td>\n",
       "    </tr>\n",
       "    <tr>\n",
       "      <th>2023-05-23 22:15:00</th>\n",
       "      <td>1.07707</td>\n",
       "      <td>1.07707</td>\n",
       "      <td>1.07714</td>\n",
       "      <td>1.07704</td>\n",
       "      <td>416.0</td>\n",
       "    </tr>\n",
       "    <tr>\n",
       "      <th>2023-05-23 22:20:00</th>\n",
       "      <td>1.07708</td>\n",
       "      <td>1.07708</td>\n",
       "      <td>1.07712</td>\n",
       "      <td>1.07706</td>\n",
       "      <td>374.0</td>\n",
       "    </tr>\n",
       "    <tr>\n",
       "      <th>...</th>\n",
       "      <td>...</td>\n",
       "      <td>...</td>\n",
       "      <td>...</td>\n",
       "      <td>...</td>\n",
       "      <td>...</td>\n",
       "    </tr>\n",
       "    <tr>\n",
       "      <th>2023-06-28 19:30:00</th>\n",
       "      <td>1.09171</td>\n",
       "      <td>1.09177</td>\n",
       "      <td>1.09185</td>\n",
       "      <td>1.09167</td>\n",
       "      <td>2457.0</td>\n",
       "    </tr>\n",
       "    <tr>\n",
       "      <th>2023-06-28 19:35:00</th>\n",
       "      <td>1.09178</td>\n",
       "      <td>1.09175</td>\n",
       "      <td>1.09183</td>\n",
       "      <td>1.09173</td>\n",
       "      <td>2123.0</td>\n",
       "    </tr>\n",
       "    <tr>\n",
       "      <th>2023-06-28 19:40:00</th>\n",
       "      <td>1.09176</td>\n",
       "      <td>1.09162</td>\n",
       "      <td>1.09177</td>\n",
       "      <td>1.09161</td>\n",
       "      <td>1786.0</td>\n",
       "    </tr>\n",
       "    <tr>\n",
       "      <th>2023-06-28 19:45:00</th>\n",
       "      <td>1.09160</td>\n",
       "      <td>1.09146</td>\n",
       "      <td>1.09166</td>\n",
       "      <td>1.09146</td>\n",
       "      <td>2386.0</td>\n",
       "    </tr>\n",
       "    <tr>\n",
       "      <th>2023-06-28 19:50:00</th>\n",
       "      <td>1.09146</td>\n",
       "      <td>1.09151</td>\n",
       "      <td>1.09151</td>\n",
       "      <td>1.09137</td>\n",
       "      <td>2115.0</td>\n",
       "    </tr>\n",
       "  </tbody>\n",
       "</table>\n",
       "<p>7402 rows × 5 columns</p>\n",
       "</div>"
      ],
      "text/plain": [
       "                        open    close     high      low  volume\n",
       "date                                                           \n",
       "2023-05-23 22:00:00  1.07716  1.07724  1.07730  1.07716   227.0\n",
       "2023-05-23 22:05:00  1.07724  1.07710  1.07724  1.07700   193.0\n",
       "2023-05-23 22:10:00  1.07710  1.07706  1.07711  1.07701   407.0\n",
       "2023-05-23 22:15:00  1.07707  1.07707  1.07714  1.07704   416.0\n",
       "2023-05-23 22:20:00  1.07708  1.07708  1.07712  1.07706   374.0\n",
       "...                      ...      ...      ...      ...     ...\n",
       "2023-06-28 19:30:00  1.09171  1.09177  1.09185  1.09167  2457.0\n",
       "2023-06-28 19:35:00  1.09178  1.09175  1.09183  1.09173  2123.0\n",
       "2023-06-28 19:40:00  1.09176  1.09162  1.09177  1.09161  1786.0\n",
       "2023-06-28 19:45:00  1.09160  1.09146  1.09166  1.09146  2386.0\n",
       "2023-06-28 19:50:00  1.09146  1.09151  1.09151  1.09137  2115.0\n",
       "\n",
       "[7402 rows x 5 columns]"
      ]
     },
     "execution_count": 33,
     "metadata": {},
     "output_type": "execute_result"
    }
   ],
   "source": [
    "df = get_data_for_symbol(\"EURUSD\")\n",
    "df"
   ]
  },
  {
   "cell_type": "code",
   "execution_count": 34,
   "id": "fb9a3d95-c30e-46b9-aebc-f67a952f47c9",
   "metadata": {},
   "outputs": [],
   "source": [
    "closed_prices = df[\"close\"]"
   ]
  },
  {
   "cell_type": "code",
   "execution_count": 35,
   "id": "808dbdb6-ef54-41b5-bf2b-ed3bf61d1b40",
   "metadata": {},
   "outputs": [],
   "source": [
    "seq_len = 15\n",
    "\n",
    "mm = MinMaxScaler()\n",
    "scaled_price = mm.fit_transform(np.array(closed_prices)[... , None]).squeeze()"
   ]
  },
  {
   "cell_type": "code",
   "execution_count": 36,
   "id": "0d3761b2-a2f8-4835-b44c-c445fdd24298",
   "metadata": {},
   "outputs": [],
   "source": [
    "X = []\n",
    "y = []\n",
    "\n",
    "for i in range(len(scaled_price) - seq_len):\n",
    "    X.append(scaled_price[i : i + seq_len])\n",
    "    y.append(scaled_price[i + seq_len])"
   ]
  },
  {
   "cell_type": "code",
   "execution_count": 37,
   "id": "751ce051-a232-457f-a921-6d30b7ca4ac5",
   "metadata": {},
   "outputs": [],
   "source": [
    "X = np.array(X)[... , None]\n",
    "y = np.array(y)[... , None]"
   ]
  },
  {
   "cell_type": "code",
   "execution_count": 38,
   "id": "c9ad2590-0682-41ae-bb44-d3394b9c78d2",
   "metadata": {},
   "outputs": [],
   "source": [
    "train_x = torch.from_numpy(X[:int(0.8 * X.shape[0])]).float()\n",
    "train_y = torch.from_numpy(y[:int(0.8 * X.shape[0])]).float()\n",
    "test_x = torch.from_numpy(X[int(0.8 * X.shape[0]):]).float()\n",
    "test_y = torch.from_numpy(y[int(0.8 * X.shape[0]):]).float()"
   ]
  },
  {
   "cell_type": "code",
   "execution_count": 39,
   "id": "956b19bd-2707-46b2-85a5-133528af1b9c",
   "metadata": {},
   "outputs": [],
   "source": [
    "class Model(nn.Module):\n",
    "    def __init__(self , input_size , hidden_size):\n",
    "        super().__init__()\n",
    "        self.lstm = nn.LSTM(input_size , hidden_size , batch_first = True)\n",
    "        self.fc = nn.Linear(hidden_size , 1)\n",
    "    def forward(self , x):\n",
    "        output , (hidden , cell) = self.lstm(x)\n",
    "        return self.fc(hidden[-1 , :])\n",
    "   "
   ]
  },
  {
   "cell_type": "code",
   "execution_count": 40,
   "id": "015c1a34-7289-4874-83e9-1f9bf3bc056f",
   "metadata": {},
   "outputs": [],
   "source": [
    "model = Model(1 , 64)\n",
    "\n",
    "\n",
    "optimizer = torch.optim.Adam(model.parameters() , lr = 0.001)\n",
    "loss_fn = nn.MSELoss()"
   ]
  },
  {
   "cell_type": "code",
   "execution_count": 41,
   "id": "9647e64a-6142-40bd-b64c-5d6f1edc3b6b",
   "metadata": {},
   "outputs": [
    {
     "name": "stdout",
     "output_type": "stream",
     "text": [
      "10 epoch loss 0.12922347\n",
      "20 epoch loss 0.039030842\n",
      "30 epoch loss 0.034410037\n",
      "40 epoch loss 0.030731304\n",
      "50 epoch loss 0.02241156\n",
      "60 epoch loss 0.01118499\n",
      "70 epoch loss 0.0016935645\n",
      "80 epoch loss 0.0023673486\n",
      "90 epoch loss 0.0011669132\n"
     ]
    }
   ],
   "source": [
    "num_epochs = 100\n",
    "for epoch in range(num_epochs):\n",
    "    output = model(train_x)\n",
    "    loss = loss_fn(output , train_y)\n",
    "\n",
    "    optimizer.zero_grad()\n",
    "    loss.backward()\n",
    "    optimizer.step()\n",
    "\n",
    "    if epoch % 10 == 0 and epoch != 0:\n",
    "        print(epoch , \"epoch loss\" , loss.detach().numpy())"
   ]
  },
  {
   "cell_type": "code",
   "execution_count": 42,
   "id": "c5afec04-0807-4b77-99aa-2f98d2364d4c",
   "metadata": {},
   "outputs": [],
   "source": [
    "model.eval()\n",
    "with torch.no_grad():\n",
    "    output = model(test_x)\n",
    "\n",
    "pred = mm.inverse_transform(output.numpy())\n",
    "real = mm.inverse_transform(test_y.numpy())\n",
    "index = df[int(0.8*len(df)+3):].index"
   ]
  },
  {
   "cell_type": "code",
   "execution_count": 43,
   "id": "f5ce9008-9f3c-4ca3-a271-276bd85d31b1",
   "metadata": {},
   "outputs": [
    {
     "data": {
      "image/png": "[encoded data removed]",
      "text/plain": [
       "<Figure size 640x480 with 1 Axes>"
      ]
     },
     "metadata": {},
     "output_type": "display_data"
    }
   ],
   "source": [
    "plt.plot(index, pred.squeeze() , color = \"red\" , label = \"predicted\")\n",
    "plt.plot(index, real.squeeze() , color = \"green\" , label = \"real\")\n",
    "plt.xticks(fontsize=5)\n",
    "plt.show()"
   ]
  },
  {
   "cell_type": "code",
   "execution_count": 44,
   "id": "d466f684-8fb8-41a2-9676-7b35a3fcca1a",
   "metadata": {},
   "outputs": [],
   "source": [
    "torch.save(model, \"lstm_model\")"
   ]
  },
  {
   "cell_type": "code",
   "execution_count": 45,
   "id": "bf3f49df-f78b-4ae7-bfb4-e1c7bd6a4ca8",
   "metadata": {},
   "outputs": [],
   "source": [
    "trained_till = df[:train_x.shape[0]].index.max()"
   ]
  },
  {
   "cell_type": "code",
   "execution_count": 46,
   "id": "9180f96b-d40b-4cba-8169-955632d77d58",
   "metadata": {},
   "outputs": [
    {
     "name": "stdout",
     "output_type": "stream",
     "text": [
      "Model trained using data to: 2023-06-21 14:25:00\n"
     ]
    }
   ],
   "source": [
    "print(\"Model trained using data to: \" + str(trained_till))"
   ]
  },
  {
   "cell_type": "markdown",
   "id": "c97085a5-55a6-42ef-9e3f-a44ff88ece0b",
   "metadata": {},
   "source": [
    "# Evaluation"
   ]
  },
  {
   "cell_type": "code",
   "execution_count": 47,
   "id": "2075f131-75f7-4af1-b899-cd35cda68092",
   "metadata": {},
   "outputs": [],
   "source": [
    "df = get_data_for_symbol(\"EURUSD\")"
   ]
  },
  {
   "cell_type": "code",
   "execution_count": 48,
   "id": "81559a25-c2fb-4352-a65f-4881aabd2c53",
   "metadata": {},
   "outputs": [],
   "source": [
    "df = df[df.index > trained_till]"
   ]
  },
  {
   "cell_type": "code",
   "execution_count": 49,
   "id": "cb76bf8b-3173-4e9a-bb94-cb089c616178",
   "metadata": {},
   "outputs": [
    {
     "data": {
      "text/html": [
       "<div>\n",
       "<style scoped>\n",
       "    .dataframe tbody tr th:only-of-type {\n",
       "        vertical-align: middle;\n",
       "    }\n",
       "\n",
       "    .dataframe tbody tr th {\n",
       "        vertical-align: top;\n",
       "    }\n",
       "\n",
       "    .dataframe thead th {\n",
       "        text-align: right;\n",
       "    }\n",
       "</style>\n",
       "<table border=\"1\" class=\"dataframe\">\n",
       "  <thead>\n",
       "    <tr style=\"text-align: right;\">\n",
       "      <th></th>\n",
       "      <th>open</th>\n",
       "      <th>close</th>\n",
       "      <th>high</th>\n",
       "      <th>low</th>\n",
       "      <th>volume</th>\n",
       "    </tr>\n",
       "    <tr>\n",
       "      <th>date</th>\n",
       "      <th></th>\n",
       "      <th></th>\n",
       "      <th></th>\n",
       "      <th></th>\n",
       "      <th></th>\n",
       "    </tr>\n",
       "  </thead>\n",
       "  <tbody>\n",
       "    <tr>\n",
       "      <th>2023-06-21 14:30:00</th>\n",
       "      <td>1.09443</td>\n",
       "      <td>1.09478</td>\n",
       "      <td>1.09485</td>\n",
       "      <td>1.09439</td>\n",
       "      <td>8045.0</td>\n",
       "    </tr>\n",
       "    <tr>\n",
       "      <th>2023-06-21 14:35:00</th>\n",
       "      <td>1.09478</td>\n",
       "      <td>1.09558</td>\n",
       "      <td>1.09583</td>\n",
       "      <td>1.09472</td>\n",
       "      <td>7364.0</td>\n",
       "    </tr>\n",
       "    <tr>\n",
       "      <th>2023-06-21 14:40:00</th>\n",
       "      <td>1.09557</td>\n",
       "      <td>1.09587</td>\n",
       "      <td>1.09637</td>\n",
       "      <td>1.09557</td>\n",
       "      <td>7362.0</td>\n",
       "    </tr>\n",
       "    <tr>\n",
       "      <th>2023-06-21 14:45:00</th>\n",
       "      <td>1.09587</td>\n",
       "      <td>1.09585</td>\n",
       "      <td>1.09592</td>\n",
       "      <td>1.09545</td>\n",
       "      <td>7119.0</td>\n",
       "    </tr>\n",
       "    <tr>\n",
       "      <th>2023-06-21 14:50:00</th>\n",
       "      <td>1.09584</td>\n",
       "      <td>1.09548</td>\n",
       "      <td>1.09587</td>\n",
       "      <td>1.09518</td>\n",
       "      <td>6907.0</td>\n",
       "    </tr>\n",
       "    <tr>\n",
       "      <th>...</th>\n",
       "      <td>...</td>\n",
       "      <td>...</td>\n",
       "      <td>...</td>\n",
       "      <td>...</td>\n",
       "      <td>...</td>\n",
       "    </tr>\n",
       "    <tr>\n",
       "      <th>2023-06-28 19:30:00</th>\n",
       "      <td>1.09171</td>\n",
       "      <td>1.09177</td>\n",
       "      <td>1.09185</td>\n",
       "      <td>1.09167</td>\n",
       "      <td>2457.0</td>\n",
       "    </tr>\n",
       "    <tr>\n",
       "      <th>2023-06-28 19:35:00</th>\n",
       "      <td>1.09178</td>\n",
       "      <td>1.09175</td>\n",
       "      <td>1.09183</td>\n",
       "      <td>1.09173</td>\n",
       "      <td>2123.0</td>\n",
       "    </tr>\n",
       "    <tr>\n",
       "      <th>2023-06-28 19:40:00</th>\n",
       "      <td>1.09176</td>\n",
       "      <td>1.09162</td>\n",
       "      <td>1.09177</td>\n",
       "      <td>1.09161</td>\n",
       "      <td>1786.0</td>\n",
       "    </tr>\n",
       "    <tr>\n",
       "      <th>2023-06-28 19:45:00</th>\n",
       "      <td>1.09160</td>\n",
       "      <td>1.09146</td>\n",
       "      <td>1.09166</td>\n",
       "      <td>1.09146</td>\n",
       "      <td>2386.0</td>\n",
       "    </tr>\n",
       "    <tr>\n",
       "      <th>2023-06-28 19:50:00</th>\n",
       "      <td>1.09146</td>\n",
       "      <td>1.09144</td>\n",
       "      <td>1.09152</td>\n",
       "      <td>1.09137</td>\n",
       "      <td>2691.0</td>\n",
       "    </tr>\n",
       "  </tbody>\n",
       "</table>\n",
       "<p>1493 rows × 5 columns</p>\n",
       "</div>"
      ],
      "text/plain": [
       "                        open    close     high      low  volume\n",
       "date                                                           \n",
       "2023-06-21 14:30:00  1.09443  1.09478  1.09485  1.09439  8045.0\n",
       "2023-06-21 14:35:00  1.09478  1.09558  1.09583  1.09472  7364.0\n",
       "2023-06-21 14:40:00  1.09557  1.09587  1.09637  1.09557  7362.0\n",
       "2023-06-21 14:45:00  1.09587  1.09585  1.09592  1.09545  7119.0\n",
       "2023-06-21 14:50:00  1.09584  1.09548  1.09587  1.09518  6907.0\n",
       "...                      ...      ...      ...      ...     ...\n",
       "2023-06-28 19:30:00  1.09171  1.09177  1.09185  1.09167  2457.0\n",
       "2023-06-28 19:35:00  1.09178  1.09175  1.09183  1.09173  2123.0\n",
       "2023-06-28 19:40:00  1.09176  1.09162  1.09177  1.09161  1786.0\n",
       "2023-06-28 19:45:00  1.09160  1.09146  1.09166  1.09146  2386.0\n",
       "2023-06-28 19:50:00  1.09146  1.09144  1.09152  1.09137  2691.0\n",
       "\n",
       "[1493 rows x 5 columns]"
      ]
     },
     "execution_count": 49,
     "metadata": {},
     "output_type": "execute_result"
    }
   ],
   "source": [
    "df"
   ]
  },
  {
   "cell_type": "code",
   "execution_count": 50,
   "id": "510c2f3f-ff1d-4e7d-a852-ffcd481ba7cb",
   "metadata": {},
   "outputs": [],
   "source": [
    "model = torch.load(\"lstm_model\")"
   ]
  },
  {
   "cell_type": "code",
   "execution_count": 51,
   "id": "62984251-c53c-4a86-94e4-b7baa0c59bd6",
   "metadata": {},
   "outputs": [
    {
     "data": {
      "text/plain": [
       "Model(\n",
       "  (lstm): LSTM(1, 64, batch_first=True)\n",
       "  (fc): Linear(in_features=64, out_features=1, bias=True)\n",
       ")"
      ]
     },
     "execution_count": 51,
     "metadata": {},
     "output_type": "execute_result"
    }
   ],
   "source": [
    "model.eval()"
   ]
  },
  {
   "cell_type": "code",
   "execution_count": 52,
   "id": "7ee6349a-9452-4fa8-b239-3cdd57c75008",
   "metadata": {},
   "outputs": [],
   "source": [
    "closed_prices = df[\"close\"]"
   ]
  },
  {
   "cell_type": "code",
   "execution_count": 53,
   "id": "bec5ed24-e22b-4228-a19b-3d4d86fe7b69",
   "metadata": {},
   "outputs": [],
   "source": [
    "seq_len = 15\n",
    "\n",
    "mm = MinMaxScaler()\n",
    "scaled_price = mm.fit_transform(np.array(closed_prices)[... , None]).squeeze()"
   ]
  },
  {
   "cell_type": "code",
   "execution_count": 54,
   "id": "30b9857a-5a5e-499c-abe5-ad1f2e12b817",
   "metadata": {},
   "outputs": [],
   "source": [
    "X = []\n",
    "y = []\n",
    "\n",
    "for i in range(len(scaled_price) - seq_len):\n",
    "    X.append(scaled_price[i : i + seq_len])\n",
    "    y.append(scaled_price[i + seq_len])"
   ]
  },
  {
   "cell_type": "code",
   "execution_count": 55,
   "id": "86eeb242-f1ac-4b8f-9b41-61c170ffa71f",
   "metadata": {},
   "outputs": [],
   "source": [
    "X = np.array(X)[... , None]\n",
    "y = np.array(y)[... , None]"
   ]
  },
  {
   "cell_type": "code",
   "execution_count": 56,
   "id": "3a55d7b5-dc4f-45d1-b7b4-e1cd8866427d",
   "metadata": {},
   "outputs": [],
   "source": [
    "test_x = torch.from_numpy(X).float()\n",
    "test_y = torch.from_numpy(y).float()"
   ]
  },
  {
   "cell_type": "code",
   "execution_count": 57,
   "id": "de428801-732e-41e8-a4cb-933b71a232db",
   "metadata": {},
   "outputs": [],
   "source": [
    "model.eval()\n",
    "with torch.no_grad():\n",
    "    output = model(test_x)\n",
    "\n",
    "pred = mm.inverse_transform(output.numpy())\n",
    "real = mm.inverse_transform(test_y.numpy())\n",
    "index = df.head(real.shape[0]).index"
   ]
  },
  {
   "cell_type": "code",
   "execution_count": 58,
   "id": "1d4a3722-8161-4dbd-8455-f099bcf9f745",
   "metadata": {},
   "outputs": [
    {
     "data": {
      "image/png": "[encoded data removed]",
      "text/plain": [
       "<Figure size 640x480 with 1 Axes>"
      ]
     },
     "metadata": {},
     "output_type": "display_data"
    }
   ],
   "source": [
    "plt.plot(index, pred.squeeze() , color = \"red\" , label = \"predicted\")\n",
    "plt.plot(index, real.squeeze() , color = \"green\" , label = \"real\")\n",
    "plt.xticks(fontsize=5)\n",
    "plt.show()"
   ]
  },
  {
   "cell_type": "markdown",
   "id": "15d8383c-2fe6-47d6-8dd3-3407c3f49080",
   "metadata": {},
   "source": [
    "# Evaluation 2"
   ]
  },
  {
   "cell_type": "code",
   "execution_count": 208,
   "id": "4ee39ffe-7ce9-481c-a617-ab1bc882588b",
   "metadata": {},
   "outputs": [],
   "source": [
    "df = get_data_for_symbol(\"EURUSD\")\n",
    "df = df[df.index > trained_till]"
   ]
  },
  {
   "cell_type": "code",
   "execution_count": 209,
   "id": "c49ca241-fb9c-4ee5-a95a-3a7a45facd41",
   "metadata": {},
   "outputs": [],
   "source": [
    "model = torch.load(\"lstm_model\")"
   ]
  },
  {
   "cell_type": "code",
   "execution_count": 210,
   "id": "8b701e40-57fe-47ce-ac53-07f6d6923add",
   "metadata": {},
   "outputs": [],
   "source": [
    "closed_prices = df[\"close\"]"
   ]
  },
  {
   "cell_type": "code",
   "execution_count": 211,
   "id": "4fc8c9c7-1097-406e-8348-2161e9556fd4",
   "metadata": {},
   "outputs": [],
   "source": [
    "seq_len = 15\n",
    "\n",
    "mm = MinMaxScaler()\n",
    "scaled_price = mm.fit_transform(np.array(closed_prices)[... , None]).squeeze()"
   ]
  },
  {
   "cell_type": "code",
   "execution_count": 212,
   "id": "ad24ba17-39ef-42be-af24-47e20b2be68a",
   "metadata": {},
   "outputs": [],
   "source": [
    "n_steps = 1500 "
   ]
  },
  {
   "cell_type": "code",
   "execution_count": 213,
   "id": "95cd22d6-a77d-4973-ad03-330e7768ae4a",
   "metadata": {},
   "outputs": [],
   "source": [
    "input_seq = scaled_price[-seq_len:]"
   ]
  },
  {
   "cell_type": "code",
   "execution_count": 214,
   "id": "d0025b91-5be2-4897-af63-6b98c9cf22c6",
   "metadata": {},
   "outputs": [
    {
     "data": {
      "text/plain": [
       "array([0.44836116, 0.45887446, 0.45145331, 0.45701917, 0.43413729,\n",
       "       0.43908472, 0.43908472, 0.43970315, 0.43537415, 0.42671614,\n",
       "       0.43042672, 0.42918986, 0.42115028, 0.41125541, 0.41001855])"
      ]
     },
     "execution_count": 214,
     "metadata": {},
     "output_type": "execute_result"
    }
   ],
   "source": [
    "input_seq"
   ]
  },
  {
   "cell_type": "code",
   "execution_count": 215,
   "id": "c2f216cb-e492-4e3c-a517-853477bb14a6",
   "metadata": {},
   "outputs": [],
   "source": [
    "predictions = []"
   ]
  },
  {
   "cell_type": "markdown",
   "id": "d6f74278-0b46-4a54-bb85-041df816f36e",
   "metadata": {},
   "source": [
    "# Loop"
   ]
  },
  {
   "cell_type": "code",
   "execution_count": 216,
   "id": "13a874ad-5adb-4512-bd80-44fcedfbc4d5",
   "metadata": {},
   "outputs": [],
   "source": [
    "# input_tensor = torch.from_numpy(np.array(input_seq)[-seq_len:].reshape(1, -1, 1)).float()\n",
    "# input_tensor"
   ]
  },
  {
   "cell_type": "code",
   "execution_count": 217,
   "id": "6506f94c-cad8-49b1-aa0e-ebfe3deb4dd4",
   "metadata": {},
   "outputs": [],
   "source": [
    "# output = model(input_tensor)"
   ]
  },
  {
   "cell_type": "code",
   "execution_count": 218,
   "id": "e9b11c92-5a2a-4517-95b0-29a95a953674",
   "metadata": {},
   "outputs": [],
   "source": [
    "# prediction = mm.inverse_transform(output.detach().numpy())[0][0]\n",
    "# prediction"
   ]
  },
  {
   "cell_type": "code",
   "execution_count": 219,
   "id": "e3b15e98-6c7c-4c11-8054-5f700d0b2c61",
   "metadata": {},
   "outputs": [],
   "source": [
    "# prediction = np.array(prediction).reshape(1, 1)\n",
    "# prediction = mm.transform(prediction)[0][0]\n",
    "# prediction"
   ]
  },
  {
   "cell_type": "code",
   "execution_count": 220,
   "id": "e6b0ff82-df23-4782-a113-38558d07a9c3",
   "metadata": {},
   "outputs": [],
   "source": [
    "# predictions.append(prediction)\n",
    "# input_seq = np.append(input_seq[1:], prediction)"
   ]
  },
  {
   "cell_type": "code",
   "execution_count": 221,
   "id": "b9a94d09-5210-4595-870a-56a308bec196",
   "metadata": {},
   "outputs": [],
   "source": [
    "with torch.no_grad():\n",
    "    for _ in range(n_steps):\n",
    "        input_tensor = torch.from_numpy(np.array(input_seq)[-seq_len:].reshape(1, -1, 1)).float()\n",
    "\n",
    "        output = model(input_tensor)\n",
    "        prediction = mm.inverse_transform(output.numpy())[0][0]\n",
    "        \n",
    "        prediction = np.array(prediction).reshape(1, 1)\n",
    "        prediction = mm.transform(prediction)[0][0]\n",
    "        \n",
    "        predictions.append(prediction)\n",
    "        input_seq = np.append(input_seq[1:], prediction)\n"
   ]
  },
  {
   "cell_type": "code",
   "execution_count": 222,
   "id": "d692c3f7-a500-4cf9-be98-738f66da1f74",
   "metadata": {},
   "outputs": [],
   "source": [
    "predictions = mm.inverse_transform(np.array(predictions)[... , None]).squeeze()"
   ]
  },
  {
   "cell_type": "code",
   "execution_count": 223,
   "id": "ec6faab1-5283-4e2c-b9fc-9159431279c5",
   "metadata": {},
   "outputs": [],
   "source": [
    "future_index = pd.date_range(start=df.index[-1], periods=n_steps+1, freq='5min')[1:]"
   ]
  },
  {
   "cell_type": "code",
   "execution_count": 224,
   "id": "70f39372-383e-4d5a-a158-1bbe05f05c0d",
   "metadata": {},
   "outputs": [
    {
     "data": {
      "image/png": "[encoded data removed]",
      "text/plain": [
       "<Figure size 640x480 with 1 Axes>"
      ]
     },
     "metadata": {},
     "output_type": "display_data"
    }
   ],
   "source": [
    "plt.plot(index, real.squeeze(), color='green', label='real')\n",
    "plt.plot(future_index, predictions, color='red', label='predicted')\n",
    "plt.xticks(fontsize=5)\n",
    "plt.legend()\n",
    "plt.show()"
   ]
  },
  {
   "cell_type": "code",
   "execution_count": null,
   "id": "2553fe63-0da3-4c32-bf8f-410961805fae",
   "metadata": {},
   "outputs": [],
   "source": []
  },
  {
   "cell_type": "code",
   "execution_count": null,
   "id": "3befb68f-3635-479d-8a51-24aaee432fdd",
   "metadata": {},
   "outputs": [],
   "source": []
  }
 ],
 "metadata": {
  "kernelspec": {
   "display_name": "Python 3 (ipykernel)",
   "language": "python",
   "name": "python3"
  },
  "language_info": {
   "codemirror_mode": {
    "name": "ipython",
    "version": 3
   },
   "file_extension": ".py",
   "mimetype": "text/x-python",
   "name": "python",
   "nbconvert_exporter": "python",
   "pygments_lexer": "ipython3",
   "version": "3.10.6"
  }
 },
 "nbformat": 4,
 "nbformat_minor": 5
}
