{
 "cells": [
  {
   "cell_type": "code",
   "execution_count": 22,
   "id": "8701bcce-224d-40b3-9ae2-cc53562c3036",
   "metadata": {},
   "outputs": [],
   "source": [
    "import numpy as np\n",
    "import pandas as pd\n",
    "from sklearn.preprocessing import MinMaxScaler\n",
    "import matplotlib.pyplot as plt\n",
    "import os\n",
    "from datetime import datetime, timedelta\n",
    "\n",
    "import torch\n",
    "import torch.nn as nn"
   ]
  },
  {
   "cell_type": "code",
   "execution_count": 60,
   "id": "5f479f0c-b4e6-451d-84a5-976c72860109",
   "metadata": {},
   "outputs": [],
   "source": [
    "import sys\n",
    "sys.path.insert(1, '/home/krystian/Repos/XTB-Trader/utility')\n",
    "sys.path.insert(1, '/home/krystian/Repos/XTB-Trader')\n",
    "from XTBClient.api import XTBClient, PERIOD\n",
    "import utility \n",
    "\n",
    "def get_data_for_symbol(symbol):\n",
    "    c = XTBClient()\n",
    "    c.login(os.environ.get(\"XTB_user_num\"), os.environ.get(\"XTB_pass\"))\n",
    "    df = c.get_candles_in_range(symbol, PERIOD.FIVE_MINUTES.value, start=datetime.now() - timedelta(days=150))\n",
    "    c.logout()\n",
    "    \n",
    "    df = df.reset_index()\n",
    "    df.rename(columns={\"timestamp\": \"date\"}, inplace=True)\n",
    "    \n",
    "    df['date'] = df['date'].apply(pd.to_datetime)\n",
    "    df.set_index('date',inplace=True)\n",
    "    return df"
   ]
  },
  {
   "cell_type": "code",
   "execution_count": 61,
   "id": "9c1e0e9b-30d0-406b-b527-5bc447ffd8ae",
   "metadata": {},
   "outputs": [
    {
     "data": {
      "text/html": [
       "<div>\n",
       "<style scoped>\n",
       "    .dataframe tbody tr th:only-of-type {\n",
       "        vertical-align: middle;\n",
       "    }\n",
       "\n",
       "    .dataframe tbody tr th {\n",
       "        vertical-align: top;\n",
       "    }\n",
       "\n",
       "    .dataframe thead th {\n",
       "        text-align: right;\n",
       "    }\n",
       "</style>\n",
       "<table border=\"1\" class=\"dataframe\">\n",
       "  <thead>\n",
       "    <tr style=\"text-align: right;\">\n",
       "      <th></th>\n",
       "      <th>open</th>\n",
       "      <th>close</th>\n",
       "      <th>high</th>\n",
       "      <th>low</th>\n",
       "      <th>volume</th>\n",
       "    </tr>\n",
       "    <tr>\n",
       "      <th>date</th>\n",
       "      <th></th>\n",
       "      <th></th>\n",
       "      <th></th>\n",
       "      <th></th>\n",
       "      <th></th>\n",
       "    </tr>\n",
       "  </thead>\n",
       "  <tbody>\n",
       "    <tr>\n",
       "      <th>2023-05-23 22:00:00</th>\n",
       "      <td>1.07716</td>\n",
       "      <td>1.07724</td>\n",
       "      <td>1.07730</td>\n",
       "      <td>1.07716</td>\n",
       "      <td>227.0</td>\n",
       "    </tr>\n",
       "    <tr>\n",
       "      <th>2023-05-23 22:05:00</th>\n",
       "      <td>1.07724</td>\n",
       "      <td>1.07710</td>\n",
       "      <td>1.07724</td>\n",
       "      <td>1.07700</td>\n",
       "      <td>193.0</td>\n",
       "    </tr>\n",
       "    <tr>\n",
       "      <th>2023-05-23 22:10:00</th>\n",
       "      <td>1.07710</td>\n",
       "      <td>1.07706</td>\n",
       "      <td>1.07711</td>\n",
       "      <td>1.07701</td>\n",
       "      <td>407.0</td>\n",
       "    </tr>\n",
       "    <tr>\n",
       "      <th>2023-05-23 22:15:00</th>\n",
       "      <td>1.07707</td>\n",
       "      <td>1.07707</td>\n",
       "      <td>1.07714</td>\n",
       "      <td>1.07704</td>\n",
       "      <td>416.0</td>\n",
       "    </tr>\n",
       "    <tr>\n",
       "      <th>2023-05-23 22:20:00</th>\n",
       "      <td>1.07708</td>\n",
       "      <td>1.07708</td>\n",
       "      <td>1.07712</td>\n",
       "      <td>1.07706</td>\n",
       "      <td>374.0</td>\n",
       "    </tr>\n",
       "    <tr>\n",
       "      <th>...</th>\n",
       "      <td>...</td>\n",
       "      <td>...</td>\n",
       "      <td>...</td>\n",
       "      <td>...</td>\n",
       "      <td>...</td>\n",
       "    </tr>\n",
       "    <tr>\n",
       "      <th>2023-06-27 14:00:00</th>\n",
       "      <td>1.09653</td>\n",
       "      <td>1.09577</td>\n",
       "      <td>1.09679</td>\n",
       "      <td>1.09536</td>\n",
       "      <td>7943.0</td>\n",
       "    </tr>\n",
       "    <tr>\n",
       "      <th>2023-06-27 14:05:00</th>\n",
       "      <td>1.09579</td>\n",
       "      <td>1.09557</td>\n",
       "      <td>1.09583</td>\n",
       "      <td>1.09511</td>\n",
       "      <td>7709.0</td>\n",
       "    </tr>\n",
       "    <tr>\n",
       "      <th>2023-06-27 14:10:00</th>\n",
       "      <td>1.09560</td>\n",
       "      <td>1.09440</td>\n",
       "      <td>1.09560</td>\n",
       "      <td>1.09418</td>\n",
       "      <td>7229.0</td>\n",
       "    </tr>\n",
       "    <tr>\n",
       "      <th>2023-06-27 14:15:00</th>\n",
       "      <td>1.09439</td>\n",
       "      <td>1.09552</td>\n",
       "      <td>1.09552</td>\n",
       "      <td>1.09439</td>\n",
       "      <td>6743.0</td>\n",
       "    </tr>\n",
       "    <tr>\n",
       "      <th>2023-06-27 14:20:00</th>\n",
       "      <td>1.09552</td>\n",
       "      <td>1.09597</td>\n",
       "      <td>1.09599</td>\n",
       "      <td>1.09545</td>\n",
       "      <td>5398.0</td>\n",
       "    </tr>\n",
       "  </tbody>\n",
       "</table>\n",
       "<p>7048 rows × 5 columns</p>\n",
       "</div>"
      ],
      "text/plain": [
       "                        open    close     high      low  volume\n",
       "date                                                           \n",
       "2023-05-23 22:00:00  1.07716  1.07724  1.07730  1.07716   227.0\n",
       "2023-05-23 22:05:00  1.07724  1.07710  1.07724  1.07700   193.0\n",
       "2023-05-23 22:10:00  1.07710  1.07706  1.07711  1.07701   407.0\n",
       "2023-05-23 22:15:00  1.07707  1.07707  1.07714  1.07704   416.0\n",
       "2023-05-23 22:20:00  1.07708  1.07708  1.07712  1.07706   374.0\n",
       "...                      ...      ...      ...      ...     ...\n",
       "2023-06-27 14:00:00  1.09653  1.09577  1.09679  1.09536  7943.0\n",
       "2023-06-27 14:05:00  1.09579  1.09557  1.09583  1.09511  7709.0\n",
       "2023-06-27 14:10:00  1.09560  1.09440  1.09560  1.09418  7229.0\n",
       "2023-06-27 14:15:00  1.09439  1.09552  1.09552  1.09439  6743.0\n",
       "2023-06-27 14:20:00  1.09552  1.09597  1.09599  1.09545  5398.0\n",
       "\n",
       "[7048 rows x 5 columns]"
      ]
     },
     "execution_count": 61,
     "metadata": {},
     "output_type": "execute_result"
    }
   ],
   "source": [
    "df = get_data_for_symbol(\"EURUSD\")\n",
    "df"
   ]
  },
  {
   "cell_type": "code",
   "execution_count": 62,
   "id": "fb9a3d95-c30e-46b9-aebc-f67a952f47c9",
   "metadata": {},
   "outputs": [],
   "source": [
    "closed_prices = df[\"close\"]"
   ]
  },
  {
   "cell_type": "code",
   "execution_count": 63,
   "id": "808dbdb6-ef54-41b5-bf2b-ed3bf61d1b40",
   "metadata": {},
   "outputs": [],
   "source": [
    "seq_len = 15\n",
    "\n",
    "mm = MinMaxScaler()\n",
    "scaled_price = mm.fit_transform(np.array(closed_prices)[... , None]).squeeze()"
   ]
  },
  {
   "cell_type": "code",
   "execution_count": 64,
   "id": "0d3761b2-a2f8-4835-b44c-c445fdd24298",
   "metadata": {},
   "outputs": [],
   "source": [
    "X = []\n",
    "y = []\n",
    "\n",
    "for i in range(len(scaled_price) - seq_len):\n",
    "    X.append(scaled_price[i : i + seq_len])\n",
    "    y.append(scaled_price[i + seq_len])"
   ]
  },
  {
   "cell_type": "code",
   "execution_count": 65,
   "id": "751ce051-a232-457f-a921-6d30b7ca4ac5",
   "metadata": {},
   "outputs": [],
   "source": [
    "X = np.array(X)[... , None]\n",
    "y = np.array(y)[... , None]"
   ]
  },
  {
   "cell_type": "code",
   "execution_count": 66,
   "id": "c9ad2590-0682-41ae-bb44-d3394b9c78d2",
   "metadata": {},
   "outputs": [],
   "source": [
    "train_x = torch.from_numpy(X[:int(0.8 * X.shape[0])]).float()\n",
    "train_y = torch.from_numpy(y[:int(0.8 * X.shape[0])]).float()\n",
    "test_x = torch.from_numpy(X[int(0.8 * X.shape[0]):]).float()\n",
    "test_y = torch.from_numpy(y[int(0.8 * X.shape[0]):]).float()"
   ]
  },
  {
   "cell_type": "code",
   "execution_count": 67,
   "id": "956b19bd-2707-46b2-85a5-133528af1b9c",
   "metadata": {},
   "outputs": [],
   "source": [
    "class Model(nn.Module):\n",
    "    def __init__(self , input_size , hidden_size):\n",
    "        super().__init__()\n",
    "        self.lstm = nn.LSTM(input_size , hidden_size , batch_first = True)\n",
    "        self.fc = nn.Linear(hidden_size , 1)\n",
    "    def forward(self , x):\n",
    "        output , (hidden , cell) = self.lstm(x)\n",
    "        return self.fc(hidden[-1 , :])\n",
    "   "
   ]
  },
  {
   "cell_type": "code",
   "execution_count": 68,
   "id": "015c1a34-7289-4874-83e9-1f9bf3bc056f",
   "metadata": {},
   "outputs": [],
   "source": [
    "model = Model(1 , 64)\n",
    "\n",
    "\n",
    "optimizer = torch.optim.Adam(model.parameters() , lr = 0.001)\n",
    "loss_fn = nn.MSELoss()"
   ]
  },
  {
   "cell_type": "code",
   "execution_count": 69,
   "id": "9647e64a-6142-40bd-b64c-5d6f1edc3b6b",
   "metadata": {},
   "outputs": [
    {
     "name": "stdout",
     "output_type": "stream",
     "text": [
      "10 epoch loss 0.09183607\n",
      "20 epoch loss 0.04068584\n",
      "30 epoch loss 0.03165636\n",
      "40 epoch loss 0.027026616\n",
      "50 epoch loss 0.019056033\n",
      "60 epoch loss 0.0073046708\n",
      "70 epoch loss 0.0017976039\n",
      "80 epoch loss 0.0022091866\n",
      "90 epoch loss 0.0013521808\n"
     ]
    }
   ],
   "source": [
    "num_epochs = 100\n",
    "for epoch in range(num_epochs):\n",
    "    output = model(train_x)\n",
    "    loss = loss_fn(output , train_y)\n",
    "\n",
    "    optimizer.zero_grad()\n",
    "    loss.backward()\n",
    "    optimizer.step()\n",
    "\n",
    "    if epoch % 10 == 0 and epoch != 0:\n",
    "        print(epoch , \"epoch loss\" , loss.detach().numpy())"
   ]
  },
  {
   "cell_type": "code",
   "execution_count": 70,
   "id": "c5afec04-0807-4b77-99aa-2f98d2364d4c",
   "metadata": {},
   "outputs": [],
   "source": [
    "model.eval()\n",
    "with torch.no_grad():\n",
    "    output = model(test_x)\n",
    "\n",
    "pred = mm.inverse_transform(output.numpy())\n",
    "real = mm.inverse_transform(test_y.numpy())\n",
    "index = df[int(0.8*len(df)+3):].index"
   ]
  },
  {
   "cell_type": "code",
   "execution_count": 71,
   "id": "f5ce9008-9f3c-4ca3-a271-276bd85d31b1",
   "metadata": {},
   "outputs": [
    {
     "data": {
      "image/png": "[encoded data removed]",
      "text/plain": [
       "<Figure size 640x480 with 1 Axes>"
      ]
     },
     "metadata": {},
     "output_type": "display_data"
    }
   ],
   "source": [
    "plt.plot(index, pred.squeeze() , color = \"red\" , label = \"predicted\")\n",
    "plt.plot(index, real.squeeze() , color = \"green\" , label = \"real\")\n",
    "plt.xticks(fontsize=5)\n",
    "plt.show()"
   ]
  },
  {
   "cell_type": "code",
   "execution_count": null,
   "id": "d466f684-8fb8-41a2-9676-7b35a3fcca1a",
   "metadata": {},
   "outputs": [],
   "source": []
  }
 ],
 "metadata": {
  "kernelspec": {
   "display_name": "Python 3 (ipykernel)",
   "language": "python",
   "name": "python3"
  },
  "language_info": {
   "codemirror_mode": {
    "name": "ipython",
    "version": 3
   },
   "file_extension": ".py",
   "mimetype": "text/x-python",
   "name": "python",
   "nbconvert_exporter": "python",
   "pygments_lexer": "ipython3",
   "version": "3.10.6"
  }
 },
 "nbformat": 4,
 "nbformat_minor": 5
}
