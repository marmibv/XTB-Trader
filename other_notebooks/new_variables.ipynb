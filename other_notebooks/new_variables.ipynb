{
 "cells": [
  {
   "cell_type": "code",
   "execution_count": 1,
   "id": "af7a5874-45c7-47fa-9448-990d184cb17a",
   "metadata": {},
   "outputs": [],
   "source": [
    "import numpy as np\n",
    "import matplotlib.pyplot as plt\n",
    "import pandas as pd\n",
    "import yfinance as yf\n",
    "from sklearn.preprocessing import MinMaxScaler\n",
    "import pandas_ta as ta\n",
    "import pickle\n",
    "from sklearn.metrics import mean_squared_error"
   ]
  },
  {
   "cell_type": "code",
   "execution_count": 2,
   "id": "82fbff8a-46ef-4adb-b58e-dd99c050f16b",
   "metadata": {},
   "outputs": [],
   "source": [
    "import warnings\n",
    "warnings.filterwarnings(\"ignore\")"
   ]
  },
  {
   "cell_type": "code",
   "execution_count": 3,
   "id": "5cc98762-86eb-4bec-bb69-a70c48b0ace6",
   "metadata": {},
   "outputs": [],
   "source": [
    "import sys\n",
    "import os\n",
    "from datetime import datetime, timedelta\n",
    "sys.path.insert(1, '/home/krystian/Repos/XTB-Trader/utility')\n",
    "sys.path.insert(1, '/home/krystian/Repos/XTB-Trader')\n",
    "from XTBClient.api import XTBClient, PERIOD\n",
    "from utility import utility "
   ]
  },
  {
   "cell_type": "code",
   "execution_count": 4,
   "id": "391b5fa1-1202-4081-b51f-989a5c5bd0b8",
   "metadata": {},
   "outputs": [],
   "source": [
    "def get_data_for_symbol(symbol):\n",
    "    c = XTBClient()\n",
    "    c.login(os.environ.get(\"XTB_user_num\"), os.environ.get(\"XTB_pass\"))\n",
    "    df = c.get_candles_in_range(symbol, PERIOD.FIFTEEN_MINUTES.value, start=datetime.now() - timedelta(days=365))\n",
    "    c.logout()\n",
    "    \n",
    "    df = df.reset_index()\n",
    "    df.rename(columns={\"timestamp\": \"date\"}, inplace=True)\n",
    "    \n",
    "    df['date'] = df['date'].apply(pd.to_datetime)\n",
    "    df.set_index('date',inplace=True)\n",
    "    # df.drop([col for col in df.columns if col != \"close\"], axis=1, inplace=True)\n",
    "    return df"
   ]
  },
  {
   "cell_type": "code",
   "execution_count": 5,
   "id": "6bd58e72-579e-4b5c-9071-1fe97c7c126f",
   "metadata": {},
   "outputs": [],
   "source": [
    "def import_csv(name):\n",
    "    df = pd.read_csv(name, sep=';')\n",
    "    df.columns = [\"date\",\"open\",\"high\",\"low\",\"close\", \"volume\"]\n",
    "    df.date = pd.to_datetime(df.date)\n",
    "    df.drop(columns=\"volume\", inplace=True)\n",
    "    df.set_index('date', inplace=True, drop=True)\n",
    "    return df"
   ]
  },
  {
   "cell_type": "code",
   "execution_count": 6,
   "id": "85493ce8-6693-4cd5-9f84-257cb5be5463",
   "metadata": {},
   "outputs": [],
   "source": [
    "def save_model(model, filename):\n",
    "    return pickle.dump(model, open(os.path.join(\"../\", \"models\", \"main_model.pkl\"), 'wb'))"
   ]
  },
  {
   "cell_type": "code",
   "execution_count": 7,
   "id": "06066b60-d0f0-4eb3-a490-d35a7fb30038",
   "metadata": {},
   "outputs": [],
   "source": [
    "def load_model(filename):\n",
    "    return pickle.load(open(os.path.join(\"../\", \"models\", \"main_model.pkl\"), 'rb'))"
   ]
  },
  {
   "cell_type": "code",
   "execution_count": 8,
   "id": "ef6956e1-528b-4ff3-84d1-124d1ac1f1fc",
   "metadata": {
    "tags": []
   },
   "outputs": [],
   "source": [
    "def trend_accuracy(real, preds):\n",
    "    df = pd.DataFrame({\"real\": real, \"preds\": preds})\n",
    "    return len(df[df.real * df.preds > 0]) / len(df)"
   ]
  },
  {
   "cell_type": "markdown",
   "id": "f90c1616-147c-4bd1-9360-5bc2fb64204d",
   "metadata": {},
   "source": [
    "# Data import"
   ]
  },
  {
   "cell_type": "code",
   "execution_count": 21,
   "id": "90cd1e3a-d1f8-47c1-a4ad-c36af04092e0",
   "metadata": {},
   "outputs": [
    {
     "data": {
      "text/html": [
       "<div>\n",
       "<style scoped>\n",
       "    .dataframe tbody tr th:only-of-type {\n",
       "        vertical-align: middle;\n",
       "    }\n",
       "\n",
       "    .dataframe tbody tr th {\n",
       "        vertical-align: top;\n",
       "    }\n",
       "\n",
       "    .dataframe thead th {\n",
       "        text-align: right;\n",
       "    }\n",
       "</style>\n",
       "<table border=\"1\" class=\"dataframe\">\n",
       "  <thead>\n",
       "    <tr style=\"text-align: right;\">\n",
       "      <th></th>\n",
       "      <th>open</th>\n",
       "      <th>close</th>\n",
       "      <th>high</th>\n",
       "      <th>low</th>\n",
       "      <th>volume</th>\n",
       "    </tr>\n",
       "    <tr>\n",
       "      <th>date</th>\n",
       "      <th></th>\n",
       "      <th></th>\n",
       "      <th></th>\n",
       "      <th></th>\n",
       "      <th></th>\n",
       "    </tr>\n",
       "  </thead>\n",
       "  <tbody>\n",
       "    <tr>\n",
       "      <th>2023-01-01 22:00:00</th>\n",
       "      <td>1.07058</td>\n",
       "      <td>1.06932</td>\n",
       "      <td>1.07086</td>\n",
       "      <td>1.06932</td>\n",
       "      <td>187.0</td>\n",
       "    </tr>\n",
       "    <tr>\n",
       "      <th>2023-01-01 22:15:00</th>\n",
       "      <td>1.06932</td>\n",
       "      <td>1.06933</td>\n",
       "      <td>1.06935</td>\n",
       "      <td>1.06906</td>\n",
       "      <td>102.0</td>\n",
       "    </tr>\n",
       "    <tr>\n",
       "      <th>2023-01-01 22:30:00</th>\n",
       "      <td>1.06931</td>\n",
       "      <td>1.06900</td>\n",
       "      <td>1.06936</td>\n",
       "      <td>1.06857</td>\n",
       "      <td>798.0</td>\n",
       "    </tr>\n",
       "    <tr>\n",
       "      <th>2023-01-01 22:45:00</th>\n",
       "      <td>1.06905</td>\n",
       "      <td>1.06944</td>\n",
       "      <td>1.06981</td>\n",
       "      <td>1.06895</td>\n",
       "      <td>1980.0</td>\n",
       "    </tr>\n",
       "    <tr>\n",
       "      <th>2023-01-01 23:00:00</th>\n",
       "      <td>1.06922</td>\n",
       "      <td>1.06777</td>\n",
       "      <td>1.06933</td>\n",
       "      <td>1.06773</td>\n",
       "      <td>285.0</td>\n",
       "    </tr>\n",
       "    <tr>\n",
       "      <th>...</th>\n",
       "      <td>...</td>\n",
       "      <td>...</td>\n",
       "      <td>...</td>\n",
       "      <td>...</td>\n",
       "      <td>...</td>\n",
       "    </tr>\n",
       "    <tr>\n",
       "      <th>2023-07-03 23:15:00</th>\n",
       "      <td>1.09140</td>\n",
       "      <td>1.09130</td>\n",
       "      <td>1.09143</td>\n",
       "      <td>1.09129</td>\n",
       "      <td>786.0</td>\n",
       "    </tr>\n",
       "    <tr>\n",
       "      <th>2023-07-03 23:30:00</th>\n",
       "      <td>1.09131</td>\n",
       "      <td>1.09125</td>\n",
       "      <td>1.09137</td>\n",
       "      <td>1.09121</td>\n",
       "      <td>618.0</td>\n",
       "    </tr>\n",
       "    <tr>\n",
       "      <th>2023-07-03 23:45:00</th>\n",
       "      <td>1.09126</td>\n",
       "      <td>1.09122</td>\n",
       "      <td>1.09128</td>\n",
       "      <td>1.09116</td>\n",
       "      <td>1443.0</td>\n",
       "    </tr>\n",
       "    <tr>\n",
       "      <th>2023-07-04 00:00:00</th>\n",
       "      <td>1.09123</td>\n",
       "      <td>1.09111</td>\n",
       "      <td>1.09132</td>\n",
       "      <td>1.09095</td>\n",
       "      <td>2995.0</td>\n",
       "    </tr>\n",
       "    <tr>\n",
       "      <th>2023-07-04 00:15:00</th>\n",
       "      <td>1.09112</td>\n",
       "      <td>1.09097</td>\n",
       "      <td>1.09112</td>\n",
       "      <td>1.09090</td>\n",
       "      <td>2331.0</td>\n",
       "    </tr>\n",
       "  </tbody>\n",
       "</table>\n",
       "<p>12486 rows × 5 columns</p>\n",
       "</div>"
      ],
      "text/plain": [
       "                        open    close     high      low  volume\n",
       "date                                                           \n",
       "2023-01-01 22:00:00  1.07058  1.06932  1.07086  1.06932   187.0\n",
       "2023-01-01 22:15:00  1.06932  1.06933  1.06935  1.06906   102.0\n",
       "2023-01-01 22:30:00  1.06931  1.06900  1.06936  1.06857   798.0\n",
       "2023-01-01 22:45:00  1.06905  1.06944  1.06981  1.06895  1980.0\n",
       "2023-01-01 23:00:00  1.06922  1.06777  1.06933  1.06773   285.0\n",
       "...                      ...      ...      ...      ...     ...\n",
       "2023-07-03 23:15:00  1.09140  1.09130  1.09143  1.09129   786.0\n",
       "2023-07-03 23:30:00  1.09131  1.09125  1.09137  1.09121   618.0\n",
       "2023-07-03 23:45:00  1.09126  1.09122  1.09128  1.09116  1443.0\n",
       "2023-07-04 00:00:00  1.09123  1.09111  1.09132  1.09095  2995.0\n",
       "2023-07-04 00:15:00  1.09112  1.09097  1.09112  1.09090  2331.0\n",
       "\n",
       "[12486 rows x 5 columns]"
      ]
     },
     "execution_count": 21,
     "metadata": {},
     "output_type": "execute_result"
    }
   ],
   "source": [
    "# df = yf.download(tickers = 'EURUSD=x', period='1y', interval='15m')\n",
    "df = get_data_for_symbol(\"EURUSD\")\n",
    "df.index.rename(\"Date\", inplace=True)\n",
    "df.rename(columns={col: col.lower() for col in df.columns}, inplace=True)\n",
    "df.index.rename(df.index.name.lower(), inplace=True)\n",
    "df"
   ]
  },
  {
   "cell_type": "code",
   "execution_count": 34,
   "id": "5028df49-5d2c-4115-ac2b-6224f492429c",
   "metadata": {},
   "outputs": [
    {
     "data": {
      "text/plain": [
       "<AxesSubplot: >"
      ]
     },
     "execution_count": 34,
     "metadata": {},
     "output_type": "execute_result"
    },
    {
     "data": {
      "image/png": "[encoded data removed]",
      "text/plain": [
       "<Figure size 640x480 with 1 Axes>"
      ]
     },
     "metadata": {},
     "output_type": "display_data"
    }
   ],
   "source": [
    "df.close.hist(bins=30)"
   ]
  },
  {
   "cell_type": "code",
   "execution_count": null,
   "id": "7678d9fd-34e7-44f2-9579-8a0c64b1802d",
   "metadata": {},
   "outputs": [],
   "source": []
  }
 ],
 "metadata": {
  "kernelspec": {
   "display_name": "Python 3 (ipykernel)",
   "language": "python",
   "name": "python3"
  },
  "language_info": {
   "codemirror_mode": {
    "name": "ipython",
    "version": 3
   },
   "file_extension": ".py",
   "mimetype": "text/x-python",
   "name": "python",
   "nbconvert_exporter": "python",
   "pygments_lexer": "ipython3",
   "version": "3.10.6"
  }
 },
 "nbformat": 4,
 "nbformat_minor": 5
}
