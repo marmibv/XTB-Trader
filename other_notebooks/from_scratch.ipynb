{
 "cells": [
  {
   "cell_type": "code",
   "execution_count": 1,
   "id": "a08ce45d-54bf-413f-9c87-aeeeb3bbc060",
   "metadata": {},
   "outputs": [],
   "source": [
    "import numpy as np\n",
    "import matplotlib.pyplot as plt\n",
    "import pandas as pd\n",
    "import yfinance as yf\n",
    "from sklearn.preprocessing import MinMaxScaler\n",
    "import pandas_ta as ta\n",
    "import pickle\n",
    "from sklearn.metrics import mean_squared_error"
   ]
  },
  {
   "cell_type": "code",
   "execution_count": 2,
   "id": "5cb6b7f8-3804-4204-a1a2-6d8e8821e9d6",
   "metadata": {},
   "outputs": [],
   "source": [
    "import warnings\n",
    "warnings.filterwarnings(\"ignore\")"
   ]
  },
  {
   "cell_type": "code",
   "execution_count": 3,
   "id": "e2cb8b08-392c-4a74-ac5c-aadd4975f3e5",
   "metadata": {},
   "outputs": [],
   "source": [
    "import sys\n",
    "import os\n",
    "from datetime import datetime, timedelta\n",
    "sys.path.insert(1, '/home/krystian/Repos/XTB-Trader/utility')\n",
    "sys.path.insert(1, '/home/krystian/Repos/XTB-Trader')\n",
    "from XTBClient.api import XTBClient, PERIOD\n",
    "from utility import utility "
   ]
  },
  {
   "cell_type": "code",
   "execution_count": 4,
   "id": "10105186-be65-4efe-b8e9-5f3118afb2fb",
   "metadata": {},
   "outputs": [],
   "source": [
    "def get_data_for_symbol(symbol):\n",
    "    c = XTBClient()\n",
    "    c.login(os.environ.get(\"XTB_user_num\"), os.environ.get(\"XTB_pass\"))\n",
    "    df = c.get_candles_in_range(symbol, PERIOD.FIFTEEN_MINUTES.value, start=datetime.now() - timedelta(days=365))\n",
    "    c.logout()\n",
    "    \n",
    "    df = df.reset_index()\n",
    "    df.rename(columns={\"timestamp\": \"date\"}, inplace=True)\n",
    "    \n",
    "    df['date'] = df['date'].apply(pd.to_datetime)\n",
    "    df.set_index('date',inplace=True)\n",
    "    # df.drop([col for col in df.columns if col != \"close\"], axis=1, inplace=True)\n",
    "    return df"
   ]
  },
  {
   "cell_type": "code",
   "execution_count": 5,
   "id": "fccb6cdf-01d4-4ecf-83d4-6b8362576238",
   "metadata": {},
   "outputs": [],
   "source": [
    "def import_csv(name):\n",
    "    df = pd.read_csv(name, sep=';')\n",
    "    df.columns = [\"date\",\"open\",\"high\",\"low\",\"close\", \"volume\"]\n",
    "    df.date = pd.to_datetime(df.date)\n",
    "    df.drop(columns=\"volume\", inplace=True)\n",
    "    df.set_index('date', inplace=True, drop=True)\n",
    "    return df"
   ]
  },
  {
   "cell_type": "code",
   "execution_count": 6,
   "id": "8dbc1a73-db87-422a-b473-e047375654e3",
   "metadata": {},
   "outputs": [],
   "source": [
    "def save_model(model, filename):\n",
    "    return pickle.dump(model, open(os.path.join(\"../\", \"models\", \"main_model.pkl\"), 'wb'))"
   ]
  },
  {
   "cell_type": "code",
   "execution_count": 7,
   "id": "7e6f5c1d-1288-4ec5-a15b-9d9cc60a1449",
   "metadata": {},
   "outputs": [],
   "source": [
    " \n",
    "def load_model(filename):\n",
    "    return pickle.load(open(os.path.join(\"../\", \"models\", \"main_model.pkl\"), 'rb'))"
   ]
  },
  {
   "cell_type": "code",
   "execution_count": 8,
   "id": "63fa8554-a22a-4d07-aec2-e1e2ca5dec39",
   "metadata": {
    "jupyter": {
     "source_hidden": true
    },
    "tags": []
   },
   "outputs": [],
   "source": [
    "def trend_accuracy(real, preds):\n",
    "    df = pd.DataFrame({\"real\": real, \"preds\": preds})\n",
    "    return len(df[df.real * df.preds > 0]) / len(df)"
   ]
  },
  {
   "cell_type": "markdown",
   "id": "ecd554ac-5100-4171-b298-6b05ad0b70f8",
   "metadata": {},
   "source": [
    "# Data import"
   ]
  },
  {
   "cell_type": "code",
   "execution_count": 9,
   "id": "a3ef7f05-e4e9-41c5-ab64-f35cfebe00bc",
   "metadata": {},
   "outputs": [
    {
     "data": {
      "text/html": [
       "<div>\n",
       "<style scoped>\n",
       "    .dataframe tbody tr th:only-of-type {\n",
       "        vertical-align: middle;\n",
       "    }\n",
       "\n",
       "    .dataframe tbody tr th {\n",
       "        vertical-align: top;\n",
       "    }\n",
       "\n",
       "    .dataframe thead th {\n",
       "        text-align: right;\n",
       "    }\n",
       "</style>\n",
       "<table border=\"1\" class=\"dataframe\">\n",
       "  <thead>\n",
       "    <tr style=\"text-align: right;\">\n",
       "      <th></th>\n",
       "      <th>open</th>\n",
       "      <th>close</th>\n",
       "      <th>high</th>\n",
       "      <th>low</th>\n",
       "      <th>volume</th>\n",
       "    </tr>\n",
       "    <tr>\n",
       "      <th>date</th>\n",
       "      <th></th>\n",
       "      <th></th>\n",
       "      <th></th>\n",
       "      <th></th>\n",
       "      <th></th>\n",
       "    </tr>\n",
       "  </thead>\n",
       "  <tbody>\n",
       "    <tr>\n",
       "      <th>2023-01-01 22:00:00</th>\n",
       "      <td>1.07058</td>\n",
       "      <td>1.06932</td>\n",
       "      <td>1.07086</td>\n",
       "      <td>1.06932</td>\n",
       "      <td>187.0</td>\n",
       "    </tr>\n",
       "    <tr>\n",
       "      <th>2023-01-01 22:15:00</th>\n",
       "      <td>1.06932</td>\n",
       "      <td>1.06933</td>\n",
       "      <td>1.06935</td>\n",
       "      <td>1.06906</td>\n",
       "      <td>102.0</td>\n",
       "    </tr>\n",
       "    <tr>\n",
       "      <th>2023-01-01 22:30:00</th>\n",
       "      <td>1.06931</td>\n",
       "      <td>1.06900</td>\n",
       "      <td>1.06936</td>\n",
       "      <td>1.06857</td>\n",
       "      <td>798.0</td>\n",
       "    </tr>\n",
       "    <tr>\n",
       "      <th>2023-01-01 22:45:00</th>\n",
       "      <td>1.06905</td>\n",
       "      <td>1.06944</td>\n",
       "      <td>1.06981</td>\n",
       "      <td>1.06895</td>\n",
       "      <td>1980.0</td>\n",
       "    </tr>\n",
       "    <tr>\n",
       "      <th>2023-01-01 23:00:00</th>\n",
       "      <td>1.06922</td>\n",
       "      <td>1.06777</td>\n",
       "      <td>1.06933</td>\n",
       "      <td>1.06773</td>\n",
       "      <td>285.0</td>\n",
       "    </tr>\n",
       "    <tr>\n",
       "      <th>...</th>\n",
       "      <td>...</td>\n",
       "      <td>...</td>\n",
       "      <td>...</td>\n",
       "      <td>...</td>\n",
       "      <td>...</td>\n",
       "    </tr>\n",
       "    <tr>\n",
       "      <th>2023-07-03 19:45:00</th>\n",
       "      <td>1.09110</td>\n",
       "      <td>1.09087</td>\n",
       "      <td>1.09110</td>\n",
       "      <td>1.09087</td>\n",
       "      <td>1710.0</td>\n",
       "    </tr>\n",
       "    <tr>\n",
       "      <th>2023-07-03 20:00:00</th>\n",
       "      <td>1.09086</td>\n",
       "      <td>1.09111</td>\n",
       "      <td>1.09115</td>\n",
       "      <td>1.09084</td>\n",
       "      <td>1885.0</td>\n",
       "    </tr>\n",
       "    <tr>\n",
       "      <th>2023-07-03 20:15:00</th>\n",
       "      <td>1.09112</td>\n",
       "      <td>1.09117</td>\n",
       "      <td>1.09117</td>\n",
       "      <td>1.09104</td>\n",
       "      <td>1078.0</td>\n",
       "    </tr>\n",
       "    <tr>\n",
       "      <th>2023-07-03 20:30:00</th>\n",
       "      <td>1.09116</td>\n",
       "      <td>1.09132</td>\n",
       "      <td>1.09133</td>\n",
       "      <td>1.09112</td>\n",
       "      <td>814.0</td>\n",
       "    </tr>\n",
       "    <tr>\n",
       "      <th>2023-07-03 20:45:00</th>\n",
       "      <td>1.09132</td>\n",
       "      <td>1.09138</td>\n",
       "      <td>1.09139</td>\n",
       "      <td>1.09127</td>\n",
       "      <td>855.0</td>\n",
       "    </tr>\n",
       "  </tbody>\n",
       "</table>\n",
       "<p>12472 rows × 5 columns</p>\n",
       "</div>"
      ],
      "text/plain": [
       "                        open    close     high      low  volume\n",
       "date                                                           \n",
       "2023-01-01 22:00:00  1.07058  1.06932  1.07086  1.06932   187.0\n",
       "2023-01-01 22:15:00  1.06932  1.06933  1.06935  1.06906   102.0\n",
       "2023-01-01 22:30:00  1.06931  1.06900  1.06936  1.06857   798.0\n",
       "2023-01-01 22:45:00  1.06905  1.06944  1.06981  1.06895  1980.0\n",
       "2023-01-01 23:00:00  1.06922  1.06777  1.06933  1.06773   285.0\n",
       "...                      ...      ...      ...      ...     ...\n",
       "2023-07-03 19:45:00  1.09110  1.09087  1.09110  1.09087  1710.0\n",
       "2023-07-03 20:00:00  1.09086  1.09111  1.09115  1.09084  1885.0\n",
       "2023-07-03 20:15:00  1.09112  1.09117  1.09117  1.09104  1078.0\n",
       "2023-07-03 20:30:00  1.09116  1.09132  1.09133  1.09112   814.0\n",
       "2023-07-03 20:45:00  1.09132  1.09138  1.09139  1.09127   855.0\n",
       "\n",
       "[12472 rows x 5 columns]"
      ]
     },
     "execution_count": 9,
     "metadata": {},
     "output_type": "execute_result"
    }
   ],
   "source": [
    "# df = yf.download(tickers = 'EURUSD=x', period='1y', interval='15m')\n",
    "df = get_data_for_symbol(\"EURUSD\")\n",
    "df.index.rename(\"Date\", inplace=True)\n",
    "df.rename(columns={col: col.lower() for col in df.columns}, inplace=True)\n",
    "df.index.rename(df.index.name.lower(), inplace=True)\n",
    "df"
   ]
  },
  {
   "cell_type": "code",
   "execution_count": 10,
   "id": "b8ab6263-82f4-41bd-b520-fef0f65667e2",
   "metadata": {
    "tags": []
   },
   "outputs": [],
   "source": [
    "df.ta.indicators(as_list=True);"
   ]
  },
  {
   "cell_type": "markdown",
   "id": "c8bb46d4-1d40-4023-9b24-32a4a3cf123d",
   "metadata": {},
   "source": [
    "# Additional Indicators"
   ]
  },
  {
   "cell_type": "code",
   "execution_count": 11,
   "id": "b8d19475-1800-497a-b04f-890d7a17831a",
   "metadata": {},
   "outputs": [
    {
     "data": {
      "text/html": [
       "<div>\n",
       "<style scoped>\n",
       "    .dataframe tbody tr th:only-of-type {\n",
       "        vertical-align: middle;\n",
       "    }\n",
       "\n",
       "    .dataframe tbody tr th {\n",
       "        vertical-align: top;\n",
       "    }\n",
       "\n",
       "    .dataframe thead th {\n",
       "        text-align: right;\n",
       "    }\n",
       "</style>\n",
       "<table border=\"1\" class=\"dataframe\">\n",
       "  <thead>\n",
       "    <tr style=\"text-align: right;\">\n",
       "      <th></th>\n",
       "      <th>open</th>\n",
       "      <th>close</th>\n",
       "      <th>high</th>\n",
       "      <th>low</th>\n",
       "      <th>volume</th>\n",
       "      <th>RSI</th>\n",
       "      <th>EMAF</th>\n",
       "      <th>EMAM</th>\n",
       "      <th>EMAS</th>\n",
       "      <th>EMAS2</th>\n",
       "      <th>gain</th>\n",
       "      <th>future_gain</th>\n",
       "      <th>STOCHk_14_3_3</th>\n",
       "      <th>STOCHd_14_3_3</th>\n",
       "    </tr>\n",
       "    <tr>\n",
       "      <th>date</th>\n",
       "      <th></th>\n",
       "      <th></th>\n",
       "      <th></th>\n",
       "      <th></th>\n",
       "      <th></th>\n",
       "      <th></th>\n",
       "      <th></th>\n",
       "      <th></th>\n",
       "      <th></th>\n",
       "      <th></th>\n",
       "      <th></th>\n",
       "      <th></th>\n",
       "      <th></th>\n",
       "      <th></th>\n",
       "    </tr>\n",
       "  </thead>\n",
       "  <tbody>\n",
       "    <tr>\n",
       "      <th>2023-01-03 11:15:00</th>\n",
       "      <td>1.05270</td>\n",
       "      <td>1.05261</td>\n",
       "      <td>1.05291</td>\n",
       "      <td>1.05191</td>\n",
       "      <td>12215.0</td>\n",
       "      <td>15.644104</td>\n",
       "      <td>1.057125</td>\n",
       "      <td>1.064082</td>\n",
       "      <td>1.066306</td>\n",
       "      <td>1.064679</td>\n",
       "      <td>-0.00010</td>\n",
       "      <td>0.00053</td>\n",
       "      <td>4.157572</td>\n",
       "      <td>3.550690</td>\n",
       "    </tr>\n",
       "    <tr>\n",
       "      <th>2023-01-03 11:30:00</th>\n",
       "      <td>1.05260</td>\n",
       "      <td>1.05314</td>\n",
       "      <td>1.05357</td>\n",
       "      <td>1.05251</td>\n",
       "      <td>10121.0</td>\n",
       "      <td>20.275578</td>\n",
       "      <td>1.056745</td>\n",
       "      <td>1.063865</td>\n",
       "      <td>1.066132</td>\n",
       "      <td>1.064489</td>\n",
       "      <td>0.00053</td>\n",
       "      <td>-0.00035</td>\n",
       "      <td>8.574807</td>\n",
       "      <td>5.260125</td>\n",
       "    </tr>\n",
       "    <tr>\n",
       "      <th>2023-01-03 11:45:00</th>\n",
       "      <td>1.05314</td>\n",
       "      <td>1.05279</td>\n",
       "      <td>1.05349</td>\n",
       "      <td>1.05263</td>\n",
       "      <td>11677.0</td>\n",
       "      <td>19.517384</td>\n",
       "      <td>1.056368</td>\n",
       "      <td>1.063646</td>\n",
       "      <td>1.065955</td>\n",
       "      <td>1.064295</td>\n",
       "      <td>-0.00035</td>\n",
       "      <td>0.00047</td>\n",
       "      <td>12.849630</td>\n",
       "      <td>8.527336</td>\n",
       "    </tr>\n",
       "    <tr>\n",
       "      <th>2023-01-03 12:00:00</th>\n",
       "      <td>1.05280</td>\n",
       "      <td>1.05326</td>\n",
       "      <td>1.05330</td>\n",
       "      <td>1.05237</td>\n",
       "      <td>12848.0</td>\n",
       "      <td>23.626454</td>\n",
       "      <td>1.056072</td>\n",
       "      <td>1.063440</td>\n",
       "      <td>1.065787</td>\n",
       "      <td>1.064113</td>\n",
       "      <td>0.00047</td>\n",
       "      <td>0.00069</td>\n",
       "      <td>19.409084</td>\n",
       "      <td>13.611174</td>\n",
       "    </tr>\n",
       "    <tr>\n",
       "      <th>2023-01-03 12:15:00</th>\n",
       "      <td>1.05324</td>\n",
       "      <td>1.05395</td>\n",
       "      <td>1.05397</td>\n",
       "      <td>1.05304</td>\n",
       "      <td>11486.0</td>\n",
       "      <td>29.303880</td>\n",
       "      <td>1.055870</td>\n",
       "      <td>1.063252</td>\n",
       "      <td>1.065630</td>\n",
       "      <td>1.063945</td>\n",
       "      <td>0.00069</td>\n",
       "      <td>0.00066</td>\n",
       "      <td>29.993749</td>\n",
       "      <td>20.750821</td>\n",
       "    </tr>\n",
       "    <tr>\n",
       "      <th>...</th>\n",
       "      <td>...</td>\n",
       "      <td>...</td>\n",
       "      <td>...</td>\n",
       "      <td>...</td>\n",
       "      <td>...</td>\n",
       "      <td>...</td>\n",
       "      <td>...</td>\n",
       "      <td>...</td>\n",
       "      <td>...</td>\n",
       "      <td>...</td>\n",
       "      <td>...</td>\n",
       "      <td>...</td>\n",
       "      <td>...</td>\n",
       "      <td>...</td>\n",
       "    </tr>\n",
       "    <tr>\n",
       "      <th>2023-07-03 19:30:00</th>\n",
       "      <td>1.09099</td>\n",
       "      <td>1.09110</td>\n",
       "      <td>1.09112</td>\n",
       "      <td>1.09099</td>\n",
       "      <td>941.0</td>\n",
       "      <td>52.322763</td>\n",
       "      <td>1.091076</td>\n",
       "      <td>1.090279</td>\n",
       "      <td>1.090053</td>\n",
       "      <td>1.090163</td>\n",
       "      <td>0.00012</td>\n",
       "      <td>-0.00023</td>\n",
       "      <td>20.216607</td>\n",
       "      <td>25.216498</td>\n",
       "    </tr>\n",
       "    <tr>\n",
       "      <th>2023-07-03 19:45:00</th>\n",
       "      <td>1.09110</td>\n",
       "      <td>1.09087</td>\n",
       "      <td>1.09110</td>\n",
       "      <td>1.09087</td>\n",
       "      <td>1710.0</td>\n",
       "      <td>48.816506</td>\n",
       "      <td>1.091056</td>\n",
       "      <td>1.090290</td>\n",
       "      <td>1.090064</td>\n",
       "      <td>1.090174</td>\n",
       "      <td>-0.00023</td>\n",
       "      <td>0.00024</td>\n",
       "      <td>16.059028</td>\n",
       "      <td>20.343106</td>\n",
       "    </tr>\n",
       "    <tr>\n",
       "      <th>2023-07-03 20:00:00</th>\n",
       "      <td>1.09086</td>\n",
       "      <td>1.09111</td>\n",
       "      <td>1.09115</td>\n",
       "      <td>1.09084</td>\n",
       "      <td>1885.0</td>\n",
       "      <td>52.383919</td>\n",
       "      <td>1.091061</td>\n",
       "      <td>1.090306</td>\n",
       "      <td>1.090077</td>\n",
       "      <td>1.090190</td>\n",
       "      <td>0.00024</td>\n",
       "      <td>0.00006</td>\n",
       "      <td>20.720721</td>\n",
       "      <td>18.998785</td>\n",
       "    </tr>\n",
       "    <tr>\n",
       "      <th>2023-07-03 20:15:00</th>\n",
       "      <td>1.09112</td>\n",
       "      <td>1.09117</td>\n",
       "      <td>1.09117</td>\n",
       "      <td>1.09104</td>\n",
       "      <td>1078.0</td>\n",
       "      <td>53.256583</td>\n",
       "      <td>1.091072</td>\n",
       "      <td>1.090324</td>\n",
       "      <td>1.090092</td>\n",
       "      <td>1.090206</td>\n",
       "      <td>0.00006</td>\n",
       "      <td>0.00015</td>\n",
       "      <td>27.922567</td>\n",
       "      <td>21.567439</td>\n",
       "    </tr>\n",
       "    <tr>\n",
       "      <th>2023-07-03 20:30:00</th>\n",
       "      <td>1.09116</td>\n",
       "      <td>1.09132</td>\n",
       "      <td>1.09133</td>\n",
       "      <td>1.09112</td>\n",
       "      <td>814.0</td>\n",
       "      <td>55.443863</td>\n",
       "      <td>1.091095</td>\n",
       "      <td>1.090343</td>\n",
       "      <td>1.090108</td>\n",
       "      <td>1.090224</td>\n",
       "      <td>0.00015</td>\n",
       "      <td>0.00006</td>\n",
       "      <td>50.180402</td>\n",
       "      <td>32.941230</td>\n",
       "    </tr>\n",
       "  </tbody>\n",
       "</table>\n",
       "<p>12322 rows × 14 columns</p>\n",
       "</div>"
      ],
      "text/plain": [
       "                        open    close     high      low   volume        RSI  \\\n",
       "date                                                                          \n",
       "2023-01-03 11:15:00  1.05270  1.05261  1.05291  1.05191  12215.0  15.644104   \n",
       "2023-01-03 11:30:00  1.05260  1.05314  1.05357  1.05251  10121.0  20.275578   \n",
       "2023-01-03 11:45:00  1.05314  1.05279  1.05349  1.05263  11677.0  19.517384   \n",
       "2023-01-03 12:00:00  1.05280  1.05326  1.05330  1.05237  12848.0  23.626454   \n",
       "2023-01-03 12:15:00  1.05324  1.05395  1.05397  1.05304  11486.0  29.303880   \n",
       "...                      ...      ...      ...      ...      ...        ...   \n",
       "2023-07-03 19:30:00  1.09099  1.09110  1.09112  1.09099    941.0  52.322763   \n",
       "2023-07-03 19:45:00  1.09110  1.09087  1.09110  1.09087   1710.0  48.816506   \n",
       "2023-07-03 20:00:00  1.09086  1.09111  1.09115  1.09084   1885.0  52.383919   \n",
       "2023-07-03 20:15:00  1.09112  1.09117  1.09117  1.09104   1078.0  53.256583   \n",
       "2023-07-03 20:30:00  1.09116  1.09132  1.09133  1.09112    814.0  55.443863   \n",
       "\n",
       "                         EMAF      EMAM      EMAS     EMAS2     gain  \\\n",
       "date                                                                   \n",
       "2023-01-03 11:15:00  1.057125  1.064082  1.066306  1.064679 -0.00010   \n",
       "2023-01-03 11:30:00  1.056745  1.063865  1.066132  1.064489  0.00053   \n",
       "2023-01-03 11:45:00  1.056368  1.063646  1.065955  1.064295 -0.00035   \n",
       "2023-01-03 12:00:00  1.056072  1.063440  1.065787  1.064113  0.00047   \n",
       "2023-01-03 12:15:00  1.055870  1.063252  1.065630  1.063945  0.00069   \n",
       "...                       ...       ...       ...       ...      ...   \n",
       "2023-07-03 19:30:00  1.091076  1.090279  1.090053  1.090163  0.00012   \n",
       "2023-07-03 19:45:00  1.091056  1.090290  1.090064  1.090174 -0.00023   \n",
       "2023-07-03 20:00:00  1.091061  1.090306  1.090077  1.090190  0.00024   \n",
       "2023-07-03 20:15:00  1.091072  1.090324  1.090092  1.090206  0.00006   \n",
       "2023-07-03 20:30:00  1.091095  1.090343  1.090108  1.090224  0.00015   \n",
       "\n",
       "                     future_gain  STOCHk_14_3_3  STOCHd_14_3_3  \n",
       "date                                                            \n",
       "2023-01-03 11:15:00      0.00053       4.157572       3.550690  \n",
       "2023-01-03 11:30:00     -0.00035       8.574807       5.260125  \n",
       "2023-01-03 11:45:00      0.00047      12.849630       8.527336  \n",
       "2023-01-03 12:00:00      0.00069      19.409084      13.611174  \n",
       "2023-01-03 12:15:00      0.00066      29.993749      20.750821  \n",
       "...                          ...            ...            ...  \n",
       "2023-07-03 19:30:00     -0.00023      20.216607      25.216498  \n",
       "2023-07-03 19:45:00      0.00024      16.059028      20.343106  \n",
       "2023-07-03 20:00:00      0.00006      20.720721      18.998785  \n",
       "2023-07-03 20:15:00      0.00015      27.922567      21.567439  \n",
       "2023-07-03 20:30:00      0.00006      50.180402      32.941230  \n",
       "\n",
       "[12322 rows x 14 columns]"
      ]
     },
     "execution_count": 11,
     "metadata": {},
     "output_type": "execute_result"
    }
   ],
   "source": [
    "df['RSI']=ta.rsi(df.close, length=15)\n",
    "df['EMAF']=ta.ema(df.close, length=20)\n",
    "df['EMAM']=ta.ema(df.close, length=100)\n",
    "df['EMAS']=ta.ema(df.close, length=150)\n",
    "df['EMAS2']=ta.ema(df.close, length=120)\n",
    "\n",
    "\n",
    "df['gain'] = df['close'].diff()\n",
    "df['future_gain'] = df['gain'].shift(-1)\n",
    "# df['future'] = df['close'].shift(1)\n",
    "df = pd.concat([df, ta.stoch(df.high, df.low, df.close)], axis=1)\n",
    "\n",
    "df.dropna(inplace=True)\n",
    "df"
   ]
  },
  {
   "cell_type": "markdown",
   "id": "176ebb37-ab89-45fa-a08d-eecdd82f7980",
   "metadata": {},
   "source": [
    "# Train Test split"
   ]
  },
  {
   "cell_type": "code",
   "execution_count": 12,
   "id": "102cec55-adb1-47a0-a312-dee3c6927a17",
   "metadata": {},
   "outputs": [],
   "source": [
    "# train, test = df[:int(len(df)*0.8)], df[int(len(df)*0.8):]\n",
    "train = df[df.index < df.index.min() + (df.index.max() - df.index.min()) * 0.8]\n",
    "test = df[df.index >= df.index.min() + (df.index.max() - df.index.min()) * 0.8]"
   ]
  },
  {
   "cell_type": "code",
   "execution_count": 13,
   "id": "8963a0f8-ca4e-4712-857a-d996645f2243",
   "metadata": {},
   "outputs": [
    {
     "data": {
      "text/plain": [
       "(9847, 2475)"
      ]
     },
     "execution_count": 13,
     "metadata": {},
     "output_type": "execute_result"
    }
   ],
   "source": [
    "len(train), len(test)"
   ]
  },
  {
   "cell_type": "code",
   "execution_count": 14,
   "id": "22a832bc-1fa0-4cd9-8789-9ddfb878cfe4",
   "metadata": {},
   "outputs": [],
   "source": [
    "target = 'future_gain'\n",
    "Y_train = train[target]\n",
    "X_train = train.drop(target, axis=1)\n",
    "\n",
    "Y_test = test[target]\n",
    "X_test = test.drop(target, axis=1)"
   ]
  },
  {
   "cell_type": "markdown",
   "id": "5a8941a7-19b6-4237-9809-900bfb787752",
   "metadata": {},
   "source": [
    "# Multivariable regression "
   ]
  },
  {
   "cell_type": "code",
   "execution_count": 15,
   "id": "59235cff-e18b-4cfb-a38f-c0cee014a430",
   "metadata": {},
   "outputs": [
    {
     "data": {
      "text/html": [
       "<style>#sk-container-id-1 {color: black;background-color: white;}#sk-container-id-1 pre{padding: 0;}#sk-container-id-1 div.sk-toggleable {background-color: white;}#sk-container-id-1 label.sk-toggleable__label {cursor: pointer;display: block;width: 100%;margin-bottom: 0;padding: 0.3em;box-sizing: border-box;text-align: center;}#sk-container-id-1 label.sk-toggleable__label-arrow:before {content: \"▸\";float: left;margin-right: 0.25em;color: #696969;}#sk-container-id-1 label.sk-toggleable__label-arrow:hover:before {color: black;}#sk-container-id-1 div.sk-estimator:hover label.sk-toggleable__label-arrow:before {color: black;}#sk-container-id-1 div.sk-toggleable__content {max-height: 0;max-width: 0;overflow: hidden;text-align: left;background-color: #f0f8ff;}#sk-container-id-1 div.sk-toggleable__content pre {margin: 0.2em;color: black;border-radius: 0.25em;background-color: #f0f8ff;}#sk-container-id-1 input.sk-toggleable__control:checked~div.sk-toggleable__content {max-height: 200px;max-width: 100%;overflow: auto;}#sk-container-id-1 input.sk-toggleable__control:checked~label.sk-toggleable__label-arrow:before {content: \"▾\";}#sk-container-id-1 div.sk-estimator input.sk-toggleable__control:checked~label.sk-toggleable__label {background-color: #d4ebff;}#sk-container-id-1 div.sk-label input.sk-toggleable__control:checked~label.sk-toggleable__label {background-color: #d4ebff;}#sk-container-id-1 input.sk-hidden--visually {border: 0;clip: rect(1px 1px 1px 1px);clip: rect(1px, 1px, 1px, 1px);height: 1px;margin: -1px;overflow: hidden;padding: 0;position: absolute;width: 1px;}#sk-container-id-1 div.sk-estimator {font-family: monospace;background-color: #f0f8ff;border: 1px dotted black;border-radius: 0.25em;box-sizing: border-box;margin-bottom: 0.5em;}#sk-container-id-1 div.sk-estimator:hover {background-color: #d4ebff;}#sk-container-id-1 div.sk-parallel-item::after {content: \"\";width: 100%;border-bottom: 1px solid gray;flex-grow: 1;}#sk-container-id-1 div.sk-label:hover label.sk-toggleable__label {background-color: #d4ebff;}#sk-container-id-1 div.sk-serial::before {content: \"\";position: absolute;border-left: 1px solid gray;box-sizing: border-box;top: 0;bottom: 0;left: 50%;z-index: 0;}#sk-container-id-1 div.sk-serial {display: flex;flex-direction: column;align-items: center;background-color: white;padding-right: 0.2em;padding-left: 0.2em;position: relative;}#sk-container-id-1 div.sk-item {position: relative;z-index: 1;}#sk-container-id-1 div.sk-parallel {display: flex;align-items: stretch;justify-content: center;background-color: white;position: relative;}#sk-container-id-1 div.sk-item::before, #sk-container-id-1 div.sk-parallel-item::before {content: \"\";position: absolute;border-left: 1px solid gray;box-sizing: border-box;top: 0;bottom: 0;left: 50%;z-index: -1;}#sk-container-id-1 div.sk-parallel-item {display: flex;flex-direction: column;z-index: 1;position: relative;background-color: white;}#sk-container-id-1 div.sk-parallel-item:first-child::after {align-self: flex-end;width: 50%;}#sk-container-id-1 div.sk-parallel-item:last-child::after {align-self: flex-start;width: 50%;}#sk-container-id-1 div.sk-parallel-item:only-child::after {width: 0;}#sk-container-id-1 div.sk-dashed-wrapped {border: 1px dashed gray;margin: 0 0.4em 0.5em 0.4em;box-sizing: border-box;padding-bottom: 0.4em;background-color: white;}#sk-container-id-1 div.sk-label label {font-family: monospace;font-weight: bold;display: inline-block;line-height: 1.2em;}#sk-container-id-1 div.sk-label-container {text-align: center;}#sk-container-id-1 div.sk-container {/* jupyter's `normalize.less` sets `[hidden] { display: none; }` but bootstrap.min.css set `[hidden] { display: none !important; }` so we also need the `!important` here to be able to override the default hidden behavior on the sphinx rendered scikit-learn.org. See: https://github.com/scikit-learn/scikit-learn/issues/21755 */display: inline-block !important;position: relative;}#sk-container-id-1 div.sk-text-repr-fallback {display: none;}</style><div id=\"sk-container-id-1\" class=\"sk-top-container\"><div class=\"sk-text-repr-fallback\"><pre>LinearRegression()</pre><b>In a Jupyter environment, please rerun this cell to show the HTML representation or trust the notebook. <br />On GitHub, the HTML representation is unable to render, please try loading this page with nbviewer.org.</b></div><div class=\"sk-container\" hidden><div class=\"sk-item\"><div class=\"sk-estimator sk-toggleable\"><input class=\"sk-toggleable__control sk-hidden--visually\" id=\"sk-estimator-id-1\" type=\"checkbox\" checked><label for=\"sk-estimator-id-1\" class=\"sk-toggleable__label sk-toggleable__label-arrow\">LinearRegression</label><div class=\"sk-toggleable__content\"><pre>LinearRegression()</pre></div></div></div></div></div>"
      ],
      "text/plain": [
       "LinearRegression()"
      ]
     },
     "execution_count": 15,
     "metadata": {},
     "output_type": "execute_result"
    }
   ],
   "source": [
    "from sklearn import linear_model\n",
    "\n",
    "model = linear_model.LinearRegression()\n",
    "model.fit(X_train, Y_train)"
   ]
  },
  {
   "cell_type": "code",
   "execution_count": 16,
   "id": "d4c094c6-e490-4dde-bc57-81004d4d3a92",
   "metadata": {},
   "outputs": [],
   "source": [
    "predictions = model.predict(X_test)"
   ]
  },
  {
   "cell_type": "code",
   "execution_count": 17,
   "id": "d0ecc8c9-e27d-436a-ab57-a1e852fae5b2",
   "metadata": {},
   "outputs": [
    {
     "data": {
      "image/png": "[encoded data removed]",
      "text/plain": [
       "<Figure size 640x480 with 1 Axes>"
      ]
     },
     "metadata": {},
     "output_type": "display_data"
    }
   ],
   "source": [
    "plt.plot(Y_test.values)\n",
    "plt.plot(predictions)\n",
    "plt.show()"
   ]
  },
  {
   "cell_type": "code",
   "execution_count": 18,
   "id": "47bab6da-4282-4bad-bd0b-5abbe0cd4b55",
   "metadata": {},
   "outputs": [
    {
     "data": {
      "text/plain": [
       "0.00044500996366680717"
      ]
     },
     "execution_count": 18,
     "metadata": {},
     "output_type": "execute_result"
    }
   ],
   "source": [
    "rms = mean_squared_error(Y_test.values, predictions, squared=False)\n",
    "rms"
   ]
  },
  {
   "cell_type": "code",
   "execution_count": 19,
   "id": "53339427-c8e2-4a6b-b057-a21f51716543",
   "metadata": {},
   "outputs": [
    {
     "data": {
      "text/plain": [
       "0.5183838383838384"
      ]
     },
     "execution_count": 19,
     "metadata": {},
     "output_type": "execute_result"
    }
   ],
   "source": [
    "trend_accuracy(Y_test.values, predictions)"
   ]
  },
  {
   "cell_type": "code",
   "execution_count": 20,
   "id": "930ed9e8-14bf-466f-9d57-cebdbc1a7351",
   "metadata": {},
   "outputs": [
    {
     "data": {
      "image/png": "[encoded data removed]",
      "text/plain": [
       "<Figure size 640x480 with 1 Axes>"
      ]
     },
     "metadata": {},
     "output_type": "display_data"
    }
   ],
   "source": [
    "importance = model.coef_\n",
    "\n",
    "plt.bar(model.feature_names_in_, importance )\n",
    "plt.xticks(rotation='vertical');"
   ]
  },
  {
   "cell_type": "markdown",
   "id": "1ff4336d-352c-4436-a197-603d853db405",
   "metadata": {},
   "source": [
    "# XGBoost"
   ]
  },
  {
   "cell_type": "code",
   "execution_count": 21,
   "id": "9def3f5c-a38c-463d-8b9c-a07c8daa3af3",
   "metadata": {},
   "outputs": [],
   "source": [
    "from numpy import loadtxt\n",
    "from xgboost import XGBRegressor"
   ]
  },
  {
   "cell_type": "code",
   "execution_count": 22,
   "id": "af4d5668-850f-462d-8007-6ca1e569a9ec",
   "metadata": {},
   "outputs": [
    {
     "data": {
      "text/html": [
       "<style>#sk-container-id-2 {color: black;background-color: white;}#sk-container-id-2 pre{padding: 0;}#sk-container-id-2 div.sk-toggleable {background-color: white;}#sk-container-id-2 label.sk-toggleable__label {cursor: pointer;display: block;width: 100%;margin-bottom: 0;padding: 0.3em;box-sizing: border-box;text-align: center;}#sk-container-id-2 label.sk-toggleable__label-arrow:before {content: \"▸\";float: left;margin-right: 0.25em;color: #696969;}#sk-container-id-2 label.sk-toggleable__label-arrow:hover:before {color: black;}#sk-container-id-2 div.sk-estimator:hover label.sk-toggleable__label-arrow:before {color: black;}#sk-container-id-2 div.sk-toggleable__content {max-height: 0;max-width: 0;overflow: hidden;text-align: left;background-color: #f0f8ff;}#sk-container-id-2 div.sk-toggleable__content pre {margin: 0.2em;color: black;border-radius: 0.25em;background-color: #f0f8ff;}#sk-container-id-2 input.sk-toggleable__control:checked~div.sk-toggleable__content {max-height: 200px;max-width: 100%;overflow: auto;}#sk-container-id-2 input.sk-toggleable__control:checked~label.sk-toggleable__label-arrow:before {content: \"▾\";}#sk-container-id-2 div.sk-estimator input.sk-toggleable__control:checked~label.sk-toggleable__label {background-color: #d4ebff;}#sk-container-id-2 div.sk-label input.sk-toggleable__control:checked~label.sk-toggleable__label {background-color: #d4ebff;}#sk-container-id-2 input.sk-hidden--visually {border: 0;clip: rect(1px 1px 1px 1px);clip: rect(1px, 1px, 1px, 1px);height: 1px;margin: -1px;overflow: hidden;padding: 0;position: absolute;width: 1px;}#sk-container-id-2 div.sk-estimator {font-family: monospace;background-color: #f0f8ff;border: 1px dotted black;border-radius: 0.25em;box-sizing: border-box;margin-bottom: 0.5em;}#sk-container-id-2 div.sk-estimator:hover {background-color: #d4ebff;}#sk-container-id-2 div.sk-parallel-item::after {content: \"\";width: 100%;border-bottom: 1px solid gray;flex-grow: 1;}#sk-container-id-2 div.sk-label:hover label.sk-toggleable__label {background-color: #d4ebff;}#sk-container-id-2 div.sk-serial::before {content: \"\";position: absolute;border-left: 1px solid gray;box-sizing: border-box;top: 0;bottom: 0;left: 50%;z-index: 0;}#sk-container-id-2 div.sk-serial {display: flex;flex-direction: column;align-items: center;background-color: white;padding-right: 0.2em;padding-left: 0.2em;position: relative;}#sk-container-id-2 div.sk-item {position: relative;z-index: 1;}#sk-container-id-2 div.sk-parallel {display: flex;align-items: stretch;justify-content: center;background-color: white;position: relative;}#sk-container-id-2 div.sk-item::before, #sk-container-id-2 div.sk-parallel-item::before {content: \"\";position: absolute;border-left: 1px solid gray;box-sizing: border-box;top: 0;bottom: 0;left: 50%;z-index: -1;}#sk-container-id-2 div.sk-parallel-item {display: flex;flex-direction: column;z-index: 1;position: relative;background-color: white;}#sk-container-id-2 div.sk-parallel-item:first-child::after {align-self: flex-end;width: 50%;}#sk-container-id-2 div.sk-parallel-item:last-child::after {align-self: flex-start;width: 50%;}#sk-container-id-2 div.sk-parallel-item:only-child::after {width: 0;}#sk-container-id-2 div.sk-dashed-wrapped {border: 1px dashed gray;margin: 0 0.4em 0.5em 0.4em;box-sizing: border-box;padding-bottom: 0.4em;background-color: white;}#sk-container-id-2 div.sk-label label {font-family: monospace;font-weight: bold;display: inline-block;line-height: 1.2em;}#sk-container-id-2 div.sk-label-container {text-align: center;}#sk-container-id-2 div.sk-container {/* jupyter's `normalize.less` sets `[hidden] { display: none; }` but bootstrap.min.css set `[hidden] { display: none !important; }` so we also need the `!important` here to be able to override the default hidden behavior on the sphinx rendered scikit-learn.org. See: https://github.com/scikit-learn/scikit-learn/issues/21755 */display: inline-block !important;position: relative;}#sk-container-id-2 div.sk-text-repr-fallback {display: none;}</style><div id=\"sk-container-id-2\" class=\"sk-top-container\"><div class=\"sk-text-repr-fallback\"><pre>XGBRegressor(base_score=None, booster=None, callbacks=None,\n",
       "             colsample_bylevel=None, colsample_bynode=None,\n",
       "             colsample_bytree=None, early_stopping_rounds=None,\n",
       "             enable_categorical=False, eval_metric=None, feature_types=None,\n",
       "             gamma=None, gpu_id=None, grow_policy=None, importance_type=None,\n",
       "             interaction_constraints=None, learning_rate=None, max_bin=None,\n",
       "             max_cat_threshold=None, max_cat_to_onehot=None,\n",
       "             max_delta_step=None, max_depth=None, max_leaves=None,\n",
       "             min_child_weight=None, missing=nan, monotone_constraints=None,\n",
       "             n_estimators=100, n_jobs=None, num_parallel_tree=None,\n",
       "             predictor=None, random_state=None, ...)</pre><b>In a Jupyter environment, please rerun this cell to show the HTML representation or trust the notebook. <br />On GitHub, the HTML representation is unable to render, please try loading this page with nbviewer.org.</b></div><div class=\"sk-container\" hidden><div class=\"sk-item\"><div class=\"sk-estimator sk-toggleable\"><input class=\"sk-toggleable__control sk-hidden--visually\" id=\"sk-estimator-id-2\" type=\"checkbox\" checked><label for=\"sk-estimator-id-2\" class=\"sk-toggleable__label sk-toggleable__label-arrow\">XGBRegressor</label><div class=\"sk-toggleable__content\"><pre>XGBRegressor(base_score=None, booster=None, callbacks=None,\n",
       "             colsample_bylevel=None, colsample_bynode=None,\n",
       "             colsample_bytree=None, early_stopping_rounds=None,\n",
       "             enable_categorical=False, eval_metric=None, feature_types=None,\n",
       "             gamma=None, gpu_id=None, grow_policy=None, importance_type=None,\n",
       "             interaction_constraints=None, learning_rate=None, max_bin=None,\n",
       "             max_cat_threshold=None, max_cat_to_onehot=None,\n",
       "             max_delta_step=None, max_depth=None, max_leaves=None,\n",
       "             min_child_weight=None, missing=nan, monotone_constraints=None,\n",
       "             n_estimators=100, n_jobs=None, num_parallel_tree=None,\n",
       "             predictor=None, random_state=None, ...)</pre></div></div></div></div></div>"
      ],
      "text/plain": [
       "XGBRegressor(base_score=None, booster=None, callbacks=None,\n",
       "             colsample_bylevel=None, colsample_bynode=None,\n",
       "             colsample_bytree=None, early_stopping_rounds=None,\n",
       "             enable_categorical=False, eval_metric=None, feature_types=None,\n",
       "             gamma=None, gpu_id=None, grow_policy=None, importance_type=None,\n",
       "             interaction_constraints=None, learning_rate=None, max_bin=None,\n",
       "             max_cat_threshold=None, max_cat_to_onehot=None,\n",
       "             max_delta_step=None, max_depth=None, max_leaves=None,\n",
       "             min_child_weight=None, missing=nan, monotone_constraints=None,\n",
       "             n_estimators=100, n_jobs=None, num_parallel_tree=None,\n",
       "             predictor=None, random_state=None, ...)"
      ]
     },
     "execution_count": 22,
     "metadata": {},
     "output_type": "execute_result"
    }
   ],
   "source": [
    "model = XGBRegressor()\n",
    "\n",
    "model.fit(X_train, Y_train)"
   ]
  },
  {
   "cell_type": "code",
   "execution_count": 23,
   "id": "cf5b704e-b2b1-46b4-9513-132e83cc3d6a",
   "metadata": {},
   "outputs": [],
   "source": [
    "predictions = model.predict(X_test)"
   ]
  },
  {
   "cell_type": "code",
   "execution_count": 24,
   "id": "5a85333b-8227-4bdf-b627-8425d0aa08c7",
   "metadata": {},
   "outputs": [
    {
     "data": {
      "image/png": "[encoded data removed]",
      "text/plain": [
       "<Figure size 640x480 with 1 Axes>"
      ]
     },
     "metadata": {},
     "output_type": "display_data"
    }
   ],
   "source": [
    "plt.plot(Y_test.values)\n",
    "plt.plot(predictions)\n",
    "plt.show()"
   ]
  },
  {
   "cell_type": "code",
   "execution_count": 25,
   "id": "de67173a-ab64-43c2-8f28-7b9d298338eb",
   "metadata": {},
   "outputs": [
    {
     "data": {
      "text/plain": [
       "0.0004485219084186039"
      ]
     },
     "execution_count": 25,
     "metadata": {},
     "output_type": "execute_result"
    }
   ],
   "source": [
    "rms = mean_squared_error(Y_test.values, predictions, squared=False)\n",
    "rms"
   ]
  },
  {
   "cell_type": "code",
   "execution_count": 26,
   "id": "70e32a5c-1a7e-4292-962a-d0e441d80701",
   "metadata": {},
   "outputs": [
    {
     "data": {
      "text/plain": [
       "0.49373737373737375"
      ]
     },
     "execution_count": 26,
     "metadata": {},
     "output_type": "execute_result"
    }
   ],
   "source": [
    "trend_accuracy(Y_test.values, predictions)"
   ]
  },
  {
   "cell_type": "code",
   "execution_count": 27,
   "id": "5f9d236c-5f8d-4664-b702-c336583c24f1",
   "metadata": {},
   "outputs": [
    {
     "data": {
      "image/png": "[encoded data removed]",
      "text/plain": [
       "<Figure size 640x480 with 1 Axes>"
      ]
     },
     "metadata": {},
     "output_type": "display_data"
    }
   ],
   "source": [
    "plt.bar(X_train.columns, model.feature_importances_)\n",
    "plt.xticks(rotation='vertical')\n",
    "plt.show()"
   ]
  },
  {
   "cell_type": "markdown",
   "id": "9a7ba418-e289-474b-bb3f-6f5c8bd07f05",
   "metadata": {},
   "source": [
    "# Catboost"
   ]
  },
  {
   "cell_type": "code",
   "execution_count": 28,
   "id": "0c89b47b-f1a4-4da7-b016-e196bdadcdcc",
   "metadata": {},
   "outputs": [
    {
     "name": "stdout",
     "output_type": "stream",
     "text": [
      "0:\tlearn: 0.0005668\ttotal: 46.8ms\tremaining: 187ms\n",
      "1:\tlearn: 0.0005664\ttotal: 48.5ms\tremaining: 72.8ms\n",
      "2:\tlearn: 0.0005650\ttotal: 50ms\tremaining: 33.3ms\n",
      "3:\tlearn: 0.0005644\ttotal: 51.6ms\tremaining: 12.9ms\n",
      "4:\tlearn: 0.0005641\ttotal: 53.1ms\tremaining: 0us\n"
     ]
    }
   ],
   "source": [
    "from catboost import CatBoostRegressor\n",
    "\n",
    "model = CatBoostRegressor(iterations=5,\n",
    "                          learning_rate=1,\n",
    "                          depth=2)\n",
    "\n",
    "model.fit(X_train, Y_train)\n",
    "\n",
    "predictions = model.predict(X_test)"
   ]
  },
  {
   "cell_type": "code",
   "execution_count": 29,
   "id": "f04efe85-d407-416e-bc30-fe53ba6c022e",
   "metadata": {},
   "outputs": [
    {
     "data": {
      "image/png": "[encoded data removed]",
      "text/plain": [
       "<Figure size 640x480 with 1 Axes>"
      ]
     },
     "metadata": {},
     "output_type": "display_data"
    }
   ],
   "source": [
    "plt.plot(Y_test.values)\n",
    "plt.plot(predictions)\n",
    "plt.show()"
   ]
  },
  {
   "cell_type": "code",
   "execution_count": 30,
   "id": "7d76d3bb-0b12-4352-9c80-747a1053e2ec",
   "metadata": {},
   "outputs": [
    {
     "data": {
      "text/plain": [
       "0.0004445114263589209"
      ]
     },
     "execution_count": 30,
     "metadata": {},
     "output_type": "execute_result"
    }
   ],
   "source": [
    "rms = mean_squared_error(Y_test.values, predictions, squared=False)\n",
    "rms"
   ]
  },
  {
   "cell_type": "code",
   "execution_count": 31,
   "id": "d5f98240-07b4-4654-9d8a-35e05ebb5a45",
   "metadata": {},
   "outputs": [
    {
     "data": {
      "text/plain": [
       "0.5022222222222222"
      ]
     },
     "execution_count": 31,
     "metadata": {},
     "output_type": "execute_result"
    }
   ],
   "source": [
    "trend_accuracy(Y_test, predictions)"
   ]
  },
  {
   "cell_type": "code",
   "execution_count": 32,
   "id": "5fa51c3d-cb8e-4a88-a545-92e0418e1b04",
   "metadata": {},
   "outputs": [
    {
     "data": {
      "image/png": "[encoded data removed]",
      "text/plain": [
       "<Figure size 640x480 with 1 Axes>"
      ]
     },
     "metadata": {},
     "output_type": "display_data"
    }
   ],
   "source": [
    "plt.bar(X_train.columns, model.feature_importances_)\n",
    "plt.xticks(rotation='vertical')\n",
    "plt.show()"
   ]
  },
  {
   "cell_type": "markdown",
   "id": "3f3b290c-ddcc-41d3-8eca-d68a5b932f27",
   "metadata": {},
   "source": [
    "# LSTM"
   ]
  },
  {
   "cell_type": "code",
   "execution_count": 45,
   "id": "8cb23e56-ad87-4965-9147-3ac924a24358",
   "metadata": {},
   "outputs": [],
   "source": [
    "data_set = df.iloc[:, 0:len(df.columns)]#.values"
   ]
  },
  {
   "cell_type": "code",
   "execution_count": 46,
   "id": "b0f2efc0-dee1-40f0-b2d0-bfc97c1c433b",
   "metadata": {},
   "outputs": [],
   "source": [
    "pd.set_option('display.max_columns', None)"
   ]
  },
  {
   "cell_type": "code",
   "execution_count": 47,
   "id": "d99658a5-29d6-4d04-ae12-cd55cd7399ad",
   "metadata": {},
   "outputs": [
    {
     "data": {
      "text/html": [
       "<div>\n",
       "<style scoped>\n",
       "    .dataframe tbody tr th:only-of-type {\n",
       "        vertical-align: middle;\n",
       "    }\n",
       "\n",
       "    .dataframe tbody tr th {\n",
       "        vertical-align: top;\n",
       "    }\n",
       "\n",
       "    .dataframe thead th {\n",
       "        text-align: right;\n",
       "    }\n",
       "</style>\n",
       "<table border=\"1\" class=\"dataframe\">\n",
       "  <thead>\n",
       "    <tr style=\"text-align: right;\">\n",
       "      <th></th>\n",
       "      <th>open</th>\n",
       "      <th>close</th>\n",
       "      <th>high</th>\n",
       "      <th>low</th>\n",
       "      <th>volume</th>\n",
       "      <th>RSI</th>\n",
       "      <th>EMAF</th>\n",
       "      <th>EMAM</th>\n",
       "      <th>EMAS</th>\n",
       "      <th>EMAS2</th>\n",
       "      <th>gain</th>\n",
       "      <th>future_gain</th>\n",
       "      <th>STOCHk_14_3_3</th>\n",
       "      <th>STOCHd_14_3_3</th>\n",
       "    </tr>\n",
       "    <tr>\n",
       "      <th>date</th>\n",
       "      <th></th>\n",
       "      <th></th>\n",
       "      <th></th>\n",
       "      <th></th>\n",
       "      <th></th>\n",
       "      <th></th>\n",
       "      <th></th>\n",
       "      <th></th>\n",
       "      <th></th>\n",
       "      <th></th>\n",
       "      <th></th>\n",
       "      <th></th>\n",
       "      <th></th>\n",
       "      <th></th>\n",
       "    </tr>\n",
       "  </thead>\n",
       "  <tbody>\n",
       "    <tr>\n",
       "      <th>2023-01-03 11:15:00</th>\n",
       "      <td>1.05270</td>\n",
       "      <td>1.05261</td>\n",
       "      <td>1.05291</td>\n",
       "      <td>1.05191</td>\n",
       "      <td>12215.0</td>\n",
       "      <td>15.644104</td>\n",
       "      <td>1.057125</td>\n",
       "      <td>1.064082</td>\n",
       "      <td>1.066306</td>\n",
       "      <td>1.064679</td>\n",
       "      <td>-0.00010</td>\n",
       "      <td>0.00053</td>\n",
       "      <td>4.157572</td>\n",
       "      <td>3.550690</td>\n",
       "    </tr>\n",
       "    <tr>\n",
       "      <th>2023-01-03 11:30:00</th>\n",
       "      <td>1.05260</td>\n",
       "      <td>1.05314</td>\n",
       "      <td>1.05357</td>\n",
       "      <td>1.05251</td>\n",
       "      <td>10121.0</td>\n",
       "      <td>20.275578</td>\n",
       "      <td>1.056745</td>\n",
       "      <td>1.063865</td>\n",
       "      <td>1.066132</td>\n",
       "      <td>1.064489</td>\n",
       "      <td>0.00053</td>\n",
       "      <td>-0.00035</td>\n",
       "      <td>8.574807</td>\n",
       "      <td>5.260125</td>\n",
       "    </tr>\n",
       "    <tr>\n",
       "      <th>2023-01-03 11:45:00</th>\n",
       "      <td>1.05314</td>\n",
       "      <td>1.05279</td>\n",
       "      <td>1.05349</td>\n",
       "      <td>1.05263</td>\n",
       "      <td>11677.0</td>\n",
       "      <td>19.517384</td>\n",
       "      <td>1.056368</td>\n",
       "      <td>1.063646</td>\n",
       "      <td>1.065955</td>\n",
       "      <td>1.064295</td>\n",
       "      <td>-0.00035</td>\n",
       "      <td>0.00047</td>\n",
       "      <td>12.849630</td>\n",
       "      <td>8.527336</td>\n",
       "    </tr>\n",
       "    <tr>\n",
       "      <th>2023-01-03 12:00:00</th>\n",
       "      <td>1.05280</td>\n",
       "      <td>1.05326</td>\n",
       "      <td>1.05330</td>\n",
       "      <td>1.05237</td>\n",
       "      <td>12848.0</td>\n",
       "      <td>23.626454</td>\n",
       "      <td>1.056072</td>\n",
       "      <td>1.063440</td>\n",
       "      <td>1.065787</td>\n",
       "      <td>1.064113</td>\n",
       "      <td>0.00047</td>\n",
       "      <td>0.00069</td>\n",
       "      <td>19.409084</td>\n",
       "      <td>13.611174</td>\n",
       "    </tr>\n",
       "    <tr>\n",
       "      <th>2023-01-03 12:15:00</th>\n",
       "      <td>1.05324</td>\n",
       "      <td>1.05395</td>\n",
       "      <td>1.05397</td>\n",
       "      <td>1.05304</td>\n",
       "      <td>11486.0</td>\n",
       "      <td>29.303880</td>\n",
       "      <td>1.055870</td>\n",
       "      <td>1.063252</td>\n",
       "      <td>1.065630</td>\n",
       "      <td>1.063945</td>\n",
       "      <td>0.00069</td>\n",
       "      <td>0.00066</td>\n",
       "      <td>29.993749</td>\n",
       "      <td>20.750821</td>\n",
       "    </tr>\n",
       "    <tr>\n",
       "      <th>...</th>\n",
       "      <td>...</td>\n",
       "      <td>...</td>\n",
       "      <td>...</td>\n",
       "      <td>...</td>\n",
       "      <td>...</td>\n",
       "      <td>...</td>\n",
       "      <td>...</td>\n",
       "      <td>...</td>\n",
       "      <td>...</td>\n",
       "      <td>...</td>\n",
       "      <td>...</td>\n",
       "      <td>...</td>\n",
       "      <td>...</td>\n",
       "      <td>...</td>\n",
       "    </tr>\n",
       "    <tr>\n",
       "      <th>2023-07-03 19:30:00</th>\n",
       "      <td>1.09099</td>\n",
       "      <td>1.09110</td>\n",
       "      <td>1.09112</td>\n",
       "      <td>1.09099</td>\n",
       "      <td>941.0</td>\n",
       "      <td>52.322763</td>\n",
       "      <td>1.091076</td>\n",
       "      <td>1.090279</td>\n",
       "      <td>1.090053</td>\n",
       "      <td>1.090163</td>\n",
       "      <td>0.00012</td>\n",
       "      <td>-0.00023</td>\n",
       "      <td>20.216607</td>\n",
       "      <td>25.216498</td>\n",
       "    </tr>\n",
       "    <tr>\n",
       "      <th>2023-07-03 19:45:00</th>\n",
       "      <td>1.09110</td>\n",
       "      <td>1.09087</td>\n",
       "      <td>1.09110</td>\n",
       "      <td>1.09087</td>\n",
       "      <td>1710.0</td>\n",
       "      <td>48.816506</td>\n",
       "      <td>1.091056</td>\n",
       "      <td>1.090290</td>\n",
       "      <td>1.090064</td>\n",
       "      <td>1.090174</td>\n",
       "      <td>-0.00023</td>\n",
       "      <td>0.00024</td>\n",
       "      <td>16.059028</td>\n",
       "      <td>20.343106</td>\n",
       "    </tr>\n",
       "    <tr>\n",
       "      <th>2023-07-03 20:00:00</th>\n",
       "      <td>1.09086</td>\n",
       "      <td>1.09111</td>\n",
       "      <td>1.09115</td>\n",
       "      <td>1.09084</td>\n",
       "      <td>1885.0</td>\n",
       "      <td>52.383919</td>\n",
       "      <td>1.091061</td>\n",
       "      <td>1.090306</td>\n",
       "      <td>1.090077</td>\n",
       "      <td>1.090190</td>\n",
       "      <td>0.00024</td>\n",
       "      <td>0.00006</td>\n",
       "      <td>20.720721</td>\n",
       "      <td>18.998785</td>\n",
       "    </tr>\n",
       "    <tr>\n",
       "      <th>2023-07-03 20:15:00</th>\n",
       "      <td>1.09112</td>\n",
       "      <td>1.09117</td>\n",
       "      <td>1.09117</td>\n",
       "      <td>1.09104</td>\n",
       "      <td>1078.0</td>\n",
       "      <td>53.256583</td>\n",
       "      <td>1.091072</td>\n",
       "      <td>1.090324</td>\n",
       "      <td>1.090092</td>\n",
       "      <td>1.090206</td>\n",
       "      <td>0.00006</td>\n",
       "      <td>0.00015</td>\n",
       "      <td>27.922567</td>\n",
       "      <td>21.567439</td>\n",
       "    </tr>\n",
       "    <tr>\n",
       "      <th>2023-07-03 20:30:00</th>\n",
       "      <td>1.09116</td>\n",
       "      <td>1.09132</td>\n",
       "      <td>1.09133</td>\n",
       "      <td>1.09112</td>\n",
       "      <td>814.0</td>\n",
       "      <td>55.443863</td>\n",
       "      <td>1.091095</td>\n",
       "      <td>1.090343</td>\n",
       "      <td>1.090108</td>\n",
       "      <td>1.090224</td>\n",
       "      <td>0.00015</td>\n",
       "      <td>0.00006</td>\n",
       "      <td>50.180402</td>\n",
       "      <td>32.941230</td>\n",
       "    </tr>\n",
       "  </tbody>\n",
       "</table>\n",
       "<p>12322 rows × 14 columns</p>\n",
       "</div>"
      ],
      "text/plain": [
       "                        open    close     high      low   volume        RSI  \\\n",
       "date                                                                          \n",
       "2023-01-03 11:15:00  1.05270  1.05261  1.05291  1.05191  12215.0  15.644104   \n",
       "2023-01-03 11:30:00  1.05260  1.05314  1.05357  1.05251  10121.0  20.275578   \n",
       "2023-01-03 11:45:00  1.05314  1.05279  1.05349  1.05263  11677.0  19.517384   \n",
       "2023-01-03 12:00:00  1.05280  1.05326  1.05330  1.05237  12848.0  23.626454   \n",
       "2023-01-03 12:15:00  1.05324  1.05395  1.05397  1.05304  11486.0  29.303880   \n",
       "...                      ...      ...      ...      ...      ...        ...   \n",
       "2023-07-03 19:30:00  1.09099  1.09110  1.09112  1.09099    941.0  52.322763   \n",
       "2023-07-03 19:45:00  1.09110  1.09087  1.09110  1.09087   1710.0  48.816506   \n",
       "2023-07-03 20:00:00  1.09086  1.09111  1.09115  1.09084   1885.0  52.383919   \n",
       "2023-07-03 20:15:00  1.09112  1.09117  1.09117  1.09104   1078.0  53.256583   \n",
       "2023-07-03 20:30:00  1.09116  1.09132  1.09133  1.09112    814.0  55.443863   \n",
       "\n",
       "                         EMAF      EMAM      EMAS     EMAS2     gain  \\\n",
       "date                                                                   \n",
       "2023-01-03 11:15:00  1.057125  1.064082  1.066306  1.064679 -0.00010   \n",
       "2023-01-03 11:30:00  1.056745  1.063865  1.066132  1.064489  0.00053   \n",
       "2023-01-03 11:45:00  1.056368  1.063646  1.065955  1.064295 -0.00035   \n",
       "2023-01-03 12:00:00  1.056072  1.063440  1.065787  1.064113  0.00047   \n",
       "2023-01-03 12:15:00  1.055870  1.063252  1.065630  1.063945  0.00069   \n",
       "...                       ...       ...       ...       ...      ...   \n",
       "2023-07-03 19:30:00  1.091076  1.090279  1.090053  1.090163  0.00012   \n",
       "2023-07-03 19:45:00  1.091056  1.090290  1.090064  1.090174 -0.00023   \n",
       "2023-07-03 20:00:00  1.091061  1.090306  1.090077  1.090190  0.00024   \n",
       "2023-07-03 20:15:00  1.091072  1.090324  1.090092  1.090206  0.00006   \n",
       "2023-07-03 20:30:00  1.091095  1.090343  1.090108  1.090224  0.00015   \n",
       "\n",
       "                     future_gain  STOCHk_14_3_3  STOCHd_14_3_3  \n",
       "date                                                            \n",
       "2023-01-03 11:15:00      0.00053       4.157572       3.550690  \n",
       "2023-01-03 11:30:00     -0.00035       8.574807       5.260125  \n",
       "2023-01-03 11:45:00      0.00047      12.849630       8.527336  \n",
       "2023-01-03 12:00:00      0.00069      19.409084      13.611174  \n",
       "2023-01-03 12:15:00      0.00066      29.993749      20.750821  \n",
       "...                          ...            ...            ...  \n",
       "2023-07-03 19:30:00     -0.00023      20.216607      25.216498  \n",
       "2023-07-03 19:45:00      0.00024      16.059028      20.343106  \n",
       "2023-07-03 20:00:00      0.00006      20.720721      18.998785  \n",
       "2023-07-03 20:15:00      0.00015      27.922567      21.567439  \n",
       "2023-07-03 20:30:00      0.00006      50.180402      32.941230  \n",
       "\n",
       "[12322 rows x 14 columns]"
      ]
     },
     "execution_count": 47,
     "metadata": {},
     "output_type": "execute_result"
    }
   ],
   "source": [
    "data_set"
   ]
  },
  {
   "cell_type": "markdown",
   "id": "2db7952a-7ba4-496e-8f49-8c201424d884",
   "metadata": {},
   "source": [
    "# Preparation for training"
   ]
  },
  {
   "cell_type": "markdown",
   "id": "111b554e-a0ca-4961-8cf7-667b4cd69f08",
   "metadata": {},
   "source": [
    "### MinMax Scaling"
   ]
  },
  {
   "cell_type": "code",
   "execution_count": 51,
   "id": "b9d38e4c",
   "metadata": {},
   "outputs": [
    {
     "name": "stdout",
     "output_type": "stream",
     "text": [
      "[[ 1.05270000e+00  1.05261000e+00  1.05291000e+00 ...  5.30000000e-04\n",
      "   4.15757241e+00  3.55068983e+00]\n",
      " [ 1.05260000e+00  1.05314000e+00  1.05357000e+00 ... -3.50000000e-04\n",
      "   8.57480727e+00  5.26012536e+00]\n",
      " [ 1.05314000e+00  1.05279000e+00  1.05349000e+00 ...  4.70000000e-04\n",
      "   1.28496297e+01  8.52733647e+00]\n",
      " ...\n",
      " [ 1.09086000e+00  1.09111000e+00  1.09115000e+00 ...  6.00000000e-05\n",
      "   2.07207207e+01  1.89987852e+01]\n",
      " [ 1.09112000e+00  1.09117000e+00  1.09117000e+00 ...  1.50000000e-04\n",
      "   2.79225672e+01  2.15674386e+01]\n",
      " [ 1.09116000e+00  1.09132000e+00  1.09133000e+00 ...  6.00000000e-05\n",
      "   5.01804019e+01  3.29412299e+01]]\n"
     ]
    }
   ],
   "source": [
    "# sc = MinMaxScaler(feature_range=(0,1))\n",
    "# data_set_scaled = sc.fit_transform(data_set)\n",
    "data_set_scaled = np.array(data_set)\n",
    "print(data_set_scaled)"
   ]
  },
  {
   "cell_type": "markdown",
   "id": "a2556eb9-a931-43f5-ae08-57152df6c4ad",
   "metadata": {},
   "source": [
    "### BackCandles parameter"
   ]
  },
  {
   "cell_type": "code",
   "execution_count": 52,
   "id": "67a18537-f9ac-4c5a-9753-8bc69aa48754",
   "metadata": {},
   "outputs": [],
   "source": [
    "backcandles = 10 "
   ]
  },
  {
   "cell_type": "code",
   "execution_count": 53,
   "id": "99ca74fd",
   "metadata": {},
   "outputs": [
    {
     "name": "stdout",
     "output_type": "stream",
     "text": [
      "12322\n"
     ]
    }
   ],
   "source": [
    "X = []\n",
    "print(data_set_scaled.shape[0])\n",
    "for j in range(data_set_scaled.shape[1] - 3):\n",
    "    X.append([])\n",
    "    for i in range(backcandles, data_set_scaled.shape[0]):#backcandles+2\n",
    "        X[j].append(data_set_scaled[i-backcandles:i, j])\n",
    "\n",
    "\n",
    "X=np.moveaxis(X, [0], [2])\n",
    "\n",
    "X, yi =np.array(X), np.array(data_set_scaled[backcandles:,-3])\n",
    "y=np.reshape(yi,(len(yi),1))"
   ]
  },
  {
   "cell_type": "markdown",
   "id": "c74d773d-17a5-4fc1-b4b4-92d3f38e6556",
   "metadata": {},
   "source": [
    "# Train Test Split"
   ]
  },
  {
   "cell_type": "code",
   "execution_count": 54,
   "id": "a2a87918",
   "metadata": {},
   "outputs": [
    {
     "name": "stdout",
     "output_type": "stream",
     "text": [
      "Train length: 9849\n",
      "Test length: 2463\n",
      "Ratio: 0.7999512670565302\n"
     ]
    }
   ],
   "source": [
    "splitlimit = int(len(X)*0.8)\n",
    "\n",
    "X_train, X_test = X[:splitlimit], X[splitlimit:]\n",
    "y_train, y_test = y[:splitlimit], y[splitlimit:]\n",
    "print(\"Train length: {}\\nTest length: {}\\nRatio: {}\".format(X_train.shape[0], X_test.shape[0], X_train.shape[0]/(X_train.shape[0] + X_test.shape[0])))"
   ]
  },
  {
   "cell_type": "markdown",
   "id": "1da44ba7-8522-44ba-8d2c-847a6d689493",
   "metadata": {},
   "source": [
    "# Model"
   ]
  },
  {
   "cell_type": "code",
   "execution_count": 55,
   "id": "9867161a",
   "metadata": {
    "tags": []
   },
   "outputs": [
    {
     "name": "stdout",
     "output_type": "stream",
     "text": [
      "Epoch 1/30\n"
     ]
    },
    {
     "name": "stderr",
     "output_type": "stream",
     "text": [
      "2023-07-03 23:01:15.804065: I tensorflow/core/common_runtime/executor.cc:1197] [/device:CPU:0] (DEBUG INFO) Executor start aborting (this does not indicate an error and you can ignore this message): INVALID_ARGUMENT: You must feed a value for placeholder tensor 'gradients/split_2_grad/concat/split_2/split_dim' with dtype int32\n",
      "\t [[{{node gradients/split_2_grad/concat/split_2/split_dim}}]]\n",
      "2023-07-03 23:01:15.805011: I tensorflow/core/common_runtime/executor.cc:1197] [/device:CPU:0] (DEBUG INFO) Executor start aborting (this does not indicate an error and you can ignore this message): INVALID_ARGUMENT: You must feed a value for placeholder tensor 'gradients/split_grad/concat/split/split_dim' with dtype int32\n",
      "\t [[{{node gradients/split_grad/concat/split/split_dim}}]]\n",
      "2023-07-03 23:01:15.805621: I tensorflow/core/common_runtime/executor.cc:1197] [/device:CPU:0] (DEBUG INFO) Executor start aborting (this does not indicate an error and you can ignore this message): INVALID_ARGUMENT: You must feed a value for placeholder tensor 'gradients/split_1_grad/concat/split_1/split_dim' with dtype int32\n",
      "\t [[{{node gradients/split_1_grad/concat/split_1/split_dim}}]]\n",
      "2023-07-03 23:01:15.961344: I tensorflow/core/common_runtime/executor.cc:1197] [/device:CPU:0] (DEBUG INFO) Executor start aborting (this does not indicate an error and you can ignore this message): INVALID_ARGUMENT: You must feed a value for placeholder tensor 'gradients/split_2_grad/concat/split_2/split_dim' with dtype int32\n",
      "\t [[{{node gradients/split_2_grad/concat/split_2/split_dim}}]]\n",
      "2023-07-03 23:01:15.962177: I tensorflow/core/common_runtime/executor.cc:1197] [/device:CPU:0] (DEBUG INFO) Executor start aborting (this does not indicate an error and you can ignore this message): INVALID_ARGUMENT: You must feed a value for placeholder tensor 'gradients/split_grad/concat/split/split_dim' with dtype int32\n",
      "\t [[{{node gradients/split_grad/concat/split/split_dim}}]]\n",
      "2023-07-03 23:01:15.963546: I tensorflow/core/common_runtime/executor.cc:1197] [/device:CPU:0] (DEBUG INFO) Executor start aborting (this does not indicate an error and you can ignore this message): INVALID_ARGUMENT: You must feed a value for placeholder tensor 'gradients/split_1_grad/concat/split_1/split_dim' with dtype int32\n",
      "\t [[{{node gradients/split_1_grad/concat/split_1/split_dim}}]]\n",
      "2023-07-03 23:01:16.427151: I tensorflow/core/common_runtime/executor.cc:1197] [/device:CPU:0] (DEBUG INFO) Executor start aborting (this does not indicate an error and you can ignore this message): INVALID_ARGUMENT: You must feed a value for placeholder tensor 'gradients/split_2_grad/concat/split_2/split_dim' with dtype int32\n",
      "\t [[{{node gradients/split_2_grad/concat/split_2/split_dim}}]]\n",
      "2023-07-03 23:01:16.428402: I tensorflow/core/common_runtime/executor.cc:1197] [/device:CPU:0] (DEBUG INFO) Executor start aborting (this does not indicate an error and you can ignore this message): INVALID_ARGUMENT: You must feed a value for placeholder tensor 'gradients/split_grad/concat/split/split_dim' with dtype int32\n",
      "\t [[{{node gradients/split_grad/concat/split/split_dim}}]]\n",
      "2023-07-03 23:01:16.429125: I tensorflow/core/common_runtime/executor.cc:1197] [/device:CPU:0] (DEBUG INFO) Executor start aborting (this does not indicate an error and you can ignore this message): INVALID_ARGUMENT: You must feed a value for placeholder tensor 'gradients/split_1_grad/concat/split_1/split_dim' with dtype int32\n",
      "\t [[{{node gradients/split_1_grad/concat/split_1/split_dim}}]]\n"
     ]
    },
    {
     "name": "stdout",
     "output_type": "stream",
     "text": [
      "584/591 [============================>.] - ETA: 0s - loss: 3.2325e-04"
     ]
    },
    {
     "name": "stderr",
     "output_type": "stream",
     "text": [
      "2023-07-03 23:01:19.153483: I tensorflow/core/common_runtime/executor.cc:1197] [/device:CPU:0] (DEBUG INFO) Executor start aborting (this does not indicate an error and you can ignore this message): INVALID_ARGUMENT: You must feed a value for placeholder tensor 'gradients/split_2_grad/concat/split_2/split_dim' with dtype int32\n",
      "\t [[{{node gradients/split_2_grad/concat/split_2/split_dim}}]]\n",
      "2023-07-03 23:01:19.154547: I tensorflow/core/common_runtime/executor.cc:1197] [/device:CPU:0] (DEBUG INFO) Executor start aborting (this does not indicate an error and you can ignore this message): INVALID_ARGUMENT: You must feed a value for placeholder tensor 'gradients/split_grad/concat/split/split_dim' with dtype int32\n",
      "\t [[{{node gradients/split_grad/concat/split/split_dim}}]]\n",
      "2023-07-03 23:01:19.155291: I tensorflow/core/common_runtime/executor.cc:1197] [/device:CPU:0] (DEBUG INFO) Executor start aborting (this does not indicate an error and you can ignore this message): INVALID_ARGUMENT: You must feed a value for placeholder tensor 'gradients/split_1_grad/concat/split_1/split_dim' with dtype int32\n",
      "\t [[{{node gradients/split_1_grad/concat/split_1/split_dim}}]]\n"
     ]
    },
    {
     "name": "stdout",
     "output_type": "stream",
     "text": [
      "591/591 [==============================] - 4s 4ms/step - loss: 3.1949e-04 - val_loss: 2.6833e-06\n",
      "Epoch 2/30\n",
      "591/591 [==============================] - 2s 4ms/step - loss: 3.7404e-06 - val_loss: 2.2415e-05\n",
      "Epoch 3/30\n",
      "591/591 [==============================] - 2s 4ms/step - loss: 5.5529e-06 - val_loss: 7.8675e-06\n",
      "Epoch 4/30\n",
      "591/591 [==============================] - 2s 4ms/step - loss: 3.0903e-06 - val_loss: 1.2999e-06\n",
      "Epoch 5/30\n",
      "591/591 [==============================] - 2s 4ms/step - loss: 6.2659e-06 - val_loss: 3.4887e-05\n",
      "Epoch 6/30\n",
      "591/591 [==============================] - 2s 4ms/step - loss: 1.0927e-05 - val_loss: 1.2932e-06\n",
      "Epoch 7/30\n",
      "591/591 [==============================] - 2s 4ms/step - loss: 1.7138e-06 - val_loss: 1.2139e-06\n",
      "Epoch 8/30\n",
      "591/591 [==============================] - 2s 4ms/step - loss: 2.6227e-06 - val_loss: 1.9255e-06\n",
      "Epoch 9/30\n",
      "591/591 [==============================] - 2s 4ms/step - loss: 1.7751e-06 - val_loss: 5.8612e-07\n",
      "Epoch 10/30\n",
      "591/591 [==============================] - 2s 4ms/step - loss: 2.9669e-06 - val_loss: 1.7824e-06\n",
      "Epoch 11/30\n",
      "591/591 [==============================] - 2s 4ms/step - loss: 2.1181e-06 - val_loss: 1.0015e-06\n",
      "Epoch 12/30\n",
      "591/591 [==============================] - 2s 4ms/step - loss: 2.5938e-06 - val_loss: 5.4671e-07\n",
      "Epoch 13/30\n",
      "591/591 [==============================] - 2s 4ms/step - loss: 1.3416e-06 - val_loss: 1.2566e-06\n",
      "Epoch 14/30\n",
      "591/591 [==============================] - 2s 4ms/step - loss: 2.3856e-06 - val_loss: 1.2606e-06\n",
      "Epoch 15/30\n",
      "591/591 [==============================] - 2s 4ms/step - loss: 1.6111e-06 - val_loss: 1.3418e-06\n",
      "Epoch 16/30\n",
      "591/591 [==============================] - 2s 4ms/step - loss: 2.6731e-06 - val_loss: 1.2900e-06\n",
      "Epoch 17/30\n",
      "591/591 [==============================] - 2s 4ms/step - loss: 1.2606e-04 - val_loss: 4.7662e-07\n",
      "Epoch 18/30\n",
      "591/591 [==============================] - 2s 4ms/step - loss: 4.5821e-07 - val_loss: 1.8208e-07\n",
      "Epoch 19/30\n",
      "591/591 [==============================] - 3s 4ms/step - loss: 4.2322e-07 - val_loss: 3.7481e-07\n",
      "Epoch 20/30\n",
      "591/591 [==============================] - 3s 4ms/step - loss: 4.4975e-07 - val_loss: 2.0240e-07\n",
      "Epoch 21/30\n",
      "591/591 [==============================] - 3s 4ms/step - loss: 5.4494e-07 - val_loss: 4.6424e-07\n",
      "Epoch 22/30\n",
      "591/591 [==============================] - 2s 4ms/step - loss: 6.7028e-07 - val_loss: 6.1568e-07\n",
      "Epoch 23/30\n",
      "591/591 [==============================] - 3s 4ms/step - loss: 8.7866e-07 - val_loss: 8.1259e-07\n",
      "Epoch 24/30\n",
      "591/591 [==============================] - 3s 5ms/step - loss: 1.0236e-06 - val_loss: 6.9018e-07\n",
      "Epoch 25/30\n",
      "591/591 [==============================] - 2s 4ms/step - loss: 1.7764e-06 - val_loss: 8.0205e-07\n",
      "Epoch 26/30\n",
      "591/591 [==============================] - 2s 4ms/step - loss: 1.5658e-06 - val_loss: 4.4423e-07\n",
      "Epoch 27/30\n",
      "591/591 [==============================] - 3s 4ms/step - loss: 1.4966e-06 - val_loss: 1.0976e-06\n",
      "Epoch 28/30\n",
      "591/591 [==============================] - 3s 5ms/step - loss: 2.0102e-06 - val_loss: 7.7961e-07\n",
      "Epoch 29/30\n",
      "591/591 [==============================] - 2s 4ms/step - loss: 1.6533e-06 - val_loss: 3.7956e-06\n",
      "Epoch 30/30\n",
      "591/591 [==============================] - 3s 4ms/step - loss: 1.7563e-06 - val_loss: 1.7983e-07\n"
     ]
    }
   ],
   "source": [
    "from keras.models import Sequential\n",
    "from keras.layers import LSTM\n",
    "from keras.layers import Dropout\n",
    "from keras.layers import Dense\n",
    "from keras.layers import TimeDistributed\n",
    "\n",
    "import tensorflow as tf\n",
    "import keras\n",
    "from keras import optimizers\n",
    "from keras.callbacks import History\n",
    "from keras.models import Model\n",
    "from keras.layers import Dense, Dropout, LSTM, Input, Activation, concatenate\n",
    "import numpy as np\n",
    "#tf.random.set_seed(20)\n",
    "np.random.seed(10)\n",
    "\n",
    "lstm_input = Input(shape=(backcandles, data_set.shape[1]-3), name='lstm_input')\n",
    "inputs = LSTM(150, name='first_layer')(lstm_input)\n",
    "inputs = Dense(1, name='dense_layer')(inputs)\n",
    "output = Activation('linear', name='output')(inputs)\n",
    "model = Model(inputs=lstm_input, outputs=output)\n",
    "adam = optimizers.Adam()\n",
    "model.compile(optimizer=adam, loss='mse')\n",
    "model.fit(x=X_train, y=y_train, batch_size=15, epochs=30, shuffle=True, validation_split = 0.1);"
   ]
  },
  {
   "cell_type": "markdown",
   "id": "f1b3c9bf-f71d-4e5e-9924-3277d8171dff",
   "metadata": {},
   "source": [
    "# Evaluation"
   ]
  },
  {
   "cell_type": "code",
   "execution_count": 56,
   "id": "08324ede",
   "metadata": {},
   "outputs": [
    {
     "name": "stdout",
     "output_type": "stream",
     "text": [
      "25/77 [========>.....................] - ETA: 0s "
     ]
    },
    {
     "name": "stderr",
     "output_type": "stream",
     "text": [
      "2023-07-03 23:02:28.991812: I tensorflow/core/common_runtime/executor.cc:1197] [/device:CPU:0] (DEBUG INFO) Executor start aborting (this does not indicate an error and you can ignore this message): INVALID_ARGUMENT: You must feed a value for placeholder tensor 'gradients/split_2_grad/concat/split_2/split_dim' with dtype int32\n",
      "\t [[{{node gradients/split_2_grad/concat/split_2/split_dim}}]]\n",
      "2023-07-03 23:02:28.992860: I tensorflow/core/common_runtime/executor.cc:1197] [/device:CPU:0] (DEBUG INFO) Executor start aborting (this does not indicate an error and you can ignore this message): INVALID_ARGUMENT: You must feed a value for placeholder tensor 'gradients/split_grad/concat/split/split_dim' with dtype int32\n",
      "\t [[{{node gradients/split_grad/concat/split/split_dim}}]]\n",
      "2023-07-03 23:02:28.993650: I tensorflow/core/common_runtime/executor.cc:1197] [/device:CPU:0] (DEBUG INFO) Executor start aborting (this does not indicate an error and you can ignore this message): INVALID_ARGUMENT: You must feed a value for placeholder tensor 'gradients/split_1_grad/concat/split_1/split_dim' with dtype int32\n",
      "\t [[{{node gradients/split_1_grad/concat/split_1/split_dim}}]]\n"
     ]
    },
    {
     "name": "stdout",
     "output_type": "stream",
     "text": [
      "77/77 [==============================] - 0s 2ms/step\n"
     ]
    }
   ],
   "source": [
    "y_pred = model.predict(X_test)"
   ]
  },
  {
   "cell_type": "code",
   "execution_count": 57,
   "id": "67f5e31a",
   "metadata": {},
   "outputs": [
    {
     "data": {
      "image/png": "[encoded data removed]",
      "text/plain": [
       "<Figure size 800x400 with 1 Axes>"
      ]
     },
     "metadata": {},
     "output_type": "display_data"
    }
   ],
   "source": [
    "plt.figure(figsize=(8,4))\n",
    "plt.plot(y_test, color = 'black', label = 'Test')\n",
    "plt.plot(y_pred, color = 'green', label = 'pred')\n",
    "plt.legend()\n",
    "plt.show()"
   ]
  },
  {
   "cell_type": "code",
   "execution_count": 59,
   "id": "60f43ce9-213a-4b37-96d7-d318f43845fc",
   "metadata": {},
   "outputs": [
    {
     "data": {
      "text/plain": [
       "0.00044568121130601096"
      ]
     },
     "execution_count": 59,
     "metadata": {},
     "output_type": "execute_result"
    }
   ],
   "source": [
    "rms = mean_squared_error(y_test, y_pred, squared=False)\n",
    "rms"
   ]
  },
  {
   "cell_type": "code",
   "execution_count": null,
   "id": "038eb707-6406-4585-8210-77f196e54583",
   "metadata": {},
   "outputs": [],
   "source": []
  }
 ],
 "metadata": {
  "kernelspec": {
   "display_name": "Python 3 (ipykernel)",
   "language": "python",
   "name": "python3"
  },
  "language_info": {
   "codemirror_mode": {
    "name": "ipython",
    "version": 3
   },
   "file_extension": ".py",
   "mimetype": "text/x-python",
   "name": "python",
   "nbconvert_exporter": "python",
   "pygments_lexer": "ipython3",
   "version": "3.10.6"
  }
 },
 "nbformat": 4,
 "nbformat_minor": 5
}
