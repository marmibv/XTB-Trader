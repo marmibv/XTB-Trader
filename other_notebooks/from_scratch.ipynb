{
 "cells": [
  {
   "cell_type": "code",
   "execution_count": 687,
   "id": "a08ce45d-54bf-413f-9c87-aeeeb3bbc060",
   "metadata": {},
   "outputs": [],
   "source": [
    "import numpy as np\n",
    "import matplotlib.pyplot as plt\n",
    "import pandas as pd\n",
    "import yfinance as yf\n",
    "from sklearn.preprocessing import MinMaxScaler\n",
    "import pandas_ta as ta\n",
    "import pickle\n",
    "from sklearn.metrics import mean_squared_error"
   ]
  },
  {
   "cell_type": "code",
   "execution_count": 688,
   "id": "5cb6b7f8-3804-4204-a1a2-6d8e8821e9d6",
   "metadata": {},
   "outputs": [],
   "source": [
    "import warnings\n",
    "warnings.filterwarnings(\"ignore\")"
   ]
  },
  {
   "cell_type": "code",
   "execution_count": 689,
   "id": "8e551a01-5bf2-4e71-b011-955fad8f7a0c",
   "metadata": {},
   "outputs": [],
   "source": [
    "import sys\n",
    "import os\n",
    "from datetime import datetime, timedelta\n",
    "sys.path.insert(1, '/home/krystian/Repos/XTB-Trader/utility')\n",
    "sys.path.insert(1, '/home/krystian/Repos/XTB-Trader')\n",
    "from XTBClient.api import XTBClient, PERIOD\n",
    "from utility import utility \n",
    "\n",
    "def get_data_for_symbol(symbol):\n",
    "    c = XTBClient()\n",
    "    c.login(os.environ.get(\"XTB_user_num\"), os.environ.get(\"XTB_pass\"))\n",
    "    df = c.get_candles_in_range(symbol, PERIOD.FIFTEEN_MINUTES.value, start=datetime.now() - timedelta(days=365))\n",
    "    c.logout()\n",
    "    \n",
    "    df = df.reset_index()\n",
    "    df.rename(columns={\"timestamp\": \"date\"}, inplace=True)\n",
    "    \n",
    "    df['date'] = df['date'].apply(pd.to_datetime)\n",
    "    df.set_index('date',inplace=True)\n",
    "    # df.drop([col for col in df.columns if col != \"close\"], axis=1, inplace=True)\n",
    "    return df\n",
    "\n",
    "def import_csv(name):\n",
    "    df = pd.read_csv(name, sep=';')\n",
    "    df.columns = [\"date\",\"open\",\"high\",\"low\",\"close\", \"volume\"]\n",
    "    df.date = pd.to_datetime(df.date)\n",
    "    df.drop(columns=\"volume\", inplace=True)\n",
    "    df.set_index('date', inplace=True, drop=True)\n",
    "    return df"
   ]
  },
  {
   "cell_type": "code",
   "execution_count": 690,
   "id": "63fa8554-a22a-4d07-aec2-e1e2ca5dec39",
   "metadata": {},
   "outputs": [],
   "source": [
    "def trend_accuracy(real, preds):\n",
    "    df = pd.DataFrame({\"real\": real, \"preds\": preds})\n",
    "    return len(df[df.real * df.preds > 0]) / len(df)"
   ]
  },
  {
   "cell_type": "markdown",
   "id": "ecd554ac-5100-4171-b298-6b05ad0b70f8",
   "metadata": {},
   "source": [
    "# Data import"
   ]
  },
  {
   "cell_type": "code",
   "execution_count": 691,
   "id": "a3ef7f05-e4e9-41c5-ab64-f35cfebe00bc",
   "metadata": {},
   "outputs": [
    {
     "data": {
      "text/html": [
       "<div>\n",
       "<style scoped>\n",
       "    .dataframe tbody tr th:only-of-type {\n",
       "        vertical-align: middle;\n",
       "    }\n",
       "\n",
       "    .dataframe tbody tr th {\n",
       "        vertical-align: top;\n",
       "    }\n",
       "\n",
       "    .dataframe thead th {\n",
       "        text-align: right;\n",
       "    }\n",
       "</style>\n",
       "<table border=\"1\" class=\"dataframe\">\n",
       "  <thead>\n",
       "    <tr style=\"text-align: right;\">\n",
       "      <th></th>\n",
       "      <th>open</th>\n",
       "      <th>close</th>\n",
       "      <th>high</th>\n",
       "      <th>low</th>\n",
       "      <th>volume</th>\n",
       "    </tr>\n",
       "    <tr>\n",
       "      <th>date</th>\n",
       "      <th></th>\n",
       "      <th></th>\n",
       "      <th></th>\n",
       "      <th></th>\n",
       "      <th></th>\n",
       "    </tr>\n",
       "  </thead>\n",
       "  <tbody>\n",
       "    <tr>\n",
       "      <th>2023-01-01 22:00:00</th>\n",
       "      <td>1.07058</td>\n",
       "      <td>1.06932</td>\n",
       "      <td>1.07086</td>\n",
       "      <td>1.06932</td>\n",
       "      <td>187.0</td>\n",
       "    </tr>\n",
       "    <tr>\n",
       "      <th>2023-01-01 22:15:00</th>\n",
       "      <td>1.06932</td>\n",
       "      <td>1.06933</td>\n",
       "      <td>1.06935</td>\n",
       "      <td>1.06906</td>\n",
       "      <td>102.0</td>\n",
       "    </tr>\n",
       "    <tr>\n",
       "      <th>2023-01-01 22:30:00</th>\n",
       "      <td>1.06931</td>\n",
       "      <td>1.06900</td>\n",
       "      <td>1.06936</td>\n",
       "      <td>1.06857</td>\n",
       "      <td>798.0</td>\n",
       "    </tr>\n",
       "    <tr>\n",
       "      <th>2023-01-01 22:45:00</th>\n",
       "      <td>1.06905</td>\n",
       "      <td>1.06944</td>\n",
       "      <td>1.06981</td>\n",
       "      <td>1.06895</td>\n",
       "      <td>1980.0</td>\n",
       "    </tr>\n",
       "    <tr>\n",
       "      <th>2023-01-01 23:00:00</th>\n",
       "      <td>1.06922</td>\n",
       "      <td>1.06777</td>\n",
       "      <td>1.06933</td>\n",
       "      <td>1.06773</td>\n",
       "      <td>285.0</td>\n",
       "    </tr>\n",
       "    <tr>\n",
       "      <th>...</th>\n",
       "      <td>...</td>\n",
       "      <td>...</td>\n",
       "      <td>...</td>\n",
       "      <td>...</td>\n",
       "      <td>...</td>\n",
       "    </tr>\n",
       "    <tr>\n",
       "      <th>2023-07-03 01:00:00</th>\n",
       "      <td>1.09009</td>\n",
       "      <td>1.09038</td>\n",
       "      <td>1.09042</td>\n",
       "      <td>1.09006</td>\n",
       "      <td>5785.0</td>\n",
       "    </tr>\n",
       "    <tr>\n",
       "      <th>2023-07-03 01:15:00</th>\n",
       "      <td>1.09038</td>\n",
       "      <td>1.09055</td>\n",
       "      <td>1.09067</td>\n",
       "      <td>1.09035</td>\n",
       "      <td>5132.0</td>\n",
       "    </tr>\n",
       "    <tr>\n",
       "      <th>2023-07-03 01:30:00</th>\n",
       "      <td>1.09054</td>\n",
       "      <td>1.09123</td>\n",
       "      <td>1.09172</td>\n",
       "      <td>1.09054</td>\n",
       "      <td>8240.0</td>\n",
       "    </tr>\n",
       "    <tr>\n",
       "      <th>2023-07-03 01:45:00</th>\n",
       "      <td>1.09123</td>\n",
       "      <td>1.09084</td>\n",
       "      <td>1.09140</td>\n",
       "      <td>1.09062</td>\n",
       "      <td>6745.0</td>\n",
       "    </tr>\n",
       "    <tr>\n",
       "      <th>2023-07-03 02:00:00</th>\n",
       "      <td>1.09085</td>\n",
       "      <td>1.09094</td>\n",
       "      <td>1.09099</td>\n",
       "      <td>1.09068</td>\n",
       "      <td>5710.0</td>\n",
       "    </tr>\n",
       "  </tbody>\n",
       "</table>\n",
       "<p>12397 rows × 5 columns</p>\n",
       "</div>"
      ],
      "text/plain": [
       "                        open    close     high      low  volume\n",
       "date                                                           \n",
       "2023-01-01 22:00:00  1.07058  1.06932  1.07086  1.06932   187.0\n",
       "2023-01-01 22:15:00  1.06932  1.06933  1.06935  1.06906   102.0\n",
       "2023-01-01 22:30:00  1.06931  1.06900  1.06936  1.06857   798.0\n",
       "2023-01-01 22:45:00  1.06905  1.06944  1.06981  1.06895  1980.0\n",
       "2023-01-01 23:00:00  1.06922  1.06777  1.06933  1.06773   285.0\n",
       "...                      ...      ...      ...      ...     ...\n",
       "2023-07-03 01:00:00  1.09009  1.09038  1.09042  1.09006  5785.0\n",
       "2023-07-03 01:15:00  1.09038  1.09055  1.09067  1.09035  5132.0\n",
       "2023-07-03 01:30:00  1.09054  1.09123  1.09172  1.09054  8240.0\n",
       "2023-07-03 01:45:00  1.09123  1.09084  1.09140  1.09062  6745.0\n",
       "2023-07-03 02:00:00  1.09085  1.09094  1.09099  1.09068  5710.0\n",
       "\n",
       "[12397 rows x 5 columns]"
      ]
     },
     "execution_count": 691,
     "metadata": {},
     "output_type": "execute_result"
    }
   ],
   "source": [
    "# df = yf.download(tickers = 'EURUSD=x', period='1y', interval='15m')\n",
    "df = get_data_for_symbol(\"EURUSD\")\n",
    "df.index.rename(\"Date\", inplace=True)\n",
    "df.rename(columns={col: col.lower() for col in df.columns}, inplace=True)\n",
    "df.index.rename(df.index.name.lower(), inplace=True)\n",
    "df"
   ]
  },
  {
   "cell_type": "code",
   "execution_count": 692,
   "id": "b8ab6263-82f4-41bd-b520-fef0f65667e2",
   "metadata": {
    "tags": []
   },
   "outputs": [],
   "source": [
    "df.ta.indicators(as_list=True);"
   ]
  },
  {
   "cell_type": "markdown",
   "id": "c8bb46d4-1d40-4023-9b24-32a4a3cf123d",
   "metadata": {},
   "source": [
    "# Additional Indicators"
   ]
  },
  {
   "cell_type": "code",
   "execution_count": 693,
   "id": "b8d19475-1800-497a-b04f-890d7a17831a",
   "metadata": {},
   "outputs": [
    {
     "data": {
      "text/html": [
       "<div>\n",
       "<style scoped>\n",
       "    .dataframe tbody tr th:only-of-type {\n",
       "        vertical-align: middle;\n",
       "    }\n",
       "\n",
       "    .dataframe tbody tr th {\n",
       "        vertical-align: top;\n",
       "    }\n",
       "\n",
       "    .dataframe thead th {\n",
       "        text-align: right;\n",
       "    }\n",
       "</style>\n",
       "<table border=\"1\" class=\"dataframe\">\n",
       "  <thead>\n",
       "    <tr style=\"text-align: right;\">\n",
       "      <th></th>\n",
       "      <th>open</th>\n",
       "      <th>close</th>\n",
       "      <th>high</th>\n",
       "      <th>low</th>\n",
       "      <th>volume</th>\n",
       "      <th>RSI</th>\n",
       "      <th>EMAF</th>\n",
       "      <th>EMAM</th>\n",
       "      <th>EMAS</th>\n",
       "      <th>EMAS2</th>\n",
       "      <th>gain</th>\n",
       "      <th>future_gain</th>\n",
       "      <th>STOCHk_14_3_3</th>\n",
       "      <th>STOCHd_14_3_3</th>\n",
       "    </tr>\n",
       "    <tr>\n",
       "      <th>date</th>\n",
       "      <th></th>\n",
       "      <th></th>\n",
       "      <th></th>\n",
       "      <th></th>\n",
       "      <th></th>\n",
       "      <th></th>\n",
       "      <th></th>\n",
       "      <th></th>\n",
       "      <th></th>\n",
       "      <th></th>\n",
       "      <th></th>\n",
       "      <th></th>\n",
       "      <th></th>\n",
       "      <th></th>\n",
       "    </tr>\n",
       "  </thead>\n",
       "  <tbody>\n",
       "    <tr>\n",
       "      <th>2023-01-03 11:15:00</th>\n",
       "      <td>1.05270</td>\n",
       "      <td>1.05261</td>\n",
       "      <td>1.05291</td>\n",
       "      <td>1.05191</td>\n",
       "      <td>12215.0</td>\n",
       "      <td>15.644104</td>\n",
       "      <td>1.057125</td>\n",
       "      <td>1.064082</td>\n",
       "      <td>1.066306</td>\n",
       "      <td>1.064679</td>\n",
       "      <td>-0.00010</td>\n",
       "      <td>-0.00035</td>\n",
       "      <td>4.157572</td>\n",
       "      <td>3.550690</td>\n",
       "    </tr>\n",
       "    <tr>\n",
       "      <th>2023-01-03 11:30:00</th>\n",
       "      <td>1.05260</td>\n",
       "      <td>1.05314</td>\n",
       "      <td>1.05357</td>\n",
       "      <td>1.05251</td>\n",
       "      <td>10121.0</td>\n",
       "      <td>20.275578</td>\n",
       "      <td>1.056745</td>\n",
       "      <td>1.063865</td>\n",
       "      <td>1.066132</td>\n",
       "      <td>1.064489</td>\n",
       "      <td>0.00053</td>\n",
       "      <td>-0.00010</td>\n",
       "      <td>8.574807</td>\n",
       "      <td>5.260125</td>\n",
       "    </tr>\n",
       "    <tr>\n",
       "      <th>2023-01-03 11:45:00</th>\n",
       "      <td>1.05314</td>\n",
       "      <td>1.05279</td>\n",
       "      <td>1.05349</td>\n",
       "      <td>1.05263</td>\n",
       "      <td>11677.0</td>\n",
       "      <td>19.517384</td>\n",
       "      <td>1.056368</td>\n",
       "      <td>1.063646</td>\n",
       "      <td>1.065955</td>\n",
       "      <td>1.064295</td>\n",
       "      <td>-0.00035</td>\n",
       "      <td>0.00053</td>\n",
       "      <td>12.849630</td>\n",
       "      <td>8.527336</td>\n",
       "    </tr>\n",
       "    <tr>\n",
       "      <th>2023-01-03 12:00:00</th>\n",
       "      <td>1.05280</td>\n",
       "      <td>1.05326</td>\n",
       "      <td>1.05330</td>\n",
       "      <td>1.05237</td>\n",
       "      <td>12848.0</td>\n",
       "      <td>23.626454</td>\n",
       "      <td>1.056072</td>\n",
       "      <td>1.063440</td>\n",
       "      <td>1.065787</td>\n",
       "      <td>1.064113</td>\n",
       "      <td>0.00047</td>\n",
       "      <td>-0.00035</td>\n",
       "      <td>19.409084</td>\n",
       "      <td>13.611174</td>\n",
       "    </tr>\n",
       "    <tr>\n",
       "      <th>2023-01-03 12:15:00</th>\n",
       "      <td>1.05324</td>\n",
       "      <td>1.05395</td>\n",
       "      <td>1.05397</td>\n",
       "      <td>1.05304</td>\n",
       "      <td>11486.0</td>\n",
       "      <td>29.303880</td>\n",
       "      <td>1.055870</td>\n",
       "      <td>1.063252</td>\n",
       "      <td>1.065630</td>\n",
       "      <td>1.063945</td>\n",
       "      <td>0.00069</td>\n",
       "      <td>0.00047</td>\n",
       "      <td>29.993749</td>\n",
       "      <td>20.750821</td>\n",
       "    </tr>\n",
       "    <tr>\n",
       "      <th>...</th>\n",
       "      <td>...</td>\n",
       "      <td>...</td>\n",
       "      <td>...</td>\n",
       "      <td>...</td>\n",
       "      <td>...</td>\n",
       "      <td>...</td>\n",
       "      <td>...</td>\n",
       "      <td>...</td>\n",
       "      <td>...</td>\n",
       "      <td>...</td>\n",
       "      <td>...</td>\n",
       "      <td>...</td>\n",
       "      <td>...</td>\n",
       "      <td>...</td>\n",
       "    </tr>\n",
       "    <tr>\n",
       "      <th>2023-07-03 01:00:00</th>\n",
       "      <td>1.09009</td>\n",
       "      <td>1.09038</td>\n",
       "      <td>1.09042</td>\n",
       "      <td>1.09006</td>\n",
       "      <td>5785.0</td>\n",
       "      <td>44.715693</td>\n",
       "      <td>1.090735</td>\n",
       "      <td>1.089450</td>\n",
       "      <td>1.089370</td>\n",
       "      <td>1.089366</td>\n",
       "      <td>0.00029</td>\n",
       "      <td>-0.00038</td>\n",
       "      <td>15.177045</td>\n",
       "      <td>17.550733</td>\n",
       "    </tr>\n",
       "    <tr>\n",
       "      <th>2023-07-03 01:15:00</th>\n",
       "      <td>1.09038</td>\n",
       "      <td>1.09055</td>\n",
       "      <td>1.09067</td>\n",
       "      <td>1.09035</td>\n",
       "      <td>5132.0</td>\n",
       "      <td>47.961156</td>\n",
       "      <td>1.090718</td>\n",
       "      <td>1.089472</td>\n",
       "      <td>1.089386</td>\n",
       "      <td>1.089386</td>\n",
       "      <td>0.00017</td>\n",
       "      <td>0.00029</td>\n",
       "      <td>28.461538</td>\n",
       "      <td>19.054523</td>\n",
       "    </tr>\n",
       "    <tr>\n",
       "      <th>2023-07-03 01:30:00</th>\n",
       "      <td>1.09054</td>\n",
       "      <td>1.09123</td>\n",
       "      <td>1.09172</td>\n",
       "      <td>1.09054</td>\n",
       "      <td>8240.0</td>\n",
       "      <td>58.421901</td>\n",
       "      <td>1.090766</td>\n",
       "      <td>1.089507</td>\n",
       "      <td>1.089410</td>\n",
       "      <td>1.089416</td>\n",
       "      <td>0.00068</td>\n",
       "      <td>0.00017</td>\n",
       "      <td>49.384615</td>\n",
       "      <td>31.007733</td>\n",
       "    </tr>\n",
       "    <tr>\n",
       "      <th>2023-07-03 01:45:00</th>\n",
       "      <td>1.09123</td>\n",
       "      <td>1.09084</td>\n",
       "      <td>1.09140</td>\n",
       "      <td>1.09062</td>\n",
       "      <td>6745.0</td>\n",
       "      <td>51.998768</td>\n",
       "      <td>1.090773</td>\n",
       "      <td>1.089533</td>\n",
       "      <td>1.089429</td>\n",
       "      <td>1.089440</td>\n",
       "      <td>-0.00039</td>\n",
       "      <td>0.00068</td>\n",
       "      <td>55.443223</td>\n",
       "      <td>44.429792</td>\n",
       "    </tr>\n",
       "    <tr>\n",
       "      <th>2023-07-03 02:00:00</th>\n",
       "      <td>1.09085</td>\n",
       "      <td>1.09094</td>\n",
       "      <td>1.09099</td>\n",
       "      <td>1.09068</td>\n",
       "      <td>5710.0</td>\n",
       "      <td>53.406107</td>\n",
       "      <td>1.090789</td>\n",
       "      <td>1.089561</td>\n",
       "      <td>1.089449</td>\n",
       "      <td>1.089464</td>\n",
       "      <td>0.00010</td>\n",
       "      <td>-0.00039</td>\n",
       "      <td>59.047619</td>\n",
       "      <td>54.625153</td>\n",
       "    </tr>\n",
       "  </tbody>\n",
       "</table>\n",
       "<p>12248 rows × 14 columns</p>\n",
       "</div>"
      ],
      "text/plain": [
       "                        open    close     high      low   volume        RSI  \\\n",
       "date                                                                          \n",
       "2023-01-03 11:15:00  1.05270  1.05261  1.05291  1.05191  12215.0  15.644104   \n",
       "2023-01-03 11:30:00  1.05260  1.05314  1.05357  1.05251  10121.0  20.275578   \n",
       "2023-01-03 11:45:00  1.05314  1.05279  1.05349  1.05263  11677.0  19.517384   \n",
       "2023-01-03 12:00:00  1.05280  1.05326  1.05330  1.05237  12848.0  23.626454   \n",
       "2023-01-03 12:15:00  1.05324  1.05395  1.05397  1.05304  11486.0  29.303880   \n",
       "...                      ...      ...      ...      ...      ...        ...   \n",
       "2023-07-03 01:00:00  1.09009  1.09038  1.09042  1.09006   5785.0  44.715693   \n",
       "2023-07-03 01:15:00  1.09038  1.09055  1.09067  1.09035   5132.0  47.961156   \n",
       "2023-07-03 01:30:00  1.09054  1.09123  1.09172  1.09054   8240.0  58.421901   \n",
       "2023-07-03 01:45:00  1.09123  1.09084  1.09140  1.09062   6745.0  51.998768   \n",
       "2023-07-03 02:00:00  1.09085  1.09094  1.09099  1.09068   5710.0  53.406107   \n",
       "\n",
       "                         EMAF      EMAM      EMAS     EMAS2     gain  \\\n",
       "date                                                                   \n",
       "2023-01-03 11:15:00  1.057125  1.064082  1.066306  1.064679 -0.00010   \n",
       "2023-01-03 11:30:00  1.056745  1.063865  1.066132  1.064489  0.00053   \n",
       "2023-01-03 11:45:00  1.056368  1.063646  1.065955  1.064295 -0.00035   \n",
       "2023-01-03 12:00:00  1.056072  1.063440  1.065787  1.064113  0.00047   \n",
       "2023-01-03 12:15:00  1.055870  1.063252  1.065630  1.063945  0.00069   \n",
       "...                       ...       ...       ...       ...      ...   \n",
       "2023-07-03 01:00:00  1.090735  1.089450  1.089370  1.089366  0.00029   \n",
       "2023-07-03 01:15:00  1.090718  1.089472  1.089386  1.089386  0.00017   \n",
       "2023-07-03 01:30:00  1.090766  1.089507  1.089410  1.089416  0.00068   \n",
       "2023-07-03 01:45:00  1.090773  1.089533  1.089429  1.089440 -0.00039   \n",
       "2023-07-03 02:00:00  1.090789  1.089561  1.089449  1.089464  0.00010   \n",
       "\n",
       "                     future_gain  STOCHk_14_3_3  STOCHd_14_3_3  \n",
       "date                                                            \n",
       "2023-01-03 11:15:00     -0.00035       4.157572       3.550690  \n",
       "2023-01-03 11:30:00     -0.00010       8.574807       5.260125  \n",
       "2023-01-03 11:45:00      0.00053      12.849630       8.527336  \n",
       "2023-01-03 12:00:00     -0.00035      19.409084      13.611174  \n",
       "2023-01-03 12:15:00      0.00047      29.993749      20.750821  \n",
       "...                          ...            ...            ...  \n",
       "2023-07-03 01:00:00     -0.00038      15.177045      17.550733  \n",
       "2023-07-03 01:15:00      0.00029      28.461538      19.054523  \n",
       "2023-07-03 01:30:00      0.00017      49.384615      31.007733  \n",
       "2023-07-03 01:45:00      0.00068      55.443223      44.429792  \n",
       "2023-07-03 02:00:00     -0.00039      59.047619      54.625153  \n",
       "\n",
       "[12248 rows x 14 columns]"
      ]
     },
     "execution_count": 693,
     "metadata": {},
     "output_type": "execute_result"
    }
   ],
   "source": [
    "df['RSI']=ta.rsi(df.close, length=15)\n",
    "df['EMAF']=ta.ema(df.close, length=20)\n",
    "df['EMAM']=ta.ema(df.close, length=100)\n",
    "df['EMAS']=ta.ema(df.close, length=150)\n",
    "df['EMAS2']=ta.ema(df.close, length=120)\n",
    "\n",
    "df['gain'] = df['close'].diff()\n",
    "df['future_gain'] = df['gain'].shift(1)\n",
    "# df['future'] = df['close'].shift(1)\n",
    "df = pd.concat([df, ta.stoch(df.high, df.low, df.close)], axis=1)\n",
    "\n",
    "df.dropna(inplace=True)\n",
    "df"
   ]
  },
  {
   "cell_type": "markdown",
   "id": "176ebb37-ab89-45fa-a08d-eecdd82f7980",
   "metadata": {},
   "source": [
    "# Train Test split"
   ]
  },
  {
   "cell_type": "code",
   "execution_count": 694,
   "id": "102cec55-adb1-47a0-a312-dee3c6927a17",
   "metadata": {},
   "outputs": [],
   "source": [
    "# train, test = df[:int(len(df)*0.8)], df[int(len(df)*0.8):]\n",
    "train = df[df.index < df.index.min() + (df.index.max() - df.index.min()) * 0.8]\n",
    "test = df[df.index >= df.index.min() + (df.index.max() - df.index.min()) * 0.8]"
   ]
  },
  {
   "cell_type": "code",
   "execution_count": 695,
   "id": "8963a0f8-ca4e-4712-857a-d996645f2243",
   "metadata": {},
   "outputs": [
    {
     "data": {
      "text/plain": [
       "(9847, 2401)"
      ]
     },
     "execution_count": 695,
     "metadata": {},
     "output_type": "execute_result"
    }
   ],
   "source": [
    "len(train), len(test)"
   ]
  },
  {
   "cell_type": "code",
   "execution_count": 696,
   "id": "22a832bc-1fa0-4cd9-8789-9ddfb878cfe4",
   "metadata": {},
   "outputs": [],
   "source": [
    "target = 'future_gain'\n",
    "Y_train = train[target]\n",
    "X_train = train.drop(target, axis=1)\n",
    "\n",
    "Y_test = test[target]\n",
    "X_test = test.drop(target, axis=1)"
   ]
  },
  {
   "cell_type": "markdown",
   "id": "5a8941a7-19b6-4237-9809-900bfb787752",
   "metadata": {},
   "source": [
    "# Multivariable regression "
   ]
  },
  {
   "cell_type": "code",
   "execution_count": 697,
   "id": "59235cff-e18b-4cfb-a38f-c0cee014a430",
   "metadata": {},
   "outputs": [
    {
     "data": {
      "text/html": [
       "<style>#sk-container-id-41 {color: black;background-color: white;}#sk-container-id-41 pre{padding: 0;}#sk-container-id-41 div.sk-toggleable {background-color: white;}#sk-container-id-41 label.sk-toggleable__label {cursor: pointer;display: block;width: 100%;margin-bottom: 0;padding: 0.3em;box-sizing: border-box;text-align: center;}#sk-container-id-41 label.sk-toggleable__label-arrow:before {content: \"▸\";float: left;margin-right: 0.25em;color: #696969;}#sk-container-id-41 label.sk-toggleable__label-arrow:hover:before {color: black;}#sk-container-id-41 div.sk-estimator:hover label.sk-toggleable__label-arrow:before {color: black;}#sk-container-id-41 div.sk-toggleable__content {max-height: 0;max-width: 0;overflow: hidden;text-align: left;background-color: #f0f8ff;}#sk-container-id-41 div.sk-toggleable__content pre {margin: 0.2em;color: black;border-radius: 0.25em;background-color: #f0f8ff;}#sk-container-id-41 input.sk-toggleable__control:checked~div.sk-toggleable__content {max-height: 200px;max-width: 100%;overflow: auto;}#sk-container-id-41 input.sk-toggleable__control:checked~label.sk-toggleable__label-arrow:before {content: \"▾\";}#sk-container-id-41 div.sk-estimator input.sk-toggleable__control:checked~label.sk-toggleable__label {background-color: #d4ebff;}#sk-container-id-41 div.sk-label input.sk-toggleable__control:checked~label.sk-toggleable__label {background-color: #d4ebff;}#sk-container-id-41 input.sk-hidden--visually {border: 0;clip: rect(1px 1px 1px 1px);clip: rect(1px, 1px, 1px, 1px);height: 1px;margin: -1px;overflow: hidden;padding: 0;position: absolute;width: 1px;}#sk-container-id-41 div.sk-estimator {font-family: monospace;background-color: #f0f8ff;border: 1px dotted black;border-radius: 0.25em;box-sizing: border-box;margin-bottom: 0.5em;}#sk-container-id-41 div.sk-estimator:hover {background-color: #d4ebff;}#sk-container-id-41 div.sk-parallel-item::after {content: \"\";width: 100%;border-bottom: 1px solid gray;flex-grow: 1;}#sk-container-id-41 div.sk-label:hover label.sk-toggleable__label {background-color: #d4ebff;}#sk-container-id-41 div.sk-serial::before {content: \"\";position: absolute;border-left: 1px solid gray;box-sizing: border-box;top: 0;bottom: 0;left: 50%;z-index: 0;}#sk-container-id-41 div.sk-serial {display: flex;flex-direction: column;align-items: center;background-color: white;padding-right: 0.2em;padding-left: 0.2em;position: relative;}#sk-container-id-41 div.sk-item {position: relative;z-index: 1;}#sk-container-id-41 div.sk-parallel {display: flex;align-items: stretch;justify-content: center;background-color: white;position: relative;}#sk-container-id-41 div.sk-item::before, #sk-container-id-41 div.sk-parallel-item::before {content: \"\";position: absolute;border-left: 1px solid gray;box-sizing: border-box;top: 0;bottom: 0;left: 50%;z-index: -1;}#sk-container-id-41 div.sk-parallel-item {display: flex;flex-direction: column;z-index: 1;position: relative;background-color: white;}#sk-container-id-41 div.sk-parallel-item:first-child::after {align-self: flex-end;width: 50%;}#sk-container-id-41 div.sk-parallel-item:last-child::after {align-self: flex-start;width: 50%;}#sk-container-id-41 div.sk-parallel-item:only-child::after {width: 0;}#sk-container-id-41 div.sk-dashed-wrapped {border: 1px dashed gray;margin: 0 0.4em 0.5em 0.4em;box-sizing: border-box;padding-bottom: 0.4em;background-color: white;}#sk-container-id-41 div.sk-label label {font-family: monospace;font-weight: bold;display: inline-block;line-height: 1.2em;}#sk-container-id-41 div.sk-label-container {text-align: center;}#sk-container-id-41 div.sk-container {/* jupyter's `normalize.less` sets `[hidden] { display: none; }` but bootstrap.min.css set `[hidden] { display: none !important; }` so we also need the `!important` here to be able to override the default hidden behavior on the sphinx rendered scikit-learn.org. See: https://github.com/scikit-learn/scikit-learn/issues/21755 */display: inline-block !important;position: relative;}#sk-container-id-41 div.sk-text-repr-fallback {display: none;}</style><div id=\"sk-container-id-41\" class=\"sk-top-container\"><div class=\"sk-text-repr-fallback\"><pre>LinearRegression()</pre><b>In a Jupyter environment, please rerun this cell to show the HTML representation or trust the notebook. <br />On GitHub, the HTML representation is unable to render, please try loading this page with nbviewer.org.</b></div><div class=\"sk-container\" hidden><div class=\"sk-item\"><div class=\"sk-estimator sk-toggleable\"><input class=\"sk-toggleable__control sk-hidden--visually\" id=\"sk-estimator-id-41\" type=\"checkbox\" checked><label for=\"sk-estimator-id-41\" class=\"sk-toggleable__label sk-toggleable__label-arrow\">LinearRegression</label><div class=\"sk-toggleable__content\"><pre>LinearRegression()</pre></div></div></div></div></div>"
      ],
      "text/plain": [
       "LinearRegression()"
      ]
     },
     "execution_count": 697,
     "metadata": {},
     "output_type": "execute_result"
    }
   ],
   "source": [
    "from sklearn import linear_model\n",
    "\n",
    "model = linear_model.LinearRegression()\n",
    "model.fit(X_train, Y_train)"
   ]
  },
  {
   "cell_type": "code",
   "execution_count": 698,
   "id": "d4c094c6-e490-4dde-bc57-81004d4d3a92",
   "metadata": {},
   "outputs": [],
   "source": [
    "predictions = model.predict(X_test)"
   ]
  },
  {
   "cell_type": "code",
   "execution_count": 699,
   "id": "d0ecc8c9-e27d-436a-ab57-a1e852fae5b2",
   "metadata": {},
   "outputs": [
    {
     "data": {
      "image/png": "[encoded data removed]",
      "text/plain": [
       "<Figure size 640x480 with 1 Axes>"
      ]
     },
     "metadata": {},
     "output_type": "display_data"
    }
   ],
   "source": [
    "plt.plot(Y_test.values)\n",
    "plt.plot(predictions)\n",
    "plt.show()"
   ]
  },
  {
   "cell_type": "code",
   "execution_count": 700,
   "id": "47bab6da-4282-4bad-bd0b-5abbe0cd4b55",
   "metadata": {},
   "outputs": [
    {
     "data": {
      "text/plain": [
       "0.000338452390026319"
      ]
     },
     "execution_count": 700,
     "metadata": {},
     "output_type": "execute_result"
    }
   ],
   "source": [
    "rms = mean_squared_error(Y_test.values, predictions, squared=False)\n",
    "rms"
   ]
  },
  {
   "cell_type": "code",
   "execution_count": 701,
   "id": "53339427-c8e2-4a6b-b057-a21f51716543",
   "metadata": {},
   "outputs": [
    {
     "data": {
      "text/plain": [
       "0.7217825905872554"
      ]
     },
     "execution_count": 701,
     "metadata": {},
     "output_type": "execute_result"
    }
   ],
   "source": [
    "trend_accuracy(Y_test.values, predictions)"
   ]
  },
  {
   "cell_type": "code",
   "execution_count": 702,
   "id": "930ed9e8-14bf-466f-9d57-cebdbc1a7351",
   "metadata": {},
   "outputs": [
    {
     "data": {
      "image/png": "[encoded data removed]",
      "text/plain": [
       "<Figure size 640x480 with 1 Axes>"
      ]
     },
     "metadata": {},
     "output_type": "display_data"
    }
   ],
   "source": [
    "importance = model.coef_\n",
    "\n",
    "plt.bar(model.feature_names_in_, importance )\n",
    "plt.xticks(rotation='vertical');"
   ]
  },
  {
   "cell_type": "markdown",
   "id": "1ff4336d-352c-4436-a197-603d853db405",
   "metadata": {},
   "source": [
    "# XGBoost"
   ]
  },
  {
   "cell_type": "code",
   "execution_count": 703,
   "id": "9def3f5c-a38c-463d-8b9c-a07c8daa3af3",
   "metadata": {},
   "outputs": [],
   "source": [
    "from numpy import loadtxt\n",
    "from xgboost import XGBRegressor"
   ]
  },
  {
   "cell_type": "code",
   "execution_count": 704,
   "id": "af4d5668-850f-462d-8007-6ca1e569a9ec",
   "metadata": {},
   "outputs": [
    {
     "data": {
      "text/html": [
       "<style>#sk-container-id-42 {color: black;background-color: white;}#sk-container-id-42 pre{padding: 0;}#sk-container-id-42 div.sk-toggleable {background-color: white;}#sk-container-id-42 label.sk-toggleable__label {cursor: pointer;display: block;width: 100%;margin-bottom: 0;padding: 0.3em;box-sizing: border-box;text-align: center;}#sk-container-id-42 label.sk-toggleable__label-arrow:before {content: \"▸\";float: left;margin-right: 0.25em;color: #696969;}#sk-container-id-42 label.sk-toggleable__label-arrow:hover:before {color: black;}#sk-container-id-42 div.sk-estimator:hover label.sk-toggleable__label-arrow:before {color: black;}#sk-container-id-42 div.sk-toggleable__content {max-height: 0;max-width: 0;overflow: hidden;text-align: left;background-color: #f0f8ff;}#sk-container-id-42 div.sk-toggleable__content pre {margin: 0.2em;color: black;border-radius: 0.25em;background-color: #f0f8ff;}#sk-container-id-42 input.sk-toggleable__control:checked~div.sk-toggleable__content {max-height: 200px;max-width: 100%;overflow: auto;}#sk-container-id-42 input.sk-toggleable__control:checked~label.sk-toggleable__label-arrow:before {content: \"▾\";}#sk-container-id-42 div.sk-estimator input.sk-toggleable__control:checked~label.sk-toggleable__label {background-color: #d4ebff;}#sk-container-id-42 div.sk-label input.sk-toggleable__control:checked~label.sk-toggleable__label {background-color: #d4ebff;}#sk-container-id-42 input.sk-hidden--visually {border: 0;clip: rect(1px 1px 1px 1px);clip: rect(1px, 1px, 1px, 1px);height: 1px;margin: -1px;overflow: hidden;padding: 0;position: absolute;width: 1px;}#sk-container-id-42 div.sk-estimator {font-family: monospace;background-color: #f0f8ff;border: 1px dotted black;border-radius: 0.25em;box-sizing: border-box;margin-bottom: 0.5em;}#sk-container-id-42 div.sk-estimator:hover {background-color: #d4ebff;}#sk-container-id-42 div.sk-parallel-item::after {content: \"\";width: 100%;border-bottom: 1px solid gray;flex-grow: 1;}#sk-container-id-42 div.sk-label:hover label.sk-toggleable__label {background-color: #d4ebff;}#sk-container-id-42 div.sk-serial::before {content: \"\";position: absolute;border-left: 1px solid gray;box-sizing: border-box;top: 0;bottom: 0;left: 50%;z-index: 0;}#sk-container-id-42 div.sk-serial {display: flex;flex-direction: column;align-items: center;background-color: white;padding-right: 0.2em;padding-left: 0.2em;position: relative;}#sk-container-id-42 div.sk-item {position: relative;z-index: 1;}#sk-container-id-42 div.sk-parallel {display: flex;align-items: stretch;justify-content: center;background-color: white;position: relative;}#sk-container-id-42 div.sk-item::before, #sk-container-id-42 div.sk-parallel-item::before {content: \"\";position: absolute;border-left: 1px solid gray;box-sizing: border-box;top: 0;bottom: 0;left: 50%;z-index: -1;}#sk-container-id-42 div.sk-parallel-item {display: flex;flex-direction: column;z-index: 1;position: relative;background-color: white;}#sk-container-id-42 div.sk-parallel-item:first-child::after {align-self: flex-end;width: 50%;}#sk-container-id-42 div.sk-parallel-item:last-child::after {align-self: flex-start;width: 50%;}#sk-container-id-42 div.sk-parallel-item:only-child::after {width: 0;}#sk-container-id-42 div.sk-dashed-wrapped {border: 1px dashed gray;margin: 0 0.4em 0.5em 0.4em;box-sizing: border-box;padding-bottom: 0.4em;background-color: white;}#sk-container-id-42 div.sk-label label {font-family: monospace;font-weight: bold;display: inline-block;line-height: 1.2em;}#sk-container-id-42 div.sk-label-container {text-align: center;}#sk-container-id-42 div.sk-container {/* jupyter's `normalize.less` sets `[hidden] { display: none; }` but bootstrap.min.css set `[hidden] { display: none !important; }` so we also need the `!important` here to be able to override the default hidden behavior on the sphinx rendered scikit-learn.org. See: https://github.com/scikit-learn/scikit-learn/issues/21755 */display: inline-block !important;position: relative;}#sk-container-id-42 div.sk-text-repr-fallback {display: none;}</style><div id=\"sk-container-id-42\" class=\"sk-top-container\"><div class=\"sk-text-repr-fallback\"><pre>XGBRegressor(base_score=None, booster=None, callbacks=None,\n",
       "             colsample_bylevel=None, colsample_bynode=None,\n",
       "             colsample_bytree=None, early_stopping_rounds=None,\n",
       "             enable_categorical=False, eval_metric=None, feature_types=None,\n",
       "             gamma=None, gpu_id=None, grow_policy=None, importance_type=None,\n",
       "             interaction_constraints=None, learning_rate=None, max_bin=None,\n",
       "             max_cat_threshold=None, max_cat_to_onehot=None,\n",
       "             max_delta_step=None, max_depth=None, max_leaves=None,\n",
       "             min_child_weight=None, missing=nan, monotone_constraints=None,\n",
       "             n_estimators=100, n_jobs=None, num_parallel_tree=None,\n",
       "             predictor=None, random_state=None, ...)</pre><b>In a Jupyter environment, please rerun this cell to show the HTML representation or trust the notebook. <br />On GitHub, the HTML representation is unable to render, please try loading this page with nbviewer.org.</b></div><div class=\"sk-container\" hidden><div class=\"sk-item\"><div class=\"sk-estimator sk-toggleable\"><input class=\"sk-toggleable__control sk-hidden--visually\" id=\"sk-estimator-id-42\" type=\"checkbox\" checked><label for=\"sk-estimator-id-42\" class=\"sk-toggleable__label sk-toggleable__label-arrow\">XGBRegressor</label><div class=\"sk-toggleable__content\"><pre>XGBRegressor(base_score=None, booster=None, callbacks=None,\n",
       "             colsample_bylevel=None, colsample_bynode=None,\n",
       "             colsample_bytree=None, early_stopping_rounds=None,\n",
       "             enable_categorical=False, eval_metric=None, feature_types=None,\n",
       "             gamma=None, gpu_id=None, grow_policy=None, importance_type=None,\n",
       "             interaction_constraints=None, learning_rate=None, max_bin=None,\n",
       "             max_cat_threshold=None, max_cat_to_onehot=None,\n",
       "             max_delta_step=None, max_depth=None, max_leaves=None,\n",
       "             min_child_weight=None, missing=nan, monotone_constraints=None,\n",
       "             n_estimators=100, n_jobs=None, num_parallel_tree=None,\n",
       "             predictor=None, random_state=None, ...)</pre></div></div></div></div></div>"
      ],
      "text/plain": [
       "XGBRegressor(base_score=None, booster=None, callbacks=None,\n",
       "             colsample_bylevel=None, colsample_bynode=None,\n",
       "             colsample_bytree=None, early_stopping_rounds=None,\n",
       "             enable_categorical=False, eval_metric=None, feature_types=None,\n",
       "             gamma=None, gpu_id=None, grow_policy=None, importance_type=None,\n",
       "             interaction_constraints=None, learning_rate=None, max_bin=None,\n",
       "             max_cat_threshold=None, max_cat_to_onehot=None,\n",
       "             max_delta_step=None, max_depth=None, max_leaves=None,\n",
       "             min_child_weight=None, missing=nan, monotone_constraints=None,\n",
       "             n_estimators=100, n_jobs=None, num_parallel_tree=None,\n",
       "             predictor=None, random_state=None, ...)"
      ]
     },
     "execution_count": 704,
     "metadata": {},
     "output_type": "execute_result"
    }
   ],
   "source": [
    "model = XGBRegressor()\n",
    "\n",
    "model.fit(X_train, Y_train)"
   ]
  },
  {
   "cell_type": "code",
   "execution_count": 705,
   "id": "cf5b704e-b2b1-46b4-9513-132e83cc3d6a",
   "metadata": {},
   "outputs": [],
   "source": [
    "predictions = model.predict(X_test)"
   ]
  },
  {
   "cell_type": "code",
   "execution_count": 706,
   "id": "5a85333b-8227-4bdf-b627-8425d0aa08c7",
   "metadata": {},
   "outputs": [
    {
     "data": {
      "image/png": "[encoded data removed]",
      "text/plain": [
       "<Figure size 640x480 with 1 Axes>"
      ]
     },
     "metadata": {},
     "output_type": "display_data"
    }
   ],
   "source": [
    "plt.plot(Y_test.values)\n",
    "plt.plot(predictions)\n",
    "plt.show()"
   ]
  },
  {
   "cell_type": "code",
   "execution_count": 707,
   "id": "de67173a-ab64-43c2-8f28-7b9d298338eb",
   "metadata": {},
   "outputs": [
    {
     "data": {
      "text/plain": [
       "0.0003623453055708204"
      ]
     },
     "execution_count": 707,
     "metadata": {},
     "output_type": "execute_result"
    }
   ],
   "source": [
    "rms = mean_squared_error(Y_test.values, predictions, squared=False)\n",
    "rms"
   ]
  },
  {
   "cell_type": "code",
   "execution_count": 708,
   "id": "70e32a5c-1a7e-4292-962a-d0e441d80701",
   "metadata": {},
   "outputs": [
    {
     "data": {
      "text/plain": [
       "0.7030403998334027"
      ]
     },
     "execution_count": 708,
     "metadata": {},
     "output_type": "execute_result"
    }
   ],
   "source": [
    "trend_accuracy(Y_test.values, predictions)"
   ]
  },
  {
   "cell_type": "code",
   "execution_count": 709,
   "id": "5f9d236c-5f8d-4664-b702-c336583c24f1",
   "metadata": {},
   "outputs": [
    {
     "data": {
      "image/png": "[encoded data removed]",
      "text/plain": [
       "<Figure size 640x480 with 1 Axes>"
      ]
     },
     "metadata": {},
     "output_type": "display_data"
    }
   ],
   "source": [
    "plt.bar(X_train.columns, model.feature_importances_)\n",
    "plt.xticks(rotation='vertical')\n",
    "plt.show()"
   ]
  },
  {
   "cell_type": "code",
   "execution_count": 710,
   "id": "a0b0b04f-6b64-48c5-8c94-286b63ef29a5",
   "metadata": {},
   "outputs": [],
   "source": [
    "pickle.dump(model, open(os.path.join(\"../\", \"models\", \"main_model.pkl\"), 'wb'))"
   ]
  },
  {
   "cell_type": "markdown",
   "id": "9a7ba418-e289-474b-bb3f-6f5c8bd07f05",
   "metadata": {},
   "source": [
    "# Catboost"
   ]
  },
  {
   "cell_type": "code",
   "execution_count": 677,
   "id": "0c89b47b-f1a4-4da7-b016-e196bdadcdcc",
   "metadata": {},
   "outputs": [
    {
     "name": "stdout",
     "output_type": "stream",
     "text": [
      "0:\tlearn: 0.0005473\ttotal: 1.99ms\tremaining: 7.96ms\n",
      "1:\tlearn: 0.0005416\ttotal: 4.21ms\tremaining: 6.31ms\n",
      "2:\tlearn: 0.0005365\ttotal: 6.15ms\tremaining: 4.1ms\n",
      "3:\tlearn: 0.0005268\ttotal: 7.96ms\tremaining: 1.99ms\n",
      "4:\tlearn: 0.0005218\ttotal: 9.72ms\tremaining: 0us\n"
     ]
    }
   ],
   "source": [
    "from catboost import CatBoostRegressor\n",
    "\n",
    "model = CatBoostRegressor(iterations=5,\n",
    "                          learning_rate=1,\n",
    "                          depth=2)\n",
    "\n",
    "model.fit(X_train, Y_train)\n",
    "\n",
    "predictions = model.predict(X_test)"
   ]
  },
  {
   "cell_type": "code",
   "execution_count": 678,
   "id": "f04efe85-d407-416e-bc30-fe53ba6c022e",
   "metadata": {},
   "outputs": [
    {
     "data": {
      "image/png": "[encoded data removed]",
      "text/plain": [
       "<Figure size 640x480 with 1 Axes>"
      ]
     },
     "metadata": {},
     "output_type": "display_data"
    }
   ],
   "source": [
    "plt.plot(Y_test.values)\n",
    "plt.plot(predictions)\n",
    "plt.show()"
   ]
  },
  {
   "cell_type": "code",
   "execution_count": 679,
   "id": "7d76d3bb-0b12-4352-9c80-747a1053e2ec",
   "metadata": {},
   "outputs": [
    {
     "data": {
      "text/plain": [
       "0.00041744650378649275"
      ]
     },
     "execution_count": 679,
     "metadata": {},
     "output_type": "execute_result"
    }
   ],
   "source": [
    "rms = mean_squared_error(Y_test.values, predictions, squared=False)\n",
    "rms"
   ]
  },
  {
   "cell_type": "code",
   "execution_count": 680,
   "id": "d5f98240-07b4-4654-9d8a-35e05ebb5a45",
   "metadata": {},
   "outputs": [
    {
     "data": {
      "text/plain": [
       "0.5985006247396918"
      ]
     },
     "execution_count": 680,
     "metadata": {},
     "output_type": "execute_result"
    }
   ],
   "source": [
    "trend_accuracy(Y_test, predictions)"
   ]
  },
  {
   "cell_type": "code",
   "execution_count": 681,
   "id": "5fa51c3d-cb8e-4a88-a545-92e0418e1b04",
   "metadata": {},
   "outputs": [
    {
     "data": {
      "image/png": "[encoded data removed]",
      "text/plain": [
       "<Figure size 640x480 with 1 Axes>"
      ]
     },
     "metadata": {},
     "output_type": "display_data"
    }
   ],
   "source": [
    "plt.bar(X_train.columns, model.feature_importances_)\n",
    "plt.xticks(rotation='vertical')\n",
    "plt.show()"
   ]
  },
  {
   "cell_type": "code",
   "execution_count": 625,
   "id": "f02c5006-3c1b-4fcf-9d0b-51a1812a9541",
   "metadata": {},
   "outputs": [],
   "source": [
    "result = pd.DataFrame({\"real\": Y_test, \"pred\": predictions})"
   ]
  },
  {
   "cell_type": "code",
   "execution_count": 650,
   "id": "c9778606-e51b-4449-bc9c-8bcfff528c4d",
   "metadata": {},
   "outputs": [],
   "source": [
    "def is_trade(row):\n",
    "    if row > 0.0001:\n",
    "        return 1\n",
    "    elif row < -0.0001:\n",
    "        return -1\n",
    "    else:\n",
    "        return 0"
   ]
  },
  {
   "cell_type": "code",
   "execution_count": 651,
   "id": "5fbb819a-850c-426c-ba1a-12ff1f95d563",
   "metadata": {},
   "outputs": [],
   "source": [
    "result['signal'] = result.pred.apply(is_trade) \n",
    "\n",
    "if result.iloc[-1].pred > 0.0001:\n",
    "    print(\"Trade\")"
   ]
  },
  {
   "cell_type": "code",
   "execution_count": 652,
   "id": "8a9a5aad-8be7-4274-bf37-e202ab06f662",
   "metadata": {},
   "outputs": [
    {
     "data": {
      "text/html": [
       "<div>\n",
       "<style scoped>\n",
       "    .dataframe tbody tr th:only-of-type {\n",
       "        vertical-align: middle;\n",
       "    }\n",
       "\n",
       "    .dataframe tbody tr th {\n",
       "        vertical-align: top;\n",
       "    }\n",
       "\n",
       "    .dataframe thead th {\n",
       "        text-align: right;\n",
       "    }\n",
       "</style>\n",
       "<table border=\"1\" class=\"dataframe\">\n",
       "  <thead>\n",
       "    <tr style=\"text-align: right;\">\n",
       "      <th></th>\n",
       "      <th>real</th>\n",
       "      <th>pred</th>\n",
       "      <th>signal</th>\n",
       "    </tr>\n",
       "    <tr>\n",
       "      <th>date</th>\n",
       "      <th></th>\n",
       "      <th></th>\n",
       "      <th></th>\n",
       "    </tr>\n",
       "  </thead>\n",
       "  <tbody>\n",
       "    <tr>\n",
       "      <th>2023-05-28 21:00:00</th>\n",
       "      <td>0.00015</td>\n",
       "      <td>-0.000008</td>\n",
       "      <td>0</td>\n",
       "    </tr>\n",
       "    <tr>\n",
       "      <th>2023-05-28 21:15:00</th>\n",
       "      <td>-0.00073</td>\n",
       "      <td>-0.000134</td>\n",
       "      <td>-1</td>\n",
       "    </tr>\n",
       "    <tr>\n",
       "      <th>2023-05-28 21:30:00</th>\n",
       "      <td>0.00020</td>\n",
       "      <td>-0.000008</td>\n",
       "      <td>0</td>\n",
       "    </tr>\n",
       "    <tr>\n",
       "      <th>2023-05-28 21:45:00</th>\n",
       "      <td>-0.00011</td>\n",
       "      <td>-0.000008</td>\n",
       "      <td>0</td>\n",
       "    </tr>\n",
       "    <tr>\n",
       "      <th>2023-05-28 22:00:00</th>\n",
       "      <td>-0.00018</td>\n",
       "      <td>0.000069</td>\n",
       "      <td>0</td>\n",
       "    </tr>\n",
       "    <tr>\n",
       "      <th>...</th>\n",
       "      <td>...</td>\n",
       "      <td>...</td>\n",
       "      <td>...</td>\n",
       "    </tr>\n",
       "    <tr>\n",
       "      <th>2023-07-03 01:00:00</th>\n",
       "      <td>-0.00038</td>\n",
       "      <td>-0.000232</td>\n",
       "      <td>-1</td>\n",
       "    </tr>\n",
       "    <tr>\n",
       "      <th>2023-07-03 01:15:00</th>\n",
       "      <td>0.00029</td>\n",
       "      <td>-0.000071</td>\n",
       "      <td>0</td>\n",
       "    </tr>\n",
       "    <tr>\n",
       "      <th>2023-07-03 01:30:00</th>\n",
       "      <td>0.00017</td>\n",
       "      <td>0.000510</td>\n",
       "      <td>1</td>\n",
       "    </tr>\n",
       "    <tr>\n",
       "      <th>2023-07-03 01:45:00</th>\n",
       "      <td>0.00068</td>\n",
       "      <td>0.000195</td>\n",
       "      <td>1</td>\n",
       "    </tr>\n",
       "    <tr>\n",
       "      <th>2023-07-03 02:00:00</th>\n",
       "      <td>-0.00039</td>\n",
       "      <td>0.000069</td>\n",
       "      <td>0</td>\n",
       "    </tr>\n",
       "  </tbody>\n",
       "</table>\n",
       "<p>2401 rows × 3 columns</p>\n",
       "</div>"
      ],
      "text/plain": [
       "                        real      pred  signal\n",
       "date                                          \n",
       "2023-05-28 21:00:00  0.00015 -0.000008       0\n",
       "2023-05-28 21:15:00 -0.00073 -0.000134      -1\n",
       "2023-05-28 21:30:00  0.00020 -0.000008       0\n",
       "2023-05-28 21:45:00 -0.00011 -0.000008       0\n",
       "2023-05-28 22:00:00 -0.00018  0.000069       0\n",
       "...                      ...       ...     ...\n",
       "2023-07-03 01:00:00 -0.00038 -0.000232      -1\n",
       "2023-07-03 01:15:00  0.00029 -0.000071       0\n",
       "2023-07-03 01:30:00  0.00017  0.000510       1\n",
       "2023-07-03 01:45:00  0.00068  0.000195       1\n",
       "2023-07-03 02:00:00 -0.00039  0.000069       0\n",
       "\n",
       "[2401 rows x 3 columns]"
      ]
     },
     "execution_count": 652,
     "metadata": {},
     "output_type": "execute_result"
    }
   ],
   "source": [
    "result"
   ]
  },
  {
   "cell_type": "code",
   "execution_count": 653,
   "id": "331f31e5-f8b9-4561-82ee-55481aeed8c2",
   "metadata": {},
   "outputs": [
    {
     "data": {
      "text/html": [
       "<div>\n",
       "<style scoped>\n",
       "    .dataframe tbody tr th:only-of-type {\n",
       "        vertical-align: middle;\n",
       "    }\n",
       "\n",
       "    .dataframe tbody tr th {\n",
       "        vertical-align: top;\n",
       "    }\n",
       "\n",
       "    .dataframe thead th {\n",
       "        text-align: right;\n",
       "    }\n",
       "</style>\n",
       "<table border=\"1\" class=\"dataframe\">\n",
       "  <thead>\n",
       "    <tr style=\"text-align: right;\">\n",
       "      <th></th>\n",
       "      <th>real</th>\n",
       "      <th>pred</th>\n",
       "      <th>signal</th>\n",
       "    </tr>\n",
       "    <tr>\n",
       "      <th>date</th>\n",
       "      <th></th>\n",
       "      <th></th>\n",
       "      <th></th>\n",
       "    </tr>\n",
       "  </thead>\n",
       "  <tbody>\n",
       "    <tr>\n",
       "      <th>2023-05-28 21:15:00</th>\n",
       "      <td>-0.00073</td>\n",
       "      <td>-0.000134</td>\n",
       "      <td>-1</td>\n",
       "    </tr>\n",
       "    <tr>\n",
       "      <th>2023-05-28 22:45:00</th>\n",
       "      <td>-0.00047</td>\n",
       "      <td>-0.000134</td>\n",
       "      <td>-1</td>\n",
       "    </tr>\n",
       "    <tr>\n",
       "      <th>2023-05-28 23:00:00</th>\n",
       "      <td>-0.00002</td>\n",
       "      <td>-0.000134</td>\n",
       "      <td>-1</td>\n",
       "    </tr>\n",
       "    <tr>\n",
       "      <th>2023-05-28 23:15:00</th>\n",
       "      <td>0.00030</td>\n",
       "      <td>-0.000134</td>\n",
       "      <td>-1</td>\n",
       "    </tr>\n",
       "    <tr>\n",
       "      <th>2023-05-28 23:30:00</th>\n",
       "      <td>0.00004</td>\n",
       "      <td>-0.000134</td>\n",
       "      <td>-1</td>\n",
       "    </tr>\n",
       "    <tr>\n",
       "      <th>...</th>\n",
       "      <td>...</td>\n",
       "      <td>...</td>\n",
       "      <td>...</td>\n",
       "    </tr>\n",
       "    <tr>\n",
       "      <th>2023-07-03 00:00:00</th>\n",
       "      <td>-0.00012</td>\n",
       "      <td>0.000132</td>\n",
       "      <td>1</td>\n",
       "    </tr>\n",
       "    <tr>\n",
       "      <th>2023-07-03 00:45:00</th>\n",
       "      <td>-0.00022</td>\n",
       "      <td>-0.000108</td>\n",
       "      <td>-1</td>\n",
       "    </tr>\n",
       "    <tr>\n",
       "      <th>2023-07-03 01:00:00</th>\n",
       "      <td>-0.00038</td>\n",
       "      <td>-0.000232</td>\n",
       "      <td>-1</td>\n",
       "    </tr>\n",
       "    <tr>\n",
       "      <th>2023-07-03 01:30:00</th>\n",
       "      <td>0.00017</td>\n",
       "      <td>0.000510</td>\n",
       "      <td>1</td>\n",
       "    </tr>\n",
       "    <tr>\n",
       "      <th>2023-07-03 01:45:00</th>\n",
       "      <td>0.00068</td>\n",
       "      <td>0.000195</td>\n",
       "      <td>1</td>\n",
       "    </tr>\n",
       "  </tbody>\n",
       "</table>\n",
       "<p>1285 rows × 3 columns</p>\n",
       "</div>"
      ],
      "text/plain": [
       "                        real      pred  signal\n",
       "date                                          \n",
       "2023-05-28 21:15:00 -0.00073 -0.000134      -1\n",
       "2023-05-28 22:45:00 -0.00047 -0.000134      -1\n",
       "2023-05-28 23:00:00 -0.00002 -0.000134      -1\n",
       "2023-05-28 23:15:00  0.00030 -0.000134      -1\n",
       "2023-05-28 23:30:00  0.00004 -0.000134      -1\n",
       "...                      ...       ...     ...\n",
       "2023-07-03 00:00:00 -0.00012  0.000132       1\n",
       "2023-07-03 00:45:00 -0.00022 -0.000108      -1\n",
       "2023-07-03 01:00:00 -0.00038 -0.000232      -1\n",
       "2023-07-03 01:30:00  0.00017  0.000510       1\n",
       "2023-07-03 01:45:00  0.00068  0.000195       1\n",
       "\n",
       "[1285 rows x 3 columns]"
      ]
     },
     "execution_count": 653,
     "metadata": {},
     "output_type": "execute_result"
    }
   ],
   "source": [
    "result[result.signal != 0]"
   ]
  },
  {
   "cell_type": "code",
   "execution_count": 683,
   "id": "f0df34ac-7e49-448c-a987-2b1e6557b58c",
   "metadata": {},
   "outputs": [],
   "source": [
    "loaded_model = pickle.load(open(filename, 'rb'))"
   ]
  },
  {
   "cell_type": "code",
   "execution_count": 724,
   "id": "75debf1d-2bf6-4675-9105-641e307a6a47",
   "metadata": {},
   "outputs": [],
   "source": [
    "class MAModel:\n",
    "    def __init__(self, means: list):\n",
    "         self.means = means\n",
    "\n",
    "    def predict(self, df):\n",
    "        target = df[\"close\"]\n",
    "\n",
    "        ma_cols = []\n",
    "        for i, mean in enumerate(self.means):\n",
    "            name = \"MA_\" + str(mean)\n",
    "            df[name] = target.rolling(window=mean).mean()\n",
    "            df[name] = df[name].shift(periods=i)\n",
    "            ma_cols.append(name)\n",
    "\n",
    "        df[\"diff\"] = df[ma_cols[0]] - df[ma_cols[1]]\n",
    "        df[\"diff\"] = df[\"diff\"].astype(float)\n",
    "        df[\"diff_prev\"] = df[\"diff\"].shift(1)\n",
    "\n",
    "        df.dropna(how=\"any\", inplace=True)\n",
    "        df.reset_index(drop=True, inplace=True)\n",
    "\n",
    "        def is_trade(row):\n",
    "            if row[\"diff\"] >= 0 and row[\"diff_prev\"] < 0:\n",
    "                return 1\n",
    "            if row[\"diff\"] <= 0 and row[\"diff_prev\"] > 0:\n",
    "                return -1\n",
    "\n",
    "            return 0\n",
    "\n",
    "        df[\"is_trade\"] = df.apply(is_trade, axis=1)\n",
    "\n",
    "        # return df.iloc[0][\"is_trade\"]\n",
    "        df_trades = df[df.is_trade != 0].copy().reset_index()\n",
    "\n",
    "        df_trades[\"delta\"] = (df_trades.close.diff() / 0.0001).shift(-1)\n",
    "        df_trades[\"gain\"] = (\n",
    "            df_trades[\"delta\"] * df_trades[\"is_trade\"] + 10 * df_trades[\"is_trade\"]\n",
    "        )    \n",
    "        \n",
    "        return df"
   ]
  },
  {
   "cell_type": "code",
   "execution_count": 725,
   "id": "37a97c50-2558-4df2-909e-289474b6c2d4",
   "metadata": {},
   "outputs": [
    {
     "data": {
      "text/html": [
       "<div>\n",
       "<style scoped>\n",
       "    .dataframe tbody tr th:only-of-type {\n",
       "        vertical-align: middle;\n",
       "    }\n",
       "\n",
       "    .dataframe tbody tr th {\n",
       "        vertical-align: top;\n",
       "    }\n",
       "\n",
       "    .dataframe thead th {\n",
       "        text-align: right;\n",
       "    }\n",
       "</style>\n",
       "<table border=\"1\" class=\"dataframe\">\n",
       "  <thead>\n",
       "    <tr style=\"text-align: right;\">\n",
       "      <th></th>\n",
       "      <th>open</th>\n",
       "      <th>close</th>\n",
       "      <th>high</th>\n",
       "      <th>low</th>\n",
       "      <th>volume</th>\n",
       "      <th>RSI</th>\n",
       "      <th>EMAF</th>\n",
       "      <th>EMAM</th>\n",
       "      <th>EMAS</th>\n",
       "      <th>EMAS2</th>\n",
       "      <th>gain</th>\n",
       "      <th>future_gain</th>\n",
       "      <th>STOCHk_14_3_3</th>\n",
       "      <th>STOCHd_14_3_3</th>\n",
       "      <th>MA_10</th>\n",
       "      <th>MA_20</th>\n",
       "      <th>diff</th>\n",
       "      <th>diff_prev</th>\n",
       "      <th>is_trade</th>\n",
       "    </tr>\n",
       "  </thead>\n",
       "  <tbody>\n",
       "    <tr>\n",
       "      <th>0</th>\n",
       "      <td>1.06132</td>\n",
       "      <td>1.06139</td>\n",
       "      <td>1.06193</td>\n",
       "      <td>1.06117</td>\n",
       "      <td>14496.0</td>\n",
       "      <td>56.838872</td>\n",
       "      <td>1.060670</td>\n",
       "      <td>1.059067</td>\n",
       "      <td>1.060010</td>\n",
       "      <td>1.059294</td>\n",
       "      <td>0.00008</td>\n",
       "      <td>0.00147</td>\n",
       "      <td>43.294050</td>\n",
       "      <td>30.142543</td>\n",
       "      <td>1.060697</td>\n",
       "      <td>1.061142</td>\n",
       "      <td>-0.000445</td>\n",
       "      <td>-0.000402</td>\n",
       "      <td>0</td>\n",
       "    </tr>\n",
       "    <tr>\n",
       "      <th>1</th>\n",
       "      <td>1.06139</td>\n",
       "      <td>1.06103</td>\n",
       "      <td>1.06167</td>\n",
       "      <td>1.06080</td>\n",
       "      <td>15607.0</td>\n",
       "      <td>54.426260</td>\n",
       "      <td>1.060704</td>\n",
       "      <td>1.059106</td>\n",
       "      <td>1.060024</td>\n",
       "      <td>1.059323</td>\n",
       "      <td>-0.00036</td>\n",
       "      <td>0.00008</td>\n",
       "      <td>61.129944</td>\n",
       "      <td>44.921781</td>\n",
       "      <td>1.060691</td>\n",
       "      <td>1.061165</td>\n",
       "      <td>-0.000474</td>\n",
       "      <td>-0.000445</td>\n",
       "      <td>0</td>\n",
       "    </tr>\n",
       "    <tr>\n",
       "      <th>2</th>\n",
       "      <td>1.06103</td>\n",
       "      <td>1.06143</td>\n",
       "      <td>1.06144</td>\n",
       "      <td>1.06018</td>\n",
       "      <td>18165.0</td>\n",
       "      <td>56.618400</td>\n",
       "      <td>1.060773</td>\n",
       "      <td>1.059152</td>\n",
       "      <td>1.060043</td>\n",
       "      <td>1.059357</td>\n",
       "      <td>0.00040</td>\n",
       "      <td>-0.00036</td>\n",
       "      <td>62.485876</td>\n",
       "      <td>55.636623</td>\n",
       "      <td>1.060787</td>\n",
       "      <td>1.061138</td>\n",
       "      <td>-0.000352</td>\n",
       "      <td>-0.000474</td>\n",
       "      <td>0</td>\n",
       "    </tr>\n",
       "    <tr>\n",
       "      <th>3</th>\n",
       "      <td>1.06144</td>\n",
       "      <td>1.06119</td>\n",
       "      <td>1.06181</td>\n",
       "      <td>1.06114</td>\n",
       "      <td>14822.0</td>\n",
       "      <td>54.920157</td>\n",
       "      <td>1.060813</td>\n",
       "      <td>1.059192</td>\n",
       "      <td>1.060058</td>\n",
       "      <td>1.059388</td>\n",
       "      <td>-0.00024</td>\n",
       "      <td>0.00040</td>\n",
       "      <td>60.225989</td>\n",
       "      <td>61.280603</td>\n",
       "      <td>1.060866</td>\n",
       "      <td>1.061163</td>\n",
       "      <td>-0.000296</td>\n",
       "      <td>-0.000352</td>\n",
       "      <td>0</td>\n",
       "    </tr>\n",
       "    <tr>\n",
       "      <th>4</th>\n",
       "      <td>1.06120</td>\n",
       "      <td>1.06106</td>\n",
       "      <td>1.06187</td>\n",
       "      <td>1.06077</td>\n",
       "      <td>23878.0</td>\n",
       "      <td>53.980489</td>\n",
       "      <td>1.060836</td>\n",
       "      <td>1.059229</td>\n",
       "      <td>1.060071</td>\n",
       "      <td>1.059415</td>\n",
       "      <td>-0.00013</td>\n",
       "      <td>-0.00024</td>\n",
       "      <td>61.341159</td>\n",
       "      <td>61.351008</td>\n",
       "      <td>1.060886</td>\n",
       "      <td>1.061098</td>\n",
       "      <td>-0.000212</td>\n",
       "      <td>-0.000296</td>\n",
       "      <td>0</td>\n",
       "    </tr>\n",
       "    <tr>\n",
       "      <th>...</th>\n",
       "      <td>...</td>\n",
       "      <td>...</td>\n",
       "      <td>...</td>\n",
       "      <td>...</td>\n",
       "      <td>...</td>\n",
       "      <td>...</td>\n",
       "      <td>...</td>\n",
       "      <td>...</td>\n",
       "      <td>...</td>\n",
       "      <td>...</td>\n",
       "      <td>...</td>\n",
       "      <td>...</td>\n",
       "      <td>...</td>\n",
       "      <td>...</td>\n",
       "      <td>...</td>\n",
       "      <td>...</td>\n",
       "      <td>...</td>\n",
       "      <td>...</td>\n",
       "      <td>...</td>\n",
       "    </tr>\n",
       "    <tr>\n",
       "      <th>12138</th>\n",
       "      <td>1.09009</td>\n",
       "      <td>1.09038</td>\n",
       "      <td>1.09042</td>\n",
       "      <td>1.09006</td>\n",
       "      <td>5785.0</td>\n",
       "      <td>44.715693</td>\n",
       "      <td>1.090735</td>\n",
       "      <td>1.089450</td>\n",
       "      <td>1.089370</td>\n",
       "      <td>1.089366</td>\n",
       "      <td>0.00029</td>\n",
       "      <td>-0.00038</td>\n",
       "      <td>15.177045</td>\n",
       "      <td>17.550733</td>\n",
       "      <td>1.090648</td>\n",
       "      <td>1.090883</td>\n",
       "      <td>-0.000235</td>\n",
       "      <td>-0.000226</td>\n",
       "      <td>0</td>\n",
       "    </tr>\n",
       "    <tr>\n",
       "      <th>12139</th>\n",
       "      <td>1.09038</td>\n",
       "      <td>1.09055</td>\n",
       "      <td>1.09067</td>\n",
       "      <td>1.09035</td>\n",
       "      <td>5132.0</td>\n",
       "      <td>47.961156</td>\n",
       "      <td>1.090718</td>\n",
       "      <td>1.089472</td>\n",
       "      <td>1.089386</td>\n",
       "      <td>1.089386</td>\n",
       "      <td>0.00017</td>\n",
       "      <td>0.00029</td>\n",
       "      <td>28.461538</td>\n",
       "      <td>19.054523</td>\n",
       "      <td>1.090609</td>\n",
       "      <td>1.090843</td>\n",
       "      <td>-0.000233</td>\n",
       "      <td>-0.000235</td>\n",
       "      <td>0</td>\n",
       "    </tr>\n",
       "    <tr>\n",
       "      <th>12140</th>\n",
       "      <td>1.09054</td>\n",
       "      <td>1.09123</td>\n",
       "      <td>1.09172</td>\n",
       "      <td>1.09054</td>\n",
       "      <td>8240.0</td>\n",
       "      <td>58.421901</td>\n",
       "      <td>1.090766</td>\n",
       "      <td>1.089507</td>\n",
       "      <td>1.089410</td>\n",
       "      <td>1.089416</td>\n",
       "      <td>0.00068</td>\n",
       "      <td>0.00017</td>\n",
       "      <td>49.384615</td>\n",
       "      <td>31.007733</td>\n",
       "      <td>1.090646</td>\n",
       "      <td>1.090812</td>\n",
       "      <td>-0.000166</td>\n",
       "      <td>-0.000233</td>\n",
       "      <td>0</td>\n",
       "    </tr>\n",
       "    <tr>\n",
       "      <th>12141</th>\n",
       "      <td>1.09123</td>\n",
       "      <td>1.09084</td>\n",
       "      <td>1.09140</td>\n",
       "      <td>1.09062</td>\n",
       "      <td>6745.0</td>\n",
       "      <td>51.998768</td>\n",
       "      <td>1.090773</td>\n",
       "      <td>1.089533</td>\n",
       "      <td>1.089429</td>\n",
       "      <td>1.089440</td>\n",
       "      <td>-0.00039</td>\n",
       "      <td>0.00068</td>\n",
       "      <td>55.443223</td>\n",
       "      <td>44.429792</td>\n",
       "      <td>1.090651</td>\n",
       "      <td>1.090811</td>\n",
       "      <td>-0.000161</td>\n",
       "      <td>-0.000166</td>\n",
       "      <td>0</td>\n",
       "    </tr>\n",
       "    <tr>\n",
       "      <th>12142</th>\n",
       "      <td>1.09085</td>\n",
       "      <td>1.09094</td>\n",
       "      <td>1.09099</td>\n",
       "      <td>1.09068</td>\n",
       "      <td>5710.0</td>\n",
       "      <td>53.406107</td>\n",
       "      <td>1.090789</td>\n",
       "      <td>1.089561</td>\n",
       "      <td>1.089449</td>\n",
       "      <td>1.089464</td>\n",
       "      <td>0.00010</td>\n",
       "      <td>-0.00039</td>\n",
       "      <td>59.047619</td>\n",
       "      <td>54.625153</td>\n",
       "      <td>1.090666</td>\n",
       "      <td>1.090791</td>\n",
       "      <td>-0.000126</td>\n",
       "      <td>-0.000161</td>\n",
       "      <td>0</td>\n",
       "    </tr>\n",
       "  </tbody>\n",
       "</table>\n",
       "<p>12143 rows × 19 columns</p>\n",
       "</div>"
      ],
      "text/plain": [
       "          open    close     high      low   volume        RSI      EMAF  \\\n",
       "0      1.06132  1.06139  1.06193  1.06117  14496.0  56.838872  1.060670   \n",
       "1      1.06139  1.06103  1.06167  1.06080  15607.0  54.426260  1.060704   \n",
       "2      1.06103  1.06143  1.06144  1.06018  18165.0  56.618400  1.060773   \n",
       "3      1.06144  1.06119  1.06181  1.06114  14822.0  54.920157  1.060813   \n",
       "4      1.06120  1.06106  1.06187  1.06077  23878.0  53.980489  1.060836   \n",
       "...        ...      ...      ...      ...      ...        ...       ...   \n",
       "12138  1.09009  1.09038  1.09042  1.09006   5785.0  44.715693  1.090735   \n",
       "12139  1.09038  1.09055  1.09067  1.09035   5132.0  47.961156  1.090718   \n",
       "12140  1.09054  1.09123  1.09172  1.09054   8240.0  58.421901  1.090766   \n",
       "12141  1.09123  1.09084  1.09140  1.09062   6745.0  51.998768  1.090773   \n",
       "12142  1.09085  1.09094  1.09099  1.09068   5710.0  53.406107  1.090789   \n",
       "\n",
       "           EMAM      EMAS     EMAS2     gain  future_gain  STOCHk_14_3_3  \\\n",
       "0      1.059067  1.060010  1.059294  0.00008      0.00147      43.294050   \n",
       "1      1.059106  1.060024  1.059323 -0.00036      0.00008      61.129944   \n",
       "2      1.059152  1.060043  1.059357  0.00040     -0.00036      62.485876   \n",
       "3      1.059192  1.060058  1.059388 -0.00024      0.00040      60.225989   \n",
       "4      1.059229  1.060071  1.059415 -0.00013     -0.00024      61.341159   \n",
       "...         ...       ...       ...      ...          ...            ...   \n",
       "12138  1.089450  1.089370  1.089366  0.00029     -0.00038      15.177045   \n",
       "12139  1.089472  1.089386  1.089386  0.00017      0.00029      28.461538   \n",
       "12140  1.089507  1.089410  1.089416  0.00068      0.00017      49.384615   \n",
       "12141  1.089533  1.089429  1.089440 -0.00039      0.00068      55.443223   \n",
       "12142  1.089561  1.089449  1.089464  0.00010     -0.00039      59.047619   \n",
       "\n",
       "       STOCHd_14_3_3     MA_10     MA_20      diff  diff_prev  is_trade  \n",
       "0          30.142543  1.060697  1.061142 -0.000445  -0.000402         0  \n",
       "1          44.921781  1.060691  1.061165 -0.000474  -0.000445         0  \n",
       "2          55.636623  1.060787  1.061138 -0.000352  -0.000474         0  \n",
       "3          61.280603  1.060866  1.061163 -0.000296  -0.000352         0  \n",
       "4          61.351008  1.060886  1.061098 -0.000212  -0.000296         0  \n",
       "...              ...       ...       ...       ...        ...       ...  \n",
       "12138      17.550733  1.090648  1.090883 -0.000235  -0.000226         0  \n",
       "12139      19.054523  1.090609  1.090843 -0.000233  -0.000235         0  \n",
       "12140      31.007733  1.090646  1.090812 -0.000166  -0.000233         0  \n",
       "12141      44.429792  1.090651  1.090811 -0.000161  -0.000166         0  \n",
       "12142      54.625153  1.090666  1.090791 -0.000126  -0.000161         0  \n",
       "\n",
       "[12143 rows x 19 columns]"
      ]
     },
     "execution_count": 725,
     "metadata": {},
     "output_type": "execute_result"
    }
   ],
   "source": [
    "model = MAModel([10,20])\n",
    "model.predict(df)"
   ]
  },
  {
   "cell_type": "code",
   "execution_count": 726,
   "id": "530372ad-c5c0-4c79-b0e8-181c4e12c21d",
   "metadata": {},
   "outputs": [],
   "source": [
    "filename = os.path.join(\"../\", \"models\", \"main_model.pkl\")"
   ]
  },
  {
   "cell_type": "code",
   "execution_count": 727,
   "id": "a108e34f-9176-4773-b68c-ec87f05ebece",
   "metadata": {},
   "outputs": [],
   "source": [
    "pickle.dump(model, open(filename, 'wb'))"
   ]
  },
  {
   "cell_type": "code",
   "execution_count": 728,
   "id": "a8010e9d-529a-41ad-b351-bdd946e7f8df",
   "metadata": {},
   "outputs": [],
   "source": [
    "loaded_model = pickle.load(open(filename, 'rb'))"
   ]
  },
  {
   "cell_type": "code",
   "execution_count": null,
   "id": "7eeed3a0-6167-4ea0-9927-863f68ab14d1",
   "metadata": {},
   "outputs": [],
   "source": []
  }
 ],
 "metadata": {
  "kernelspec": {
   "display_name": "Python 3 (ipykernel)",
   "language": "python",
   "name": "python3"
  },
  "language_info": {
   "codemirror_mode": {
    "name": "ipython",
    "version": 3
   },
   "file_extension": ".py",
   "mimetype": "text/x-python",
   "name": "python",
   "nbconvert_exporter": "python",
   "pygments_lexer": "ipython3",
   "version": "3.10.6"
  }
 },
 "nbformat": 4,
 "nbformat_minor": 5
}
