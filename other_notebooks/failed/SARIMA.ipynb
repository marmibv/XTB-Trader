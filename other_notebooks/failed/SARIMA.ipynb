{
 "cells": [
  {
   "cell_type": "code",
   "execution_count": 26,
   "id": "95e17f34-bb19-4c1a-8467-110a0e5b143e",
   "metadata": {},
   "outputs": [],
   "source": [
    "import pandas as pd\n",
    "import numpy as np\n",
    "import matplotlib.pyplot as plt\n",
    "import statsmodels.graphics.tsaplots as sgt\n",
    "import statsmodels.tsa.stattools as sts\n",
    "from statsmodels.tsa.arima.model import ARIMA\n",
    "from scipy.stats.distributions import chi2 \n",
    "from math import sqrt\n",
    "from utility import utility\n",
    "import plotly.graph_objects as go\n",
    "import warnings\n",
    "import scipy.stats as stats\n",
    "warnings.filterwarnings(\"ignore\")"
   ]
  },
  {
   "cell_type": "code",
   "execution_count": 27,
   "id": "e3abc09a-3fcb-408b-8dd1-77f6b152baf6",
   "metadata": {},
   "outputs": [
    {
     "name": "stdout",
     "output_type": "stream",
     "text": [
      "[*********************100%***********************]  1 of 1 completed\n"
     ]
    }
   ],
   "source": [
    "data = utility.collect_yf(\"EURUSD\", \"7d\", \"1m\")"
   ]
  },
  {
   "cell_type": "code",
   "execution_count": 28,
   "id": "95dfb407-cb7b-4ab6-8f66-18dc34fcf637",
   "metadata": {},
   "outputs": [],
   "source": [
    "df_comp = data.copy()\n",
    "df_comp.set_index(\"datetime\", inplace=True)\n",
    "df_comp=df_comp.sort_index()"
   ]
  },
  {
   "cell_type": "code",
   "execution_count": 29,
   "id": "90ba51ed-c425-45d2-a1bb-22d3bb94fa26",
   "metadata": {},
   "outputs": [
    {
     "data": {
      "text/plain": [
       "9302"
      ]
     },
     "execution_count": 29,
     "metadata": {},
     "output_type": "execute_result"
    }
   ],
   "source": [
    "len(df_comp)"
   ]
  },
  {
   "cell_type": "markdown",
   "id": "bef69225-951f-48d8-a89a-b635ff4eeb99",
   "metadata": {},
   "source": [
    "# Test for stationarity"
   ]
  },
  {
   "cell_type": "code",
   "execution_count": 30,
   "id": "95187ad4-779c-45ee-8106-80a3e8e427c9",
   "metadata": {},
   "outputs": [
    {
     "name": "stdout",
     "output_type": "stream",
     "text": [
      "There isn't enough proves to reject that data isn't stationary with a 0.99% of confidence\n",
      "There isn't enough proves to reject that data isn't stationary with a 0.95% of confidence\n",
      "There isn't enough proves to reject that data isn't stationary with a 0.90% of confidence\n"
     ]
    }
   ],
   "source": [
    "# Splitting data in training and testing\n",
    "size = int(len(df_comp)*0.9)\n",
    "df, df_test = df_comp.iloc[:size], df_comp.iloc[size:]\n",
    "\n",
    "# Testing stationarity\n",
    "test_statistic, p_value, used_lag, n_obs, critical_values, maximized_information_criterion = sts.adfuller(df.close)\n",
    "\n",
    "for k,v in critical_values.items():\n",
    "    if test_statistic < v:\n",
    "        print(\"Data is stationary with a %.2f%% of confidence\" % (1-(float(k.rstrip('%')))/100))\n",
    "    else:\n",
    "        print(\"There isn't enough proves to reject that data isn't stationary with a %.2f%% of confidence\"% (1-(float(k.rstrip('%')))/100))\n"
   ]
  },
  {
   "cell_type": "code",
   "execution_count": 31,
   "id": "64e1d141-206c-4b8f-97f1-62dde16380a9",
   "metadata": {},
   "outputs": [],
   "source": [
    "## Functions\n",
    "\n",
    "def LLR_test(mod_1, mod_2, DF = 1):\n",
    "    L1 = mod_1.llf\n",
    "    L2 = mod_2.llf\n",
    "    LR = (2*(L2-L1))    \n",
    "    p = chi2.sf(LR, DF).round(3)\n",
    "    return p\n",
    "\n",
    "# create a N-order differenced series\n",
    "def difference(dataset, interval=1):\n",
    "    diff = list()\n",
    "    for i in range(interval, len(dataset)):\n",
    "        value = dataset[i] - dataset[i - interval]\n",
    "        diff.append(value)\n",
    "    return np.array(diff)\n",
    "\n",
    "# invert differenced value\n",
    "def inverse_difference(history, yhat, interval=1):\n",
    "    history = list(history)\n",
    "    n = len(yhat)\n",
    "    if len(yhat) == 1:\n",
    "        value = yhat[i] + history[-interval]\n",
    "        history.append(value)\n",
    "    else:\n",
    "        value = yhat[0] + history[-interval]\n",
    "        history.append(value)\n",
    "        \n",
    "        for i in range(1, n):\n",
    "            value = yhat[i] + history[-interval]\n",
    "            history.append(value)\n",
    "    return np.array(history[-n:])"
   ]
  },
  {
   "cell_type": "code",
   "execution_count": 32,
   "id": "c53b4767-68e7-4513-85ac-ff0f5ade9eed",
   "metadata": {},
   "outputs": [
    {
     "name": "stdout",
     "output_type": "stream",
     "text": [
      "Data is stationary with a 0.99% of confidence\n",
      "Data is stationary with a 0.95% of confidence\n",
      "Data is stationary with a 0.90% of confidence\n"
     ]
    }
   ],
   "source": [
    "x = df.close.values\n",
    "\n",
    "# Regarding 1 ordered differenced time serie\n",
    "differenced = difference(x, 1)\n",
    "\n",
    "# Testing stationarity\n",
    "test_statistic, p_value, used_lag, n_obs, critical_values, maximized_information_criterion = sts.adfuller(differenced)\n",
    "\n",
    "for k,v in critical_values.items():\n",
    "    if test_statistic < v:\n",
    "        print(\"Data is stationary with a %.2f%% of confidence\" % (1-(float(k.rstrip('%')))/100))\n",
    "    else:\n",
    "        print(\"There isn't enough proves to reject that data isn't stationary with a %.2f%% of confidence\"% (1-(float(k.rstrip('%')))/100))"
   ]
  },
  {
   "cell_type": "code",
   "execution_count": 33,
   "id": "833341ce-ae3e-42cd-9dde-96dd78cbde59",
   "metadata": {},
   "outputs": [
    {
     "data": {
      "image/png": "[encoded data removed]",
      "text/plain": [
       "<Figure size 640x480 with 1 Axes>"
      ]
     },
     "metadata": {},
     "output_type": "display_data"
    }
   ],
   "source": [
    "## ARIMA(1,0,1)\n",
    "\n",
    "model_ar_1_i_0_ma_1 = ARIMA(differenced, order=(1,0,1))\n",
    "results_ar_1_i_0_ma_1 = model_ar_1_i_0_ma_1.fit()\n",
    "results_ar_1_i_0_ma_1.summary()\n",
    "\n",
    "## Residuals of the ARIMA(1,0,1)\n",
    "\n",
    "df['res_ar_1_i_0_ma_1'] = np.concatenate([0,results_ar_1_i_0_ma_1.resid], axis=None)\n",
    "sgt.plot_acf(df.res_ar_1_i_0_ma_1[1:], zero = False, lags = 40)\n",
    "plt.title(\"ACF Of Residuals for ARIMA(1,0,1)\",size=20)\n",
    "plt.show()"
   ]
  },
  {
   "cell_type": "code",
   "execution_count": 41,
   "id": "b5ab0d3e-25b1-4a86-9873-316802802e13",
   "metadata": {},
   "outputs": [],
   "source": [
    "def arima(p,d,q):\n",
    "    ## ARIMA(1,0,1)\n",
    "\n",
    "    x = df.close.values\n",
    "\n",
    "    # Regarding 1 ordered differenced time serie\n",
    "    differenced = difference(x, 1)\n",
    "    model_ar_1_i_0_ma_1 = ARIMA(differenced, order=(p,d,q))\n",
    "    results_ar_1_i_0_ma_1 = model_ar_1_i_0_ma_1.fit()\n",
    "    return results_ar_1_i_0_ma_1"
   ]
  },
  {
   "cell_type": "code",
   "execution_count": 43,
   "id": "26208772-60c9-4f0d-86f8-9d2b9fb02cf0",
   "metadata": {},
   "outputs": [
    {
     "name": "stdout",
     "output_type": "stream",
     "text": [
      "ARIMA(5,0,5):  \t LL =  61572.329595042 \t AIC =  -123120.659190084\n",
      "ARIMA(5,0,4):  \t LL =  61572.27341512599 \t AIC =  -123393.25587533116\n",
      "ARIMA(4,0,5):  \t LL =  61707.62793766558 \t AIC =  -123393.25587533116\n",
      "ARIMA(5,0,3):  \t LL =  61706.786286652605 \t AIC =  -123393.57257330521\n",
      "ARIMA(3,0,5):  \t LL =  61707.61083621138 \t AIC =  -123395.22167242276\n"
     ]
    }
   ],
   "source": [
    "results_ar_5_i_0_ma_5_differenced = arima(5,0,5)\n",
    "results_ar_3_i_0_ma_5_differenced = arima(3,0,5)\n",
    "results_ar_5_i_0_ma_3_differenced = arima(5,0,3)\n",
    "results_ar_5_i_0_ma_4_differenced = arima(5,0,4)\n",
    "results_ar_4_i_0_ma_5_differenced = arima(4,0,5)\n",
    "print(\"ARIMA(5,0,5):  \\t LL = \", results_ar_5_i_0_ma_5_differenced.llf, \"\\t AIC = \", results_ar_5_i_0_ma_5_differenced.aic)\n",
    "\n",
    "print(\"ARIMA(5,0,4):  \\t LL = \", results_ar_5_i_0_ma_4_differenced.llf, \"\\t AIC = \", results_ar_4_i_0_ma_5_differenced.aic)\n",
    "\n",
    "print(\"ARIMA(4,0,5):  \\t LL = \", results_ar_4_i_0_ma_5_differenced.llf, \"\\t AIC = \", results_ar_4_i_0_ma_5_differenced.aic)\n",
    "\n",
    "print(\"ARIMA(5,0,3):  \\t LL = \", results_ar_5_i_0_ma_3_differenced.llf, \"\\t AIC = \", results_ar_5_i_0_ma_3_differenced.aic)\n",
    "\n",
    "print(\"ARIMA(3,0,5):  \\t LL = \", results_ar_3_i_0_ma_5_differenced.llf, \"\\t AIC = \", results_ar_3_i_0_ma_5_differenced.aic)"
   ]
  },
  {
   "cell_type": "code",
   "execution_count": 44,
   "id": "ba5c2a2f-55fe-4ca3-9f42-2194d725be3f",
   "metadata": {},
   "outputs": [
    {
     "data": {
      "text/html": [
       "<table class=\"simpletable\">\n",
       "<caption>SARIMAX Results</caption>\n",
       "<tr>\n",
       "  <th>Dep. Variable:</th>           <td>y</td>        <th>  No. Observations:  </th>    <td>8370</td>    \n",
       "</tr>\n",
       "<tr>\n",
       "  <th>Model:</th>            <td>ARIMA(5, 0, 5)</td>  <th>  Log Likelihood     </th>  <td>61572.330</td> \n",
       "</tr>\n",
       "<tr>\n",
       "  <th>Date:</th>            <td>Fri, 16 Jun 2023</td> <th>  AIC                </th> <td>-123120.659</td>\n",
       "</tr>\n",
       "<tr>\n",
       "  <th>Time:</th>                <td>14:51:47</td>     <th>  BIC                </th> <td>-123036.270</td>\n",
       "</tr>\n",
       "<tr>\n",
       "  <th>Sample:</th>                  <td>0</td>        <th>  HQIC               </th> <td>-123091.840</td>\n",
       "</tr>\n",
       "<tr>\n",
       "  <th></th>                      <td> - 8370</td>     <th>                     </th>      <td> </td>     \n",
       "</tr>\n",
       "<tr>\n",
       "  <th>Covariance Type:</th>        <td>opg</td>       <th>                     </th>      <td> </td>     \n",
       "</tr>\n",
       "</table>\n",
       "<table class=\"simpletable\">\n",
       "<tr>\n",
       "     <td></td>       <th>coef</th>     <th>std err</th>      <th>z</th>      <th>P>|z|</th>  <th>[0.025</th>    <th>0.975]</th>  \n",
       "</tr>\n",
       "<tr>\n",
       "  <th>const</th>  <td> 2.983e-06</td> <td> 1.64e-06</td> <td>    1.815</td> <td> 0.069</td> <td>-2.37e-07</td> <td>  6.2e-06</td>\n",
       "</tr>\n",
       "<tr>\n",
       "  <th>ar.L1</th>  <td>        -0</td> <td> 8.89e-11</td> <td>       -0</td> <td> 1.000</td> <td>-1.74e-10</td> <td> 1.74e-10</td>\n",
       "</tr>\n",
       "<tr>\n",
       "  <th>ar.L2</th>  <td>        -0</td> <td>  6.9e-12</td> <td>       -0</td> <td> 1.000</td> <td>-1.35e-11</td> <td> 1.35e-11</td>\n",
       "</tr>\n",
       "<tr>\n",
       "  <th>ar.L3</th>  <td>        -0</td> <td> 2.72e-11</td> <td>       -0</td> <td> 1.000</td> <td>-5.33e-11</td> <td> 5.33e-11</td>\n",
       "</tr>\n",
       "<tr>\n",
       "  <th>ar.L4</th>  <td>        -0</td> <td> 2.51e-11</td> <td>       -0</td> <td> 1.000</td> <td>-4.91e-11</td> <td> 4.91e-11</td>\n",
       "</tr>\n",
       "<tr>\n",
       "  <th>ar.L5</th>  <td>         0</td> <td> 7.29e-12</td> <td>        0</td> <td> 1.000</td> <td>-1.43e-11</td> <td> 1.43e-11</td>\n",
       "</tr>\n",
       "<tr>\n",
       "  <th>ma.L1</th>  <td>         0</td> <td> 8.89e-11</td> <td>        0</td> <td> 1.000</td> <td>-1.74e-10</td> <td> 1.74e-10</td>\n",
       "</tr>\n",
       "<tr>\n",
       "  <th>ma.L2</th>  <td>         0</td> <td>  6.9e-12</td> <td>        0</td> <td> 1.000</td> <td>-1.35e-11</td> <td> 1.35e-11</td>\n",
       "</tr>\n",
       "<tr>\n",
       "  <th>ma.L3</th>  <td>         0</td> <td> 2.72e-11</td> <td>        0</td> <td> 1.000</td> <td>-5.33e-11</td> <td> 5.33e-11</td>\n",
       "</tr>\n",
       "<tr>\n",
       "  <th>ma.L4</th>  <td>         0</td> <td> 2.51e-11</td> <td>        0</td> <td> 1.000</td> <td>-4.91e-11</td> <td> 4.91e-11</td>\n",
       "</tr>\n",
       "<tr>\n",
       "  <th>ma.L5</th>  <td>        -0</td> <td> 7.29e-12</td> <td>       -0</td> <td> 1.000</td> <td>-1.43e-11</td> <td> 1.43e-11</td>\n",
       "</tr>\n",
       "<tr>\n",
       "  <th>sigma2</th> <td> 2.312e-08</td> <td> 8.26e-11</td> <td>  279.854</td> <td> 0.000</td> <td>  2.3e-08</td> <td> 2.33e-08</td>\n",
       "</tr>\n",
       "</table>\n",
       "<table class=\"simpletable\">\n",
       "<tr>\n",
       "  <th>Ljung-Box (L1) (Q):</th>     <td>218.35</td> <th>  Jarque-Bera (JB):  </th> <td>397278.31</td>\n",
       "</tr>\n",
       "<tr>\n",
       "  <th>Prob(Q):</th>                 <td>0.00</td>  <th>  Prob(JB):          </th>   <td>0.00</td>   \n",
       "</tr>\n",
       "<tr>\n",
       "  <th>Heteroskedasticity (H):</th>  <td>0.87</td>  <th>  Skew:              </th>   <td>-0.55</td>  \n",
       "</tr>\n",
       "<tr>\n",
       "  <th>Prob(H) (two-sided):</th>     <td>0.00</td>  <th>  Kurtosis:          </th>   <td>36.73</td>  \n",
       "</tr>\n",
       "</table><br/><br/>Warnings:<br/>[1] Covariance matrix calculated using the outer product of gradients (complex-step).<br/>[2] Covariance matrix is singular or near-singular, with condition number 7.31e+27. Standard errors may be unstable."
      ],
      "text/plain": [
       "<class 'statsmodels.iolib.summary.Summary'>\n",
       "\"\"\"\n",
       "                               SARIMAX Results                                \n",
       "==============================================================================\n",
       "Dep. Variable:                      y   No. Observations:                 8370\n",
       "Model:                 ARIMA(5, 0, 5)   Log Likelihood               61572.330\n",
       "Date:                Fri, 16 Jun 2023   AIC                        -123120.659\n",
       "Time:                        14:51:47   BIC                        -123036.270\n",
       "Sample:                             0   HQIC                       -123091.840\n",
       "                               - 8370                                         \n",
       "Covariance Type:                  opg                                         \n",
       "==============================================================================\n",
       "                 coef    std err          z      P>|z|      [0.025      0.975]\n",
       "------------------------------------------------------------------------------\n",
       "const       2.983e-06   1.64e-06      1.815      0.069   -2.37e-07     6.2e-06\n",
       "ar.L1              -0   8.89e-11         -0      1.000   -1.74e-10    1.74e-10\n",
       "ar.L2              -0    6.9e-12         -0      1.000   -1.35e-11    1.35e-11\n",
       "ar.L3              -0   2.72e-11         -0      1.000   -5.33e-11    5.33e-11\n",
       "ar.L4              -0   2.51e-11         -0      1.000   -4.91e-11    4.91e-11\n",
       "ar.L5               0   7.29e-12          0      1.000   -1.43e-11    1.43e-11\n",
       "ma.L1               0   8.89e-11          0      1.000   -1.74e-10    1.74e-10\n",
       "ma.L2               0    6.9e-12          0      1.000   -1.35e-11    1.35e-11\n",
       "ma.L3               0   2.72e-11          0      1.000   -5.33e-11    5.33e-11\n",
       "ma.L4               0   2.51e-11          0      1.000   -4.91e-11    4.91e-11\n",
       "ma.L5              -0   7.29e-12         -0      1.000   -1.43e-11    1.43e-11\n",
       "sigma2      2.312e-08   8.26e-11    279.854      0.000     2.3e-08    2.33e-08\n",
       "===================================================================================\n",
       "Ljung-Box (L1) (Q):                 218.35   Jarque-Bera (JB):            397278.31\n",
       "Prob(Q):                              0.00   Prob(JB):                         0.00\n",
       "Heteroskedasticity (H):               0.87   Skew:                            -0.55\n",
       "Prob(H) (two-sided):                  0.00   Kurtosis:                        36.73\n",
       "===================================================================================\n",
       "\n",
       "Warnings:\n",
       "[1] Covariance matrix calculated using the outer product of gradients (complex-step).\n",
       "[2] Covariance matrix is singular or near-singular, with condition number 7.31e+27. Standard errors may be unstable.\n",
       "\"\"\""
      ]
     },
     "execution_count": 44,
     "metadata": {},
     "output_type": "execute_result"
    }
   ],
   "source": [
    "model_ar_5_i_0_ma_5_differenced = ARIMA(differenced, order=(5,0,5))\n",
    "results_ar_5_i_0_ma_5_differenced = model_ar_5_i_0_ma_5_differenced.fit()\n",
    "results_ar_5_i_0_ma_5_differenced.summary()"
   ]
  },
  {
   "cell_type": "code",
   "execution_count": null,
   "id": "e686cc2b-7a1e-4cf9-ab71-05280a0427a2",
   "metadata": {},
   "outputs": [],
   "source": []
  }
 ],
 "metadata": {
  "kernelspec": {
   "display_name": "Python 3 (ipykernel)",
   "language": "python",
   "name": "python3"
  },
  "language_info": {
   "codemirror_mode": {
    "name": "ipython",
    "version": 3
   },
   "file_extension": ".py",
   "mimetype": "text/x-python",
   "name": "python",
   "nbconvert_exporter": "python",
   "pygments_lexer": "ipython3",
   "version": "3.10.6"
  }
 },
 "nbformat": 4,
 "nbformat_minor": 5
}
