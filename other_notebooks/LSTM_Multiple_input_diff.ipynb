{
 "cells": [
  {
   "cell_type": "code",
   "execution_count": 138,
   "id": "e6f65fc3-e4c6-4b9c-91e3-2fc42b3dcfc5",
   "metadata": {},
   "outputs": [],
   "source": [
    "import numpy as np\n",
    "import matplotlib.pyplot as plt\n",
    "import pandas as pd\n",
    "import yfinance as yf\n",
    "from sklearn.preprocessing import MinMaxScaler\n",
    "import pandas_ta as ta"
   ]
  },
  {
   "cell_type": "code",
   "execution_count": 171,
   "id": "5cb6b7f8-3804-4204-a1a2-6d8e8821e9d6",
   "metadata": {},
   "outputs": [],
   "source": [
    "import warnings\n",
    "warnings.filterwarnings(\"ignore\")"
   ]
  },
  {
   "cell_type": "markdown",
   "id": "ecd554ac-5100-4171-b298-6b05ad0b70f8",
   "metadata": {},
   "source": [
    "# Data import"
   ]
  },
  {
   "cell_type": "code",
   "execution_count": 172,
   "id": "ce405c5f-ef92-4615-9065-7446d592cd42",
   "metadata": {},
   "outputs": [
    {
     "name": "stdout",
     "output_type": "stream",
     "text": [
      "[*********************100%***********************]  1 of 1 completed\n"
     ]
    },
    {
     "data": {
      "text/html": [
       "<div>\n",
       "<style scoped>\n",
       "    .dataframe tbody tr th:only-of-type {\n",
       "        vertical-align: middle;\n",
       "    }\n",
       "\n",
       "    .dataframe tbody tr th {\n",
       "        vertical-align: top;\n",
       "    }\n",
       "\n",
       "    .dataframe thead th {\n",
       "        text-align: right;\n",
       "    }\n",
       "</style>\n",
       "<table border=\"1\" class=\"dataframe\">\n",
       "  <thead>\n",
       "    <tr style=\"text-align: right;\">\n",
       "      <th></th>\n",
       "      <th>Open</th>\n",
       "      <th>High</th>\n",
       "      <th>Low</th>\n",
       "      <th>Close</th>\n",
       "      <th>Adj Close</th>\n",
       "      <th>Volume</th>\n",
       "    </tr>\n",
       "    <tr>\n",
       "      <th>Date</th>\n",
       "      <th></th>\n",
       "      <th></th>\n",
       "      <th></th>\n",
       "      <th></th>\n",
       "      <th></th>\n",
       "      <th></th>\n",
       "    </tr>\n",
       "  </thead>\n",
       "  <tbody>\n",
       "    <tr>\n",
       "      <th>2023-05-29 13:55:00</th>\n",
       "      <td>1.071582</td>\n",
       "      <td>1.071811</td>\n",
       "      <td>1.071582</td>\n",
       "      <td>1.071811</td>\n",
       "      <td>1.071811</td>\n",
       "      <td>0</td>\n",
       "    </tr>\n",
       "    <tr>\n",
       "      <th>2023-05-29 14:00:00</th>\n",
       "      <td>1.071697</td>\n",
       "      <td>1.072156</td>\n",
       "      <td>1.071697</td>\n",
       "      <td>1.071811</td>\n",
       "      <td>1.071811</td>\n",
       "      <td>0</td>\n",
       "    </tr>\n",
       "    <tr>\n",
       "      <th>2023-05-29 14:05:00</th>\n",
       "      <td>1.071811</td>\n",
       "      <td>1.071811</td>\n",
       "      <td>1.071582</td>\n",
       "      <td>1.071697</td>\n",
       "      <td>1.071697</td>\n",
       "      <td>0</td>\n",
       "    </tr>\n",
       "    <tr>\n",
       "      <th>2023-05-29 14:10:00</th>\n",
       "      <td>1.071697</td>\n",
       "      <td>1.071697</td>\n",
       "      <td>1.071697</td>\n",
       "      <td>1.071697</td>\n",
       "      <td>1.071697</td>\n",
       "      <td>0</td>\n",
       "    </tr>\n",
       "    <tr>\n",
       "      <th>2023-05-29 14:15:00</th>\n",
       "      <td>1.071926</td>\n",
       "      <td>1.072041</td>\n",
       "      <td>1.071237</td>\n",
       "      <td>1.071237</td>\n",
       "      <td>1.071237</td>\n",
       "      <td>0</td>\n",
       "    </tr>\n",
       "    <tr>\n",
       "      <th>...</th>\n",
       "      <td>...</td>\n",
       "      <td>...</td>\n",
       "      <td>...</td>\n",
       "      <td>...</td>\n",
       "      <td>...</td>\n",
       "      <td>...</td>\n",
       "    </tr>\n",
       "    <tr>\n",
       "      <th>2023-06-29 13:30:00</th>\n",
       "      <td>1.092657</td>\n",
       "      <td>1.092657</td>\n",
       "      <td>1.090869</td>\n",
       "      <td>1.090869</td>\n",
       "      <td>1.090869</td>\n",
       "      <td>0</td>\n",
       "    </tr>\n",
       "    <tr>\n",
       "      <th>2023-06-29 13:35:00</th>\n",
       "      <td>1.090750</td>\n",
       "      <td>1.091107</td>\n",
       "      <td>1.090513</td>\n",
       "      <td>1.091107</td>\n",
       "      <td>1.091107</td>\n",
       "      <td>0</td>\n",
       "    </tr>\n",
       "    <tr>\n",
       "      <th>2023-06-29 13:40:00</th>\n",
       "      <td>1.091227</td>\n",
       "      <td>1.091227</td>\n",
       "      <td>1.090275</td>\n",
       "      <td>1.090750</td>\n",
       "      <td>1.090750</td>\n",
       "      <td>0</td>\n",
       "    </tr>\n",
       "    <tr>\n",
       "      <th>2023-06-29 13:45:00</th>\n",
       "      <td>1.090513</td>\n",
       "      <td>1.090869</td>\n",
       "      <td>1.090394</td>\n",
       "      <td>1.090394</td>\n",
       "      <td>1.090394</td>\n",
       "      <td>0</td>\n",
       "    </tr>\n",
       "    <tr>\n",
       "      <th>2023-06-29 13:50:00</th>\n",
       "      <td>1.089918</td>\n",
       "      <td>1.090037</td>\n",
       "      <td>1.088969</td>\n",
       "      <td>1.088969</td>\n",
       "      <td>1.088969</td>\n",
       "      <td>0</td>\n",
       "    </tr>\n",
       "  </tbody>\n",
       "</table>\n",
       "<p>6544 rows × 6 columns</p>\n",
       "</div>"
      ],
      "text/plain": [
       "                         Open      High       Low     Close  Adj Close  Volume\n",
       "Date                                                                          \n",
       "2023-05-29 13:55:00  1.071582  1.071811  1.071582  1.071811   1.071811       0\n",
       "2023-05-29 14:00:00  1.071697  1.072156  1.071697  1.071811   1.071811       0\n",
       "2023-05-29 14:05:00  1.071811  1.071811  1.071582  1.071697   1.071697       0\n",
       "2023-05-29 14:10:00  1.071697  1.071697  1.071697  1.071697   1.071697       0\n",
       "2023-05-29 14:15:00  1.071926  1.072041  1.071237  1.071237   1.071237       0\n",
       "...                       ...       ...       ...       ...        ...     ...\n",
       "2023-06-29 13:30:00  1.092657  1.092657  1.090869  1.090869   1.090869       0\n",
       "2023-06-29 13:35:00  1.090750  1.091107  1.090513  1.091107   1.091107       0\n",
       "2023-06-29 13:40:00  1.091227  1.091227  1.090275  1.090750   1.090750       0\n",
       "2023-06-29 13:45:00  1.090513  1.090869  1.090394  1.090394   1.090394       0\n",
       "2023-06-29 13:50:00  1.089918  1.090037  1.088969  1.088969   1.088969       0\n",
       "\n",
       "[6544 rows x 6 columns]"
      ]
     },
     "execution_count": 172,
     "metadata": {},
     "output_type": "execute_result"
    }
   ],
   "source": [
    "data = yf.download(tickers = 'EURUSD=x', period='1mo', interval='5m')\n",
    "data.index.rename(\"Date\", inplace=True)\n",
    "data"
   ]
  },
  {
   "cell_type": "code",
   "execution_count": 173,
   "id": "0c71790a-b74a-42c0-96a1-b319d7ec5998",
   "metadata": {},
   "outputs": [
    {
     "data": {
      "text/plain": [
       "6544"
      ]
     },
     "execution_count": 173,
     "metadata": {},
     "output_type": "execute_result"
    }
   ],
   "source": [
    "len(data)"
   ]
  },
  {
   "cell_type": "markdown",
   "id": "8f3aa184-4640-447a-b53d-9f2f0eb3fe27",
   "metadata": {},
   "source": [
    "# Additional Features"
   ]
  },
  {
   "cell_type": "code",
   "execution_count": 174,
   "id": "68e700e1",
   "metadata": {},
   "outputs": [],
   "source": [
    "# Adding indicators\n",
    "data['RSI']=ta.rsi(data.Close, length=15)\n",
    "data['EMAF']=ta.ema(data.Close, length=20)\n",
    "data['EMAM']=ta.ema(data.Close, length=100)\n",
    "data['EMAS']=ta.ema(data.Close, length=150)\n",
    "\n",
    "data['Target'] = data['Adj Close']-data.Open\n",
    "data['Target'] = data['Target'].shift(-1)\n",
    "\n",
    "data['TargetClass'] = [1 if data.Target[i]>0 else 0 for i in range(len(data))]\n",
    "\n",
    "data['TargetNextClose'] = data['Adj Close'].shift(-1)\n",
    "\n",
    "data.dropna(inplace=True)\n",
    "data.reset_index(inplace = True)\n",
    "data.drop(['Volume', 'Close', 'Date'], axis=1, inplace=True)"
   ]
  },
  {
   "cell_type": "code",
   "execution_count": null,
   "id": "c1c9b403-2e21-4907-ba5c-da1c893c76bb",
   "metadata": {
    "tags": []
   },
   "outputs": [],
   "source": [
    "### Column choice "
   ]
  },
  {
   "cell_type": "code",
   "execution_count": 175,
   "id": "8cb23e56-ad87-4965-9147-3ac924a24358",
   "metadata": {},
   "outputs": [],
   "source": [
    "data_set = data.iloc[:, 0:len(data.columns)]#.values"
   ]
  },
  {
   "cell_type": "code",
   "execution_count": 176,
   "id": "b0f2efc0-dee1-40f0-b2d0-bfc97c1c433b",
   "metadata": {},
   "outputs": [],
   "source": [
    "pd.set_option('display.max_columns', None)\n",
    "#print(data_set.shape)\n",
    "#print(data.shape)\n",
    "#print(type(data_set))"
   ]
  },
  {
   "cell_type": "code",
   "execution_count": 177,
   "id": "eb3a2c0c",
   "metadata": {},
   "outputs": [],
   "source": [
    "#Target column Categories\n",
    "#y =[1 if data.Open[i]>data.Close[i] else 0 for i in range(0, len(data))]\n",
    "#yi = [data.Open[i]-data.Close[i] for i in range(0, len(data))]\n",
    "#print(yi)\n",
    "#print(len(yi))"
   ]
  },
  {
   "cell_type": "code",
   "execution_count": 178,
   "id": "d99658a5-29d6-4d04-ae12-cd55cd7399ad",
   "metadata": {},
   "outputs": [
    {
     "data": {
      "text/html": [
       "<div>\n",
       "<style scoped>\n",
       "    .dataframe tbody tr th:only-of-type {\n",
       "        vertical-align: middle;\n",
       "    }\n",
       "\n",
       "    .dataframe tbody tr th {\n",
       "        vertical-align: top;\n",
       "    }\n",
       "\n",
       "    .dataframe thead th {\n",
       "        text-align: right;\n",
       "    }\n",
       "</style>\n",
       "<table border=\"1\" class=\"dataframe\">\n",
       "  <thead>\n",
       "    <tr style=\"text-align: right;\">\n",
       "      <th></th>\n",
       "      <th>Open</th>\n",
       "      <th>High</th>\n",
       "      <th>Low</th>\n",
       "      <th>Adj Close</th>\n",
       "      <th>RSI</th>\n",
       "      <th>EMAF</th>\n",
       "      <th>EMAM</th>\n",
       "      <th>EMAS</th>\n",
       "      <th>Target</th>\n",
       "      <th>TargetClass</th>\n",
       "      <th>TargetNextClose</th>\n",
       "    </tr>\n",
       "  </thead>\n",
       "  <tbody>\n",
       "    <tr>\n",
       "      <th>0</th>\n",
       "      <td>1.072041</td>\n",
       "      <td>1.072271</td>\n",
       "      <td>1.072041</td>\n",
       "      <td>1.072271</td>\n",
       "      <td>59.267520</td>\n",
       "      <td>1.071866</td>\n",
       "      <td>1.071532</td>\n",
       "      <td>1.071470</td>\n",
       "      <td>0.000115</td>\n",
       "      <td>1</td>\n",
       "      <td>1.072386</td>\n",
       "    </tr>\n",
       "    <tr>\n",
       "      <th>1</th>\n",
       "      <td>1.072271</td>\n",
       "      <td>1.072731</td>\n",
       "      <td>1.072271</td>\n",
       "      <td>1.072386</td>\n",
       "      <td>60.902456</td>\n",
       "      <td>1.071915</td>\n",
       "      <td>1.071549</td>\n",
       "      <td>1.071482</td>\n",
       "      <td>0.000230</td>\n",
       "      <td>1</td>\n",
       "      <td>1.072616</td>\n",
       "    </tr>\n",
       "    <tr>\n",
       "      <th>2</th>\n",
       "      <td>1.072386</td>\n",
       "      <td>1.072846</td>\n",
       "      <td>1.072271</td>\n",
       "      <td>1.072616</td>\n",
       "      <td>63.998936</td>\n",
       "      <td>1.071982</td>\n",
       "      <td>1.071570</td>\n",
       "      <td>1.071497</td>\n",
       "      <td>-0.000345</td>\n",
       "      <td>0</td>\n",
       "      <td>1.072386</td>\n",
       "    </tr>\n",
       "    <tr>\n",
       "      <th>3</th>\n",
       "      <td>1.072731</td>\n",
       "      <td>1.072731</td>\n",
       "      <td>1.072386</td>\n",
       "      <td>1.072386</td>\n",
       "      <td>58.993029</td>\n",
       "      <td>1.072020</td>\n",
       "      <td>1.071587</td>\n",
       "      <td>1.071509</td>\n",
       "      <td>0.000000</td>\n",
       "      <td>0</td>\n",
       "      <td>1.072501</td>\n",
       "    </tr>\n",
       "    <tr>\n",
       "      <th>4</th>\n",
       "      <td>1.072501</td>\n",
       "      <td>1.072616</td>\n",
       "      <td>1.072386</td>\n",
       "      <td>1.072501</td>\n",
       "      <td>60.642230</td>\n",
       "      <td>1.072066</td>\n",
       "      <td>1.071605</td>\n",
       "      <td>1.071522</td>\n",
       "      <td>0.000115</td>\n",
       "      <td>1</td>\n",
       "      <td>1.072501</td>\n",
       "    </tr>\n",
       "    <tr>\n",
       "      <th>...</th>\n",
       "      <td>...</td>\n",
       "      <td>...</td>\n",
       "      <td>...</td>\n",
       "      <td>...</td>\n",
       "      <td>...</td>\n",
       "      <td>...</td>\n",
       "      <td>...</td>\n",
       "      <td>...</td>\n",
       "      <td>...</td>\n",
       "      <td>...</td>\n",
       "      <td>...</td>\n",
       "    </tr>\n",
       "    <tr>\n",
       "      <th>6389</th>\n",
       "      <td>1.093853</td>\n",
       "      <td>1.093972</td>\n",
       "      <td>1.093853</td>\n",
       "      <td>1.093853</td>\n",
       "      <td>62.190950</td>\n",
       "      <td>1.093606</td>\n",
       "      <td>1.092091</td>\n",
       "      <td>1.091859</td>\n",
       "      <td>-0.001788</td>\n",
       "      <td>0</td>\n",
       "      <td>1.090869</td>\n",
       "    </tr>\n",
       "    <tr>\n",
       "      <th>6390</th>\n",
       "      <td>1.092657</td>\n",
       "      <td>1.092657</td>\n",
       "      <td>1.090869</td>\n",
       "      <td>1.090869</td>\n",
       "      <td>25.538643</td>\n",
       "      <td>1.093346</td>\n",
       "      <td>1.092067</td>\n",
       "      <td>1.091846</td>\n",
       "      <td>0.000357</td>\n",
       "      <td>1</td>\n",
       "      <td>1.091107</td>\n",
       "    </tr>\n",
       "    <tr>\n",
       "      <th>6391</th>\n",
       "      <td>1.090750</td>\n",
       "      <td>1.091107</td>\n",
       "      <td>1.090513</td>\n",
       "      <td>1.091107</td>\n",
       "      <td>29.110865</td>\n",
       "      <td>1.093133</td>\n",
       "      <td>1.092048</td>\n",
       "      <td>1.091836</td>\n",
       "      <td>-0.000476</td>\n",
       "      <td>0</td>\n",
       "      <td>1.090750</td>\n",
       "    </tr>\n",
       "    <tr>\n",
       "      <th>6392</th>\n",
       "      <td>1.091227</td>\n",
       "      <td>1.091227</td>\n",
       "      <td>1.090275</td>\n",
       "      <td>1.090750</td>\n",
       "      <td>27.027367</td>\n",
       "      <td>1.092906</td>\n",
       "      <td>1.092022</td>\n",
       "      <td>1.091822</td>\n",
       "      <td>-0.000119</td>\n",
       "      <td>0</td>\n",
       "      <td>1.090394</td>\n",
       "    </tr>\n",
       "    <tr>\n",
       "      <th>6393</th>\n",
       "      <td>1.090513</td>\n",
       "      <td>1.090869</td>\n",
       "      <td>1.090394</td>\n",
       "      <td>1.090394</td>\n",
       "      <td>25.103621</td>\n",
       "      <td>1.092666</td>\n",
       "      <td>1.091990</td>\n",
       "      <td>1.091803</td>\n",
       "      <td>-0.000950</td>\n",
       "      <td>0</td>\n",
       "      <td>1.088969</td>\n",
       "    </tr>\n",
       "  </tbody>\n",
       "</table>\n",
       "<p>6394 rows × 11 columns</p>\n",
       "</div>"
      ],
      "text/plain": [
       "          Open      High       Low  Adj Close        RSI      EMAF      EMAM  \\\n",
       "0     1.072041  1.072271  1.072041   1.072271  59.267520  1.071866  1.071532   \n",
       "1     1.072271  1.072731  1.072271   1.072386  60.902456  1.071915  1.071549   \n",
       "2     1.072386  1.072846  1.072271   1.072616  63.998936  1.071982  1.071570   \n",
       "3     1.072731  1.072731  1.072386   1.072386  58.993029  1.072020  1.071587   \n",
       "4     1.072501  1.072616  1.072386   1.072501  60.642230  1.072066  1.071605   \n",
       "...        ...       ...       ...        ...        ...       ...       ...   \n",
       "6389  1.093853  1.093972  1.093853   1.093853  62.190950  1.093606  1.092091   \n",
       "6390  1.092657  1.092657  1.090869   1.090869  25.538643  1.093346  1.092067   \n",
       "6391  1.090750  1.091107  1.090513   1.091107  29.110865  1.093133  1.092048   \n",
       "6392  1.091227  1.091227  1.090275   1.090750  27.027367  1.092906  1.092022   \n",
       "6393  1.090513  1.090869  1.090394   1.090394  25.103621  1.092666  1.091990   \n",
       "\n",
       "          EMAS    Target  TargetClass  TargetNextClose  \n",
       "0     1.071470  0.000115            1         1.072386  \n",
       "1     1.071482  0.000230            1         1.072616  \n",
       "2     1.071497 -0.000345            0         1.072386  \n",
       "3     1.071509  0.000000            0         1.072501  \n",
       "4     1.071522  0.000115            1         1.072501  \n",
       "...        ...       ...          ...              ...  \n",
       "6389  1.091859 -0.001788            0         1.090869  \n",
       "6390  1.091846  0.000357            1         1.091107  \n",
       "6391  1.091836 -0.000476            0         1.090750  \n",
       "6392  1.091822 -0.000119            0         1.090394  \n",
       "6393  1.091803 -0.000950            0         1.088969  \n",
       "\n",
       "[6394 rows x 11 columns]"
      ]
     },
     "execution_count": 178,
     "metadata": {},
     "output_type": "execute_result"
    }
   ],
   "source": [
    "data_set"
   ]
  },
  {
   "cell_type": "code",
   "execution_count": null,
   "id": "b1a8ba89-132a-4947-93d6-e058e1f00c99",
   "metadata": {},
   "outputs": [],
   "source": [
    "# Preparation for training"
   ]
  },
  {
   "cell_type": "code",
   "execution_count": null,
   "id": "dd3f7ae8-2dc7-43ce-a533-7628391835b1",
   "metadata": {},
   "outputs": [],
   "source": [
    "### MinMax Scaling"
   ]
  },
  {
   "cell_type": "code",
   "execution_count": 179,
   "id": "b9d38e4c",
   "metadata": {},
   "outputs": [
    {
     "name": "stdout",
     "output_type": "stream",
     "text": [
      "[[0.21665168 0.22044113 0.22188793 ... 0.59383951 1.         0.22587816]\n",
      " [0.22280054 0.23278898 0.22809855 ... 0.62973848 1.         0.2320334 ]\n",
      " [0.22587816 0.23587914 0.22809855 ... 0.45024367 0.         0.22587816]\n",
      " ...\n",
      " [0.71718747 0.72590969 0.7210214  ... 0.40935977 0.         0.71718747]\n",
      " [0.72992531 0.72910542 0.71459496 ... 0.52085116 0.         0.70764206]\n",
      " [0.71082174 0.71952144 0.71780979 ... 0.26163461 0.         0.66952104]]\n"
     ]
    }
   ],
   "source": [
    "sc = MinMaxScaler(feature_range=(0,1))\n",
    "data_set_scaled = sc.fit_transform(data_set)\n",
    "print(data_set_scaled)"
   ]
  },
  {
   "cell_type": "code",
   "execution_count": null,
   "id": "80fb41bb-2b47-4a2c-97cc-2c21d91362f7",
   "metadata": {},
   "outputs": [],
   "source": [
    "### BackCandles parameter"
   ]
  },
  {
   "cell_type": "code",
   "execution_count": 180,
   "id": "67a18537-f9ac-4c5a-9753-8bc69aa48754",
   "metadata": {},
   "outputs": [],
   "source": [
    "backcandles = 30"
   ]
  },
  {
   "cell_type": "code",
   "execution_count": 181,
   "id": "99ca74fd",
   "metadata": {},
   "outputs": [
    {
     "name": "stdout",
     "output_type": "stream",
     "text": [
      "6394\n"
     ]
    }
   ],
   "source": [
    "# multiple feature from data provided to the model\n",
    "X = []\n",
    "#print(data_set_scaled[0].size)\n",
    "#data_set_scaled=data_set.values\n",
    "print(data_set_scaled.shape[0])\n",
    "for j in range(data_set_scaled.shape[1] - 3):#data_set_scaled[0].size):#2 columns are target not X\n",
    "    X.append([])\n",
    "    for i in range(backcandles, data_set_scaled.shape[0]):#backcandles+2\n",
    "        X[j].append(data_set_scaled[i-backcandles:i, j])\n",
    "\n",
    "#move axis from 0 to position 2\n",
    "X=np.moveaxis(X, [0], [2])\n",
    "\n",
    "#Erase first elements of y because of backcandles to match X length\n",
    "#del(yi[0:backcandles])\n",
    "#X, yi = np.array(X), np.array(yi)\n",
    "# Choose -1 for last column, classification else -2...\n",
    "X, yi =np.array(X), np.array(data_set_scaled[backcandles:,-3])\n",
    "y=np.reshape(yi,(len(yi),1))\n",
    "#y=sc.fit_transform(yi)\n",
    "#X_train = np.reshape(X_train, (X_train.shape[0], X_train.shape[1], 1))\n",
    "# print(X)\n",
    "# print(X.shape)\n",
    "# print(y)\n",
    "# print(y.shape)"
   ]
  },
  {
   "cell_type": "code",
   "execution_count": 182,
   "id": "c01b699a",
   "metadata": {},
   "outputs": [],
   "source": [
    "#also comprehensions for X\n",
    "#X = np.array([data_set_scaled[i-backcandles:i,:4].copy() for i in range(backcandles,len(data_set_scaled))])\n",
    "#print(X)\n",
    "#print(X.shape)"
   ]
  },
  {
   "cell_type": "code",
   "execution_count": null,
   "id": "0e823c0d-4f5a-4f57-a646-877692cd675b",
   "metadata": {},
   "outputs": [],
   "source": [
    "# Train Test Split"
   ]
  },
  {
   "cell_type": "code",
   "execution_count": 183,
   "id": "a2a87918",
   "metadata": {},
   "outputs": [
    {
     "name": "stdout",
     "output_type": "stream",
     "text": [
      "Train length: 5091\n",
      "Test length: 1273\n",
      "Ratio: 0.7999685732243872\n"
     ]
    }
   ],
   "source": [
    "# split data into train test sets\n",
    "splitlimit = int(len(X)*0.8)\n",
    "# print(splitlimit)\n",
    "X_train, X_test = X[:splitlimit], X[splitlimit:]\n",
    "y_train, y_test = y[:splitlimit], y[splitlimit:]\n",
    "print(\"Train length: {}\\nTest length: {}\\nRatio: {}\".format(X_train.shape[0], X_test.shape[0], X_train.shape[0]/(X_train.shape[0] + X_test.shape[0])))\n",
    "# print(X_train.shape)\n",
    "# print(X_test.shape)\n",
    "# print(y_train.shape)\n",
    "# print(y_test.shape)\n",
    "# print(y_train)"
   ]
  },
  {
   "cell_type": "code",
   "execution_count": null,
   "id": "957200e1-8c78-44f6-b8b1-a33e4ed2f94e",
   "metadata": {},
   "outputs": [],
   "source": [
    "# Model"
   ]
  },
  {
   "cell_type": "code",
   "execution_count": 190,
   "id": "9867161a",
   "metadata": {
    "tags": []
   },
   "outputs": [
    {
     "name": "stdout",
     "output_type": "stream",
     "text": [
      "Epoch 1/30\n"
     ]
    },
    {
     "name": "stderr",
     "output_type": "stream",
     "text": [
      "2023-06-29 14:58:51.675762: I tensorflow/core/common_runtime/executor.cc:1197] [/device:CPU:0] (DEBUG INFO) Executor start aborting (this does not indicate an error and you can ignore this message): INVALID_ARGUMENT: You must feed a value for placeholder tensor 'gradients/split_2_grad/concat/split_2/split_dim' with dtype int32\n",
      "\t [[{{node gradients/split_2_grad/concat/split_2/split_dim}}]]\n",
      "2023-06-29 14:58:51.676690: I tensorflow/core/common_runtime/executor.cc:1197] [/device:CPU:0] (DEBUG INFO) Executor start aborting (this does not indicate an error and you can ignore this message): INVALID_ARGUMENT: You must feed a value for placeholder tensor 'gradients/split_grad/concat/split/split_dim' with dtype int32\n",
      "\t [[{{node gradients/split_grad/concat/split/split_dim}}]]\n",
      "2023-06-29 14:58:51.677301: I tensorflow/core/common_runtime/executor.cc:1197] [/device:CPU:0] (DEBUG INFO) Executor start aborting (this does not indicate an error and you can ignore this message): INVALID_ARGUMENT: You must feed a value for placeholder tensor 'gradients/split_1_grad/concat/split_1/split_dim' with dtype int32\n",
      "\t [[{{node gradients/split_1_grad/concat/split_1/split_dim}}]]\n",
      "2023-06-29 14:58:51.827241: I tensorflow/core/common_runtime/executor.cc:1197] [/device:CPU:0] (DEBUG INFO) Executor start aborting (this does not indicate an error and you can ignore this message): INVALID_ARGUMENT: You must feed a value for placeholder tensor 'gradients/split_2_grad/concat/split_2/split_dim' with dtype int32\n",
      "\t [[{{node gradients/split_2_grad/concat/split_2/split_dim}}]]\n",
      "2023-06-29 14:58:51.828050: I tensorflow/core/common_runtime/executor.cc:1197] [/device:CPU:0] (DEBUG INFO) Executor start aborting (this does not indicate an error and you can ignore this message): INVALID_ARGUMENT: You must feed a value for placeholder tensor 'gradients/split_grad/concat/split/split_dim' with dtype int32\n",
      "\t [[{{node gradients/split_grad/concat/split/split_dim}}]]\n",
      "2023-06-29 14:58:51.828739: I tensorflow/core/common_runtime/executor.cc:1197] [/device:CPU:0] (DEBUG INFO) Executor start aborting (this does not indicate an error and you can ignore this message): INVALID_ARGUMENT: You must feed a value for placeholder tensor 'gradients/split_1_grad/concat/split_1/split_dim' with dtype int32\n",
      "\t [[{{node gradients/split_1_grad/concat/split_1/split_dim}}]]\n",
      "2023-06-29 14:58:52.109191: I tensorflow/core/common_runtime/executor.cc:1197] [/device:CPU:0] (DEBUG INFO) Executor start aborting (this does not indicate an error and you can ignore this message): INVALID_ARGUMENT: You must feed a value for placeholder tensor 'gradients/split_2_grad/concat/split_2/split_dim' with dtype int32\n",
      "\t [[{{node gradients/split_2_grad/concat/split_2/split_dim}}]]\n",
      "2023-06-29 14:58:52.110492: I tensorflow/core/common_runtime/executor.cc:1197] [/device:CPU:0] (DEBUG INFO) Executor start aborting (this does not indicate an error and you can ignore this message): INVALID_ARGUMENT: You must feed a value for placeholder tensor 'gradients/split_grad/concat/split/split_dim' with dtype int32\n",
      "\t [[{{node gradients/split_grad/concat/split/split_dim}}]]\n",
      "2023-06-29 14:58:52.111223: I tensorflow/core/common_runtime/executor.cc:1197] [/device:CPU:0] (DEBUG INFO) Executor start aborting (this does not indicate an error and you can ignore this message): INVALID_ARGUMENT: You must feed a value for placeholder tensor 'gradients/split_1_grad/concat/split_1/split_dim' with dtype int32\n",
      "\t [[{{node gradients/split_1_grad/concat/split_1/split_dim}}]]\n"
     ]
    },
    {
     "name": "stdout",
     "output_type": "stream",
     "text": [
      "306/306 [==============================] - 3s 8ms/step - loss: 0.0130 - val_loss: 0.0048\n",
      "Epoch 2/30\n",
      "  1/306 [..............................] - ETA: 3s - loss: 0.0036"
     ]
    },
    {
     "name": "stderr",
     "output_type": "stream",
     "text": [
      "2023-06-29 14:58:54.929346: I tensorflow/core/common_runtime/executor.cc:1197] [/device:CPU:0] (DEBUG INFO) Executor start aborting (this does not indicate an error and you can ignore this message): INVALID_ARGUMENT: You must feed a value for placeholder tensor 'gradients/split_2_grad/concat/split_2/split_dim' with dtype int32\n",
      "\t [[{{node gradients/split_2_grad/concat/split_2/split_dim}}]]\n",
      "2023-06-29 14:58:54.930183: I tensorflow/core/common_runtime/executor.cc:1197] [/device:CPU:0] (DEBUG INFO) Executor start aborting (this does not indicate an error and you can ignore this message): INVALID_ARGUMENT: You must feed a value for placeholder tensor 'gradients/split_grad/concat/split/split_dim' with dtype int32\n",
      "\t [[{{node gradients/split_grad/concat/split/split_dim}}]]\n",
      "2023-06-29 14:58:54.930818: I tensorflow/core/common_runtime/executor.cc:1197] [/device:CPU:0] (DEBUG INFO) Executor start aborting (this does not indicate an error and you can ignore this message): INVALID_ARGUMENT: You must feed a value for placeholder tensor 'gradients/split_1_grad/concat/split_1/split_dim' with dtype int32\n",
      "\t [[{{node gradients/split_1_grad/concat/split_1/split_dim}}]]\n"
     ]
    },
    {
     "name": "stdout",
     "output_type": "stream",
     "text": [
      "306/306 [==============================] - 2s 7ms/step - loss: 0.0061 - val_loss: 0.0061\n",
      "Epoch 3/30\n",
      "306/306 [==============================] - 2s 7ms/step - loss: 0.0059 - val_loss: 0.0059\n",
      "Epoch 4/30\n",
      "306/306 [==============================] - 2s 7ms/step - loss: 0.0058 - val_loss: 0.0050\n",
      "Epoch 5/30\n",
      "306/306 [==============================] - 2s 7ms/step - loss: 0.0057 - val_loss: 0.0048\n",
      "Epoch 6/30\n",
      "306/306 [==============================] - 2s 7ms/step - loss: 0.0057 - val_loss: 0.0048\n",
      "Epoch 7/30\n",
      "306/306 [==============================] - 2s 8ms/step - loss: 0.0058 - val_loss: 0.0051\n",
      "Epoch 8/30\n",
      "306/306 [==============================] - 2s 8ms/step - loss: 0.0058 - val_loss: 0.0060\n",
      "Epoch 9/30\n",
      "306/306 [==============================] - 2s 8ms/step - loss: 0.0057 - val_loss: 0.0048\n",
      "Epoch 10/30\n",
      "306/306 [==============================] - 2s 8ms/step - loss: 0.0057 - val_loss: 0.0050\n",
      "Epoch 11/30\n",
      "306/306 [==============================] - 2s 8ms/step - loss: 0.0058 - val_loss: 0.0048\n",
      "Epoch 12/30\n",
      "306/306 [==============================] - 2s 7ms/step - loss: 0.0056 - val_loss: 0.0053\n",
      "Epoch 13/30\n",
      "306/306 [==============================] - 2s 7ms/step - loss: 0.0057 - val_loss: 0.0049\n",
      "Epoch 14/30\n",
      "306/306 [==============================] - 2s 8ms/step - loss: 0.0056 - val_loss: 0.0049\n",
      "Epoch 15/30\n",
      "306/306 [==============================] - 2s 8ms/step - loss: 0.0056 - val_loss: 0.0048\n",
      "Epoch 16/30\n",
      "306/306 [==============================] - 2s 8ms/step - loss: 0.0056 - val_loss: 0.0051\n",
      "Epoch 17/30\n",
      "306/306 [==============================] - 2s 8ms/step - loss: 0.0057 - val_loss: 0.0049\n",
      "Epoch 18/30\n",
      "306/306 [==============================] - 3s 9ms/step - loss: 0.0056 - val_loss: 0.0050\n",
      "Epoch 19/30\n",
      "306/306 [==============================] - 2s 8ms/step - loss: 0.0056 - val_loss: 0.0048\n",
      "Epoch 20/30\n",
      "306/306 [==============================] - 3s 9ms/step - loss: 0.0056 - val_loss: 0.0049\n",
      "Epoch 21/30\n",
      "306/306 [==============================] - 3s 10ms/step - loss: 0.0056 - val_loss: 0.0050\n",
      "Epoch 22/30\n",
      "306/306 [==============================] - 3s 9ms/step - loss: 0.0056 - val_loss: 0.0053\n",
      "Epoch 23/30\n",
      "306/306 [==============================] - 2s 8ms/step - loss: 0.0056 - val_loss: 0.0049\n",
      "Epoch 24/30\n",
      "306/306 [==============================] - 3s 9ms/step - loss: 0.0056 - val_loss: 0.0048\n",
      "Epoch 25/30\n",
      "306/306 [==============================] - 2s 8ms/step - loss: 0.0056 - val_loss: 0.0050\n",
      "Epoch 26/30\n",
      "306/306 [==============================] - 3s 8ms/step - loss: 0.0056 - val_loss: 0.0048\n",
      "Epoch 27/30\n",
      "306/306 [==============================] - 3s 9ms/step - loss: 0.0056 - val_loss: 0.0048\n",
      "Epoch 28/30\n",
      "306/306 [==============================] - 3s 9ms/step - loss: 0.0056 - val_loss: 0.0048\n",
      "Epoch 29/30\n",
      "306/306 [==============================] - 3s 9ms/step - loss: 0.0056 - val_loss: 0.0048\n",
      "Epoch 30/30\n",
      "306/306 [==============================] - 3s 9ms/step - loss: 0.0055 - val_loss: 0.0049\n"
     ]
    }
   ],
   "source": [
    "from keras.models import Sequential\n",
    "from keras.layers import LSTM\n",
    "from keras.layers import Dropout\n",
    "from keras.layers import Dense\n",
    "from keras.layers import TimeDistributed\n",
    "\n",
    "import tensorflow as tf\n",
    "import keras\n",
    "from keras import optimizers\n",
    "from keras.callbacks import History\n",
    "from keras.models import Model\n",
    "from keras.layers import Dense, Dropout, LSTM, Input, Activation, concatenate\n",
    "import numpy as np\n",
    "#tf.random.set_seed(20)\n",
    "np.random.seed(10)\n",
    "\n",
    "lstm_input = Input(shape=(backcandles, data_set.shape[1]-3), name='lstm_input')\n",
    "inputs = LSTM(150, name='first_layer')(lstm_input)\n",
    "inputs = Dense(1, name='dense_layer')(inputs)\n",
    "output = Activation('linear', name='output')(inputs)\n",
    "model = Model(inputs=lstm_input, outputs=output)\n",
    "adam = optimizers.Adam()\n",
    "model.compile(optimizer=adam, loss='mse')\n",
    "model.fit(x=X_train, y=y_train, batch_size=15, epochs=30, shuffle=True, validation_split = 0.1);"
   ]
  },
  {
   "cell_type": "code",
   "execution_count": null,
   "id": "056cbff1-d5c3-4113-92e7-b490305e9457",
   "metadata": {},
   "outputs": [],
   "source": [
    "# Saving model"
   ]
  },
  {
   "cell_type": "code",
   "execution_count": 194,
   "id": "a24b47c2-90a9-42da-89ec-cbc07be93e16",
   "metadata": {
    "collapsed": true,
    "jupyter": {
     "outputs_hidden": true
    },
    "tags": []
   },
   "outputs": [
    {
     "name": "stderr",
     "output_type": "stream",
     "text": [
      "2023-06-29 15:00:54.791100: I tensorflow/core/common_runtime/executor.cc:1197] [/device:CPU:0] (DEBUG INFO) Executor start aborting (this does not indicate an error and you can ignore this message): INVALID_ARGUMENT: You must feed a value for placeholder tensor 'gradients/split_2_grad/concat/split_2/split_dim' with dtype int32\n",
      "\t [[{{node gradients/split_2_grad/concat/split_2/split_dim}}]]\n",
      "2023-06-29 15:00:54.791826: I tensorflow/core/common_runtime/executor.cc:1197] [/device:CPU:0] (DEBUG INFO) Executor start aborting (this does not indicate an error and you can ignore this message): INVALID_ARGUMENT: You must feed a value for placeholder tensor 'gradients/split_grad/concat/split/split_dim' with dtype int32\n",
      "\t [[{{node gradients/split_grad/concat/split/split_dim}}]]\n",
      "2023-06-29 15:00:54.792463: I tensorflow/core/common_runtime/executor.cc:1197] [/device:CPU:0] (DEBUG INFO) Executor start aborting (this does not indicate an error and you can ignore this message): INVALID_ARGUMENT: You must feed a value for placeholder tensor 'gradients/split_1_grad/concat/split_1/split_dim' with dtype int32\n",
      "\t [[{{node gradients/split_1_grad/concat/split_1/split_dim}}]]\n",
      "2023-06-29 15:00:54.896244: I tensorflow/core/common_runtime/executor.cc:1197] [/device:CPU:0] (DEBUG INFO) Executor start aborting (this does not indicate an error and you can ignore this message): INVALID_ARGUMENT: You must feed a value for placeholder tensor 'gradients/split_2_grad/concat/split_2/split_dim' with dtype int32\n",
      "\t [[{{node gradients/split_2_grad/concat/split_2/split_dim}}]]\n",
      "2023-06-29 15:00:54.896895: I tensorflow/core/common_runtime/executor.cc:1197] [/device:CPU:0] (DEBUG INFO) Executor start aborting (this does not indicate an error and you can ignore this message): INVALID_ARGUMENT: You must feed a value for placeholder tensor 'gradients/split_grad/concat/split/split_dim' with dtype int32\n",
      "\t [[{{node gradients/split_grad/concat/split/split_dim}}]]\n",
      "2023-06-29 15:00:54.897528: I tensorflow/core/common_runtime/executor.cc:1197] [/device:CPU:0] (DEBUG INFO) Executor start aborting (this does not indicate an error and you can ignore this message): INVALID_ARGUMENT: You must feed a value for placeholder tensor 'gradients/split_1_grad/concat/split_1/split_dim' with dtype int32\n",
      "\t [[{{node gradients/split_1_grad/concat/split_1/split_dim}}]]\n",
      "2023-06-29 15:00:55.400584: I tensorflow/core/common_runtime/executor.cc:1197] [/device:CPU:0] (DEBUG INFO) Executor start aborting (this does not indicate an error and you can ignore this message): INVALID_ARGUMENT: You must feed a value for placeholder tensor 'gradients/split_2_grad/concat/split_2/split_dim' with dtype int32\n",
      "\t [[{{node gradients/split_2_grad/concat/split_2/split_dim}}]]\n",
      "2023-06-29 15:00:55.401631: I tensorflow/core/common_runtime/executor.cc:1197] [/device:CPU:0] (DEBUG INFO) Executor start aborting (this does not indicate an error and you can ignore this message): INVALID_ARGUMENT: You must feed a value for placeholder tensor 'gradients/split_grad/concat/split/split_dim' with dtype int32\n",
      "\t [[{{node gradients/split_grad/concat/split/split_dim}}]]\n",
      "2023-06-29 15:00:55.402362: I tensorflow/core/common_runtime/executor.cc:1197] [/device:CPU:0] (DEBUG INFO) Executor start aborting (this does not indicate an error and you can ignore this message): INVALID_ARGUMENT: You must feed a value for placeholder tensor 'gradients/split_1_grad/concat/split_1/split_dim' with dtype int32\n",
      "\t [[{{node gradients/split_1_grad/concat/split_1/split_dim}}]]\n",
      "2023-06-29 15:00:55.418758: I tensorflow/core/common_runtime/executor.cc:1197] [/device:CPU:0] (DEBUG INFO) Executor start aborting (this does not indicate an error and you can ignore this message): INVALID_ARGUMENT: You must feed a value for placeholder tensor 'inputs' with dtype float and shape [?,?,8]\n",
      "\t [[{{node inputs}}]]\n",
      "2023-06-29 15:00:55.424360: I tensorflow/core/common_runtime/executor.cc:1197] [/device:CPU:0] (DEBUG INFO) Executor start aborting (this does not indicate an error and you can ignore this message): INVALID_ARGUMENT: You must feed a value for placeholder tensor 'inputs' with dtype float and shape [?,?,8]\n",
      "\t [[{{node inputs}}]]\n",
      "2023-06-29 15:00:55.520459: I tensorflow/core/common_runtime/executor.cc:1197] [/device:CPU:0] (DEBUG INFO) Executor start aborting (this does not indicate an error and you can ignore this message): INVALID_ARGUMENT: You must feed a value for placeholder tensor 'gradients/split_2_grad/concat/split_2/split_dim' with dtype int32\n",
      "\t [[{{node gradients/split_2_grad/concat/split_2/split_dim}}]]\n",
      "2023-06-29 15:00:55.521184: I tensorflow/core/common_runtime/executor.cc:1197] [/device:CPU:0] (DEBUG INFO) Executor start aborting (this does not indicate an error and you can ignore this message): INVALID_ARGUMENT: You must feed a value for placeholder tensor 'gradients/split_grad/concat/split/split_dim' with dtype int32\n",
      "\t [[{{node gradients/split_grad/concat/split/split_dim}}]]\n",
      "2023-06-29 15:00:55.521794: I tensorflow/core/common_runtime/executor.cc:1197] [/device:CPU:0] (DEBUG INFO) Executor start aborting (this does not indicate an error and you can ignore this message): INVALID_ARGUMENT: You must feed a value for placeholder tensor 'gradients/split_1_grad/concat/split_1/split_dim' with dtype int32\n",
      "\t [[{{node gradients/split_1_grad/concat/split_1/split_dim}}]]\n",
      "2023-06-29 15:00:55.536015: I tensorflow/core/common_runtime/executor.cc:1197] [/device:CPU:0] (DEBUG INFO) Executor start aborting (this does not indicate an error and you can ignore this message): INVALID_ARGUMENT: You must feed a value for placeholder tensor 'lstm_input' with dtype float and shape [?,30,8]\n",
      "\t [[{{node lstm_input}}]]\n",
      "2023-06-29 15:00:55.636550: I tensorflow/core/common_runtime/executor.cc:1197] [/device:CPU:0] (DEBUG INFO) Executor start aborting (this does not indicate an error and you can ignore this message): INVALID_ARGUMENT: You must feed a value for placeholder tensor 'gradients/split_2_grad/concat/split_2/split_dim' with dtype int32\n",
      "\t [[{{node gradients/split_2_grad/concat/split_2/split_dim}}]]\n",
      "2023-06-29 15:00:55.637542: I tensorflow/core/common_runtime/executor.cc:1197] [/device:CPU:0] (DEBUG INFO) Executor start aborting (this does not indicate an error and you can ignore this message): INVALID_ARGUMENT: You must feed a value for placeholder tensor 'gradients/split_grad/concat/split/split_dim' with dtype int32\n",
      "\t [[{{node gradients/split_grad/concat/split/split_dim}}]]\n",
      "2023-06-29 15:00:55.638164: I tensorflow/core/common_runtime/executor.cc:1197] [/device:CPU:0] (DEBUG INFO) Executor start aborting (this does not indicate an error and you can ignore this message): INVALID_ARGUMENT: You must feed a value for placeholder tensor 'gradients/split_1_grad/concat/split_1/split_dim' with dtype int32\n",
      "\t [[{{node gradients/split_1_grad/concat/split_1/split_dim}}]]\n",
      "2023-06-29 15:00:55.652286: I tensorflow/core/common_runtime/executor.cc:1197] [/device:CPU:0] (DEBUG INFO) Executor start aborting (this does not indicate an error and you can ignore this message): INVALID_ARGUMENT: You must feed a value for placeholder tensor 'lstm_input' with dtype float and shape [?,30,8]\n",
      "\t [[{{node lstm_input}}]]\n",
      "2023-06-29 15:00:55.660606: I tensorflow/core/common_runtime/executor.cc:1197] [/device:CPU:0] (DEBUG INFO) Executor start aborting (this does not indicate an error and you can ignore this message): INVALID_ARGUMENT: You must feed a value for placeholder tensor 'inputs' with dtype float and shape [?,30,8]\n",
      "\t [[{{node inputs}}]]\n",
      "2023-06-29 15:00:55.666885: I tensorflow/core/common_runtime/executor.cc:1197] [/device:CPU:0] (DEBUG INFO) Executor start aborting (this does not indicate an error and you can ignore this message): INVALID_ARGUMENT: You must feed a value for placeholder tensor 'lstm_input' with dtype float and shape [?,30,8]\n",
      "\t [[{{node lstm_input}}]]\n",
      "2023-06-29 15:00:55.673121: I tensorflow/core/common_runtime/executor.cc:1197] [/device:CPU:0] (DEBUG INFO) Executor start aborting (this does not indicate an error and you can ignore this message): INVALID_ARGUMENT: You must feed a value for placeholder tensor 'inputs' with dtype float and shape [?,30,8]\n",
      "\t [[{{node inputs}}]]\n",
      "2023-06-29 15:00:55.679404: I tensorflow/core/common_runtime/executor.cc:1197] [/device:CPU:0] (DEBUG INFO) Executor start aborting (this does not indicate an error and you can ignore this message): INVALID_ARGUMENT: You must feed a value for placeholder tensor 'lstm_input' with dtype float and shape [?,30,8]\n",
      "\t [[{{node lstm_input}}]]\n",
      "2023-06-29 15:00:55.684599: I tensorflow/core/common_runtime/executor.cc:1197] [/device:CPU:0] (DEBUG INFO) Executor start aborting (this does not indicate an error and you can ignore this message): INVALID_ARGUMENT: You must feed a value for placeholder tensor 'inputs' with dtype float and shape [?,30,8]\n",
      "\t [[{{node inputs}}]]\n",
      "2023-06-29 15:00:55.689270: I tensorflow/core/common_runtime/executor.cc:1197] [/device:CPU:0] (DEBUG INFO) Executor start aborting (this does not indicate an error and you can ignore this message): INVALID_ARGUMENT: You must feed a value for placeholder tensor 'inputs' with dtype float and shape [?,30,8]\n",
      "\t [[{{node inputs}}]]\n",
      "2023-06-29 15:00:55.700692: I tensorflow/core/common_runtime/executor.cc:1197] [/device:CPU:0] (DEBUG INFO) Executor start aborting (this does not indicate an error and you can ignore this message): INVALID_ARGUMENT: You must feed a value for placeholder tensor 'inputs' with dtype float and shape [?,30,8]\n",
      "\t [[{{node inputs}}]]\n",
      "2023-06-29 15:00:55.706023: I tensorflow/core/common_runtime/executor.cc:1197] [/device:CPU:0] (DEBUG INFO) Executor start aborting (this does not indicate an error and you can ignore this message): INVALID_ARGUMENT: You must feed a value for placeholder tensor 'inputs' with dtype float and shape [?,30,8]\n",
      "\t [[{{node inputs}}]]\n",
      "2023-06-29 15:00:55.723192: I tensorflow/core/common_runtime/executor.cc:1197] [/device:CPU:0] (DEBUG INFO) Executor start aborting (this does not indicate an error and you can ignore this message): INVALID_ARGUMENT: You must feed a value for placeholder tensor 'lstm_input' with dtype float and shape [?,30,8]\n",
      "\t [[{{node lstm_input}}]]\n",
      "2023-06-29 15:00:55.735411: I tensorflow/core/common_runtime/executor.cc:1197] [/device:CPU:0] (DEBUG INFO) Executor start aborting (this does not indicate an error and you can ignore this message): INVALID_ARGUMENT: You must feed a value for placeholder tensor 'inputs' with dtype float and shape [?,30,8]\n",
      "\t [[{{node inputs}}]]\n",
      "2023-06-29 15:00:55.741189: I tensorflow/core/common_runtime/executor.cc:1197] [/device:CPU:0] (DEBUG INFO) Executor start aborting (this does not indicate an error and you can ignore this message): INVALID_ARGUMENT: You must feed a value for placeholder tensor 'inputs' with dtype float and shape [?,30,8]\n",
      "\t [[{{node inputs}}]]\n",
      "2023-06-29 15:00:55.835188: I tensorflow/core/common_runtime/executor.cc:1197] [/device:CPU:0] (DEBUG INFO) Executor start aborting (this does not indicate an error and you can ignore this message): INVALID_ARGUMENT: You must feed a value for placeholder tensor 'gradients/split_2_grad/concat/split_2/split_dim' with dtype int32\n",
      "\t [[{{node gradients/split_2_grad/concat/split_2/split_dim}}]]\n",
      "2023-06-29 15:00:55.835931: I tensorflow/core/common_runtime/executor.cc:1197] [/device:CPU:0] (DEBUG INFO) Executor start aborting (this does not indicate an error and you can ignore this message): INVALID_ARGUMENT: You must feed a value for placeholder tensor 'gradients/split_grad/concat/split/split_dim' with dtype int32\n",
      "\t [[{{node gradients/split_grad/concat/split/split_dim}}]]\n",
      "2023-06-29 15:00:55.836513: I tensorflow/core/common_runtime/executor.cc:1197] [/device:CPU:0] (DEBUG INFO) Executor start aborting (this does not indicate an error and you can ignore this message): INVALID_ARGUMENT: You must feed a value for placeholder tensor 'gradients/split_1_grad/concat/split_1/split_dim' with dtype int32\n",
      "\t [[{{node gradients/split_1_grad/concat/split_1/split_dim}}]]\n",
      "2023-06-29 15:00:55.944204: I tensorflow/core/common_runtime/executor.cc:1197] [/device:CPU:0] (DEBUG INFO) Executor start aborting (this does not indicate an error and you can ignore this message): INVALID_ARGUMENT: You must feed a value for placeholder tensor 'gradients/split_2_grad/concat/split_2/split_dim' with dtype int32\n",
      "\t [[{{node gradients/split_2_grad/concat/split_2/split_dim}}]]\n",
      "2023-06-29 15:00:55.944905: I tensorflow/core/common_runtime/executor.cc:1197] [/device:CPU:0] (DEBUG INFO) Executor start aborting (this does not indicate an error and you can ignore this message): INVALID_ARGUMENT: You must feed a value for placeholder tensor 'gradients/split_grad/concat/split/split_dim' with dtype int32\n",
      "\t [[{{node gradients/split_grad/concat/split/split_dim}}]]\n",
      "2023-06-29 15:00:55.946239: I tensorflow/core/common_runtime/executor.cc:1197] [/device:CPU:0] (DEBUG INFO) Executor start aborting (this does not indicate an error and you can ignore this message): INVALID_ARGUMENT: You must feed a value for placeholder tensor 'gradients/split_1_grad/concat/split_1/split_dim' with dtype int32\n",
      "\t [[{{node gradients/split_1_grad/concat/split_1/split_dim}}]]\n",
      "2023-06-29 15:00:55.967780: I tensorflow/core/common_runtime/executor.cc:1197] [/device:CPU:0] (DEBUG INFO) Executor start aborting (this does not indicate an error and you can ignore this message): INVALID_ARGUMENT: You must feed a value for placeholder tensor 'inputs_0' with dtype float and shape [?,?,8]\n",
      "\t [[{{node inputs_0}}]]\n",
      "2023-06-29 15:00:55.973650: I tensorflow/core/common_runtime/executor.cc:1197] [/device:CPU:0] (DEBUG INFO) Executor start aborting (this does not indicate an error and you can ignore this message): INVALID_ARGUMENT: You must feed a value for placeholder tensor 'inputs_0' with dtype float and shape [?,?,8]\n",
      "\t [[{{node inputs_0}}]]\n",
      "2023-06-29 15:00:55.978411: I tensorflow/core/common_runtime/executor.cc:1197] [/device:CPU:0] (DEBUG INFO) Executor start aborting (this does not indicate an error and you can ignore this message): INVALID_ARGUMENT: You must feed a value for placeholder tensor 'inputs' with dtype float and shape [?,30,8]\n",
      "\t [[{{node inputs}}]]\n",
      "2023-06-29 15:00:55.983438: I tensorflow/core/common_runtime/executor.cc:1197] [/device:CPU:0] (DEBUG INFO) Executor start aborting (this does not indicate an error and you can ignore this message): INVALID_ARGUMENT: You must feed a value for placeholder tensor 'inputs' with dtype float and shape [?,30,8]\n",
      "\t [[{{node inputs}}]]\n",
      "2023-06-29 15:00:56.075635: I tensorflow/core/common_runtime/executor.cc:1197] [/device:CPU:0] (DEBUG INFO) Executor start aborting (this does not indicate an error and you can ignore this message): INVALID_ARGUMENT: You must feed a value for placeholder tensor 'gradients/split_2_grad/concat/split_2/split_dim' with dtype int32\n",
      "\t [[{{node gradients/split_2_grad/concat/split_2/split_dim}}]]\n",
      "2023-06-29 15:00:56.076302: I tensorflow/core/common_runtime/executor.cc:1197] [/device:CPU:0] (DEBUG INFO) Executor start aborting (this does not indicate an error and you can ignore this message): INVALID_ARGUMENT: You must feed a value for placeholder tensor 'gradients/split_grad/concat/split/split_dim' with dtype int32\n",
      "\t [[{{node gradients/split_grad/concat/split/split_dim}}]]\n",
      "2023-06-29 15:00:56.076897: I tensorflow/core/common_runtime/executor.cc:1197] [/device:CPU:0] (DEBUG INFO) Executor start aborting (this does not indicate an error and you can ignore this message): INVALID_ARGUMENT: You must feed a value for placeholder tensor 'gradients/split_1_grad/concat/split_1/split_dim' with dtype int32\n",
      "\t [[{{node gradients/split_1_grad/concat/split_1/split_dim}}]]\n",
      "2023-06-29 15:00:56.180978: I tensorflow/core/common_runtime/executor.cc:1197] [/device:CPU:0] (DEBUG INFO) Executor start aborting (this does not indicate an error and you can ignore this message): INVALID_ARGUMENT: You must feed a value for placeholder tensor 'gradients/split_2_grad/concat/split_2/split_dim' with dtype int32\n",
      "\t [[{{node gradients/split_2_grad/concat/split_2/split_dim}}]]\n",
      "2023-06-29 15:00:56.181919: I tensorflow/core/common_runtime/executor.cc:1197] [/device:CPU:0] (DEBUG INFO) Executor start aborting (this does not indicate an error and you can ignore this message): INVALID_ARGUMENT: You must feed a value for placeholder tensor 'gradients/split_grad/concat/split/split_dim' with dtype int32\n",
      "\t [[{{node gradients/split_grad/concat/split/split_dim}}]]\n",
      "2023-06-29 15:00:56.182563: I tensorflow/core/common_runtime/executor.cc:1197] [/device:CPU:0] (DEBUG INFO) Executor start aborting (this does not indicate an error and you can ignore this message): INVALID_ARGUMENT: You must feed a value for placeholder tensor 'gradients/split_1_grad/concat/split_1/split_dim' with dtype int32\n",
      "\t [[{{node gradients/split_1_grad/concat/split_1/split_dim}}]]\n",
      "2023-06-29 15:00:56.285660: I tensorflow/core/common_runtime/executor.cc:1197] [/device:CPU:0] (DEBUG INFO) Executor start aborting (this does not indicate an error and you can ignore this message): INVALID_ARGUMENT: You must feed a value for placeholder tensor 'gradients/split_2_grad/concat/split_2/split_dim' with dtype int32\n",
      "\t [[{{node gradients/split_2_grad/concat/split_2/split_dim}}]]\n",
      "2023-06-29 15:00:56.286345: I tensorflow/core/common_runtime/executor.cc:1197] [/device:CPU:0] (DEBUG INFO) Executor start aborting (this does not indicate an error and you can ignore this message): INVALID_ARGUMENT: You must feed a value for placeholder tensor 'gradients/split_grad/concat/split/split_dim' with dtype int32\n",
      "\t [[{{node gradients/split_grad/concat/split/split_dim}}]]\n",
      "2023-06-29 15:00:56.286972: I tensorflow/core/common_runtime/executor.cc:1197] [/device:CPU:0] (DEBUG INFO) Executor start aborting (this does not indicate an error and you can ignore this message): INVALID_ARGUMENT: You must feed a value for placeholder tensor 'gradients/split_1_grad/concat/split_1/split_dim' with dtype int32\n",
      "\t [[{{node gradients/split_1_grad/concat/split_1/split_dim}}]]\n",
      "2023-06-29 15:00:56.389694: I tensorflow/core/common_runtime/executor.cc:1197] [/device:CPU:0] (DEBUG INFO) Executor start aborting (this does not indicate an error and you can ignore this message): INVALID_ARGUMENT: You must feed a value for placeholder tensor 'gradients/split_2_grad/concat/split_2/split_dim' with dtype int32\n",
      "\t [[{{node gradients/split_2_grad/concat/split_2/split_dim}}]]\n",
      "2023-06-29 15:00:56.390567: I tensorflow/core/common_runtime/executor.cc:1197] [/device:CPU:0] (DEBUG INFO) Executor start aborting (this does not indicate an error and you can ignore this message): INVALID_ARGUMENT: You must feed a value for placeholder tensor 'gradients/split_grad/concat/split/split_dim' with dtype int32\n",
      "\t [[{{node gradients/split_grad/concat/split/split_dim}}]]\n",
      "2023-06-29 15:00:56.391215: I tensorflow/core/common_runtime/executor.cc:1197] [/device:CPU:0] (DEBUG INFO) Executor start aborting (this does not indicate an error and you can ignore this message): INVALID_ARGUMENT: You must feed a value for placeholder tensor 'gradients/split_1_grad/concat/split_1/split_dim' with dtype int32\n",
      "\t [[{{node gradients/split_1_grad/concat/split_1/split_dim}}]]\n",
      "WARNING:absl:Found untraced functions such as lstm_cell_11_layer_call_fn, lstm_cell_11_layer_call_and_return_conditional_losses while saving (showing 2 of 2). These functions will not be directly callable after loading.\n",
      "2023-06-29 15:00:56.445041: I tensorflow/core/common_runtime/executor.cc:1197] [/device:CPU:0] (DEBUG INFO) Executor start aborting (this does not indicate an error and you can ignore this message): INVALID_ARGUMENT: You must feed a value for placeholder tensor 'serving_default_lstm_input' with dtype float and shape [?,30,8]\n",
      "\t [[{{node serving_default_lstm_input}}]]\n"
     ]
    },
    {
     "name": "stdout",
     "output_type": "stream",
     "text": [
      "INFO:tensorflow:Assets written to: model/assets\n"
     ]
    },
    {
     "name": "stderr",
     "output_type": "stream",
     "text": [
      "INFO:tensorflow:Assets written to: model/assets\n"
     ]
    }
   ],
   "source": [
    "from keras.models import save_model\n",
    "\n",
    "model.save('model')"
   ]
  },
  {
   "cell_type": "code",
   "execution_count": null,
   "id": "a31a0b02-814a-4b91-98d4-4b0e14b4af2a",
   "metadata": {},
   "outputs": [],
   "source": [
    "# Loading model"
   ]
  },
  {
   "cell_type": "code",
   "execution_count": 195,
   "id": "cafaf3ef-030a-42cd-869e-4c83d1682d20",
   "metadata": {
    "collapsed": true,
    "jupyter": {
     "outputs_hidden": true
    },
    "tags": []
   },
   "outputs": [
    {
     "name": "stderr",
     "output_type": "stream",
     "text": [
      "2023-06-29 15:01:15.939710: I tensorflow/core/common_runtime/executor.cc:1197] [/device:CPU:0] (DEBUG INFO) Executor start aborting (this does not indicate an error and you can ignore this message): INVALID_ARGUMENT: You must feed a value for placeholder tensor 'gradients_split_2_grad_concat_split_2_split_dim' with dtype int32\n",
      "\t [[{{node gradients_split_2_grad_concat_split_2_split_dim}}]]\n",
      "2023-06-29 15:01:15.939786: I tensorflow/core/common_runtime/executor.cc:1197] [/device:CPU:0] (DEBUG INFO) Executor start aborting (this does not indicate an error and you can ignore this message): INVALID_ARGUMENT: You must feed a value for placeholder tensor 'gradients_split_grad_concat_split_split_dim' with dtype int32\n",
      "\t [[{{node gradients_split_grad_concat_split_split_dim}}]]\n",
      "2023-06-29 15:01:15.939831: I tensorflow/core/common_runtime/executor.cc:1197] [/device:CPU:0] (DEBUG INFO) Executor start aborting (this does not indicate an error and you can ignore this message): INVALID_ARGUMENT: You must feed a value for placeholder tensor 'gradients_split_1_grad_concat_split_1_split_dim' with dtype int32\n",
      "\t [[{{node gradients_split_1_grad_concat_split_1_split_dim}}]]\n",
      "2023-06-29 15:01:15.970431: I tensorflow/core/common_runtime/executor.cc:1197] [/device:CPU:0] (DEBUG INFO) Executor start aborting (this does not indicate an error and you can ignore this message): INVALID_ARGUMENT: You must feed a value for placeholder tensor 'gradients_split_2_grad_concat_split_2_split_dim' with dtype int32\n",
      "\t [[{{node gradients_split_2_grad_concat_split_2_split_dim}}]]\n",
      "2023-06-29 15:01:15.970497: I tensorflow/core/common_runtime/executor.cc:1197] [/device:CPU:0] (DEBUG INFO) Executor start aborting (this does not indicate an error and you can ignore this message): INVALID_ARGUMENT: You must feed a value for placeholder tensor 'gradients_split_grad_concat_split_split_dim' with dtype int32\n",
      "\t [[{{node gradients_split_grad_concat_split_split_dim}}]]\n",
      "2023-06-29 15:01:15.970540: I tensorflow/core/common_runtime/executor.cc:1197] [/device:CPU:0] (DEBUG INFO) Executor start aborting (this does not indicate an error and you can ignore this message): INVALID_ARGUMENT: You must feed a value for placeholder tensor 'gradients_split_1_grad_concat_split_1_split_dim' with dtype int32\n",
      "\t [[{{node gradients_split_1_grad_concat_split_1_split_dim}}]]\n",
      "2023-06-29 15:01:15.996680: I tensorflow/core/common_runtime/executor.cc:1197] [/device:CPU:0] (DEBUG INFO) Executor start aborting (this does not indicate an error and you can ignore this message): INVALID_ARGUMENT: You must feed a value for placeholder tensor 'gradients_split_2_grad_concat_split_2_split_dim' with dtype int32\n",
      "\t [[{{node gradients_split_2_grad_concat_split_2_split_dim}}]]\n",
      "2023-06-29 15:01:15.996747: I tensorflow/core/common_runtime/executor.cc:1197] [/device:CPU:0] (DEBUG INFO) Executor start aborting (this does not indicate an error and you can ignore this message): INVALID_ARGUMENT: You must feed a value for placeholder tensor 'gradients_split_grad_concat_split_split_dim' with dtype int32\n",
      "\t [[{{node gradients_split_grad_concat_split_split_dim}}]]\n",
      "2023-06-29 15:01:15.996789: I tensorflow/core/common_runtime/executor.cc:1197] [/device:CPU:0] (DEBUG INFO) Executor start aborting (this does not indicate an error and you can ignore this message): INVALID_ARGUMENT: You must feed a value for placeholder tensor 'gradients_split_1_grad_concat_split_1_split_dim' with dtype int32\n",
      "\t [[{{node gradients_split_1_grad_concat_split_1_split_dim}}]]\n",
      "2023-06-29 15:01:16.104408: I tensorflow/core/common_runtime/executor.cc:1197] [/device:CPU:0] (DEBUG INFO) Executor start aborting (this does not indicate an error and you can ignore this message): INVALID_ARGUMENT: You must feed a value for placeholder tensor 'gradients_split_2_grad_concat_split_2_split_dim' with dtype int32\n",
      "\t [[{{node gradients_split_2_grad_concat_split_2_split_dim}}]]\n",
      "2023-06-29 15:01:16.104478: I tensorflow/core/common_runtime/executor.cc:1197] [/device:CPU:0] (DEBUG INFO) Executor start aborting (this does not indicate an error and you can ignore this message): INVALID_ARGUMENT: You must feed a value for placeholder tensor 'gradients_split_grad_concat_split_split_dim' with dtype int32\n",
      "\t [[{{node gradients_split_grad_concat_split_split_dim}}]]\n",
      "2023-06-29 15:01:16.104523: I tensorflow/core/common_runtime/executor.cc:1197] [/device:CPU:0] (DEBUG INFO) Executor start aborting (this does not indicate an error and you can ignore this message): INVALID_ARGUMENT: You must feed a value for placeholder tensor 'gradients_split_1_grad_concat_split_1_split_dim' with dtype int32\n",
      "\t [[{{node gradients_split_1_grad_concat_split_1_split_dim}}]]\n",
      "2023-06-29 15:01:16.123700: I tensorflow/core/common_runtime/executor.cc:1197] [/device:CPU:0] (DEBUG INFO) Executor start aborting (this does not indicate an error and you can ignore this message): INVALID_ARGUMENT: You must feed a value for placeholder tensor 'gradients_split_2_grad_concat_split_2_split_dim' with dtype int32\n",
      "\t [[{{node gradients_split_2_grad_concat_split_2_split_dim}}]]\n",
      "2023-06-29 15:01:16.123772: I tensorflow/core/common_runtime/executor.cc:1197] [/device:CPU:0] (DEBUG INFO) Executor start aborting (this does not indicate an error and you can ignore this message): INVALID_ARGUMENT: You must feed a value for placeholder tensor 'gradients_split_grad_concat_split_split_dim' with dtype int32\n",
      "\t [[{{node gradients_split_grad_concat_split_split_dim}}]]\n",
      "2023-06-29 15:01:16.123816: I tensorflow/core/common_runtime/executor.cc:1197] [/device:CPU:0] (DEBUG INFO) Executor start aborting (this does not indicate an error and you can ignore this message): INVALID_ARGUMENT: You must feed a value for placeholder tensor 'gradients_split_1_grad_concat_split_1_split_dim' with dtype int32\n",
      "\t [[{{node gradients_split_1_grad_concat_split_1_split_dim}}]]\n",
      "2023-06-29 15:01:16.136850: I tensorflow/core/common_runtime/executor.cc:1197] [/device:CPU:0] (DEBUG INFO) Executor start aborting (this does not indicate an error and you can ignore this message): INVALID_ARGUMENT: You must feed a value for placeholder tensor 'gradients_split_2_grad_concat_split_2_split_dim' with dtype int32\n",
      "\t [[{{node gradients_split_2_grad_concat_split_2_split_dim}}]]\n",
      "2023-06-29 15:01:16.136922: I tensorflow/core/common_runtime/executor.cc:1197] [/device:CPU:0] (DEBUG INFO) Executor start aborting (this does not indicate an error and you can ignore this message): INVALID_ARGUMENT: You must feed a value for placeholder tensor 'gradients_split_grad_concat_split_split_dim' with dtype int32\n",
      "\t [[{{node gradients_split_grad_concat_split_split_dim}}]]\n",
      "2023-06-29 15:01:16.136967: I tensorflow/core/common_runtime/executor.cc:1197] [/device:CPU:0] (DEBUG INFO) Executor start aborting (this does not indicate an error and you can ignore this message): INVALID_ARGUMENT: You must feed a value for placeholder tensor 'gradients_split_1_grad_concat_split_1_split_dim' with dtype int32\n",
      "\t [[{{node gradients_split_1_grad_concat_split_1_split_dim}}]]\n",
      "2023-06-29 15:01:16.164247: I tensorflow/core/common_runtime/executor.cc:1197] [/device:CPU:0] (DEBUG INFO) Executor start aborting (this does not indicate an error and you can ignore this message): INVALID_ARGUMENT: You must feed a value for placeholder tensor 'gradients_split_2_grad_concat_split_2_split_dim' with dtype int32\n",
      "\t [[{{node gradients_split_2_grad_concat_split_2_split_dim}}]]\n",
      "2023-06-29 15:01:16.164329: I tensorflow/core/common_runtime/executor.cc:1197] [/device:CPU:0] (DEBUG INFO) Executor start aborting (this does not indicate an error and you can ignore this message): INVALID_ARGUMENT: You must feed a value for placeholder tensor 'gradients_split_grad_concat_split_split_dim' with dtype int32\n",
      "\t [[{{node gradients_split_grad_concat_split_split_dim}}]]\n",
      "2023-06-29 15:01:16.164374: I tensorflow/core/common_runtime/executor.cc:1197] [/device:CPU:0] (DEBUG INFO) Executor start aborting (this does not indicate an error and you can ignore this message): INVALID_ARGUMENT: You must feed a value for placeholder tensor 'gradients_split_1_grad_concat_split_1_split_dim' with dtype int32\n",
      "\t [[{{node gradients_split_1_grad_concat_split_1_split_dim}}]]\n",
      "2023-06-29 15:01:16.220048: I tensorflow/core/common_runtime/executor.cc:1197] [/device:CPU:0] (DEBUG INFO) Executor start aborting (this does not indicate an error and you can ignore this message): INVALID_ARGUMENT: You must feed a value for placeholder tensor 'gradients_split_2_grad_concat_split_2_split_dim' with dtype int32\n",
      "\t [[{{node gradients_split_2_grad_concat_split_2_split_dim}}]]\n",
      "2023-06-29 15:01:16.220118: I tensorflow/core/common_runtime/executor.cc:1197] [/device:CPU:0] (DEBUG INFO) Executor start aborting (this does not indicate an error and you can ignore this message): INVALID_ARGUMENT: You must feed a value for placeholder tensor 'gradients_split_grad_concat_split_split_dim' with dtype int32\n",
      "\t [[{{node gradients_split_grad_concat_split_split_dim}}]]\n",
      "2023-06-29 15:01:16.220163: I tensorflow/core/common_runtime/executor.cc:1197] [/device:CPU:0] (DEBUG INFO) Executor start aborting (this does not indicate an error and you can ignore this message): INVALID_ARGUMENT: You must feed a value for placeholder tensor 'gradients_split_1_grad_concat_split_1_split_dim' with dtype int32\n",
      "\t [[{{node gradients_split_1_grad_concat_split_1_split_dim}}]]\n",
      "2023-06-29 15:01:16.239819: I tensorflow/core/common_runtime/executor.cc:1197] [/device:CPU:0] (DEBUG INFO) Executor start aborting (this does not indicate an error and you can ignore this message): INVALID_ARGUMENT: You must feed a value for placeholder tensor 'gradients_split_2_grad_concat_split_2_split_dim' with dtype int32\n",
      "\t [[{{node gradients_split_2_grad_concat_split_2_split_dim}}]]\n",
      "2023-06-29 15:01:16.239884: I tensorflow/core/common_runtime/executor.cc:1197] [/device:CPU:0] (DEBUG INFO) Executor start aborting (this does not indicate an error and you can ignore this message): INVALID_ARGUMENT: You must feed a value for placeholder tensor 'gradients_split_grad_concat_split_split_dim' with dtype int32\n",
      "\t [[{{node gradients_split_grad_concat_split_split_dim}}]]\n",
      "2023-06-29 15:01:16.239928: I tensorflow/core/common_runtime/executor.cc:1197] [/device:CPU:0] (DEBUG INFO) Executor start aborting (this does not indicate an error and you can ignore this message): INVALID_ARGUMENT: You must feed a value for placeholder tensor 'gradients_split_1_grad_concat_split_1_split_dim' with dtype int32\n",
      "\t [[{{node gradients_split_1_grad_concat_split_1_split_dim}}]]\n",
      "2023-06-29 15:01:16.258660: I tensorflow/core/common_runtime/executor.cc:1197] [/device:CPU:0] (DEBUG INFO) Executor start aborting (this does not indicate an error and you can ignore this message): INVALID_ARGUMENT: You must feed a value for placeholder tensor 'gradients_split_2_grad_concat_split_2_split_dim' with dtype int32\n",
      "\t [[{{node gradients_split_2_grad_concat_split_2_split_dim}}]]\n",
      "2023-06-29 15:01:16.258725: I tensorflow/core/common_runtime/executor.cc:1197] [/device:CPU:0] (DEBUG INFO) Executor start aborting (this does not indicate an error and you can ignore this message): INVALID_ARGUMENT: You must feed a value for placeholder tensor 'gradients_split_grad_concat_split_split_dim' with dtype int32\n",
      "\t [[{{node gradients_split_grad_concat_split_split_dim}}]]\n",
      "2023-06-29 15:01:16.258770: I tensorflow/core/common_runtime/executor.cc:1197] [/device:CPU:0] (DEBUG INFO) Executor start aborting (this does not indicate an error and you can ignore this message): INVALID_ARGUMENT: You must feed a value for placeholder tensor 'gradients_split_1_grad_concat_split_1_split_dim' with dtype int32\n",
      "\t [[{{node gradients_split_1_grad_concat_split_1_split_dim}}]]\n",
      "2023-06-29 15:01:16.307916: I tensorflow/core/common_runtime/executor.cc:1197] [/device:CPU:0] (DEBUG INFO) Executor start aborting (this does not indicate an error and you can ignore this message): INVALID_ARGUMENT: You must feed a value for placeholder tensor 'gradients_split_2_grad_concat_split_2_split_dim' with dtype int32\n",
      "\t [[{{node gradients_split_2_grad_concat_split_2_split_dim}}]]\n",
      "2023-06-29 15:01:16.307987: I tensorflow/core/common_runtime/executor.cc:1197] [/device:CPU:0] (DEBUG INFO) Executor start aborting (this does not indicate an error and you can ignore this message): INVALID_ARGUMENT: You must feed a value for placeholder tensor 'gradients_split_grad_concat_split_split_dim' with dtype int32\n",
      "\t [[{{node gradients_split_grad_concat_split_split_dim}}]]\n",
      "2023-06-29 15:01:16.308031: I tensorflow/core/common_runtime/executor.cc:1197] [/device:CPU:0] (DEBUG INFO) Executor start aborting (this does not indicate an error and you can ignore this message): INVALID_ARGUMENT: You must feed a value for placeholder tensor 'gradients_split_1_grad_concat_split_1_split_dim' with dtype int32\n",
      "\t [[{{node gradients_split_1_grad_concat_split_1_split_dim}}]]\n",
      "2023-06-29 15:01:16.432872: I tensorflow/core/common_runtime/executor.cc:1197] [/device:CPU:0] (DEBUG INFO) Executor start aborting (this does not indicate an error and you can ignore this message): INVALID_ARGUMENT: You must feed a value for placeholder tensor 'gradients/split_2_grad/concat/split_2/split_dim' with dtype int32\n",
      "\t [[{{node gradients/split_2_grad/concat/split_2/split_dim}}]]\n",
      "2023-06-29 15:01:16.433479: I tensorflow/core/common_runtime/executor.cc:1197] [/device:CPU:0] (DEBUG INFO) Executor start aborting (this does not indicate an error and you can ignore this message): INVALID_ARGUMENT: You must feed a value for placeholder tensor 'gradients/split_grad/concat/split/split_dim' with dtype int32\n",
      "\t [[{{node gradients/split_grad/concat/split/split_dim}}]]\n",
      "2023-06-29 15:01:16.434186: I tensorflow/core/common_runtime/executor.cc:1197] [/device:CPU:0] (DEBUG INFO) Executor start aborting (this does not indicate an error and you can ignore this message): INVALID_ARGUMENT: You must feed a value for placeholder tensor 'gradients/split_1_grad/concat/split_1/split_dim' with dtype int32\n",
      "\t [[{{node gradients/split_1_grad/concat/split_1/split_dim}}]]\n"
     ]
    }
   ],
   "source": [
    "from keras.models import load_model\n",
    "model = load_model(\"model\")"
   ]
  },
  {
   "cell_type": "code",
   "execution_count": null,
   "id": "0d045a37-82c5-45a1-8080-0e79f24eb16a",
   "metadata": {},
   "outputs": [],
   "source": [
    "# Evaluation"
   ]
  },
  {
   "cell_type": "code",
   "execution_count": 196,
   "id": "08324ede",
   "metadata": {},
   "outputs": [
    {
     "name": "stdout",
     "output_type": "stream",
     "text": [
      "26/40 [==================>...........] - ETA: 0s"
     ]
    },
    {
     "name": "stderr",
     "output_type": "stream",
     "text": [
      "2023-06-29 15:01:20.124374: I tensorflow/core/common_runtime/executor.cc:1197] [/device:CPU:0] (DEBUG INFO) Executor start aborting (this does not indicate an error and you can ignore this message): INVALID_ARGUMENT: You must feed a value for placeholder tensor 'gradients/split_2_grad/concat/split_2/split_dim' with dtype int32\n",
      "\t [[{{node gradients/split_2_grad/concat/split_2/split_dim}}]]\n",
      "2023-06-29 15:01:20.125356: I tensorflow/core/common_runtime/executor.cc:1197] [/device:CPU:0] (DEBUG INFO) Executor start aborting (this does not indicate an error and you can ignore this message): INVALID_ARGUMENT: You must feed a value for placeholder tensor 'gradients/split_grad/concat/split/split_dim' with dtype int32\n",
      "\t [[{{node gradients/split_grad/concat/split/split_dim}}]]\n",
      "2023-06-29 15:01:20.125949: I tensorflow/core/common_runtime/executor.cc:1197] [/device:CPU:0] (DEBUG INFO) Executor start aborting (this does not indicate an error and you can ignore this message): INVALID_ARGUMENT: You must feed a value for placeholder tensor 'gradients/split_1_grad/concat/split_1/split_dim' with dtype int32\n",
      "\t [[{{node gradients/split_1_grad/concat/split_1/split_dim}}]]\n"
     ]
    },
    {
     "name": "stdout",
     "output_type": "stream",
     "text": [
      "40/40 [==============================] - 0s 4ms/step\n"
     ]
    }
   ],
   "source": [
    "y_pred = model.predict(X_test)\n",
    "#y_pred=np.where(y_pred > 0.43, 1,0)\n",
    "# for i in range(10):\n",
    "#     print(y_pred[i], y_test[i])"
   ]
  },
  {
   "cell_type": "code",
   "execution_count": 205,
   "id": "67f5e31a",
   "metadata": {},
   "outputs": [
    {
     "data": {
      "image/png": "[encoded data removed]",
      "text/plain": [
       "<Figure size 800x400 with 1 Axes>"
      ]
     },
     "metadata": {},
     "output_type": "display_data"
    }
   ],
   "source": [
    "plt.figure(figsize=(8,4))\n",
    "plt.plot(y_test, color = 'black', label = 'Test')\n",
    "plt.plot(y_pred, color = 'green', label = 'pred')\n",
    "plt.legend()\n",
    "plt.show()"
   ]
  },
  {
   "cell_type": "markdown",
   "id": "8e7b467d-7a64-46a1-bd44-20c4df752782",
   "metadata": {},
   "source": [
    "# Dataframe with predictions"
   ]
  },
  {
   "cell_type": "code",
   "execution_count": 206,
   "id": "9b5a84e4-11d3-4f7b-af9e-01e7f820375b",
   "metadata": {},
   "outputs": [
    {
     "data": {
      "text/html": [
       "<div>\n",
       "<style scoped>\n",
       "    .dataframe tbody tr th:only-of-type {\n",
       "        vertical-align: middle;\n",
       "    }\n",
       "\n",
       "    .dataframe tbody tr th {\n",
       "        vertical-align: top;\n",
       "    }\n",
       "\n",
       "    .dataframe thead th {\n",
       "        text-align: right;\n",
       "    }\n",
       "</style>\n",
       "<table border=\"1\" class=\"dataframe\">\n",
       "  <thead>\n",
       "    <tr style=\"text-align: right;\">\n",
       "      <th></th>\n",
       "      <th>prediction</th>\n",
       "      <th>real</th>\n",
       "    </tr>\n",
       "  </thead>\n",
       "  <tbody>\n",
       "    <tr>\n",
       "      <th>0</th>\n",
       "      <td>0.550191</td>\n",
       "      <td>0.595402</td>\n",
       "    </tr>\n",
       "    <tr>\n",
       "      <th>1</th>\n",
       "      <td>0.550620</td>\n",
       "      <td>0.557941</td>\n",
       "    </tr>\n",
       "    <tr>\n",
       "      <th>2</th>\n",
       "      <td>0.550265</td>\n",
       "      <td>0.520479</td>\n",
       "    </tr>\n",
       "    <tr>\n",
       "      <th>3</th>\n",
       "      <td>0.550764</td>\n",
       "      <td>0.483055</td>\n",
       "    </tr>\n",
       "    <tr>\n",
       "      <th>4</th>\n",
       "      <td>0.551311</td>\n",
       "      <td>0.557941</td>\n",
       "    </tr>\n",
       "    <tr>\n",
       "      <th>...</th>\n",
       "      <td>...</td>\n",
       "      <td>...</td>\n",
       "    </tr>\n",
       "    <tr>\n",
       "      <th>1268</th>\n",
       "      <td>0.551210</td>\n",
       "      <td>0.000000</td>\n",
       "    </tr>\n",
       "    <tr>\n",
       "      <th>1269</th>\n",
       "      <td>0.551224</td>\n",
       "      <td>0.669358</td>\n",
       "    </tr>\n",
       "    <tr>\n",
       "      <th>1270</th>\n",
       "      <td>0.555081</td>\n",
       "      <td>0.409360</td>\n",
       "    </tr>\n",
       "    <tr>\n",
       "      <th>1271</th>\n",
       "      <td>0.554057</td>\n",
       "      <td>0.520851</td>\n",
       "    </tr>\n",
       "    <tr>\n",
       "      <th>1272</th>\n",
       "      <td>0.554704</td>\n",
       "      <td>0.261635</td>\n",
       "    </tr>\n",
       "  </tbody>\n",
       "</table>\n",
       "<p>1273 rows × 2 columns</p>\n",
       "</div>"
      ],
      "text/plain": [
       "      prediction      real\n",
       "0       0.550191  0.595402\n",
       "1       0.550620  0.557941\n",
       "2       0.550265  0.520479\n",
       "3       0.550764  0.483055\n",
       "4       0.551311  0.557941\n",
       "...          ...       ...\n",
       "1268    0.551210  0.000000\n",
       "1269    0.551224  0.669358\n",
       "1270    0.555081  0.409360\n",
       "1271    0.554057  0.520851\n",
       "1272    0.554704  0.261635\n",
       "\n",
       "[1273 rows x 2 columns]"
      ]
     },
     "execution_count": 206,
     "metadata": {},
     "output_type": "execute_result"
    }
   ],
   "source": [
    "df = pd.DataFrame({\"prediction\": y_pred.reshape(-1), \"real\": y_test.reshape(-1)})\n",
    "df"
   ]
  },
  {
   "cell_type": "code",
   "execution_count": 207,
   "id": "386f56ce-fe56-4695-95e5-9b7001714dfb",
   "metadata": {},
   "outputs": [
    {
     "data": {
      "text/html": [
       "<div>\n",
       "<style scoped>\n",
       "    .dataframe tbody tr th:only-of-type {\n",
       "        vertical-align: middle;\n",
       "    }\n",
       "\n",
       "    .dataframe tbody tr th {\n",
       "        vertical-align: top;\n",
       "    }\n",
       "\n",
       "    .dataframe thead th {\n",
       "        text-align: right;\n",
       "    }\n",
       "</style>\n",
       "<table border=\"1\" class=\"dataframe\">\n",
       "  <thead>\n",
       "    <tr style=\"text-align: right;\">\n",
       "      <th></th>\n",
       "      <th>prediction</th>\n",
       "      <th>real</th>\n",
       "      <th>prediction_diff</th>\n",
       "      <th>real_diff</th>\n",
       "      <th>prediction_tendency</th>\n",
       "      <th>real_tendency</th>\n",
       "      <th>compatibility</th>\n",
       "    </tr>\n",
       "  </thead>\n",
       "  <tbody>\n",
       "    <tr>\n",
       "      <th>2</th>\n",
       "      <td>0.550265</td>\n",
       "      <td>0.520479</td>\n",
       "      <td>0.000074</td>\n",
       "      <td>-0.074923</td>\n",
       "      <td>1</td>\n",
       "      <td>-1</td>\n",
       "      <td>-1</td>\n",
       "    </tr>\n",
       "    <tr>\n",
       "      <th>3</th>\n",
       "      <td>0.550764</td>\n",
       "      <td>0.483055</td>\n",
       "      <td>0.000143</td>\n",
       "      <td>-0.074886</td>\n",
       "      <td>1</td>\n",
       "      <td>-1</td>\n",
       "      <td>-1</td>\n",
       "    </tr>\n",
       "    <tr>\n",
       "      <th>4</th>\n",
       "      <td>0.551311</td>\n",
       "      <td>0.557941</td>\n",
       "      <td>0.001046</td>\n",
       "      <td>0.037461</td>\n",
       "      <td>1</td>\n",
       "      <td>1</td>\n",
       "      <td>1</td>\n",
       "    </tr>\n",
       "    <tr>\n",
       "      <th>5</th>\n",
       "      <td>0.551850</td>\n",
       "      <td>0.557941</td>\n",
       "      <td>0.001086</td>\n",
       "      <td>0.074886</td>\n",
       "      <td>1</td>\n",
       "      <td>1</td>\n",
       "      <td>1</td>\n",
       "    </tr>\n",
       "    <tr>\n",
       "      <th>6</th>\n",
       "      <td>0.552334</td>\n",
       "      <td>0.632826</td>\n",
       "      <td>0.001023</td>\n",
       "      <td>0.074886</td>\n",
       "      <td>1</td>\n",
       "      <td>1</td>\n",
       "      <td>1</td>\n",
       "    </tr>\n",
       "    <tr>\n",
       "      <th>...</th>\n",
       "      <td>...</td>\n",
       "      <td>...</td>\n",
       "      <td>...</td>\n",
       "      <td>...</td>\n",
       "      <td>...</td>\n",
       "      <td>...</td>\n",
       "      <td>...</td>\n",
       "    </tr>\n",
       "    <tr>\n",
       "      <th>1268</th>\n",
       "      <td>0.551210</td>\n",
       "      <td>0.000000</td>\n",
       "      <td>0.000516</td>\n",
       "      <td>-0.557941</td>\n",
       "      <td>1</td>\n",
       "      <td>-1</td>\n",
       "      <td>-1</td>\n",
       "    </tr>\n",
       "    <tr>\n",
       "      <th>1269</th>\n",
       "      <td>0.551224</td>\n",
       "      <td>0.669358</td>\n",
       "      <td>0.000537</td>\n",
       "      <td>0.111417</td>\n",
       "      <td>1</td>\n",
       "      <td>1</td>\n",
       "      <td>1</td>\n",
       "    </tr>\n",
       "    <tr>\n",
       "      <th>1270</th>\n",
       "      <td>0.555081</td>\n",
       "      <td>0.409360</td>\n",
       "      <td>0.003871</td>\n",
       "      <td>0.409360</td>\n",
       "      <td>1</td>\n",
       "      <td>1</td>\n",
       "      <td>1</td>\n",
       "    </tr>\n",
       "    <tr>\n",
       "      <th>1271</th>\n",
       "      <td>0.554057</td>\n",
       "      <td>0.520851</td>\n",
       "      <td>0.002833</td>\n",
       "      <td>-0.148506</td>\n",
       "      <td>1</td>\n",
       "      <td>-1</td>\n",
       "      <td>-1</td>\n",
       "    </tr>\n",
       "    <tr>\n",
       "      <th>1272</th>\n",
       "      <td>0.554704</td>\n",
       "      <td>0.261635</td>\n",
       "      <td>-0.000377</td>\n",
       "      <td>-0.147725</td>\n",
       "      <td>-1</td>\n",
       "      <td>-1</td>\n",
       "      <td>1</td>\n",
       "    </tr>\n",
       "  </tbody>\n",
       "</table>\n",
       "<p>1271 rows × 7 columns</p>\n",
       "</div>"
      ],
      "text/plain": [
       "      prediction      real  prediction_diff  real_diff  prediction_tendency  \\\n",
       "2       0.550265  0.520479         0.000074  -0.074923                    1   \n",
       "3       0.550764  0.483055         0.000143  -0.074886                    1   \n",
       "4       0.551311  0.557941         0.001046   0.037461                    1   \n",
       "5       0.551850  0.557941         0.001086   0.074886                    1   \n",
       "6       0.552334  0.632826         0.001023   0.074886                    1   \n",
       "...          ...       ...              ...        ...                  ...   \n",
       "1268    0.551210  0.000000         0.000516  -0.557941                    1   \n",
       "1269    0.551224  0.669358         0.000537   0.111417                    1   \n",
       "1270    0.555081  0.409360         0.003871   0.409360                    1   \n",
       "1271    0.554057  0.520851         0.002833  -0.148506                    1   \n",
       "1272    0.554704  0.261635        -0.000377  -0.147725                   -1   \n",
       "\n",
       "      real_tendency  compatibility  \n",
       "2                -1             -1  \n",
       "3                -1             -1  \n",
       "4                 1              1  \n",
       "5                 1              1  \n",
       "6                 1              1  \n",
       "...             ...            ...  \n",
       "1268             -1             -1  \n",
       "1269              1              1  \n",
       "1270              1              1  \n",
       "1271             -1             -1  \n",
       "1272             -1              1  \n",
       "\n",
       "[1271 rows x 7 columns]"
      ]
     },
     "execution_count": 207,
     "metadata": {},
     "output_type": "execute_result"
    }
   ],
   "source": [
    "df['prediction_diff'] = df.prediction.diff(periods=2)\n",
    "df['real_diff'] = df.real.diff(periods=2)\n",
    "def is_trade(row):\n",
    "    if row >= 0:\n",
    "        return 1\n",
    "    if row <= 0:\n",
    "        return -1\n",
    "df.dropna(inplace=True)\n",
    "df['prediction_tendency'] = df['prediction_diff'].apply(is_trade).astype('int')\n",
    "df['real_tendency'] = df['real_diff'].apply(is_trade).astype('int')\n",
    "\n",
    "def compatible(row):\n",
    "    if row['prediction_tendency'] == row['real_tendency']:\n",
    "        return 1\n",
    "    return -1\n",
    "\n",
    "df['compatibility'] = df.apply(compatible, axis=1).astype('int')\n",
    "df.dropna(inplace=True)\n",
    "df.reset_index(drop=True)\n",
    "df"
   ]
  },
  {
   "cell_type": "code",
   "execution_count": 208,
   "id": "59ce2329-3049-45eb-ac66-80bd28488e1f",
   "metadata": {},
   "outputs": [
    {
     "name": "stdout",
     "output_type": "stream",
     "text": [
      "Prediction compatibility: 0.6247049567269867\n"
     ]
    }
   ],
   "source": [
    "print(\"Prediction compatibility: \" + str(len(df[df.prediction_tendency == df.real_tendency])/len(df)))"
   ]
  },
  {
   "cell_type": "code",
   "execution_count": 209,
   "id": "ceb7113b-818e-49c8-a9d8-cd175fa5ae77",
   "metadata": {},
   "outputs": [
    {
     "data": {
      "text/plain": [
       "<AxesSubplot: >"
      ]
     },
     "execution_count": 209,
     "metadata": {},
     "output_type": "execute_result"
    },
    {
     "data": {
      "image/png": "[encoded data removed]",
      "text/plain": [
       "<Figure size 640x480 with 1 Axes>"
      ]
     },
     "metadata": {},
     "output_type": "display_data"
    }
   ],
   "source": [
    "ax = df.prediction_tendency.cumsum().plot()\n",
    "df.real_tendency.cumsum().plot(ax=ax)"
   ]
  },
  {
   "cell_type": "code",
   "execution_count": 210,
   "id": "6cb8a522-1197-493b-b918-30003a0d9dda",
   "metadata": {},
   "outputs": [
    {
     "data": {
      "text/plain": [
       "<AxesSubplot: >"
      ]
     },
     "execution_count": 210,
     "metadata": {},
     "output_type": "execute_result"
    },
    {
     "data": {
      "image/png": "[encoded data removed]",
      "text/plain": [
       "<Figure size 640x480 with 1 Axes>"
      ]
     },
     "metadata": {},
     "output_type": "display_data"
    }
   ],
   "source": [
    "df.compatibility.cumsum().plot()"
   ]
  },
  {
   "cell_type": "code",
   "execution_count": null,
   "id": "1c1c65a6-17f2-4f7f-b650-153dcae7d448",
   "metadata": {},
   "outputs": [],
   "source": []
  },
  {
   "cell_type": "code",
   "execution_count": null,
   "id": "d96af35a-1265-4522-b982-fb98005e57be",
   "metadata": {},
   "outputs": [],
   "source": []
  }
 ],
 "metadata": {
  "kernelspec": {
   "display_name": "Python 3 (ipykernel)",
   "language": "python",
   "name": "python3"
  },
  "language_info": {
   "codemirror_mode": {
    "name": "ipython",
    "version": 3
   },
   "file_extension": ".py",
   "mimetype": "text/x-python",
   "name": "python",
   "nbconvert_exporter": "python",
   "pygments_lexer": "ipython3",
   "version": "3.10.6"
  }
 },
 "nbformat": 4,
 "nbformat_minor": 5
}
