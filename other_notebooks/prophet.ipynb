{
 "cells": [
  {
   "cell_type": "code",
   "execution_count": 153,
   "id": "8fdbf130-5dde-427c-9fe9-a8717c95829d",
   "metadata": {},
   "outputs": [
    {
     "data": {
      "text/html": [
       "        <script type=\"text/javascript\">\n",
       "        window.PlotlyConfig = {MathJaxConfig: 'local'};\n",
       "        if (window.MathJax && window.MathJax.Hub && window.MathJax.Hub.Config) {window.MathJax.Hub.Config({SVG: {font: \"STIX-Web\"}});}\n",
       "        if (typeof require !== 'undefined') {\n",
       "        require.undef(\"plotly\");\n",
       "        requirejs.config({\n",
       "            paths: {\n",
       "                'plotly': ['https://cdn.plot.ly/plotly-2.16.1.min']\n",
       "            }\n",
       "        });\n",
       "        require(['plotly'], function(Plotly) {\n",
       "            window._Plotly = Plotly;\n",
       "        });\n",
       "        }\n",
       "        </script>\n",
       "        "
      ]
     },
     "metadata": {},
     "output_type": "display_data"
    }
   ],
   "source": [
    "# Import Libraries\n",
    "import numpy as np \n",
    "import pandas as pd\n",
    "import matplotlib.pyplot as plt\n",
    "import seaborn as sns\n",
    "import datetime as dt\n",
    "from prophet import Prophet\n",
    "# Statsmodels widely known for forecasting than Prophet\n",
    "import statsmodels.api as sm\n",
    "from scipy import stats\n",
    "# from pandas.core import datetools\n",
    "from plotly import tools\n",
    "import chart_studio.plotly as py\n",
    "import plotly.figure_factory as ff\n",
    "import plotly.tools as tls\n",
    "import plotly.graph_objs as go\n",
    "from plotly.offline import download_plotlyjs, init_notebook_mode, plot, iplot\n",
    "init_notebook_mode(connected=True)\n",
    "import warnings\n",
    "warnings.filterwarnings(\"ignore\")\n",
    "\n",
    "# plt.style.available\n",
    "plt.style.use(\"seaborn-whitegrid\")"
   ]
  },
  {
   "cell_type": "code",
   "execution_count": 154,
   "id": "394c93e4-a490-4c8a-9bd3-bd8819342260",
   "metadata": {},
   "outputs": [
    {
     "name": "stdout",
     "output_type": "stream",
     "text": [
      "[*********************100%***********************]  1 of 1 completed\n"
     ]
    }
   ],
   "source": [
    "# df = yf.download(\"EURUSD=X\", period=\"2y\", interval=\"1h\")\n",
    "df = utility.collect_yf(\"EURUSD\", '2y', '1d').rename(columns={\"datetime\":\"date\"})\n",
    "# df = yf.download(\"EURUSD=X\", period=\"14d\", interval=\"1h\")"
   ]
  },
  {
   "cell_type": "code",
   "execution_count": 155,
   "id": "a6b561ad-bb1b-44d9-89b3-0c0cc30a45bc",
   "metadata": {},
   "outputs": [
    {
     "data": {
      "text/html": [
       "<div>\n",
       "<style scoped>\n",
       "    .dataframe tbody tr th:only-of-type {\n",
       "        vertical-align: middle;\n",
       "    }\n",
       "\n",
       "    .dataframe tbody tr th {\n",
       "        vertical-align: top;\n",
       "    }\n",
       "\n",
       "    .dataframe thead th {\n",
       "        text-align: right;\n",
       "    }\n",
       "</style>\n",
       "<table border=\"1\" class=\"dataframe\">\n",
       "  <thead>\n",
       "    <tr style=\"text-align: right;\">\n",
       "      <th></th>\n",
       "      <th>date</th>\n",
       "      <th>open</th>\n",
       "      <th>high</th>\n",
       "      <th>low</th>\n",
       "      <th>close</th>\n",
       "      <th>adj close</th>\n",
       "    </tr>\n",
       "  </thead>\n",
       "  <tbody>\n",
       "    <tr>\n",
       "      <th>0</th>\n",
       "      <td>2021-06-16 01:00:00</td>\n",
       "      <td>1.212547</td>\n",
       "      <td>1.213499</td>\n",
       "      <td>1.211035</td>\n",
       "      <td>1.212709</td>\n",
       "      <td>1.212709</td>\n",
       "    </tr>\n",
       "    <tr>\n",
       "      <th>1</th>\n",
       "      <td>2021-06-17 01:00:00</td>\n",
       "      <td>1.199185</td>\n",
       "      <td>1.200769</td>\n",
       "      <td>1.190703</td>\n",
       "      <td>1.199559</td>\n",
       "      <td>1.199559</td>\n",
       "    </tr>\n",
       "    <tr>\n",
       "      <th>2</th>\n",
       "      <td>2021-06-18 01:00:00</td>\n",
       "      <td>1.191327</td>\n",
       "      <td>1.192748</td>\n",
       "      <td>1.185115</td>\n",
       "      <td>1.191341</td>\n",
       "      <td>1.191341</td>\n",
       "    </tr>\n",
       "    <tr>\n",
       "      <th>3</th>\n",
       "      <td>2021-06-21 01:00:00</td>\n",
       "      <td>1.186901</td>\n",
       "      <td>1.192051</td>\n",
       "      <td>1.184876</td>\n",
       "      <td>1.187366</td>\n",
       "      <td>1.187366</td>\n",
       "    </tr>\n",
       "    <tr>\n",
       "      <th>4</th>\n",
       "      <td>2021-06-22 01:00:00</td>\n",
       "      <td>1.191157</td>\n",
       "      <td>1.191753</td>\n",
       "      <td>1.188241</td>\n",
       "      <td>1.191256</td>\n",
       "      <td>1.191256</td>\n",
       "    </tr>\n",
       "  </tbody>\n",
       "</table>\n",
       "</div>"
      ],
      "text/plain": [
       "                 date      open      high       low     close  adj close\n",
       "0 2021-06-16 01:00:00  1.212547  1.213499  1.211035  1.212709   1.212709\n",
       "1 2021-06-17 01:00:00  1.199185  1.200769  1.190703  1.199559   1.199559\n",
       "2 2021-06-18 01:00:00  1.191327  1.192748  1.185115  1.191341   1.191341\n",
       "3 2021-06-21 01:00:00  1.186901  1.192051  1.184876  1.187366   1.187366\n",
       "4 2021-06-22 01:00:00  1.191157  1.191753  1.188241  1.191256   1.191256"
      ]
     },
     "execution_count": 155,
     "metadata": {},
     "output_type": "execute_result"
    }
   ],
   "source": [
    "df.head()"
   ]
  },
  {
   "cell_type": "code",
   "execution_count": 156,
   "id": "f7550c10-7f3d-463a-b493-26fd04a494d8",
   "metadata": {},
   "outputs": [],
   "source": [
    "df.loc[:, 'date'] = pd.to_datetime(df.loc[:,'date'], format=\"%Y/%m/%d\")"
   ]
  },
  {
   "cell_type": "code",
   "execution_count": 157,
   "id": "ff54e241-9ccb-451b-a561-f378899abf71",
   "metadata": {},
   "outputs": [],
   "source": [
    "amzn_df = df.copy()\n",
    "amzn_df['volume'] = 0"
   ]
  },
  {
   "cell_type": "code",
   "execution_count": 158,
   "id": "ebfb3b66-458f-4c38-bdbc-01c925db6953",
   "metadata": {},
   "outputs": [
    {
     "data": {
      "image/png": "[encoded data removed]",
      "text/plain": [
       "<Figure size 1400x500 with 2 Axes>"
      ]
     },
     "metadata": {},
     "output_type": "display_data"
    }
   ],
   "source": [
    "# Simple plotting of Amazon Stock Price\n",
    "# First Subplot\n",
    "f, (ax1, ax2) = plt.subplots(1, 2, figsize=(14,5))\n",
    "ax1.plot(amzn_df[\"date\"], amzn_df[\"close\"])\n",
    "ax1.set_xlabel(\"Date\", fontsize=12)\n",
    "ax1.set_ylabel(\"Stock Price\")\n",
    "ax1.set_title(\"Amazon Close Price History\")\n",
    "\n",
    "# Second Subplot\n",
    "ax1.plot(amzn_df[\"date\"], amzn_df[\"high\"], color=\"green\")\n",
    "ax1.set_xlabel(\"Date\", fontsize=12)\n",
    "ax1.set_ylabel(\"Stock Price\")\n",
    "ax1.set_title(\"Amazon High Price History\")\n",
    "\n",
    "# Third Subplot\n",
    "ax1.plot(amzn_df[\"date\"], amzn_df[\"low\"], color=\"red\")\n",
    "ax1.set_xlabel(\"Date\", fontsize=12)\n",
    "ax1.set_ylabel(\"Stock Price\")\n",
    "ax1.set_title(\"Amazon Low Price History\")\n",
    "\n",
    "# Fourth Subplot\n",
    "ax2.plot(amzn_df[\"date\"], amzn_df[\"volume\"], color=\"orange\")\n",
    "ax2.set_xlabel(\"Date\", fontsize=12)\n",
    "ax2.set_ylabel(\"Stock Price\")\n",
    "ax2.set_title(\"Amazon's Volume History\")\n",
    "plt.show()"
   ]
  },
  {
   "cell_type": "code",
   "execution_count": 159,
   "id": "e1247fd4-db62-4c25-b756-f4aecdb6231f",
   "metadata": {},
   "outputs": [
    {
     "data": {
      "text/plain": [
       "Index(['date', 'open', 'high', 'low', 'close', 'adj close'], dtype='object')"
      ]
     },
     "execution_count": 159,
     "metadata": {},
     "output_type": "execute_result"
    }
   ],
   "source": [
    "df.columns"
   ]
  },
  {
   "cell_type": "code",
   "execution_count": 160,
   "id": "80e58dcc-0cf8-49ee-9118-f4ce03adbff6",
   "metadata": {},
   "outputs": [
    {
     "data": {
      "text/html": [
       "<div>\n",
       "<style scoped>\n",
       "    .dataframe tbody tr th:only-of-type {\n",
       "        vertical-align: middle;\n",
       "    }\n",
       "\n",
       "    .dataframe tbody tr th {\n",
       "        vertical-align: top;\n",
       "    }\n",
       "\n",
       "    .dataframe thead th {\n",
       "        text-align: right;\n",
       "    }\n",
       "</style>\n",
       "<table border=\"1\" class=\"dataframe\">\n",
       "  <thead>\n",
       "    <tr style=\"text-align: right;\">\n",
       "      <th></th>\n",
       "      <th>ds</th>\n",
       "      <th>y</th>\n",
       "    </tr>\n",
       "  </thead>\n",
       "  <tbody>\n",
       "    <tr>\n",
       "      <th>0</th>\n",
       "      <td>2021-06-16 01:00:00</td>\n",
       "      <td>1.212709</td>\n",
       "    </tr>\n",
       "    <tr>\n",
       "      <th>1</th>\n",
       "      <td>2021-06-17 01:00:00</td>\n",
       "      <td>1.199559</td>\n",
       "    </tr>\n",
       "    <tr>\n",
       "      <th>2</th>\n",
       "      <td>2021-06-18 01:00:00</td>\n",
       "      <td>1.191341</td>\n",
       "    </tr>\n",
       "    <tr>\n",
       "      <th>3</th>\n",
       "      <td>2021-06-21 01:00:00</td>\n",
       "      <td>1.187366</td>\n",
       "    </tr>\n",
       "    <tr>\n",
       "      <th>4</th>\n",
       "      <td>2021-06-22 01:00:00</td>\n",
       "      <td>1.191256</td>\n",
       "    </tr>\n",
       "  </tbody>\n",
       "</table>\n",
       "</div>"
      ],
      "text/plain": [
       "                   ds         y\n",
       "0 2021-06-16 01:00:00  1.212709\n",
       "1 2021-06-17 01:00:00  1.199559\n",
       "2 2021-06-18 01:00:00  1.191341\n",
       "3 2021-06-21 01:00:00  1.187366\n",
       "4 2021-06-22 01:00:00  1.191256"
      ]
     },
     "execution_count": 160,
     "metadata": {},
     "output_type": "execute_result"
    }
   ],
   "source": [
    "m = Prophet()\n",
    "\n",
    "# Drop the columns\n",
    "ph_df = amzn_df.drop(['open', 'high', 'low','volume', 'adj close'], axis=1)\n",
    "ph_df.rename(columns={'close': 'y', 'date': 'ds'}, inplace=True)\n",
    "\n",
    "ph_df.head()"
   ]
  },
  {
   "cell_type": "code",
   "execution_count": 161,
   "id": "aab24203-ab5d-4894-8425-49b5533f18ad",
   "metadata": {},
   "outputs": [
    {
     "name": "stderr",
     "output_type": "stream",
     "text": [
      "15:02:04 - cmdstanpy - INFO - Chain [1] start processing\n",
      "15:02:05 - cmdstanpy - INFO - Chain [1] done processing\n"
     ]
    },
    {
     "data": {
      "text/plain": [
       "<prophet.forecaster.Prophet at 0x7f9a5908bd30>"
      ]
     },
     "execution_count": 161,
     "metadata": {},
     "output_type": "execute_result"
    }
   ],
   "source": [
    "m.fit(ph_df)"
   ]
  },
  {
   "cell_type": "code",
   "execution_count": 162,
   "id": "73389b1f-0531-4721-beab-a6e00bf72def",
   "metadata": {},
   "outputs": [
    {
     "data": {
      "text/html": [
       "<div>\n",
       "<style scoped>\n",
       "    .dataframe tbody tr th:only-of-type {\n",
       "        vertical-align: middle;\n",
       "    }\n",
       "\n",
       "    .dataframe tbody tr th {\n",
       "        vertical-align: top;\n",
       "    }\n",
       "\n",
       "    .dataframe thead th {\n",
       "        text-align: right;\n",
       "    }\n",
       "</style>\n",
       "<table border=\"1\" class=\"dataframe\">\n",
       "  <thead>\n",
       "    <tr style=\"text-align: right;\">\n",
       "      <th></th>\n",
       "      <th>ds</th>\n",
       "      <th>yhat</th>\n",
       "      <th>yhat_lower</th>\n",
       "      <th>yhat_upper</th>\n",
       "    </tr>\n",
       "  </thead>\n",
       "  <tbody>\n",
       "    <tr>\n",
       "      <th>883</th>\n",
       "      <td>2024-06-11 01:00:00</td>\n",
       "      <td>0.913987</td>\n",
       "      <td>0.518255</td>\n",
       "      <td>1.308502</td>\n",
       "    </tr>\n",
       "    <tr>\n",
       "      <th>884</th>\n",
       "      <td>2024-06-12 01:00:00</td>\n",
       "      <td>0.912859</td>\n",
       "      <td>0.516674</td>\n",
       "      <td>1.307632</td>\n",
       "    </tr>\n",
       "    <tr>\n",
       "      <th>885</th>\n",
       "      <td>2024-06-13 01:00:00</td>\n",
       "      <td>0.912861</td>\n",
       "      <td>0.511481</td>\n",
       "      <td>1.308043</td>\n",
       "    </tr>\n",
       "    <tr>\n",
       "      <th>886</th>\n",
       "      <td>2024-06-14 01:00:00</td>\n",
       "      <td>0.911666</td>\n",
       "      <td>0.506646</td>\n",
       "      <td>1.309918</td>\n",
       "    </tr>\n",
       "    <tr>\n",
       "      <th>887</th>\n",
       "      <td>2024-06-15 01:00:00</td>\n",
       "      <td>0.944159</td>\n",
       "      <td>0.535379</td>\n",
       "      <td>1.344215</td>\n",
       "    </tr>\n",
       "  </tbody>\n",
       "</table>\n",
       "</div>"
      ],
      "text/plain": [
       "                     ds      yhat  yhat_lower  yhat_upper\n",
       "883 2024-06-11 01:00:00  0.913987    0.518255    1.308502\n",
       "884 2024-06-12 01:00:00  0.912859    0.516674    1.307632\n",
       "885 2024-06-13 01:00:00  0.912861    0.511481    1.308043\n",
       "886 2024-06-14 01:00:00  0.911666    0.506646    1.309918\n",
       "887 2024-06-15 01:00:00  0.944159    0.535379    1.344215"
      ]
     },
     "execution_count": 162,
     "metadata": {},
     "output_type": "execute_result"
    }
   ],
   "source": [
    "# Create Future dates\n",
    "future_prices = m.make_future_dataframe(periods=365)\n",
    "\n",
    "# Predict Prices\n",
    "forecast = m.predict(future_prices)\n",
    "forecast[['ds', 'yhat', 'yhat_lower', 'yhat_upper']].tail()"
   ]
  },
  {
   "cell_type": "code",
   "execution_count": null,
   "id": "aa45a9a2-0631-43dc-9aa2-1301a3deb3f7",
   "metadata": {},
   "outputs": [],
   "source": []
  }
 ],
 "metadata": {
  "kernelspec": {
   "display_name": "Python 3 (ipykernel)",
   "language": "python",
   "name": "python3"
  },
  "language_info": {
   "codemirror_mode": {
    "name": "ipython",
    "version": 3
   },
   "file_extension": ".py",
   "mimetype": "text/x-python",
   "name": "python",
   "nbconvert_exporter": "python",
   "pygments_lexer": "ipython3",
   "version": "3.10.6"
  },
  "vscode": {
   "interpreter": {
    "hash": "d7ea9c19d132bf6acf033a757b85ea9dde6e0ede978acd8fdd00a50d45ea2f28"
   }
  }
 },
 "nbformat": 4,
 "nbformat_minor": 5
}
