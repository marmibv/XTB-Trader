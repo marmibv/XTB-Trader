{
 "cells": [
  {
   "cell_type": "code",
   "execution_count": 1,
   "id": "a08ce45d-54bf-413f-9c87-aeeeb3bbc060",
   "metadata": {},
   "outputs": [],
   "source": [
    "import numpy as np\n",
    "import matplotlib.pyplot as plt\n",
    "import pandas as pd\n",
    "import yfinance as yf\n",
    "from sklearn.preprocessing import MinMaxScaler\n",
    "import pandas_ta as ta\n",
    "import pickle\n",
    "from sklearn.metrics import mean_squared_error"
   ]
  },
  {
   "cell_type": "code",
   "execution_count": 2,
   "id": "5cb6b7f8-3804-4204-a1a2-6d8e8821e9d6",
   "metadata": {},
   "outputs": [],
   "source": [
    "import warnings\n",
    "warnings.filterwarnings(\"ignore\")"
   ]
  },
  {
   "cell_type": "code",
   "execution_count": 3,
   "id": "8e551a01-5bf2-4e71-b011-955fad8f7a0c",
   "metadata": {},
   "outputs": [],
   "source": [
    "import sys\n",
    "import os\n",
    "from datetime import datetime, timedelta\n",
    "sys.path.insert(1, '/home/krystian/Repos/XTB-Trader/utility')\n",
    "sys.path.insert(1, '/home/krystian/Repos/XTB-Trader')\n",
    "from XTBClient.api import XTBClient, PERIOD\n",
    "from utility import utility \n",
    "\n",
    "def get_data_for_symbol(symbol):\n",
    "    c = XTBClient()\n",
    "    c.login(os.environ.get(\"XTB_user_num\"), os.environ.get(\"XTB_pass\"))\n",
    "    df = c.get_candles_in_range(symbol, PERIOD.FIFTEEN_MINUTES.value, start=datetime.now() - timedelta(days=365))\n",
    "    c.logout()\n",
    "    \n",
    "    df = df.reset_index()\n",
    "    df.rename(columns={\"timestamp\": \"date\"}, inplace=True)\n",
    "    \n",
    "    df['date'] = df['date'].apply(pd.to_datetime)\n",
    "    df.set_index('date',inplace=True)\n",
    "    # df.drop([col for col in df.columns if col != \"close\"], axis=1, inplace=True)\n",
    "    return df\n",
    "\n",
    "def import_csv(name):\n",
    "    df = pd.read_csv(name, sep=';')\n",
    "    df.columns = [\"date\",\"open\",\"high\",\"low\",\"close\", \"volume\"]\n",
    "    df.date = pd.to_datetime(df.date)\n",
    "    df.drop(columns=\"volume\", inplace=True)\n",
    "    df.set_index('date', inplace=True, drop=True)\n",
    "    return df"
   ]
  },
  {
   "cell_type": "code",
   "execution_count": 4,
   "id": "63fa8554-a22a-4d07-aec2-e1e2ca5dec39",
   "metadata": {},
   "outputs": [],
   "source": [
    "def trend_accuracy(real, preds):\n",
    "    df = pd.DataFrame({\"real\": real, \"preds\": preds})\n",
    "    return len(df[df.real * df.preds > 0]) / len(df)"
   ]
  },
  {
   "cell_type": "markdown",
   "id": "ecd554ac-5100-4171-b298-6b05ad0b70f8",
   "metadata": {},
   "source": [
    "# Data import"
   ]
  },
  {
   "cell_type": "code",
   "execution_count": 5,
   "id": "a3ef7f05-e4e9-41c5-ab64-f35cfebe00bc",
   "metadata": {},
   "outputs": [
    {
     "data": {
      "text/html": [
       "<div>\n",
       "<style scoped>\n",
       "    .dataframe tbody tr th:only-of-type {\n",
       "        vertical-align: middle;\n",
       "    }\n",
       "\n",
       "    .dataframe tbody tr th {\n",
       "        vertical-align: top;\n",
       "    }\n",
       "\n",
       "    .dataframe thead th {\n",
       "        text-align: right;\n",
       "    }\n",
       "</style>\n",
       "<table border=\"1\" class=\"dataframe\">\n",
       "  <thead>\n",
       "    <tr style=\"text-align: right;\">\n",
       "      <th></th>\n",
       "      <th>open</th>\n",
       "      <th>close</th>\n",
       "      <th>high</th>\n",
       "      <th>low</th>\n",
       "      <th>volume</th>\n",
       "    </tr>\n",
       "    <tr>\n",
       "      <th>date</th>\n",
       "      <th></th>\n",
       "      <th></th>\n",
       "      <th></th>\n",
       "      <th></th>\n",
       "      <th></th>\n",
       "    </tr>\n",
       "  </thead>\n",
       "  <tbody>\n",
       "    <tr>\n",
       "      <th>2023-01-01 22:00:00</th>\n",
       "      <td>1.07058</td>\n",
       "      <td>1.06932</td>\n",
       "      <td>1.07086</td>\n",
       "      <td>1.06932</td>\n",
       "      <td>187.0</td>\n",
       "    </tr>\n",
       "    <tr>\n",
       "      <th>2023-01-01 22:15:00</th>\n",
       "      <td>1.06932</td>\n",
       "      <td>1.06933</td>\n",
       "      <td>1.06935</td>\n",
       "      <td>1.06906</td>\n",
       "      <td>102.0</td>\n",
       "    </tr>\n",
       "    <tr>\n",
       "      <th>2023-01-01 22:30:00</th>\n",
       "      <td>1.06931</td>\n",
       "      <td>1.06900</td>\n",
       "      <td>1.06936</td>\n",
       "      <td>1.06857</td>\n",
       "      <td>798.0</td>\n",
       "    </tr>\n",
       "    <tr>\n",
       "      <th>2023-01-01 22:45:00</th>\n",
       "      <td>1.06905</td>\n",
       "      <td>1.06944</td>\n",
       "      <td>1.06981</td>\n",
       "      <td>1.06895</td>\n",
       "      <td>1980.0</td>\n",
       "    </tr>\n",
       "    <tr>\n",
       "      <th>2023-01-01 23:00:00</th>\n",
       "      <td>1.06922</td>\n",
       "      <td>1.06777</td>\n",
       "      <td>1.06933</td>\n",
       "      <td>1.06773</td>\n",
       "      <td>285.0</td>\n",
       "    </tr>\n",
       "    <tr>\n",
       "      <th>...</th>\n",
       "      <td>...</td>\n",
       "      <td>...</td>\n",
       "      <td>...</td>\n",
       "      <td>...</td>\n",
       "      <td>...</td>\n",
       "    </tr>\n",
       "    <tr>\n",
       "      <th>2023-07-03 17:45:00</th>\n",
       "      <td>1.09117</td>\n",
       "      <td>1.09079</td>\n",
       "      <td>1.09120</td>\n",
       "      <td>1.09079</td>\n",
       "      <td>1933.0</td>\n",
       "    </tr>\n",
       "    <tr>\n",
       "      <th>2023-07-03 18:00:00</th>\n",
       "      <td>1.09080</td>\n",
       "      <td>1.09116</td>\n",
       "      <td>1.09121</td>\n",
       "      <td>1.09080</td>\n",
       "      <td>2238.0</td>\n",
       "    </tr>\n",
       "    <tr>\n",
       "      <th>2023-07-03 18:15:00</th>\n",
       "      <td>1.09116</td>\n",
       "      <td>1.09118</td>\n",
       "      <td>1.09120</td>\n",
       "      <td>1.09105</td>\n",
       "      <td>1769.0</td>\n",
       "    </tr>\n",
       "    <tr>\n",
       "      <th>2023-07-03 18:30:00</th>\n",
       "      <td>1.09117</td>\n",
       "      <td>1.09098</td>\n",
       "      <td>1.09117</td>\n",
       "      <td>1.09093</td>\n",
       "      <td>1883.0</td>\n",
       "    </tr>\n",
       "    <tr>\n",
       "      <th>2023-07-03 18:45:00</th>\n",
       "      <td>1.09099</td>\n",
       "      <td>1.09101</td>\n",
       "      <td>1.09101</td>\n",
       "      <td>1.09094</td>\n",
       "      <td>453.0</td>\n",
       "    </tr>\n",
       "  </tbody>\n",
       "</table>\n",
       "<p>12464 rows × 5 columns</p>\n",
       "</div>"
      ],
      "text/plain": [
       "                        open    close     high      low  volume\n",
       "date                                                           \n",
       "2023-01-01 22:00:00  1.07058  1.06932  1.07086  1.06932   187.0\n",
       "2023-01-01 22:15:00  1.06932  1.06933  1.06935  1.06906   102.0\n",
       "2023-01-01 22:30:00  1.06931  1.06900  1.06936  1.06857   798.0\n",
       "2023-01-01 22:45:00  1.06905  1.06944  1.06981  1.06895  1980.0\n",
       "2023-01-01 23:00:00  1.06922  1.06777  1.06933  1.06773   285.0\n",
       "...                      ...      ...      ...      ...     ...\n",
       "2023-07-03 17:45:00  1.09117  1.09079  1.09120  1.09079  1933.0\n",
       "2023-07-03 18:00:00  1.09080  1.09116  1.09121  1.09080  2238.0\n",
       "2023-07-03 18:15:00  1.09116  1.09118  1.09120  1.09105  1769.0\n",
       "2023-07-03 18:30:00  1.09117  1.09098  1.09117  1.09093  1883.0\n",
       "2023-07-03 18:45:00  1.09099  1.09101  1.09101  1.09094   453.0\n",
       "\n",
       "[12464 rows x 5 columns]"
      ]
     },
     "execution_count": 5,
     "metadata": {},
     "output_type": "execute_result"
    }
   ],
   "source": [
    "# df = yf.download(tickers = 'EURUSD=x', period='1y', interval='15m')\n",
    "df = get_data_for_symbol(\"EURUSD\")\n",
    "df.index.rename(\"Date\", inplace=True)\n",
    "df.rename(columns={col: col.lower() for col in df.columns}, inplace=True)\n",
    "df.index.rename(df.index.name.lower(), inplace=True)\n",
    "df"
   ]
  },
  {
   "cell_type": "code",
   "execution_count": 6,
   "id": "b8ab6263-82f4-41bd-b520-fef0f65667e2",
   "metadata": {
    "tags": []
   },
   "outputs": [],
   "source": [
    "df.ta.indicators(as_list=True);"
   ]
  },
  {
   "cell_type": "markdown",
   "id": "c8bb46d4-1d40-4023-9b24-32a4a3cf123d",
   "metadata": {},
   "source": [
    "# Additional Indicators"
   ]
  },
  {
   "cell_type": "code",
   "execution_count": 7,
   "id": "b8d19475-1800-497a-b04f-890d7a17831a",
   "metadata": {},
   "outputs": [
    {
     "data": {
      "text/html": [
       "<div>\n",
       "<style scoped>\n",
       "    .dataframe tbody tr th:only-of-type {\n",
       "        vertical-align: middle;\n",
       "    }\n",
       "\n",
       "    .dataframe tbody tr th {\n",
       "        vertical-align: top;\n",
       "    }\n",
       "\n",
       "    .dataframe thead th {\n",
       "        text-align: right;\n",
       "    }\n",
       "</style>\n",
       "<table border=\"1\" class=\"dataframe\">\n",
       "  <thead>\n",
       "    <tr style=\"text-align: right;\">\n",
       "      <th></th>\n",
       "      <th>open</th>\n",
       "      <th>close</th>\n",
       "      <th>high</th>\n",
       "      <th>low</th>\n",
       "      <th>volume</th>\n",
       "      <th>RSI</th>\n",
       "      <th>EMAF</th>\n",
       "      <th>EMAM</th>\n",
       "      <th>EMAS</th>\n",
       "      <th>EMAS2</th>\n",
       "      <th>gain</th>\n",
       "      <th>future_gain</th>\n",
       "      <th>STOCHk_14_3_3</th>\n",
       "      <th>STOCHd_14_3_3</th>\n",
       "    </tr>\n",
       "    <tr>\n",
       "      <th>date</th>\n",
       "      <th></th>\n",
       "      <th></th>\n",
       "      <th></th>\n",
       "      <th></th>\n",
       "      <th></th>\n",
       "      <th></th>\n",
       "      <th></th>\n",
       "      <th></th>\n",
       "      <th></th>\n",
       "      <th></th>\n",
       "      <th></th>\n",
       "      <th></th>\n",
       "      <th></th>\n",
       "      <th></th>\n",
       "    </tr>\n",
       "  </thead>\n",
       "  <tbody>\n",
       "    <tr>\n",
       "      <th>2023-01-03 11:15:00</th>\n",
       "      <td>1.05270</td>\n",
       "      <td>1.05261</td>\n",
       "      <td>1.05291</td>\n",
       "      <td>1.05191</td>\n",
       "      <td>12215.0</td>\n",
       "      <td>15.644104</td>\n",
       "      <td>1.057125</td>\n",
       "      <td>1.064082</td>\n",
       "      <td>1.066306</td>\n",
       "      <td>1.064679</td>\n",
       "      <td>-0.00010</td>\n",
       "      <td>-0.00035</td>\n",
       "      <td>4.157572</td>\n",
       "      <td>3.550690</td>\n",
       "    </tr>\n",
       "    <tr>\n",
       "      <th>2023-01-03 11:30:00</th>\n",
       "      <td>1.05260</td>\n",
       "      <td>1.05314</td>\n",
       "      <td>1.05357</td>\n",
       "      <td>1.05251</td>\n",
       "      <td>10121.0</td>\n",
       "      <td>20.275578</td>\n",
       "      <td>1.056745</td>\n",
       "      <td>1.063865</td>\n",
       "      <td>1.066132</td>\n",
       "      <td>1.064489</td>\n",
       "      <td>0.00053</td>\n",
       "      <td>-0.00010</td>\n",
       "      <td>8.574807</td>\n",
       "      <td>5.260125</td>\n",
       "    </tr>\n",
       "    <tr>\n",
       "      <th>2023-01-03 11:45:00</th>\n",
       "      <td>1.05314</td>\n",
       "      <td>1.05279</td>\n",
       "      <td>1.05349</td>\n",
       "      <td>1.05263</td>\n",
       "      <td>11677.0</td>\n",
       "      <td>19.517384</td>\n",
       "      <td>1.056368</td>\n",
       "      <td>1.063646</td>\n",
       "      <td>1.065955</td>\n",
       "      <td>1.064295</td>\n",
       "      <td>-0.00035</td>\n",
       "      <td>0.00053</td>\n",
       "      <td>12.849630</td>\n",
       "      <td>8.527336</td>\n",
       "    </tr>\n",
       "    <tr>\n",
       "      <th>2023-01-03 12:00:00</th>\n",
       "      <td>1.05280</td>\n",
       "      <td>1.05326</td>\n",
       "      <td>1.05330</td>\n",
       "      <td>1.05237</td>\n",
       "      <td>12848.0</td>\n",
       "      <td>23.626454</td>\n",
       "      <td>1.056072</td>\n",
       "      <td>1.063440</td>\n",
       "      <td>1.065787</td>\n",
       "      <td>1.064113</td>\n",
       "      <td>0.00047</td>\n",
       "      <td>-0.00035</td>\n",
       "      <td>19.409084</td>\n",
       "      <td>13.611174</td>\n",
       "    </tr>\n",
       "    <tr>\n",
       "      <th>2023-01-03 12:15:00</th>\n",
       "      <td>1.05324</td>\n",
       "      <td>1.05395</td>\n",
       "      <td>1.05397</td>\n",
       "      <td>1.05304</td>\n",
       "      <td>11486.0</td>\n",
       "      <td>29.303880</td>\n",
       "      <td>1.055870</td>\n",
       "      <td>1.063252</td>\n",
       "      <td>1.065630</td>\n",
       "      <td>1.063945</td>\n",
       "      <td>0.00069</td>\n",
       "      <td>0.00047</td>\n",
       "      <td>29.993749</td>\n",
       "      <td>20.750821</td>\n",
       "    </tr>\n",
       "    <tr>\n",
       "      <th>...</th>\n",
       "      <td>...</td>\n",
       "      <td>...</td>\n",
       "      <td>...</td>\n",
       "      <td>...</td>\n",
       "      <td>...</td>\n",
       "      <td>...</td>\n",
       "      <td>...</td>\n",
       "      <td>...</td>\n",
       "      <td>...</td>\n",
       "      <td>...</td>\n",
       "      <td>...</td>\n",
       "      <td>...</td>\n",
       "      <td>...</td>\n",
       "      <td>...</td>\n",
       "    </tr>\n",
       "    <tr>\n",
       "      <th>2023-07-03 17:45:00</th>\n",
       "      <td>1.09117</td>\n",
       "      <td>1.09079</td>\n",
       "      <td>1.09120</td>\n",
       "      <td>1.09079</td>\n",
       "      <td>1933.0</td>\n",
       "      <td>48.987178</td>\n",
       "      <td>1.091074</td>\n",
       "      <td>1.090158</td>\n",
       "      <td>1.089952</td>\n",
       "      <td>1.090049</td>\n",
       "      <td>-0.00039</td>\n",
       "      <td>-0.00023</td>\n",
       "      <td>40.555295</td>\n",
       "      <td>40.813118</td>\n",
       "    </tr>\n",
       "    <tr>\n",
       "      <th>2023-07-03 18:00:00</th>\n",
       "      <td>1.09080</td>\n",
       "      <td>1.09116</td>\n",
       "      <td>1.09121</td>\n",
       "      <td>1.09080</td>\n",
       "      <td>2238.0</td>\n",
       "      <td>53.284124</td>\n",
       "      <td>1.091082</td>\n",
       "      <td>1.090177</td>\n",
       "      <td>1.089968</td>\n",
       "      <td>1.090067</td>\n",
       "      <td>0.00037</td>\n",
       "      <td>-0.00039</td>\n",
       "      <td>43.553459</td>\n",
       "      <td>42.080420</td>\n",
       "    </tr>\n",
       "    <tr>\n",
       "      <th>2023-07-03 18:15:00</th>\n",
       "      <td>1.09116</td>\n",
       "      <td>1.09118</td>\n",
       "      <td>1.09120</td>\n",
       "      <td>1.09105</td>\n",
       "      <td>1769.0</td>\n",
       "      <td>53.510914</td>\n",
       "      <td>1.091091</td>\n",
       "      <td>1.090197</td>\n",
       "      <td>1.089984</td>\n",
       "      <td>1.090085</td>\n",
       "      <td>0.00002</td>\n",
       "      <td>0.00037</td>\n",
       "      <td>43.553459</td>\n",
       "      <td>42.554071</td>\n",
       "    </tr>\n",
       "    <tr>\n",
       "      <th>2023-07-03 18:30:00</th>\n",
       "      <td>1.09117</td>\n",
       "      <td>1.09098</td>\n",
       "      <td>1.09117</td>\n",
       "      <td>1.09093</td>\n",
       "      <td>1883.0</td>\n",
       "      <td>50.865202</td>\n",
       "      <td>1.091081</td>\n",
       "      <td>1.090213</td>\n",
       "      <td>1.089997</td>\n",
       "      <td>1.090100</td>\n",
       "      <td>-0.00020</td>\n",
       "      <td>0.00002</td>\n",
       "      <td>43.892308</td>\n",
       "      <td>43.666409</td>\n",
       "    </tr>\n",
       "    <tr>\n",
       "      <th>2023-07-03 18:45:00</th>\n",
       "      <td>1.09099</td>\n",
       "      <td>1.09101</td>\n",
       "      <td>1.09101</td>\n",
       "      <td>1.09094</td>\n",
       "      <td>453.0</td>\n",
       "      <td>51.252555</td>\n",
       "      <td>1.091074</td>\n",
       "      <td>1.090229</td>\n",
       "      <td>1.090011</td>\n",
       "      <td>1.090115</td>\n",
       "      <td>0.00003</td>\n",
       "      <td>-0.00020</td>\n",
       "      <td>38.948307</td>\n",
       "      <td>42.131358</td>\n",
       "    </tr>\n",
       "  </tbody>\n",
       "</table>\n",
       "<p>12315 rows × 14 columns</p>\n",
       "</div>"
      ],
      "text/plain": [
       "                        open    close     high      low   volume        RSI  \\\n",
       "date                                                                          \n",
       "2023-01-03 11:15:00  1.05270  1.05261  1.05291  1.05191  12215.0  15.644104   \n",
       "2023-01-03 11:30:00  1.05260  1.05314  1.05357  1.05251  10121.0  20.275578   \n",
       "2023-01-03 11:45:00  1.05314  1.05279  1.05349  1.05263  11677.0  19.517384   \n",
       "2023-01-03 12:00:00  1.05280  1.05326  1.05330  1.05237  12848.0  23.626454   \n",
       "2023-01-03 12:15:00  1.05324  1.05395  1.05397  1.05304  11486.0  29.303880   \n",
       "...                      ...      ...      ...      ...      ...        ...   \n",
       "2023-07-03 17:45:00  1.09117  1.09079  1.09120  1.09079   1933.0  48.987178   \n",
       "2023-07-03 18:00:00  1.09080  1.09116  1.09121  1.09080   2238.0  53.284124   \n",
       "2023-07-03 18:15:00  1.09116  1.09118  1.09120  1.09105   1769.0  53.510914   \n",
       "2023-07-03 18:30:00  1.09117  1.09098  1.09117  1.09093   1883.0  50.865202   \n",
       "2023-07-03 18:45:00  1.09099  1.09101  1.09101  1.09094    453.0  51.252555   \n",
       "\n",
       "                         EMAF      EMAM      EMAS     EMAS2     gain  \\\n",
       "date                                                                   \n",
       "2023-01-03 11:15:00  1.057125  1.064082  1.066306  1.064679 -0.00010   \n",
       "2023-01-03 11:30:00  1.056745  1.063865  1.066132  1.064489  0.00053   \n",
       "2023-01-03 11:45:00  1.056368  1.063646  1.065955  1.064295 -0.00035   \n",
       "2023-01-03 12:00:00  1.056072  1.063440  1.065787  1.064113  0.00047   \n",
       "2023-01-03 12:15:00  1.055870  1.063252  1.065630  1.063945  0.00069   \n",
       "...                       ...       ...       ...       ...      ...   \n",
       "2023-07-03 17:45:00  1.091074  1.090158  1.089952  1.090049 -0.00039   \n",
       "2023-07-03 18:00:00  1.091082  1.090177  1.089968  1.090067  0.00037   \n",
       "2023-07-03 18:15:00  1.091091  1.090197  1.089984  1.090085  0.00002   \n",
       "2023-07-03 18:30:00  1.091081  1.090213  1.089997  1.090100 -0.00020   \n",
       "2023-07-03 18:45:00  1.091074  1.090229  1.090011  1.090115  0.00003   \n",
       "\n",
       "                     future_gain  STOCHk_14_3_3  STOCHd_14_3_3  \n",
       "date                                                            \n",
       "2023-01-03 11:15:00     -0.00035       4.157572       3.550690  \n",
       "2023-01-03 11:30:00     -0.00010       8.574807       5.260125  \n",
       "2023-01-03 11:45:00      0.00053      12.849630       8.527336  \n",
       "2023-01-03 12:00:00     -0.00035      19.409084      13.611174  \n",
       "2023-01-03 12:15:00      0.00047      29.993749      20.750821  \n",
       "...                          ...            ...            ...  \n",
       "2023-07-03 17:45:00     -0.00023      40.555295      40.813118  \n",
       "2023-07-03 18:00:00     -0.00039      43.553459      42.080420  \n",
       "2023-07-03 18:15:00      0.00037      43.553459      42.554071  \n",
       "2023-07-03 18:30:00      0.00002      43.892308      43.666409  \n",
       "2023-07-03 18:45:00     -0.00020      38.948307      42.131358  \n",
       "\n",
       "[12315 rows x 14 columns]"
      ]
     },
     "execution_count": 7,
     "metadata": {},
     "output_type": "execute_result"
    }
   ],
   "source": [
    "df['RSI']=ta.rsi(df.close, length=15)\n",
    "df['EMAF']=ta.ema(df.close, length=20)\n",
    "df['EMAM']=ta.ema(df.close, length=100)\n",
    "df['EMAS']=ta.ema(df.close, length=150)\n",
    "df['EMAS2']=ta.ema(df.close, length=120)\n",
    "\n",
    "df['gain'] = df['close'].diff()\n",
    "df['future_gain'] = df['gain'].shift(1)\n",
    "# df['future'] = df['close'].shift(1)\n",
    "df = pd.concat([df, ta.stoch(df.high, df.low, df.close)], axis=1)\n",
    "\n",
    "df.dropna(inplace=True)\n",
    "df"
   ]
  },
  {
   "cell_type": "markdown",
   "id": "176ebb37-ab89-45fa-a08d-eecdd82f7980",
   "metadata": {},
   "source": [
    "# Train Test split"
   ]
  },
  {
   "cell_type": "code",
   "execution_count": 8,
   "id": "102cec55-adb1-47a0-a312-dee3c6927a17",
   "metadata": {},
   "outputs": [],
   "source": [
    "# train, test = df[:int(len(df)*0.8)], df[int(len(df)*0.8):]\n",
    "train = df[df.index < df.index.min() + (df.index.max() - df.index.min()) * 0.8]\n",
    "test = df[df.index >= df.index.min() + (df.index.max() - df.index.min()) * 0.8]"
   ]
  },
  {
   "cell_type": "code",
   "execution_count": 9,
   "id": "8963a0f8-ca4e-4712-857a-d996645f2243",
   "metadata": {},
   "outputs": [
    {
     "data": {
      "text/plain": [
       "(9847, 2468)"
      ]
     },
     "execution_count": 9,
     "metadata": {},
     "output_type": "execute_result"
    }
   ],
   "source": [
    "len(train), len(test)"
   ]
  },
  {
   "cell_type": "code",
   "execution_count": 10,
   "id": "22a832bc-1fa0-4cd9-8789-9ddfb878cfe4",
   "metadata": {},
   "outputs": [],
   "source": [
    "target = 'future_gain'\n",
    "Y_train = train[target]\n",
    "X_train = train.drop(target, axis=1)\n",
    "\n",
    "Y_test = test[target]\n",
    "X_test = test.drop(target, axis=1)"
   ]
  },
  {
   "cell_type": "markdown",
   "id": "d0124798-0c19-4429-a54c-1f260e249e7c",
   "metadata": {},
   "source": [
    "# Model"
   ]
  },
  {
   "cell_type": "code",
   "execution_count": 20,
   "id": "f2cbac02-2ecb-4a82-a3d1-cab11934ad4d",
   "metadata": {},
   "outputs": [
    {
     "data": {
      "text/html": [
       "<style>#sk-container-id-1 {color: black;background-color: white;}#sk-container-id-1 pre{padding: 0;}#sk-container-id-1 div.sk-toggleable {background-color: white;}#sk-container-id-1 label.sk-toggleable__label {cursor: pointer;display: block;width: 100%;margin-bottom: 0;padding: 0.3em;box-sizing: border-box;text-align: center;}#sk-container-id-1 label.sk-toggleable__label-arrow:before {content: \"▸\";float: left;margin-right: 0.25em;color: #696969;}#sk-container-id-1 label.sk-toggleable__label-arrow:hover:before {color: black;}#sk-container-id-1 div.sk-estimator:hover label.sk-toggleable__label-arrow:before {color: black;}#sk-container-id-1 div.sk-toggleable__content {max-height: 0;max-width: 0;overflow: hidden;text-align: left;background-color: #f0f8ff;}#sk-container-id-1 div.sk-toggleable__content pre {margin: 0.2em;color: black;border-radius: 0.25em;background-color: #f0f8ff;}#sk-container-id-1 input.sk-toggleable__control:checked~div.sk-toggleable__content {max-height: 200px;max-width: 100%;overflow: auto;}#sk-container-id-1 input.sk-toggleable__control:checked~label.sk-toggleable__label-arrow:before {content: \"▾\";}#sk-container-id-1 div.sk-estimator input.sk-toggleable__control:checked~label.sk-toggleable__label {background-color: #d4ebff;}#sk-container-id-1 div.sk-label input.sk-toggleable__control:checked~label.sk-toggleable__label {background-color: #d4ebff;}#sk-container-id-1 input.sk-hidden--visually {border: 0;clip: rect(1px 1px 1px 1px);clip: rect(1px, 1px, 1px, 1px);height: 1px;margin: -1px;overflow: hidden;padding: 0;position: absolute;width: 1px;}#sk-container-id-1 div.sk-estimator {font-family: monospace;background-color: #f0f8ff;border: 1px dotted black;border-radius: 0.25em;box-sizing: border-box;margin-bottom: 0.5em;}#sk-container-id-1 div.sk-estimator:hover {background-color: #d4ebff;}#sk-container-id-1 div.sk-parallel-item::after {content: \"\";width: 100%;border-bottom: 1px solid gray;flex-grow: 1;}#sk-container-id-1 div.sk-label:hover label.sk-toggleable__label {background-color: #d4ebff;}#sk-container-id-1 div.sk-serial::before {content: \"\";position: absolute;border-left: 1px solid gray;box-sizing: border-box;top: 0;bottom: 0;left: 50%;z-index: 0;}#sk-container-id-1 div.sk-serial {display: flex;flex-direction: column;align-items: center;background-color: white;padding-right: 0.2em;padding-left: 0.2em;position: relative;}#sk-container-id-1 div.sk-item {position: relative;z-index: 1;}#sk-container-id-1 div.sk-parallel {display: flex;align-items: stretch;justify-content: center;background-color: white;position: relative;}#sk-container-id-1 div.sk-item::before, #sk-container-id-1 div.sk-parallel-item::before {content: \"\";position: absolute;border-left: 1px solid gray;box-sizing: border-box;top: 0;bottom: 0;left: 50%;z-index: -1;}#sk-container-id-1 div.sk-parallel-item {display: flex;flex-direction: column;z-index: 1;position: relative;background-color: white;}#sk-container-id-1 div.sk-parallel-item:first-child::after {align-self: flex-end;width: 50%;}#sk-container-id-1 div.sk-parallel-item:last-child::after {align-self: flex-start;width: 50%;}#sk-container-id-1 div.sk-parallel-item:only-child::after {width: 0;}#sk-container-id-1 div.sk-dashed-wrapped {border: 1px dashed gray;margin: 0 0.4em 0.5em 0.4em;box-sizing: border-box;padding-bottom: 0.4em;background-color: white;}#sk-container-id-1 div.sk-label label {font-family: monospace;font-weight: bold;display: inline-block;line-height: 1.2em;}#sk-container-id-1 div.sk-label-container {text-align: center;}#sk-container-id-1 div.sk-container {/* jupyter's `normalize.less` sets `[hidden] { display: none; }` but bootstrap.min.css set `[hidden] { display: none !important; }` so we also need the `!important` here to be able to override the default hidden behavior on the sphinx rendered scikit-learn.org. See: https://github.com/scikit-learn/scikit-learn/issues/21755 */display: inline-block !important;position: relative;}#sk-container-id-1 div.sk-text-repr-fallback {display: none;}</style><div id=\"sk-container-id-1\" class=\"sk-top-container\"><div class=\"sk-text-repr-fallback\"><pre>LinearRegression()</pre><b>In a Jupyter environment, please rerun this cell to show the HTML representation or trust the notebook. <br />On GitHub, the HTML representation is unable to render, please try loading this page with nbviewer.org.</b></div><div class=\"sk-container\" hidden><div class=\"sk-item\"><div class=\"sk-estimator sk-toggleable\"><input class=\"sk-toggleable__control sk-hidden--visually\" id=\"sk-estimator-id-1\" type=\"checkbox\" checked><label for=\"sk-estimator-id-1\" class=\"sk-toggleable__label sk-toggleable__label-arrow\">LinearRegression</label><div class=\"sk-toggleable__content\"><pre>LinearRegression()</pre></div></div></div></div></div>"
      ],
      "text/plain": [
       "LinearRegression()"
      ]
     },
     "execution_count": 20,
     "metadata": {},
     "output_type": "execute_result"
    }
   ],
   "source": [
    "from sklearn import linear_model\n",
    "\n",
    "model = linear_model.LinearRegression()\n",
    "model.fit(X_train, Y_train)"
   ]
  },
  {
   "cell_type": "code",
   "execution_count": 21,
   "id": "f6b8c6f2-a207-4cfb-ab74-af08434c4054",
   "metadata": {},
   "outputs": [],
   "source": [
    "predictions = model.predict(X_test)"
   ]
  },
  {
   "cell_type": "code",
   "execution_count": 22,
   "id": "c02244c5-ee0e-42ee-8e3a-e20f3aecbc9f",
   "metadata": {},
   "outputs": [
    {
     "data": {
      "image/png": "[encoded data removed]",
      "text/plain": [
       "<Figure size 640x480 with 1 Axes>"
      ]
     },
     "metadata": {},
     "output_type": "display_data"
    }
   ],
   "source": [
    "plt.plot(Y_test.values)\n",
    "plt.plot(predictions)\n",
    "plt.show()"
   ]
  },
  {
   "cell_type": "code",
   "execution_count": 23,
   "id": "3f37b212-71e6-4aeb-8b69-2fb92c897e34",
   "metadata": {},
   "outputs": [
    {
     "data": {
      "text/plain": [
       "0.00033850836230697024"
      ]
     },
     "execution_count": 23,
     "metadata": {},
     "output_type": "execute_result"
    }
   ],
   "source": [
    "rms = mean_squared_error(Y_test.values, predictions, squared=False)\n",
    "rms"
   ]
  },
  {
   "cell_type": "code",
   "execution_count": 24,
   "id": "0e6fd524-deaf-4a6d-a63c-3f8b8ce7ec90",
   "metadata": {},
   "outputs": [
    {
     "data": {
      "text/plain": [
       "0.7224473257698542"
      ]
     },
     "execution_count": 24,
     "metadata": {},
     "output_type": "execute_result"
    }
   ],
   "source": [
    "trend_accuracy(Y_test.values, predictions)"
   ]
  },
  {
   "cell_type": "code",
   "execution_count": 25,
   "id": "bd4d07e9-95dc-466a-9f56-2313ff279154",
   "metadata": {},
   "outputs": [
    {
     "data": {
      "image/png": "[encoded data removed]",
      "text/plain": [
       "<Figure size 640x480 with 1 Axes>"
      ]
     },
     "metadata": {},
     "output_type": "display_data"
    }
   ],
   "source": [
    "importance = model.coef_\n",
    "\n",
    "plt.bar(model.feature_names_in_, importance )\n",
    "plt.xticks(rotation='vertical');"
   ]
  },
  {
   "cell_type": "markdown",
   "id": "176c65a6-0ee4-4af3-8519-be7f03158dc5",
   "metadata": {},
   "source": [
    "# Saving the model"
   ]
  },
  {
   "cell_type": "code",
   "execution_count": 26,
   "id": "5f2b75ea-a8f9-4e75-ad67-4ddfba8cf97f",
   "metadata": {},
   "outputs": [],
   "source": [
    "filename = os.path.join(\"../\", \"../\", \"models\", \"linear_regression.pkl\")"
   ]
  },
  {
   "cell_type": "code",
   "execution_count": 27,
   "id": "a108e34f-9176-4773-b68c-ec87f05ebece",
   "metadata": {},
   "outputs": [],
   "source": [
    "pickle.dump(model, open(filename, 'wb'))"
   ]
  },
  {
   "cell_type": "code",
   "execution_count": 28,
   "id": "a8010e9d-529a-41ad-b351-bdd946e7f8df",
   "metadata": {},
   "outputs": [],
   "source": [
    "loaded_model = pickle.load(open(filename, 'rb'))"
   ]
  },
  {
   "cell_type": "code",
   "execution_count": null,
   "id": "489703dd-c4af-499c-8be8-ff89b9d40e0d",
   "metadata": {},
   "outputs": [],
   "source": [
    "loaded_model.predict"
   ]
  }
 ],
 "metadata": {
  "kernelspec": {
   "display_name": "Python 3 (ipykernel)",
   "language": "python",
   "name": "python3"
  },
  "language_info": {
   "codemirror_mode": {
    "name": "ipython",
    "version": 3
   },
   "file_extension": ".py",
   "mimetype": "text/x-python",
   "name": "python",
   "nbconvert_exporter": "python",
   "pygments_lexer": "ipython3",
   "version": "3.10.6"
  }
 },
 "nbformat": 4,
 "nbformat_minor": 5
}
