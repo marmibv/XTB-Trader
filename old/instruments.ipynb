{
 "cells": [
  {
   "cell_type": "code",
   "execution_count": 145,
   "id": "32811d83-a5a7-42c8-9b49-02d477567af6",
   "metadata": {},
   "outputs": [
    {
     "data": {
      "text/plain": [
       "<module 'XTBClient.api' from '/home/krystian/Repos/XTB-Trader/XTBClient/api.py'>"
      ]
     },
     "execution_count": 145,
     "metadata": {},
     "output_type": "execute_result"
    }
   ],
   "source": [
    "import mplfinance as mpf\n",
    "import pandas as pd\n",
    "import logging\n",
    "import plotly.graph_objects as go\n",
    "from datetime import datetime\n",
    "import os\n",
    "from XTBClient.api import XTBClient, YahooClient, PERIOD\n",
    "import plotly.graph_objects as go\n",
    "import yfinance as yf\n",
    "import os\n",
    "import sys\n",
    "import importlib.util\n",
    "\n",
    "# Get the path to the XTBClient directory\n",
    "xtbclient_path = os.path.join(os.getcwd(), 'XTBClient')\n",
    "\n",
    "# Add the XTBClient directory to sys.path\n",
    "sys.path.append(xtbclient_path)\n",
    "\n",
    "# Import the XTBClient.api module\n",
    "import XTBClient.api as xtb_api\n",
    "\n",
    "# Reload the XTBClient.api module\n",
    "importlib.reload(xtb_api)"
   ]
  },
  {
   "cell_type": "code",
   "execution_count": null,
   "id": "8e24013e-ce53-499f-b473-177e00f49519",
   "metadata": {},
   "outputs": [],
   "source": [
    "def get_instruments():\n",
    "    c = XTBClient()\n",
    "\n",
    "    c.login(\"14697019\", \"GrzesiuK2001$\")\n",
    "    symbol_response = c.get_all_symbols()\n",
    "    symbols_dict = [\n",
    "    {\n",
    "        \"name\": s['symbol'],\n",
    "        \"displayName\": s['description'],\n",
    "        \"type\": s['type'] \n",
    "    } for s in symbol_response]\n",
    "    df = pd.DataFrame.from_dict(symbols_dict)\n",
    "    df.to_pickle(os.path.join(\"his_data\", \"instruments.pkl\"))\n",
    "    "
   ]
  },
  {
   "cell_type": "code",
   "execution_count": 149,
   "id": "4cf4386d-f7fa-4183-99f9-0a646939a197",
   "metadata": {},
   "outputs": [],
   "source": [
    "def get_available_instruments():\n",
    "    file = os.path.join(\"his_data\", \"instruments.pkl\")\n",
    "    if not os.path.exists(file):\n",
    "        get_instruments()\n",
    "    df = pd.read_pickle(file)\n",
    "        "
   ]
  },
  {
   "cell_type": "code",
   "execution_count": 150,
   "id": "2f8a9514-25c1-49e0-a528-3f81be42e4a9",
   "metadata": {},
   "outputs": [
    {
     "data": {
      "text/plain": [
       "{'name': 'TGNA.US_9', 'displayName': 'TEGNA Inc', 'type': 2436}"
      ]
     },
     "execution_count": 150,
     "metadata": {},
     "output_type": "execute_result"
    }
   ],
   "source": [
    "symbols_dict[0]"
   ]
  },
  {
   "cell_type": "code",
   "execution_count": 151,
   "id": "5b7eb0e3-284e-483b-ae61-95c46ab65862",
   "metadata": {},
   "outputs": [],
   "source": []
  },
  {
   "cell_type": "code",
   "execution_count": 153,
   "id": "b7af875c-aefb-4a76-baec-45eb7621294a",
   "metadata": {},
   "outputs": [],
   "source": []
  },
  {
   "cell_type": "code",
   "execution_count": 154,
   "id": "5a69adc8-10db-41f2-b65c-c22bf6deb35e",
   "metadata": {},
   "outputs": [],
   "source": [
    "our_curr = [ \"EUR\", \"USD\", \"GDP\", \"JPY\", \"CHF\", \"NZD\", \"CAD\" ]"
   ]
  },
  {
   "cell_type": "code",
   "execution_count": 155,
   "id": "8d235fad-780b-41fc-a62d-0dcf07aa27f3",
   "metadata": {},
   "outputs": [],
   "source": [
    "curr = []\n",
    "for p1 in our_curr:\n",
    "    for p2 in our_curr:\n",
    "        if (p1+p2) in df.name.unique():\n",
    "            curr.append(p1+p2)"
   ]
  },
  {
   "cell_type": "code",
   "execution_count": 156,
   "id": "cc31381a-6f30-4e92-80a5-0731fb9d8e5e",
   "metadata": {},
   "outputs": [
    {
     "data": {
      "text/plain": [
       "['EURUSD',\n",
       " 'EURJPY',\n",
       " 'EURCHF',\n",
       " 'EURNZD',\n",
       " 'EURCAD',\n",
       " 'USDJPY',\n",
       " 'USDCHF',\n",
       " 'USDCAD',\n",
       " 'CHFJPY',\n",
       " 'NZDUSD',\n",
       " 'NZDJPY',\n",
       " 'NZDCHF',\n",
       " 'NZDCAD',\n",
       " 'CADJPY',\n",
       " 'CADCHF']"
      ]
     },
     "execution_count": 156,
     "metadata": {},
     "output_type": "execute_result"
    }
   ],
   "source": [
    "curr"
   ]
  },
  {
   "cell_type": "code",
   "execution_count": 157,
   "id": "7186cf1f-d2a7-4af7-9ffd-34b24c7cb619",
   "metadata": {},
   "outputs": [],
   "source": [
    "start = datetime(2023,4,1)\n",
    "end = datetime(2023,4,30)"
   ]
  },
  {
   "cell_type": "code",
   "execution_count": 158,
   "id": "37956b94-755a-4b33-823b-9bd948e979eb",
   "metadata": {},
   "outputs": [],
   "source": [
    "data = c.get_candles_in_range(curr[0], PERIOD.ONE_DAY.value, start, end)"
   ]
  },
  {
   "cell_type": "code",
   "execution_count": 159,
   "id": "0c4ec2fa-4e19-4ac1-b9e1-c30cf98ef025",
   "metadata": {},
   "outputs": [],
   "source": [
    "def save_file(candles_df, pair, granularity):\n",
    "    return candles_df.to_pickle(os.path.join(\"his_data\", f\"{pair}_{granularity}\"))"
   ]
  },
  {
   "cell_type": "code",
   "execution_count": 160,
   "id": "8f1fbd70-d366-43f4-93a7-863a8a172f35",
   "metadata": {},
   "outputs": [],
   "source": [
    "save_file(data, curr[0], PERIOD.ONE_DAY.name)"
   ]
  },
  {
   "cell_type": "code",
   "execution_count": null,
   "id": "3aeb28f6-90a1-4c6e-a7ac-03520f677d84",
   "metadata": {},
   "outputs": [],
   "source": [
    "def create_data(pair, granularity):\n",
    "    data = c"
   ]
  }
 ],
 "metadata": {
  "kernelspec": {
   "display_name": "Python 3 (ipykernel)",
   "language": "python",
   "name": "python3"
  },
  "language_info": {
   "codemirror_mode": {
    "name": "ipython",
    "version": 3
   },
   "file_extension": ".py",
   "mimetype": "text/x-python",
   "name": "python",
   "nbconvert_exporter": "python",
   "pygments_lexer": "ipython3",
   "version": "3.10.6"
  },
  "vscode": {
   "interpreter": {
    "hash": "d7ea9c19d132bf6acf033a757b85ea9dde6e0ede978acd8fdd00a50d45ea2f28"
   }
  }
 },
 "nbformat": 4,
 "nbformat_minor": 5
}
