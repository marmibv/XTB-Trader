{
 "cells": [
  {
   "cell_type": "code",
   "execution_count": 1,
   "id": "a0ac04ca-c3eb-4eca-b37a-4564fa86935c",
   "metadata": {},
   "outputs": [],
   "source": [
    "import pandas as pd\n",
    "import math\n",
    "import numpy as np\n",
    "from prophet import Prophet\n",
    "import yfinance as yf\n",
    "import plotly.graph_objects as go\n",
    "import plotly.express as px \n",
    "import random\n",
    "import matplotlib.pyplot as plt\n",
    "from XTBClient.api import XTBClient, PERIOD, MODES\n",
    "import os\n",
    "from utility import utility\n",
    "from datetime import datetime, timedelta\n",
    "from time import sleep\n",
    "import logging"
   ]
  },
  {
   "cell_type": "code",
   "execution_count": 2,
   "id": "5ed48943-6b1f-46e1-8247-0449bc5a2f77",
   "metadata": {},
   "outputs": [],
   "source": [
    "logging.getLogger('XTBApi.api').setLevel(logging.WARNING)"
   ]
  },
  {
   "cell_type": "code",
   "execution_count": 3,
   "id": "18cdf56e-67ba-4dac-b627-9977c4161540",
   "metadata": {},
   "outputs": [],
   "source": [
    "def store(df, name=\"bot.csv\"):\n",
    "    \"\"\"Concats the data from a csv and the data from dataframe, then saves it to the csv\"\"\"\n",
    "\n",
    "    name = os.path.join(\"csvs\", name)\n",
    "    if os.path.exists(name):\n",
    "        read = pd.read_csv(name)\n",
    "        df = pd.concat([df, read])\n",
    "        # df = df.drop_duplicates(subset=[\"symbol\", df.index])\n",
    "\n",
    "    df[[col for col in df.columns if col != \"index\"]].to_csv(name, index=False)\n",
    "    df.to_csv(name)\n",
    "\n",
    "    return df"
   ]
  },
  {
   "cell_type": "code",
   "execution_count": 4,
   "id": "d4f12847-2473-4323-97db-c49e0d92a428",
   "metadata": {},
   "outputs": [],
   "source": [
    "def get_df(name):\n",
    "    name = os.path.join(\"csvs\", name)\n",
    "    read = None\n",
    "    if os.path.exists(name):\n",
    "        read = pd.read_csv(name)\n",
    "\n",
    "    return read"
   ]
  },
  {
   "cell_type": "code",
   "execution_count": 5,
   "id": "9e06c5bf-94a7-49b2-a993-4bcac99b92fa",
   "metadata": {},
   "outputs": [],
   "source": [
    "def collect():\n",
    "    c = XTBClient()\n",
    "    c.login(os.environ.get(\"XTB_login\"), os.environ.get(\"XTB_pass\"))\n",
    "    ticks = c.get_ticks([\"EURUSD\"])\n",
    "    c.logout()\n",
    "\n",
    "    df = pd.DataFrame(\n",
    "        columns=[\"symbol\", \"ask\", \"bid\", \"high\", \"low\", \"timestamp\", 'date'], \n",
    "    ).reset_index(drop=True).set_index('date')\n",
    "    \n",
    "    for quot in ticks[\"quotations\"]:\n",
    "        new = pd.DataFrame(\n",
    "            [quot]\n",
    "        )\n",
    "        \n",
    "        new['date'] = datetime.fromtimestamp(quot[\"timestamp\"] / 1000)\n",
    "        new.set_index('date', inplace=True)\n",
    "        df = pd.concat([df, new])\n",
    "    return store(df)"
   ]
  },
  {
   "cell_type": "code",
   "execution_count": 6,
   "id": "7ba1c34e-f504-415f-b574-6b0c8e9a5528",
   "metadata": {},
   "outputs": [],
   "source": [
    "# collect()\n",
    "# df = get_df(\"bot.csv\")"
   ]
  },
  {
   "cell_type": "code",
   "execution_count": 7,
   "id": "505b8595-5d6b-4e9e-bf5f-9761e98e60f7",
   "metadata": {},
   "outputs": [],
   "source": [
    "c = XTBClient()\n",
    "c.login(os.environ.get(\"XTB_login\"), os.environ.get(\"XTB_pass\"))\n",
    "ticks = c.get_ticks([\"EURUSD\"])\n",
    "c.logout()"
   ]
  },
  {
   "cell_type": "code",
   "execution_count": 8,
   "id": "93356a42-24a2-43b2-b560-f5b217ca96fb",
   "metadata": {},
   "outputs": [],
   "source": [
    "df = pd.DataFrame(\n",
    "    columns=[\"symbol\", \"ask\", \"bid\", \"high\", \"low\", \"timestamp\", 'date'], \n",
    ").reset_index(drop=True).set_index(\"date\")"
   ]
  },
  {
   "cell_type": "code",
   "execution_count": 9,
   "id": "11aea3aa-13aa-418d-a73a-ee20578041a3",
   "metadata": {},
   "outputs": [
    {
     "data": {
      "text/html": [
       "<div>\n",
       "<style scoped>\n",
       "    .dataframe tbody tr th:only-of-type {\n",
       "        vertical-align: middle;\n",
       "    }\n",
       "\n",
       "    .dataframe tbody tr th {\n",
       "        vertical-align: top;\n",
       "    }\n",
       "\n",
       "    .dataframe thead th {\n",
       "        text-align: right;\n",
       "    }\n",
       "</style>\n",
       "<table border=\"1\" class=\"dataframe\">\n",
       "  <thead>\n",
       "    <tr style=\"text-align: right;\">\n",
       "      <th></th>\n",
       "      <th>symbol</th>\n",
       "      <th>ask</th>\n",
       "      <th>bid</th>\n",
       "      <th>high</th>\n",
       "      <th>low</th>\n",
       "      <th>timestamp</th>\n",
       "    </tr>\n",
       "    <tr>\n",
       "      <th>date</th>\n",
       "      <th></th>\n",
       "      <th></th>\n",
       "      <th></th>\n",
       "      <th></th>\n",
       "      <th></th>\n",
       "      <th></th>\n",
       "    </tr>\n",
       "  </thead>\n",
       "  <tbody>\n",
       "  </tbody>\n",
       "</table>\n",
       "</div>"
      ],
      "text/plain": [
       "Empty DataFrame\n",
       "Columns: [symbol, ask, bid, high, low, timestamp]\n",
       "Index: []"
      ]
     },
     "execution_count": 9,
     "metadata": {},
     "output_type": "execute_result"
    }
   ],
   "source": [
    "df.head()"
   ]
  },
  {
   "cell_type": "code",
   "execution_count": 10,
   "id": "18b305af-6478-417b-beb7-8c42cfb61dd8",
   "metadata": {},
   "outputs": [
    {
     "data": {
      "text/html": [
       "<div>\n",
       "<style scoped>\n",
       "    .dataframe tbody tr th:only-of-type {\n",
       "        vertical-align: middle;\n",
       "    }\n",
       "\n",
       "    .dataframe tbody tr th {\n",
       "        vertical-align: top;\n",
       "    }\n",
       "\n",
       "    .dataframe thead th {\n",
       "        text-align: right;\n",
       "    }\n",
       "</style>\n",
       "<table border=\"1\" class=\"dataframe\">\n",
       "  <thead>\n",
       "    <tr style=\"text-align: right;\">\n",
       "      <th></th>\n",
       "      <th>symbol</th>\n",
       "      <th>ask</th>\n",
       "      <th>bid</th>\n",
       "      <th>high</th>\n",
       "      <th>low</th>\n",
       "      <th>timestamp</th>\n",
       "      <th>askVolume</th>\n",
       "      <th>bidVolume</th>\n",
       "      <th>level</th>\n",
       "      <th>exemode</th>\n",
       "      <th>spreadRaw</th>\n",
       "      <th>spreadTable</th>\n",
       "    </tr>\n",
       "    <tr>\n",
       "      <th>date</th>\n",
       "      <th></th>\n",
       "      <th></th>\n",
       "      <th></th>\n",
       "      <th></th>\n",
       "      <th></th>\n",
       "      <th></th>\n",
       "      <th></th>\n",
       "      <th></th>\n",
       "      <th></th>\n",
       "      <th></th>\n",
       "      <th></th>\n",
       "      <th></th>\n",
       "    </tr>\n",
       "  </thead>\n",
       "  <tbody>\n",
       "    <tr>\n",
       "      <th>2023-06-13 20:31:17.298</th>\n",
       "      <td>EURUSD</td>\n",
       "      <td>1.07847</td>\n",
       "      <td>1.07839</td>\n",
       "      <td>1.08231</td>\n",
       "      <td>1.07567</td>\n",
       "      <td>1686681077298</td>\n",
       "      <td>350000.0</td>\n",
       "      <td>349000.0</td>\n",
       "      <td>0.0</td>\n",
       "      <td>1.0</td>\n",
       "      <td>0.00008</td>\n",
       "      <td>0.8</td>\n",
       "    </tr>\n",
       "  </tbody>\n",
       "</table>\n",
       "</div>"
      ],
      "text/plain": [
       "                         symbol      ask      bid     high      low  \\\n",
       "date                                                                  \n",
       "2023-06-13 20:31:17.298  EURUSD  1.07847  1.07839  1.08231  1.07567   \n",
       "\n",
       "                             timestamp  askVolume  bidVolume  level  exemode  \\\n",
       "date                                                                           \n",
       "2023-06-13 20:31:17.298  1686681077298   350000.0   349000.0    0.0      1.0   \n",
       "\n",
       "                         spreadRaw  spreadTable  \n",
       "date                                             \n",
       "2023-06-13 20:31:17.298    0.00008          0.8  "
      ]
     },
     "execution_count": 10,
     "metadata": {},
     "output_type": "execute_result"
    }
   ],
   "source": [
    "for quot in ticks[\"quotations\"]:\n",
    "    new = pd.DataFrame(\n",
    "        [quot]\n",
    "    )\n",
    "\n",
    "    new['date'] = datetime.fromtimestamp(quot[\"timestamp\"] / 1000)\n",
    "    new.set_index('date', inplace=True)\n",
    "    df = pd.concat([df, new])\n",
    "df.head()"
   ]
  },
  {
   "cell_type": "code",
   "execution_count": 11,
   "id": "30bd87aa-ab07-4c21-a68c-496b736a1f33",
   "metadata": {},
   "outputs": [],
   "source": [
    "name = os.path.join(\"csvs\", \"bot.csv\")\n",
    "if os.path.exists(name):\n",
    "    read = pd.read_csv(name)\n",
    "    df = pd.concat([df, read])\n",
    "    # df = df.drop_duplicates(subset=[\"symbol\", df.index])\n",
    "\n"
   ]
  },
  {
   "cell_type": "code",
   "execution_count": 12,
   "id": "b1a23c38-9b90-4371-aee5-2b7b62e670e2",
   "metadata": {},
   "outputs": [
    {
     "data": {
      "text/html": [
       "<div>\n",
       "<style scoped>\n",
       "    .dataframe tbody tr th:only-of-type {\n",
       "        vertical-align: middle;\n",
       "    }\n",
       "\n",
       "    .dataframe tbody tr th {\n",
       "        vertical-align: top;\n",
       "    }\n",
       "\n",
       "    .dataframe thead th {\n",
       "        text-align: right;\n",
       "    }\n",
       "</style>\n",
       "<table border=\"1\" class=\"dataframe\">\n",
       "  <thead>\n",
       "    <tr style=\"text-align: right;\">\n",
       "      <th></th>\n",
       "      <th>symbol</th>\n",
       "      <th>ask</th>\n",
       "      <th>bid</th>\n",
       "      <th>high</th>\n",
       "      <th>low</th>\n",
       "      <th>timestamp</th>\n",
       "      <th>askVolume</th>\n",
       "      <th>bidVolume</th>\n",
       "      <th>level</th>\n",
       "      <th>exemode</th>\n",
       "      <th>spreadRaw</th>\n",
       "      <th>spreadTable</th>\n",
       "    </tr>\n",
       "    <tr>\n",
       "      <th>date</th>\n",
       "      <th></th>\n",
       "      <th></th>\n",
       "      <th></th>\n",
       "      <th></th>\n",
       "      <th></th>\n",
       "      <th></th>\n",
       "      <th></th>\n",
       "      <th></th>\n",
       "      <th></th>\n",
       "      <th></th>\n",
       "      <th></th>\n",
       "      <th></th>\n",
       "    </tr>\n",
       "  </thead>\n",
       "  <tbody>\n",
       "    <tr>\n",
       "      <th>2023-06-13 20:31:17.298</th>\n",
       "      <td>EURUSD</td>\n",
       "      <td>1.07847</td>\n",
       "      <td>1.07839</td>\n",
       "      <td>1.08231</td>\n",
       "      <td>1.07567</td>\n",
       "      <td>1686681077298</td>\n",
       "      <td>350000.0</td>\n",
       "      <td>349000.0</td>\n",
       "      <td>0.0</td>\n",
       "      <td>1.0</td>\n",
       "      <td>0.00008</td>\n",
       "      <td>0.8</td>\n",
       "    </tr>\n",
       "  </tbody>\n",
       "</table>\n",
       "</div>"
      ],
      "text/plain": [
       "                         symbol      ask      bid     high      low  \\\n",
       "date                                                                  \n",
       "2023-06-13 20:31:17.298  EURUSD  1.07847  1.07839  1.08231  1.07567   \n",
       "\n",
       "                             timestamp  askVolume  bidVolume  level  exemode  \\\n",
       "date                                                                           \n",
       "2023-06-13 20:31:17.298  1686681077298   350000.0   349000.0    0.0      1.0   \n",
       "\n",
       "                         spreadRaw  spreadTable  \n",
       "date                                             \n",
       "2023-06-13 20:31:17.298    0.00008          0.8  "
      ]
     },
     "execution_count": 12,
     "metadata": {},
     "output_type": "execute_result"
    }
   ],
   "source": [
    "df.head()"
   ]
  },
  {
   "cell_type": "code",
   "execution_count": 13,
   "id": "a2cbd93d-fd83-4d4a-a895-1610a47f7798",
   "metadata": {},
   "outputs": [],
   "source": [
    "# df[[col for col in df.columns if col != \"index\"]].to_csv(name, index=False)\n",
    "df.to_csv(name, index=True)"
   ]
  },
  {
   "cell_type": "code",
   "execution_count": 14,
   "id": "a0f0f142-eda7-4428-a1bb-3877c6c1be87",
   "metadata": {},
   "outputs": [],
   "source": [
    "name = os.path.join(\"csvs\", \"bot.csv\")\n",
    "if os.path.exists(name):\n",
    "    read = pd.read_csv(name, index_col=0)\n",
    "    df = pd.concat([df, read])\n",
    "    # df = df.drop_duplicates(subset=[\"symbol\", df.index])"
   ]
  },
  {
   "cell_type": "code",
   "execution_count": 15,
   "id": "5d24d630-c6af-4010-8030-8ba57345d018",
   "metadata": {},
   "outputs": [
    {
     "data": {
      "text/html": [
       "<div>\n",
       "<style scoped>\n",
       "    .dataframe tbody tr th:only-of-type {\n",
       "        vertical-align: middle;\n",
       "    }\n",
       "\n",
       "    .dataframe tbody tr th {\n",
       "        vertical-align: top;\n",
       "    }\n",
       "\n",
       "    .dataframe thead th {\n",
       "        text-align: right;\n",
       "    }\n",
       "</style>\n",
       "<table border=\"1\" class=\"dataframe\">\n",
       "  <thead>\n",
       "    <tr style=\"text-align: right;\">\n",
       "      <th></th>\n",
       "      <th>symbol</th>\n",
       "      <th>ask</th>\n",
       "      <th>bid</th>\n",
       "      <th>high</th>\n",
       "      <th>low</th>\n",
       "      <th>timestamp</th>\n",
       "      <th>askVolume</th>\n",
       "      <th>bidVolume</th>\n",
       "      <th>level</th>\n",
       "      <th>exemode</th>\n",
       "      <th>spreadRaw</th>\n",
       "      <th>spreadTable</th>\n",
       "    </tr>\n",
       "    <tr>\n",
       "      <th>date</th>\n",
       "      <th></th>\n",
       "      <th></th>\n",
       "      <th></th>\n",
       "      <th></th>\n",
       "      <th></th>\n",
       "      <th></th>\n",
       "      <th></th>\n",
       "      <th></th>\n",
       "      <th></th>\n",
       "      <th></th>\n",
       "      <th></th>\n",
       "      <th></th>\n",
       "    </tr>\n",
       "  </thead>\n",
       "  <tbody>\n",
       "    <tr>\n",
       "      <th>2023-06-13 20:31:17.298000</th>\n",
       "      <td>EURUSD</td>\n",
       "      <td>1.07847</td>\n",
       "      <td>1.07839</td>\n",
       "      <td>1.08231</td>\n",
       "      <td>1.07567</td>\n",
       "      <td>1686681077298</td>\n",
       "      <td>350000.0</td>\n",
       "      <td>349000.0</td>\n",
       "      <td>0.0</td>\n",
       "      <td>1.0</td>\n",
       "      <td>0.00008</td>\n",
       "      <td>0.8</td>\n",
       "    </tr>\n",
       "    <tr>\n",
       "      <th>2023-06-13 20:31:17.298</th>\n",
       "      <td>EURUSD</td>\n",
       "      <td>1.07847</td>\n",
       "      <td>1.07839</td>\n",
       "      <td>1.08231</td>\n",
       "      <td>1.07567</td>\n",
       "      <td>1686681077298</td>\n",
       "      <td>350000.0</td>\n",
       "      <td>349000.0</td>\n",
       "      <td>0.0</td>\n",
       "      <td>1.0</td>\n",
       "      <td>0.00008</td>\n",
       "      <td>0.8</td>\n",
       "    </tr>\n",
       "  </tbody>\n",
       "</table>\n",
       "</div>"
      ],
      "text/plain": [
       "                            symbol      ask      bid     high      low  \\\n",
       "date                                                                     \n",
       "2023-06-13 20:31:17.298000  EURUSD  1.07847  1.07839  1.08231  1.07567   \n",
       "2023-06-13 20:31:17.298     EURUSD  1.07847  1.07839  1.08231  1.07567   \n",
       "\n",
       "                                timestamp  askVolume  bidVolume  level  \\\n",
       "date                                                                     \n",
       "2023-06-13 20:31:17.298000  1686681077298   350000.0   349000.0    0.0   \n",
       "2023-06-13 20:31:17.298     1686681077298   350000.0   349000.0    0.0   \n",
       "\n",
       "                            exemode  spreadRaw  spreadTable  \n",
       "date                                                         \n",
       "2023-06-13 20:31:17.298000      1.0    0.00008          0.8  \n",
       "2023-06-13 20:31:17.298         1.0    0.00008          0.8  "
      ]
     },
     "execution_count": 15,
     "metadata": {},
     "output_type": "execute_result"
    }
   ],
   "source": [
    "df"
   ]
  },
  {
   "cell_type": "code",
   "execution_count": 19,
   "id": "be040fae-c509-4e56-895d-5cc0214766ce",
   "metadata": {},
   "outputs": [],
   "source": [
    "c = XTBClient()\n",
    "c.login(os.environ.get(\"XTB_login\"), os.environ.get(\"XTB_pass\"))\n",
    "candles = c.get_candles_in_range(\"EURUSD\", PERIOD.ONE_MINUTE.value,  datetime.today() - timedelta(hours=1))\n",
    "c.logout()"
   ]
  },
  {
   "cell_type": "code",
   "execution_count": 26,
   "id": "67fa1164-1a6c-4252-a94d-14463de5522d",
   "metadata": {},
   "outputs": [
    {
     "name": "stdout",
     "output_type": "stream",
     "text": [
      "[*********************100%***********************]  1 of 1 completed\n"
     ]
    },
    {
     "data": {
      "text/html": [
       "<div>\n",
       "<style scoped>\n",
       "    .dataframe tbody tr th:only-of-type {\n",
       "        vertical-align: middle;\n",
       "    }\n",
       "\n",
       "    .dataframe tbody tr th {\n",
       "        vertical-align: top;\n",
       "    }\n",
       "\n",
       "    .dataframe thead th {\n",
       "        text-align: right;\n",
       "    }\n",
       "</style>\n",
       "<table border=\"1\" class=\"dataframe\">\n",
       "  <thead>\n",
       "    <tr style=\"text-align: right;\">\n",
       "      <th></th>\n",
       "      <th>datetime</th>\n",
       "      <th>open</th>\n",
       "      <th>high</th>\n",
       "      <th>low</th>\n",
       "      <th>close</th>\n",
       "      <th>adj close</th>\n",
       "    </tr>\n",
       "  </thead>\n",
       "  <tbody>\n",
       "    <tr>\n",
       "      <th>0</th>\n",
       "      <td>2022-06-14 13:00:00</td>\n",
       "      <td>1.043950</td>\n",
       "      <td>1.045697</td>\n",
       "      <td>1.043515</td>\n",
       "      <td>1.044823</td>\n",
       "      <td>1.044823</td>\n",
       "    </tr>\n",
       "    <tr>\n",
       "      <th>1</th>\n",
       "      <td>2022-06-14 14:00:00</td>\n",
       "      <td>1.044932</td>\n",
       "      <td>1.047011</td>\n",
       "      <td>1.044823</td>\n",
       "      <td>1.045478</td>\n",
       "      <td>1.045478</td>\n",
       "    </tr>\n",
       "    <tr>\n",
       "      <th>2</th>\n",
       "      <td>2022-06-14 15:00:00</td>\n",
       "      <td>1.045369</td>\n",
       "      <td>1.046025</td>\n",
       "      <td>1.043732</td>\n",
       "      <td>1.044168</td>\n",
       "      <td>1.044168</td>\n",
       "    </tr>\n",
       "    <tr>\n",
       "      <th>3</th>\n",
       "      <td>2022-06-14 16:00:00</td>\n",
       "      <td>1.044168</td>\n",
       "      <td>1.044823</td>\n",
       "      <td>1.041124</td>\n",
       "      <td>1.041124</td>\n",
       "      <td>1.041124</td>\n",
       "    </tr>\n",
       "    <tr>\n",
       "      <th>4</th>\n",
       "      <td>2022-06-14 17:00:00</td>\n",
       "      <td>1.041558</td>\n",
       "      <td>1.042753</td>\n",
       "      <td>1.041016</td>\n",
       "      <td>1.042101</td>\n",
       "      <td>1.042101</td>\n",
       "    </tr>\n",
       "    <tr>\n",
       "      <th>...</th>\n",
       "      <td>...</td>\n",
       "      <td>...</td>\n",
       "      <td>...</td>\n",
       "      <td>...</td>\n",
       "      <td>...</td>\n",
       "      <td>...</td>\n",
       "    </tr>\n",
       "    <tr>\n",
       "      <th>6205</th>\n",
       "      <td>2023-06-14 09:00:00</td>\n",
       "      <td>1.078865</td>\n",
       "      <td>1.079914</td>\n",
       "      <td>1.078865</td>\n",
       "      <td>1.079214</td>\n",
       "      <td>1.079214</td>\n",
       "    </tr>\n",
       "    <tr>\n",
       "      <th>6206</th>\n",
       "      <td>2023-06-14 10:00:00</td>\n",
       "      <td>1.078981</td>\n",
       "      <td>1.080731</td>\n",
       "      <td>1.078981</td>\n",
       "      <td>1.080497</td>\n",
       "      <td>1.080497</td>\n",
       "    </tr>\n",
       "    <tr>\n",
       "      <th>6207</th>\n",
       "      <td>2023-06-14 11:00:00</td>\n",
       "      <td>1.080497</td>\n",
       "      <td>1.081198</td>\n",
       "      <td>1.080030</td>\n",
       "      <td>1.080731</td>\n",
       "      <td>1.080731</td>\n",
       "    </tr>\n",
       "    <tr>\n",
       "      <th>6208</th>\n",
       "      <td>2023-06-14 12:00:00</td>\n",
       "      <td>1.080614</td>\n",
       "      <td>1.081198</td>\n",
       "      <td>1.080614</td>\n",
       "      <td>1.080964</td>\n",
       "      <td>1.080964</td>\n",
       "    </tr>\n",
       "    <tr>\n",
       "      <th>6209</th>\n",
       "      <td>2023-06-14 13:00:00</td>\n",
       "      <td>1.080964</td>\n",
       "      <td>1.081081</td>\n",
       "      <td>1.080847</td>\n",
       "      <td>1.080964</td>\n",
       "      <td>1.080964</td>\n",
       "    </tr>\n",
       "  </tbody>\n",
       "</table>\n",
       "<p>6210 rows × 6 columns</p>\n",
       "</div>"
      ],
      "text/plain": [
       "                datetime      open      high       low     close  adj close\n",
       "0    2022-06-14 13:00:00  1.043950  1.045697  1.043515  1.044823   1.044823\n",
       "1    2022-06-14 14:00:00  1.044932  1.047011  1.044823  1.045478   1.045478\n",
       "2    2022-06-14 15:00:00  1.045369  1.046025  1.043732  1.044168   1.044168\n",
       "3    2022-06-14 16:00:00  1.044168  1.044823  1.041124  1.041124   1.041124\n",
       "4    2022-06-14 17:00:00  1.041558  1.042753  1.041016  1.042101   1.042101\n",
       "...                  ...       ...       ...       ...       ...        ...\n",
       "6205 2023-06-14 09:00:00  1.078865  1.079914  1.078865  1.079214   1.079214\n",
       "6206 2023-06-14 10:00:00  1.078981  1.080731  1.078981  1.080497   1.080497\n",
       "6207 2023-06-14 11:00:00  1.080497  1.081198  1.080030  1.080731   1.080731\n",
       "6208 2023-06-14 12:00:00  1.080614  1.081198  1.080614  1.080964   1.080964\n",
       "6209 2023-06-14 13:00:00  1.080964  1.081081  1.080847  1.080964   1.080964\n",
       "\n",
       "[6210 rows x 6 columns]"
      ]
     },
     "execution_count": 26,
     "metadata": {},
     "output_type": "execute_result"
    }
   ],
   "source": [
    "utility.collect_yf(\"EURUSD=x\", period=\"1y\", interval=\"1h\")"
   ]
  },
  {
   "cell_type": "code",
   "execution_count": 2,
   "id": "dd7f8178-5ced-4231-aeca-1d460a68c44a",
   "metadata": {},
   "outputs": [
    {
     "name": "stderr",
     "output_type": "stream",
     "text": [
      "2023-06-14 21:08:46 - INFO - XTBApi.api.BaseClient - CMD: login...\n",
      "2023-06-14 21:08:46 - INFO - XTBApi.api.BaseClient - CMD: get symbol EURUSD...\n",
      "2023-06-14 21:08:46 - INFO - XTBApi.api.BaseClient - CMD getSymbol with {'command': 'getSymbol', 'arguments': {'symbol': 'EURUSD'}}: done\n",
      "2023-06-14 21:08:46 - INFO - XTBApi.api.BaseClient - CMD tradeTransaction with {'command': 'tradeTransaction', 'arguments': {'tradeTransInfo': {'cmd': 0, 'comment': '', 'ie_deviation': 0, 'order': 0, 'price': 1.0841, 'sl': 1.0831000000000002, 'symbol': 'EURUSD', 'tp': 1.0846, 'type': 0, 'volume': 0.02}}}: done\n",
      "2023-06-14 21:08:47 - INFO - XTBApi.api.BaseClient - CMD: logout...\n"
     ]
    }
   ],
   "source": [
    "retval = utility.open_transaction(\n",
    "    MODES.BUY,\n",
    "    \"EURUSD\",\n",
    "    volume=0.02,\n",
    "    tp=5,\n",
    "    sl=10\n",
    ")"
   ]
  },
  {
   "cell_type": "code",
   "execution_count": 3,
   "id": "40fdba3d-c011-476c-9fd2-f97f52fcb11b",
   "metadata": {},
   "outputs": [
    {
     "data": {
      "text/plain": [
       "{'order': 518835927}"
      ]
     },
     "execution_count": 3,
     "metadata": {},
     "output_type": "execute_result"
    }
   ],
   "source": [
    "retval"
   ]
  },
  {
   "cell_type": "code",
   "execution_count": 4,
   "id": "f1a29c52-7849-4912-a126-15cd446671a8",
   "metadata": {},
   "outputs": [
    {
     "data": {
      "text/plain": [
       "1.083928382"
      ]
     },
     "execution_count": 4,
     "metadata": {},
     "output_type": "execute_result"
    }
   ],
   "source": [
    "1.08382*(1.0001)"
   ]
  },
  {
   "cell_type": "code",
   "execution_count": 14,
   "id": "26dcf149-e9e7-4cb5-ad97-80d51d548bc5",
   "metadata": {},
   "outputs": [
    {
     "data": {
      "text/plain": [
       "1.084036764"
      ]
     },
     "execution_count": 14,
     "metadata": {},
     "output_type": "execute_result"
    }
   ],
   "source": [
    "1.08382 + 1.08382*(0.0002)"
   ]
  },
  {
   "cell_type": "code",
   "execution_count": 15,
   "id": "94089f1a-6957-476a-bc3f-3eb87dd93c90",
   "metadata": {},
   "outputs": [],
   "source": [
    "price = 1.08382"
   ]
  },
  {
   "cell_type": "code",
   "execution_count": 18,
   "id": "da7ea3fc-ff5e-4574-a764-94c9d3f29cca",
   "metadata": {},
   "outputs": [
    {
     "data": {
      "text/plain": [
       "1.0829818"
      ]
     },
     "execution_count": 18,
     "metadata": {},
     "output_type": "execute_result"
    }
   ],
   "source": [
    "price + "
   ]
  },
  {
   "cell_type": "code",
   "execution_count": 5,
   "id": "c198f2c2-74b8-4a0a-9704-8d9340827b1d",
   "metadata": {},
   "outputs": [
    {
     "name": "stderr",
     "output_type": "stream",
     "text": [
      "2023-06-14 21:10:42 - INFO - XTBApi.api.BaseClient - CMD: login...\n",
      "2023-06-14 21:10:42 - INFO - XTBApi.api.BaseClient - CMD tradeTransactionStatus with {'command': 'tradeTransactionStatus', 'arguments': {'order': 518835927}}: done\n",
      "2023-06-14 21:10:42 - INFO - XTBApi.api.BaseClient - CMD: logout...\n"
     ]
    },
    {
     "data": {
      "text/plain": [
       "{'order': 518835927,\n",
       " 'requestStatus': 4,\n",
       " 'message': 'Invalid sl/tp price step',\n",
       " 'customComment': None,\n",
       " 'ask': 0.0,\n",
       " 'bid': 0.0}"
      ]
     },
     "execution_count": 5,
     "metadata": {},
     "output_type": "execute_result"
    }
   ],
   "source": [
    "c = XTBClient()\n",
    "c.login(os.environ.get(\"XTB_login\"), os.environ.get(\"XTB_pass\"))\n",
    "candles = c.transaction_status(retval['order'])\n",
    "c.logout()\n",
    "candles"
   ]
  },
  {
   "cell_type": "code",
   "execution_count": null,
   "id": "0546e5d9-47a9-482e-bf44-dc21ec454e6b",
   "metadata": {},
   "outputs": [],
   "source": []
  }
 ],
 "metadata": {
  "kernelspec": {
   "display_name": "Python 3 (ipykernel)",
   "language": "python",
   "name": "python3"
  },
  "language_info": {
   "codemirror_mode": {
    "name": "ipython",
    "version": 3
   },
   "file_extension": ".py",
   "mimetype": "text/x-python",
   "name": "python",
   "nbconvert_exporter": "python",
   "pygments_lexer": "ipython3",
   "version": "3.10.6"
  }
 },
 "nbformat": 4,
 "nbformat_minor": 5
}
