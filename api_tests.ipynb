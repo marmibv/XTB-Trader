{
 "cells": [
  {
   "cell_type": "code",
   "execution_count": 1,
   "id": "a0ac04ca-c3eb-4eca-b37a-4564fa86935c",
   "metadata": {},
   "outputs": [],
   "source": [
    "import pandas as pd\n",
    "import math\n",
    "import numpy as np\n",
    "from prophet import Prophet\n",
    "import yfinance as yf\n",
    "import plotly.graph_objects as go\n",
    "import plotly.express as px \n",
    "import random\n",
    "import matplotlib.pyplot as plt\n",
    "from XTBClient.api import XTBClient, PERIOD, MODES, TRANSACTION_TYPE\n",
    "import os\n",
    "from utility import utility\n",
    "from datetime import datetime, timedelta\n",
    "from time import sleep\n",
    "import logging\n",
    "import importlib"
   ]
  },
  {
   "cell_type": "code",
   "execution_count": 2,
   "id": "5ed48943-6b1f-46e1-8247-0449bc5a2f77",
   "metadata": {},
   "outputs": [],
   "source": [
    "logging.getLogger('XTBApi.api').setLevel(logging.WARNING)"
   ]
  },
  {
   "cell_type": "code",
   "execution_count": 3,
   "id": "18cdf56e-67ba-4dac-b627-9977c4161540",
   "metadata": {},
   "outputs": [],
   "source": [
    "def store(df, name=\"bot.csv\"):\n",
    "    \"\"\"Concats the data from a csv and the data from dataframe, then saves it to the csv\"\"\"\n",
    "\n",
    "    name = os.path.join(\"csvs\", name)\n",
    "    if os.path.exists(name):\n",
    "        read = pd.read_csv(name)\n",
    "        df = pd.concat([df, read])\n",
    "        # df = df.drop_duplicates(subset=[\"symbol\", df.index])\n",
    "\n",
    "    df[[col for col in df.columns if col != \"index\"]].to_csv(name, index=False)\n",
    "    df.to_csv(name)\n",
    "\n",
    "    return df"
   ]
  },
  {
   "cell_type": "code",
   "execution_count": 4,
   "id": "d4f12847-2473-4323-97db-c49e0d92a428",
   "metadata": {},
   "outputs": [],
   "source": [
    "def get_df(name):\n",
    "    name = os.path.join(\"csvs\", name)\n",
    "    read = None\n",
    "    if os.path.exists(name):\n",
    "        read = pd.read_csv(name)\n",
    "\n",
    "    return read"
   ]
  },
  {
   "cell_type": "code",
   "execution_count": 5,
   "id": "9e06c5bf-94a7-49b2-a993-4bcac99b92fa",
   "metadata": {},
   "outputs": [],
   "source": [
    "def collect():\n",
    "    c = XTBClient()\n",
    "    c.login(os.environ.get(\"XTB_login\"), os.environ.get(\"XTB_pass\"))\n",
    "    ticks = c.get_ticks([\"EURUSD\"])\n",
    "    c.logout()\n",
    "\n",
    "    df = pd.DataFrame(\n",
    "        columns=[\"symbol\", \"ask\", \"bid\", \"high\", \"low\", \"timestamp\", 'date'], \n",
    "    ).reset_index(drop=True).set_index('date')\n",
    "    \n",
    "    for quot in ticks[\"quotations\"]:\n",
    "        new = pd.DataFrame(\n",
    "            [quot]\n",
    "        )\n",
    "        \n",
    "        new['date'] = datetime.fromtimestamp(quot[\"timestamp\"] / 1000)\n",
    "        new.set_index('date', inplace=True)\n",
    "        df = pd.concat([df, new])\n",
    "    return store(df)"
   ]
  },
  {
   "cell_type": "code",
   "execution_count": 6,
   "id": "7ba1c34e-f504-415f-b574-6b0c8e9a5528",
   "metadata": {},
   "outputs": [],
   "source": [
    "# collect()\n",
    "# df = get_df(\"bot.csv\")"
   ]
  },
  {
   "cell_type": "code",
   "execution_count": 7,
   "id": "505b8595-5d6b-4e9e-bf5f-9761e98e60f7",
   "metadata": {},
   "outputs": [],
   "source": [
    "c = XTBClient()\n",
    "c.login(os.environ.get(\"XTB_login\"), os.environ.get(\"XTB_pass\"))\n",
    "ticks = c.get_ticks([\"EURUSD\"])\n",
    "c.logout()"
   ]
  },
  {
   "cell_type": "code",
   "execution_count": 8,
   "id": "93356a42-24a2-43b2-b560-f5b217ca96fb",
   "metadata": {},
   "outputs": [],
   "source": [
    "df = pd.DataFrame(\n",
    "    columns=[\"symbol\", \"ask\", \"bid\", \"high\", \"low\", \"timestamp\", 'date'], \n",
    ").reset_index(drop=True).set_index(\"date\")"
   ]
  },
  {
   "cell_type": "code",
   "execution_count": 9,
   "id": "11aea3aa-13aa-418d-a73a-ee20578041a3",
   "metadata": {},
   "outputs": [
    {
     "data": {
      "text/html": [
       "<div>\n",
       "<style scoped>\n",
       "    .dataframe tbody tr th:only-of-type {\n",
       "        vertical-align: middle;\n",
       "    }\n",
       "\n",
       "    .dataframe tbody tr th {\n",
       "        vertical-align: top;\n",
       "    }\n",
       "\n",
       "    .dataframe thead th {\n",
       "        text-align: right;\n",
       "    }\n",
       "</style>\n",
       "<table border=\"1\" class=\"dataframe\">\n",
       "  <thead>\n",
       "    <tr style=\"text-align: right;\">\n",
       "      <th></th>\n",
       "      <th>symbol</th>\n",
       "      <th>ask</th>\n",
       "      <th>bid</th>\n",
       "      <th>high</th>\n",
       "      <th>low</th>\n",
       "      <th>timestamp</th>\n",
       "    </tr>\n",
       "    <tr>\n",
       "      <th>date</th>\n",
       "      <th></th>\n",
       "      <th></th>\n",
       "      <th></th>\n",
       "      <th></th>\n",
       "      <th></th>\n",
       "      <th></th>\n",
       "    </tr>\n",
       "  </thead>\n",
       "  <tbody>\n",
       "  </tbody>\n",
       "</table>\n",
       "</div>"
      ],
      "text/plain": [
       "Empty DataFrame\n",
       "Columns: [symbol, ask, bid, high, low, timestamp]\n",
       "Index: []"
      ]
     },
     "execution_count": 9,
     "metadata": {},
     "output_type": "execute_result"
    }
   ],
   "source": [
    "df.head()"
   ]
  },
  {
   "cell_type": "code",
   "execution_count": 10,
   "id": "18b305af-6478-417b-beb7-8c42cfb61dd8",
   "metadata": {},
   "outputs": [
    {
     "data": {
      "text/html": [
       "<div>\n",
       "<style scoped>\n",
       "    .dataframe tbody tr th:only-of-type {\n",
       "        vertical-align: middle;\n",
       "    }\n",
       "\n",
       "    .dataframe tbody tr th {\n",
       "        vertical-align: top;\n",
       "    }\n",
       "\n",
       "    .dataframe thead th {\n",
       "        text-align: right;\n",
       "    }\n",
       "</style>\n",
       "<table border=\"1\" class=\"dataframe\">\n",
       "  <thead>\n",
       "    <tr style=\"text-align: right;\">\n",
       "      <th></th>\n",
       "      <th>symbol</th>\n",
       "      <th>ask</th>\n",
       "      <th>bid</th>\n",
       "      <th>high</th>\n",
       "      <th>low</th>\n",
       "      <th>timestamp</th>\n",
       "      <th>askVolume</th>\n",
       "      <th>bidVolume</th>\n",
       "      <th>level</th>\n",
       "      <th>exemode</th>\n",
       "      <th>spreadRaw</th>\n",
       "      <th>spreadTable</th>\n",
       "    </tr>\n",
       "    <tr>\n",
       "      <th>date</th>\n",
       "      <th></th>\n",
       "      <th></th>\n",
       "      <th></th>\n",
       "      <th></th>\n",
       "      <th></th>\n",
       "      <th></th>\n",
       "      <th></th>\n",
       "      <th></th>\n",
       "      <th></th>\n",
       "      <th></th>\n",
       "      <th></th>\n",
       "      <th></th>\n",
       "    </tr>\n",
       "  </thead>\n",
       "  <tbody>\n",
       "    <tr>\n",
       "      <th>2023-06-13 20:31:17.298</th>\n",
       "      <td>EURUSD</td>\n",
       "      <td>1.07847</td>\n",
       "      <td>1.07839</td>\n",
       "      <td>1.08231</td>\n",
       "      <td>1.07567</td>\n",
       "      <td>1686681077298</td>\n",
       "      <td>350000.0</td>\n",
       "      <td>349000.0</td>\n",
       "      <td>0.0</td>\n",
       "      <td>1.0</td>\n",
       "      <td>0.00008</td>\n",
       "      <td>0.8</td>\n",
       "    </tr>\n",
       "  </tbody>\n",
       "</table>\n",
       "</div>"
      ],
      "text/plain": [
       "                         symbol      ask      bid     high      low  \\\n",
       "date                                                                  \n",
       "2023-06-13 20:31:17.298  EURUSD  1.07847  1.07839  1.08231  1.07567   \n",
       "\n",
       "                             timestamp  askVolume  bidVolume  level  exemode  \\\n",
       "date                                                                           \n",
       "2023-06-13 20:31:17.298  1686681077298   350000.0   349000.0    0.0      1.0   \n",
       "\n",
       "                         spreadRaw  spreadTable  \n",
       "date                                             \n",
       "2023-06-13 20:31:17.298    0.00008          0.8  "
      ]
     },
     "execution_count": 10,
     "metadata": {},
     "output_type": "execute_result"
    }
   ],
   "source": [
    "for quot in ticks[\"quotations\"]:\n",
    "    new = pd.DataFrame(\n",
    "        [quot]\n",
    "    )\n",
    "\n",
    "    new['date'] = datetime.fromtimestamp(quot[\"timestamp\"] / 1000)\n",
    "    new.set_index('date', inplace=True)\n",
    "    df = pd.concat([df, new])\n",
    "df.head()"
   ]
  },
  {
   "cell_type": "code",
   "execution_count": 11,
   "id": "30bd87aa-ab07-4c21-a68c-496b736a1f33",
   "metadata": {},
   "outputs": [],
   "source": [
    "name = os.path.join(\"csvs\", \"bot.csv\")\n",
    "if os.path.exists(name):\n",
    "    read = pd.read_csv(name)\n",
    "    df = pd.concat([df, read])\n",
    "    # df = df.drop_duplicates(subset=[\"symbol\", df.index])\n",
    "\n"
   ]
  },
  {
   "cell_type": "code",
   "execution_count": 12,
   "id": "b1a23c38-9b90-4371-aee5-2b7b62e670e2",
   "metadata": {},
   "outputs": [
    {
     "data": {
      "text/html": [
       "<div>\n",
       "<style scoped>\n",
       "    .dataframe tbody tr th:only-of-type {\n",
       "        vertical-align: middle;\n",
       "    }\n",
       "\n",
       "    .dataframe tbody tr th {\n",
       "        vertical-align: top;\n",
       "    }\n",
       "\n",
       "    .dataframe thead th {\n",
       "        text-align: right;\n",
       "    }\n",
       "</style>\n",
       "<table border=\"1\" class=\"dataframe\">\n",
       "  <thead>\n",
       "    <tr style=\"text-align: right;\">\n",
       "      <th></th>\n",
       "      <th>symbol</th>\n",
       "      <th>ask</th>\n",
       "      <th>bid</th>\n",
       "      <th>high</th>\n",
       "      <th>low</th>\n",
       "      <th>timestamp</th>\n",
       "      <th>askVolume</th>\n",
       "      <th>bidVolume</th>\n",
       "      <th>level</th>\n",
       "      <th>exemode</th>\n",
       "      <th>spreadRaw</th>\n",
       "      <th>spreadTable</th>\n",
       "    </tr>\n",
       "    <tr>\n",
       "      <th>date</th>\n",
       "      <th></th>\n",
       "      <th></th>\n",
       "      <th></th>\n",
       "      <th></th>\n",
       "      <th></th>\n",
       "      <th></th>\n",
       "      <th></th>\n",
       "      <th></th>\n",
       "      <th></th>\n",
       "      <th></th>\n",
       "      <th></th>\n",
       "      <th></th>\n",
       "    </tr>\n",
       "  </thead>\n",
       "  <tbody>\n",
       "    <tr>\n",
       "      <th>2023-06-13 20:31:17.298</th>\n",
       "      <td>EURUSD</td>\n",
       "      <td>1.07847</td>\n",
       "      <td>1.07839</td>\n",
       "      <td>1.08231</td>\n",
       "      <td>1.07567</td>\n",
       "      <td>1686681077298</td>\n",
       "      <td>350000.0</td>\n",
       "      <td>349000.0</td>\n",
       "      <td>0.0</td>\n",
       "      <td>1.0</td>\n",
       "      <td>0.00008</td>\n",
       "      <td>0.8</td>\n",
       "    </tr>\n",
       "  </tbody>\n",
       "</table>\n",
       "</div>"
      ],
      "text/plain": [
       "                         symbol      ask      bid     high      low  \\\n",
       "date                                                                  \n",
       "2023-06-13 20:31:17.298  EURUSD  1.07847  1.07839  1.08231  1.07567   \n",
       "\n",
       "                             timestamp  askVolume  bidVolume  level  exemode  \\\n",
       "date                                                                           \n",
       "2023-06-13 20:31:17.298  1686681077298   350000.0   349000.0    0.0      1.0   \n",
       "\n",
       "                         spreadRaw  spreadTable  \n",
       "date                                             \n",
       "2023-06-13 20:31:17.298    0.00008          0.8  "
      ]
     },
     "execution_count": 12,
     "metadata": {},
     "output_type": "execute_result"
    }
   ],
   "source": [
    "df.head()"
   ]
  },
  {
   "cell_type": "code",
   "execution_count": 13,
   "id": "a2cbd93d-fd83-4d4a-a895-1610a47f7798",
   "metadata": {},
   "outputs": [],
   "source": [
    "# df[[col for col in df.columns if col != \"index\"]].to_csv(name, index=False)\n",
    "df.to_csv(name, index=True)"
   ]
  },
  {
   "cell_type": "code",
   "execution_count": 14,
   "id": "a0f0f142-eda7-4428-a1bb-3877c6c1be87",
   "metadata": {},
   "outputs": [],
   "source": [
    "name = os.path.join(\"csvs\", \"bot.csv\")\n",
    "if os.path.exists(name):\n",
    "    read = pd.read_csv(name, index_col=0)\n",
    "    df = pd.concat([df, read])\n",
    "    # df = df.drop_duplicates(subset=[\"symbol\", df.index])"
   ]
  },
  {
   "cell_type": "code",
   "execution_count": 15,
   "id": "5d24d630-c6af-4010-8030-8ba57345d018",
   "metadata": {},
   "outputs": [
    {
     "data": {
      "text/html": [
       "<div>\n",
       "<style scoped>\n",
       "    .dataframe tbody tr th:only-of-type {\n",
       "        vertical-align: middle;\n",
       "    }\n",
       "\n",
       "    .dataframe tbody tr th {\n",
       "        vertical-align: top;\n",
       "    }\n",
       "\n",
       "    .dataframe thead th {\n",
       "        text-align: right;\n",
       "    }\n",
       "</style>\n",
       "<table border=\"1\" class=\"dataframe\">\n",
       "  <thead>\n",
       "    <tr style=\"text-align: right;\">\n",
       "      <th></th>\n",
       "      <th>symbol</th>\n",
       "      <th>ask</th>\n",
       "      <th>bid</th>\n",
       "      <th>high</th>\n",
       "      <th>low</th>\n",
       "      <th>timestamp</th>\n",
       "      <th>askVolume</th>\n",
       "      <th>bidVolume</th>\n",
       "      <th>level</th>\n",
       "      <th>exemode</th>\n",
       "      <th>spreadRaw</th>\n",
       "      <th>spreadTable</th>\n",
       "    </tr>\n",
       "    <tr>\n",
       "      <th>date</th>\n",
       "      <th></th>\n",
       "      <th></th>\n",
       "      <th></th>\n",
       "      <th></th>\n",
       "      <th></th>\n",
       "      <th></th>\n",
       "      <th></th>\n",
       "      <th></th>\n",
       "      <th></th>\n",
       "      <th></th>\n",
       "      <th></th>\n",
       "      <th></th>\n",
       "    </tr>\n",
       "  </thead>\n",
       "  <tbody>\n",
       "    <tr>\n",
       "      <th>2023-06-13 20:31:17.298000</th>\n",
       "      <td>EURUSD</td>\n",
       "      <td>1.07847</td>\n",
       "      <td>1.07839</td>\n",
       "      <td>1.08231</td>\n",
       "      <td>1.07567</td>\n",
       "      <td>1686681077298</td>\n",
       "      <td>350000.0</td>\n",
       "      <td>349000.0</td>\n",
       "      <td>0.0</td>\n",
       "      <td>1.0</td>\n",
       "      <td>0.00008</td>\n",
       "      <td>0.8</td>\n",
       "    </tr>\n",
       "    <tr>\n",
       "      <th>2023-06-13 20:31:17.298</th>\n",
       "      <td>EURUSD</td>\n",
       "      <td>1.07847</td>\n",
       "      <td>1.07839</td>\n",
       "      <td>1.08231</td>\n",
       "      <td>1.07567</td>\n",
       "      <td>1686681077298</td>\n",
       "      <td>350000.0</td>\n",
       "      <td>349000.0</td>\n",
       "      <td>0.0</td>\n",
       "      <td>1.0</td>\n",
       "      <td>0.00008</td>\n",
       "      <td>0.8</td>\n",
       "    </tr>\n",
       "  </tbody>\n",
       "</table>\n",
       "</div>"
      ],
      "text/plain": [
       "                            symbol      ask      bid     high      low  \\\n",
       "date                                                                     \n",
       "2023-06-13 20:31:17.298000  EURUSD  1.07847  1.07839  1.08231  1.07567   \n",
       "2023-06-13 20:31:17.298     EURUSD  1.07847  1.07839  1.08231  1.07567   \n",
       "\n",
       "                                timestamp  askVolume  bidVolume  level  \\\n",
       "date                                                                     \n",
       "2023-06-13 20:31:17.298000  1686681077298   350000.0   349000.0    0.0   \n",
       "2023-06-13 20:31:17.298     1686681077298   350000.0   349000.0    0.0   \n",
       "\n",
       "                            exemode  spreadRaw  spreadTable  \n",
       "date                                                         \n",
       "2023-06-13 20:31:17.298000      1.0    0.00008          0.8  \n",
       "2023-06-13 20:31:17.298         1.0    0.00008          0.8  "
      ]
     },
     "execution_count": 15,
     "metadata": {},
     "output_type": "execute_result"
    }
   ],
   "source": [
    "df"
   ]
  },
  {
   "cell_type": "code",
   "execution_count": 19,
   "id": "be040fae-c509-4e56-895d-5cc0214766ce",
   "metadata": {},
   "outputs": [],
   "source": [
    "c = XTBClient()\n",
    "c.login(os.environ.get(\"XTB_login\"), os.environ.get(\"XTB_pass\"))\n",
    "candles = c.get_candles_in_range(\"EURUSD\", PERIOD.ONE_MINUTE.value,  datetime.today() - timedelta(hours=1))\n",
    "c.logout()"
   ]
  },
  {
   "cell_type": "code",
   "execution_count": 26,
   "id": "67fa1164-1a6c-4252-a94d-14463de5522d",
   "metadata": {},
   "outputs": [
    {
     "name": "stdout",
     "output_type": "stream",
     "text": [
      "[*********************100%***********************]  1 of 1 completed\n"
     ]
    },
    {
     "data": {
      "text/html": [
       "<div>\n",
       "<style scoped>\n",
       "    .dataframe tbody tr th:only-of-type {\n",
       "        vertical-align: middle;\n",
       "    }\n",
       "\n",
       "    .dataframe tbody tr th {\n",
       "        vertical-align: top;\n",
       "    }\n",
       "\n",
       "    .dataframe thead th {\n",
       "        text-align: right;\n",
       "    }\n",
       "</style>\n",
       "<table border=\"1\" class=\"dataframe\">\n",
       "  <thead>\n",
       "    <tr style=\"text-align: right;\">\n",
       "      <th></th>\n",
       "      <th>datetime</th>\n",
       "      <th>open</th>\n",
       "      <th>high</th>\n",
       "      <th>low</th>\n",
       "      <th>close</th>\n",
       "      <th>adj close</th>\n",
       "    </tr>\n",
       "  </thead>\n",
       "  <tbody>\n",
       "    <tr>\n",
       "      <th>0</th>\n",
       "      <td>2022-06-14 13:00:00</td>\n",
       "      <td>1.043950</td>\n",
       "      <td>1.045697</td>\n",
       "      <td>1.043515</td>\n",
       "      <td>1.044823</td>\n",
       "      <td>1.044823</td>\n",
       "    </tr>\n",
       "    <tr>\n",
       "      <th>1</th>\n",
       "      <td>2022-06-14 14:00:00</td>\n",
       "      <td>1.044932</td>\n",
       "      <td>1.047011</td>\n",
       "      <td>1.044823</td>\n",
       "      <td>1.045478</td>\n",
       "      <td>1.045478</td>\n",
       "    </tr>\n",
       "    <tr>\n",
       "      <th>2</th>\n",
       "      <td>2022-06-14 15:00:00</td>\n",
       "      <td>1.045369</td>\n",
       "      <td>1.046025</td>\n",
       "      <td>1.043732</td>\n",
       "      <td>1.044168</td>\n",
       "      <td>1.044168</td>\n",
       "    </tr>\n",
       "    <tr>\n",
       "      <th>3</th>\n",
       "      <td>2022-06-14 16:00:00</td>\n",
       "      <td>1.044168</td>\n",
       "      <td>1.044823</td>\n",
       "      <td>1.041124</td>\n",
       "      <td>1.041124</td>\n",
       "      <td>1.041124</td>\n",
       "    </tr>\n",
       "    <tr>\n",
       "      <th>4</th>\n",
       "      <td>2022-06-14 17:00:00</td>\n",
       "      <td>1.041558</td>\n",
       "      <td>1.042753</td>\n",
       "      <td>1.041016</td>\n",
       "      <td>1.042101</td>\n",
       "      <td>1.042101</td>\n",
       "    </tr>\n",
       "    <tr>\n",
       "      <th>...</th>\n",
       "      <td>...</td>\n",
       "      <td>...</td>\n",
       "      <td>...</td>\n",
       "      <td>...</td>\n",
       "      <td>...</td>\n",
       "      <td>...</td>\n",
       "    </tr>\n",
       "    <tr>\n",
       "      <th>6205</th>\n",
       "      <td>2023-06-14 09:00:00</td>\n",
       "      <td>1.078865</td>\n",
       "      <td>1.079914</td>\n",
       "      <td>1.078865</td>\n",
       "      <td>1.079214</td>\n",
       "      <td>1.079214</td>\n",
       "    </tr>\n",
       "    <tr>\n",
       "      <th>6206</th>\n",
       "      <td>2023-06-14 10:00:00</td>\n",
       "      <td>1.078981</td>\n",
       "      <td>1.080731</td>\n",
       "      <td>1.078981</td>\n",
       "      <td>1.080497</td>\n",
       "      <td>1.080497</td>\n",
       "    </tr>\n",
       "    <tr>\n",
       "      <th>6207</th>\n",
       "      <td>2023-06-14 11:00:00</td>\n",
       "      <td>1.080497</td>\n",
       "      <td>1.081198</td>\n",
       "      <td>1.080030</td>\n",
       "      <td>1.080731</td>\n",
       "      <td>1.080731</td>\n",
       "    </tr>\n",
       "    <tr>\n",
       "      <th>6208</th>\n",
       "      <td>2023-06-14 12:00:00</td>\n",
       "      <td>1.080614</td>\n",
       "      <td>1.081198</td>\n",
       "      <td>1.080614</td>\n",
       "      <td>1.080964</td>\n",
       "      <td>1.080964</td>\n",
       "    </tr>\n",
       "    <tr>\n",
       "      <th>6209</th>\n",
       "      <td>2023-06-14 13:00:00</td>\n",
       "      <td>1.080964</td>\n",
       "      <td>1.081081</td>\n",
       "      <td>1.080847</td>\n",
       "      <td>1.080964</td>\n",
       "      <td>1.080964</td>\n",
       "    </tr>\n",
       "  </tbody>\n",
       "</table>\n",
       "<p>6210 rows × 6 columns</p>\n",
       "</div>"
      ],
      "text/plain": [
       "                datetime      open      high       low     close  adj close\n",
       "0    2022-06-14 13:00:00  1.043950  1.045697  1.043515  1.044823   1.044823\n",
       "1    2022-06-14 14:00:00  1.044932  1.047011  1.044823  1.045478   1.045478\n",
       "2    2022-06-14 15:00:00  1.045369  1.046025  1.043732  1.044168   1.044168\n",
       "3    2022-06-14 16:00:00  1.044168  1.044823  1.041124  1.041124   1.041124\n",
       "4    2022-06-14 17:00:00  1.041558  1.042753  1.041016  1.042101   1.042101\n",
       "...                  ...       ...       ...       ...       ...        ...\n",
       "6205 2023-06-14 09:00:00  1.078865  1.079914  1.078865  1.079214   1.079214\n",
       "6206 2023-06-14 10:00:00  1.078981  1.080731  1.078981  1.080497   1.080497\n",
       "6207 2023-06-14 11:00:00  1.080497  1.081198  1.080030  1.080731   1.080731\n",
       "6208 2023-06-14 12:00:00  1.080614  1.081198  1.080614  1.080964   1.080964\n",
       "6209 2023-06-14 13:00:00  1.080964  1.081081  1.080847  1.080964   1.080964\n",
       "\n",
       "[6210 rows x 6 columns]"
      ]
     },
     "execution_count": 26,
     "metadata": {},
     "output_type": "execute_result"
    }
   ],
   "source": [
    "utility.collect_yf(\"EURUSD=x\", period=\"1y\", interval=\"1h\")"
   ]
  },
  {
   "cell_type": "code",
   "execution_count": 27,
   "id": "dd7f8178-5ced-4231-aeca-1d460a68c44a",
   "metadata": {},
   "outputs": [
    {
     "name": "stderr",
     "output_type": "stream",
     "text": [
      "2023-06-15 20:22:22 - INFO - XTBApi.api.BaseClient - CMD: login...\n",
      "2023-06-15 20:22:22 - INFO - XTBApi.api.BaseClient - CMD: get symbol EURUSD...\n",
      "2023-06-15 20:22:22 - INFO - XTBApi.api.BaseClient - CMD getSymbol with {'command': 'getSymbol', 'arguments': {'symbol': 'EURUSD'}}: done\n",
      "2023-06-15 20:22:22 - INFO - XTBApi.api.BaseClient - CMD tradeTransaction with {'command': 'tradeTransaction', 'arguments': {'tradeTransInfo': {'cmd': 0, 'comment': '', 'ie_deviation': 0, 'order': 0, 'price': 1.09435, 'sl': 1.09425, 'symbol': 'EURUSD', 'tp': 1.09445, 'type': 0, 'volume': 0.02}}}: done\n",
      "2023-06-15 20:22:23 - INFO - XTBApi.api.BaseClient - CMD tradeTransactionStatus with {'command': 'tradeTransactionStatus', 'arguments': {'order': 519290191}}: done\n",
      "2023-06-15 20:22:23 - INFO - XTBApi.api.BaseClient - CMD: logout...\n"
     ]
    }
   ],
   "source": [
    "retval = utility.open_transaction(\n",
    "    MODES.BUY,\n",
    "    \"EURUSD\",\n",
    "    volume=0.02,\n",
    "    tp=1,\n",
    "    sl=1\n",
    ")"
   ]
  },
  {
   "cell_type": "code",
   "execution_count": 28,
   "id": "40fdba3d-c011-476c-9fd2-f97f52fcb11b",
   "metadata": {},
   "outputs": [
    {
     "data": {
      "text/plain": [
       "{'order': 519290191,\n",
       " 'requestStatus': <TRANSACTION_STATUS.ACCEPTED: 3>,\n",
       " 'message': None,\n",
       " 'customComment': None,\n",
       " 'ask': 1.09435,\n",
       " 'bid': 1.09435}"
      ]
     },
     "execution_count": 28,
     "metadata": {},
     "output_type": "execute_result"
    }
   ],
   "source": [
    "retval"
   ]
  },
  {
   "cell_type": "code",
   "execution_count": 12,
   "id": "e8d2d161-b00c-4b65-8f24-745469bf98cd",
   "metadata": {},
   "outputs": [],
   "source": [
    "client = XTBClient()\n",
    "client.login(os.environ.get(\"XTB_login\"), os.environ.get(\"XTB_pass\"))\n",
    "retval = client.get_trades()\n",
    "client.logout()"
   ]
  },
  {
   "cell_type": "code",
   "execution_count": 13,
   "id": "564b47a9-17b0-4fc7-875d-7a50d8c04afe",
   "metadata": {},
   "outputs": [
    {
     "data": {
      "text/plain": [
       "[{'cmd': 0,\n",
       "  'order': 518659615,\n",
       "  'digits': 5,\n",
       "  'offset': 0,\n",
       "  'order2': 518659581,\n",
       "  'position': 518659615,\n",
       "  'symbol': 'EURUSD',\n",
       "  'comment': '',\n",
       "  'customComment': None,\n",
       "  'commission': 0.0,\n",
       "  'storage': 0.0,\n",
       "  'margin_rate': 0.0,\n",
       "  'close_price': 1.08378,\n",
       "  'open_price': 1.08389,\n",
       "  'nominalValue': 0.0,\n",
       "  'profit': -0.45,\n",
       "  'volume': 0.01,\n",
       "  'sl': 1.08358,\n",
       "  'tp': 1.08418,\n",
       "  'closed': False,\n",
       "  'timestamp': 1686853621082,\n",
       "  'spread': 0,\n",
       "  'taxes': 0.0,\n",
       "  'open_time': 1686749266211,\n",
       "  'open_timeString': 'Wed Jun 14 15:27:46 CEST 2023',\n",
       "  'close_time': None,\n",
       "  'close_timeString': None,\n",
       "  'expiration': None,\n",
       "  'expirationString': None}]"
      ]
     },
     "execution_count": 13,
     "metadata": {},
     "output_type": "execute_result"
    }
   ],
   "source": [
    "retval"
   ]
  },
  {
   "cell_type": "code",
   "execution_count": 10,
   "id": "c198f2c2-74b8-4a0a-9704-8d9340827b1d",
   "metadata": {
    "collapsed": true,
    "jupyter": {
     "outputs_hidden": true
    },
    "tags": []
   },
   "outputs": [
    {
     "name": "stderr",
     "output_type": "stream",
     "text": [
      "2023-06-15 20:25:55 - WARNING - XTBApi.api - command failed: {'status': False, 'errorCode': 'BE098', 'errorDescr': 'No such transaction or transaction still in progress: 518659615'}\n"
     ]
    },
    {
     "ename": "CommandFailed",
     "evalue": "command failed: {'status': False, 'errorCode': 'BE098', 'errorDescr': 'No such transaction or transaction still in progress: 518659615'}",
     "output_type": "error",
     "traceback": [
      "\u001b[0;31m---------------------------------------------------------------------------\u001b[0m",
      "\u001b[0;31mCommandFailed\u001b[0m                             Traceback (most recent call last)",
      "File \u001b[0;32m~/Repos/XTB-Trader/XTBClient/api.py:123\u001b[0m, in \u001b[0;36mXTBClient._login_decorator\u001b[0;34m(self, func, *args, **kwargs)\u001b[0m\n\u001b[1;32m    122\u001b[0m \u001b[38;5;28;01mtry\u001b[39;00m:\n\u001b[0;32m--> 123\u001b[0m     \u001b[38;5;28;01mreturn\u001b[39;00m \u001b[43mfunc\u001b[49m\u001b[43m(\u001b[49m\u001b[38;5;241;43m*\u001b[39;49m\u001b[43margs\u001b[49m\u001b[43m,\u001b[49m\u001b[43m \u001b[49m\u001b[38;5;241;43m*\u001b[39;49m\u001b[38;5;241;43m*\u001b[39;49m\u001b[43mkwargs\u001b[49m\u001b[43m)\u001b[49m\n\u001b[1;32m    124\u001b[0m \u001b[38;5;28;01mexcept\u001b[39;00m SocketError:\n",
      "File \u001b[0;32m~/Repos/XTB-Trader/XTBClient/api.py:149\u001b[0m, in \u001b[0;36mXTBClient._send_command\u001b[0;34m(self, command, **kwargs)\u001b[0m\n\u001b[1;32m    148\u001b[0m     \u001b[38;5;28mself\u001b[39m\u001b[38;5;241m.\u001b[39mLOGGER\u001b[38;5;241m.\u001b[39minfo(\u001b[38;5;124mf\u001b[39m\u001b[38;5;124m\"\u001b[39m\u001b[38;5;124mCMD \u001b[39m\u001b[38;5;132;01m{\u001b[39;00mcommand\u001b[38;5;132;01m}\u001b[39;00m\u001b[38;5;124m with \u001b[39m\u001b[38;5;132;01m{\u001b[39;00mdict_data\u001b[38;5;132;01m}\u001b[39;00m\u001b[38;5;124m: FAILED\u001b[39m\u001b[38;5;124m\"\u001b[39m)\n\u001b[0;32m--> 149\u001b[0m     \u001b[38;5;28;01mraise\u001b[39;00m CommandFailed(res)\n\u001b[1;32m    150\u001b[0m \u001b[38;5;28;01mif\u001b[39;00m \u001b[38;5;124m\"\u001b[39m\u001b[38;5;124mreturnData\u001b[39m\u001b[38;5;124m\"\u001b[39m \u001b[38;5;129;01min\u001b[39;00m res\u001b[38;5;241m.\u001b[39mkeys():\n",
      "\u001b[0;31mCommandFailed\u001b[0m: command failed: {'status': False, 'errorCode': 'BE098', 'errorDescr': 'No such transaction or transaction still in progress: 518659615'}",
      "\nDuring handling of the above exception, another exception occurred:\n",
      "\u001b[0;31mCommandFailed\u001b[0m                             Traceback (most recent call last)",
      "Cell \u001b[0;32mIn [10], line 3\u001b[0m\n\u001b[1;32m      1\u001b[0m c \u001b[38;5;241m=\u001b[39m XTBClient()\n\u001b[1;32m      2\u001b[0m c\u001b[38;5;241m.\u001b[39mlogin(os\u001b[38;5;241m.\u001b[39menviron\u001b[38;5;241m.\u001b[39mget(\u001b[38;5;124m\"\u001b[39m\u001b[38;5;124mXTB_login\u001b[39m\u001b[38;5;124m\"\u001b[39m), os\u001b[38;5;241m.\u001b[39menviron\u001b[38;5;241m.\u001b[39mget(\u001b[38;5;124m\"\u001b[39m\u001b[38;5;124mXTB_pass\u001b[39m\u001b[38;5;124m\"\u001b[39m))\n\u001b[0;32m----> 3\u001b[0m candles \u001b[38;5;241m=\u001b[39m \u001b[43mc\u001b[49m\u001b[38;5;241;43m.\u001b[39;49m\u001b[43mtransaction_status\u001b[49m\u001b[43m(\u001b[49m\u001b[43mretval\u001b[49m\u001b[43m[\u001b[49m\u001b[38;5;241;43m0\u001b[39;49m\u001b[43m]\u001b[49m\u001b[43m[\u001b[49m\u001b[38;5;124;43m'\u001b[39;49m\u001b[38;5;124;43morder\u001b[39;49m\u001b[38;5;124;43m'\u001b[39;49m\u001b[43m]\u001b[49m\u001b[43m)\u001b[49m\n\u001b[1;32m      4\u001b[0m c\u001b[38;5;241m.\u001b[39mlogout()\n\u001b[1;32m      5\u001b[0m candles\n",
      "File \u001b[0;32m~/Repos/XTB-Trader/XTBClient/api.py:342\u001b[0m, in \u001b[0;36mXTBClient.transaction_status\u001b[0;34m(self, order_id)\u001b[0m\n\u001b[1;32m    341\u001b[0m \u001b[38;5;28;01mdef\u001b[39;00m \u001b[38;5;21mtransaction_status\u001b[39m(\u001b[38;5;28mself\u001b[39m, order_id):\n\u001b[0;32m--> 342\u001b[0m     \u001b[38;5;28;01mreturn\u001b[39;00m \u001b[38;5;28;43mself\u001b[39;49m\u001b[38;5;241;43m.\u001b[39;49m\u001b[43msend_command\u001b[49m\u001b[43m(\u001b[49m\u001b[38;5;124;43m\"\u001b[39;49m\u001b[38;5;124;43mtradeTransactionStatus\u001b[39;49m\u001b[38;5;124;43m\"\u001b[39;49m\u001b[43m,\u001b[49m\u001b[43m \u001b[49m\u001b[43morder\u001b[49m\u001b[38;5;241;43m=\u001b[39;49m\u001b[38;5;28;43mint\u001b[39;49m\u001b[43m(\u001b[49m\u001b[43morder_id\u001b[49m\u001b[43m)\u001b[49m\u001b[43m)\u001b[49m\n",
      "File \u001b[0;32m~/Repos/XTB-Trader/XTBClient/api.py:157\u001b[0m, in \u001b[0;36mXTBClient.send_command\u001b[0;34m(self, command, **kwargs)\u001b[0m\n\u001b[1;32m    155\u001b[0m \u001b[38;5;28;01mdef\u001b[39;00m \u001b[38;5;21msend_command\u001b[39m(\u001b[38;5;28mself\u001b[39m, command, \u001b[38;5;241m*\u001b[39m\u001b[38;5;241m*\u001b[39mkwargs):\n\u001b[1;32m    156\u001b[0m     \u001b[38;5;124;03m\"\"\"with check login\"\"\"\u001b[39;00m\n\u001b[0;32m--> 157\u001b[0m     \u001b[38;5;28;01mreturn\u001b[39;00m \u001b[38;5;28;43mself\u001b[39;49m\u001b[38;5;241;43m.\u001b[39;49m\u001b[43m_login_decorator\u001b[49m\u001b[43m(\u001b[49m\u001b[38;5;28;43mself\u001b[39;49m\u001b[38;5;241;43m.\u001b[39;49m\u001b[43m_send_command\u001b[49m\u001b[43m,\u001b[49m\u001b[43m \u001b[49m\u001b[43mcommand\u001b[49m\u001b[43m,\u001b[49m\u001b[43m \u001b[49m\u001b[38;5;241;43m*\u001b[39;49m\u001b[38;5;241;43m*\u001b[39;49m\u001b[43mkwargs\u001b[49m\u001b[43m)\u001b[49m\n",
      "File \u001b[0;32m~/Repos/XTB-Trader/XTBClient/api.py:131\u001b[0m, in \u001b[0;36mXTBClient._login_decorator\u001b[0;34m(self, func, *args, **kwargs)\u001b[0m\n\u001b[1;32m    129\u001b[0m LOGGER\u001b[38;5;241m.\u001b[39mwarning(e)\n\u001b[1;32m    130\u001b[0m \u001b[38;5;28mself\u001b[39m\u001b[38;5;241m.\u001b[39mlogin(\u001b[38;5;28mself\u001b[39m\u001b[38;5;241m.\u001b[39m_login_data[\u001b[38;5;241m0\u001b[39m], \u001b[38;5;28mself\u001b[39m\u001b[38;5;241m.\u001b[39m_login_data[\u001b[38;5;241m1\u001b[39m])\n\u001b[0;32m--> 131\u001b[0m \u001b[38;5;28;01mreturn\u001b[39;00m \u001b[43mfunc\u001b[49m\u001b[43m(\u001b[49m\u001b[38;5;241;43m*\u001b[39;49m\u001b[43margs\u001b[49m\u001b[43m,\u001b[49m\u001b[43m \u001b[49m\u001b[38;5;241;43m*\u001b[39;49m\u001b[38;5;241;43m*\u001b[39;49m\u001b[43mkwargs\u001b[49m\u001b[43m)\u001b[49m\n",
      "File \u001b[0;32m~/Repos/XTB-Trader/XTBClient/api.py:149\u001b[0m, in \u001b[0;36mXTBClient._send_command\u001b[0;34m(self, command, **kwargs)\u001b[0m\n\u001b[1;32m    147\u001b[0m \u001b[38;5;28;01mif\u001b[39;00m res[\u001b[38;5;124m\"\u001b[39m\u001b[38;5;124mstatus\u001b[39m\u001b[38;5;124m\"\u001b[39m] \u001b[38;5;129;01mis\u001b[39;00m \u001b[38;5;28;01mFalse\u001b[39;00m:\n\u001b[1;32m    148\u001b[0m     \u001b[38;5;28mself\u001b[39m\u001b[38;5;241m.\u001b[39mLOGGER\u001b[38;5;241m.\u001b[39minfo(\u001b[38;5;124mf\u001b[39m\u001b[38;5;124m\"\u001b[39m\u001b[38;5;124mCMD \u001b[39m\u001b[38;5;132;01m{\u001b[39;00mcommand\u001b[38;5;132;01m}\u001b[39;00m\u001b[38;5;124m with \u001b[39m\u001b[38;5;132;01m{\u001b[39;00mdict_data\u001b[38;5;132;01m}\u001b[39;00m\u001b[38;5;124m: FAILED\u001b[39m\u001b[38;5;124m\"\u001b[39m)\n\u001b[0;32m--> 149\u001b[0m     \u001b[38;5;28;01mraise\u001b[39;00m CommandFailed(res)\n\u001b[1;32m    150\u001b[0m \u001b[38;5;28;01mif\u001b[39;00m \u001b[38;5;124m\"\u001b[39m\u001b[38;5;124mreturnData\u001b[39m\u001b[38;5;124m\"\u001b[39m \u001b[38;5;129;01min\u001b[39;00m res\u001b[38;5;241m.\u001b[39mkeys():\n\u001b[1;32m    151\u001b[0m     \u001b[38;5;28mself\u001b[39m\u001b[38;5;241m.\u001b[39mLOGGER\u001b[38;5;241m.\u001b[39minfo(\u001b[38;5;124mf\u001b[39m\u001b[38;5;124m\"\u001b[39m\u001b[38;5;124mCMD \u001b[39m\u001b[38;5;132;01m{\u001b[39;00mcommand\u001b[38;5;132;01m}\u001b[39;00m\u001b[38;5;124m with \u001b[39m\u001b[38;5;132;01m{\u001b[39;00mdict_data\u001b[38;5;132;01m}\u001b[39;00m\u001b[38;5;124m: done\u001b[39m\u001b[38;5;124m\"\u001b[39m)\n",
      "\u001b[0;31mCommandFailed\u001b[0m: command failed: {'status': False, 'errorCode': 'BE098', 'errorDescr': 'No such transaction or transaction still in progress: 518659615'}"
     ]
    }
   ],
   "source": [
    "c = XTBClient()\n",
    "c.login(os.environ.get(\"XTB_login\"), os.environ.get(\"XTB_pass\"))\n",
    "candles = c.transaction_status(retval[0]['order'])\n",
    "c.logout()\n",
    "candles"
   ]
  },
  {
   "cell_type": "code",
   "execution_count": 11,
   "id": "1817e8c3-69d7-4836-a252-f9f2d220e8d0",
   "metadata": {},
   "outputs": [
    {
     "name": "stderr",
     "output_type": "stream",
     "text": [
      "2023-06-15 20:26:52 - WARNING - XTBApi.api - Object of type MODES is not JSON serializable\n"
     ]
    }
   ],
   "source": [
    "client = XTBClient()\n",
    "client.login(os.environ.get(\"XTB_login\"), os.environ.get(\"XTB_pass\"))\n",
    "retval = client.transaction(\n",
    "    MODES.BUY, \"EURUSD\", TRANSACTION_TYPE.CLOSE,  0.01, order=518659615, price=1.08378\n",
    ")\n",
    "client.logout()\n"
   ]
  },
  {
   "cell_type": "code",
   "execution_count": 25,
   "id": "ab2dd3ec-3db6-4e0b-a43a-716859ac45f2",
   "metadata": {},
   "outputs": [
    {
     "name": "stderr",
     "output_type": "stream",
     "text": [
      "2023-06-15 13:49:56 - INFO - XTBApi.api.BaseClient - CMD: login...\n",
      "2023-06-15 13:49:56 - INFO - XTBApi.api.BaseClient - CMD getTrades with {'command': 'getTrades', 'arguments': {'openedOnly': True}}: done\n",
      "2023-06-15 13:49:57 - INFO - XTBApi.api.BaseClient - CMD: logout...\n"
     ]
    }
   ],
   "source": [
    "tran = utility.get_transactions()[0]"
   ]
  },
  {
   "cell_type": "code",
   "execution_count": 26,
   "id": "361bc21f-b5ee-4b1b-b6c9-23239804c837",
   "metadata": {},
   "outputs": [
    {
     "name": "stderr",
     "output_type": "stream",
     "text": [
      "2023-06-15 13:49:58 - INFO - XTBApi.api.BaseClient - CMD: login...\n",
      "2023-06-15 13:49:59 - INFO - XTBApi.api.BaseClient - CMD tradeTransaction with {'command': 'tradeTransaction', 'arguments': {'tradeTransInfo': {'cmd': 0, 'order': 518659615, 'price': 1.08378, 'symbol': 'EURUSD', 'type': 2, 'volume': 0.01}}}: FAILED\n",
      "2023-06-15 13:49:59 - WARNING - XTBApi.api - command failed: {'status': False, 'errorCode': 'SE199', 'errorDescr': 'Internal error'}\n",
      "2023-06-15 13:49:59 - INFO - XTBApi.api.BaseClient - CMD: login...\n",
      "2023-06-15 13:50:00 - INFO - XTBApi.api.BaseClient - CMD tradeTransaction with {'command': 'tradeTransaction', 'arguments': {'tradeTransInfo': {'cmd': 0, 'order': 518659615, 'price': 1.08378, 'symbol': 'EURUSD', 'type': 2, 'volume': 0.01}}}: FAILED\n"
     ]
    },
    {
     "ename": "CommandFailed",
     "evalue": "command failed: {'status': False, 'errorCode': 'SE199', 'errorDescr': 'Internal error'}",
     "output_type": "error",
     "traceback": [
      "\u001b[0;31m---------------------------------------------------------------------------\u001b[0m",
      "\u001b[0;31mCommandFailed\u001b[0m                             Traceback (most recent call last)",
      "File \u001b[0;32m~/Repos/XTB-Trader/XTBClient/api.py:123\u001b[0m, in \u001b[0;36mXTBClient._login_decorator\u001b[0;34m(self, func, *args, **kwargs)\u001b[0m\n\u001b[1;32m    122\u001b[0m \u001b[38;5;28;01mtry\u001b[39;00m:\n\u001b[0;32m--> 123\u001b[0m     \u001b[38;5;28;01mreturn\u001b[39;00m \u001b[43mfunc\u001b[49m\u001b[43m(\u001b[49m\u001b[38;5;241;43m*\u001b[39;49m\u001b[43margs\u001b[49m\u001b[43m,\u001b[49m\u001b[43m \u001b[49m\u001b[38;5;241;43m*\u001b[39;49m\u001b[38;5;241;43m*\u001b[39;49m\u001b[43mkwargs\u001b[49m\u001b[43m)\u001b[49m\n\u001b[1;32m    124\u001b[0m \u001b[38;5;28;01mexcept\u001b[39;00m SocketError:\n",
      "File \u001b[0;32m~/Repos/XTB-Trader/XTBClient/api.py:149\u001b[0m, in \u001b[0;36mXTBClient._send_command\u001b[0;34m(self, command, **kwargs)\u001b[0m\n\u001b[1;32m    148\u001b[0m     \u001b[38;5;28mself\u001b[39m\u001b[38;5;241m.\u001b[39mLOGGER\u001b[38;5;241m.\u001b[39minfo(\u001b[38;5;124mf\u001b[39m\u001b[38;5;124m\"\u001b[39m\u001b[38;5;124mCMD \u001b[39m\u001b[38;5;132;01m{\u001b[39;00mcommand\u001b[38;5;132;01m}\u001b[39;00m\u001b[38;5;124m with \u001b[39m\u001b[38;5;132;01m{\u001b[39;00mdict_data\u001b[38;5;132;01m}\u001b[39;00m\u001b[38;5;124m: FAILED\u001b[39m\u001b[38;5;124m\"\u001b[39m)\n\u001b[0;32m--> 149\u001b[0m     \u001b[38;5;28;01mraise\u001b[39;00m CommandFailed(res)\n\u001b[1;32m    150\u001b[0m \u001b[38;5;28;01mif\u001b[39;00m \u001b[38;5;124m\"\u001b[39m\u001b[38;5;124mreturnData\u001b[39m\u001b[38;5;124m\"\u001b[39m \u001b[38;5;129;01min\u001b[39;00m res\u001b[38;5;241m.\u001b[39mkeys():\n",
      "\u001b[0;31mCommandFailed\u001b[0m: command failed: {'status': False, 'errorCode': 'SE199', 'errorDescr': 'Internal error'}",
      "\nDuring handling of the above exception, another exception occurred:\n",
      "\u001b[0;31mCommandFailed\u001b[0m                             Traceback (most recent call last)",
      "Cell \u001b[0;32mIn [26], line 4\u001b[0m\n\u001b[1;32m      1\u001b[0m client \u001b[38;5;241m=\u001b[39m XTBClient()\n\u001b[1;32m      2\u001b[0m client\u001b[38;5;241m.\u001b[39mlogin(os\u001b[38;5;241m.\u001b[39menviron\u001b[38;5;241m.\u001b[39mget(\u001b[38;5;124m\"\u001b[39m\u001b[38;5;124mXTB_login\u001b[39m\u001b[38;5;124m\"\u001b[39m), os\u001b[38;5;241m.\u001b[39menviron\u001b[38;5;241m.\u001b[39mget(\u001b[38;5;124m\"\u001b[39m\u001b[38;5;124mXTB_pass\u001b[39m\u001b[38;5;124m\"\u001b[39m))\n\u001b[0;32m----> 4\u001b[0m \u001b[43mclient\u001b[49m\u001b[38;5;241;43m.\u001b[39;49m\u001b[43msend_command\u001b[49m\u001b[43m(\u001b[49m\n\u001b[1;32m      5\u001b[0m \u001b[43m                \u001b[49m\u001b[38;5;124;43m\"\u001b[39;49m\u001b[38;5;124;43mtradeTransaction\u001b[39;49m\u001b[38;5;124;43m\"\u001b[39;49m\u001b[43m,\u001b[49m\n\u001b[1;32m      6\u001b[0m \u001b[43m                \u001b[49m\u001b[43mtradeTransInfo\u001b[49m\u001b[38;5;241;43m=\u001b[39;49m\u001b[43m{\u001b[49m\n\u001b[1;32m      7\u001b[0m \u001b[43m                    \u001b[49m\u001b[38;5;124;43m\"\u001b[39;49m\u001b[38;5;124;43mcmd\u001b[39;49m\u001b[38;5;124;43m\"\u001b[39;49m\u001b[43m:\u001b[49m\u001b[43m \u001b[49m\u001b[38;5;241;43m0\u001b[39;49m\u001b[43m,\u001b[49m\n\u001b[1;32m      8\u001b[0m \u001b[43m                    \u001b[49m\u001b[38;5;124;43m\"\u001b[39;49m\u001b[38;5;124;43morder\u001b[39;49m\u001b[38;5;124;43m\"\u001b[39;49m\u001b[43m:\u001b[49m\u001b[43m \u001b[49m\u001b[43mtran\u001b[49m\u001b[38;5;241;43m.\u001b[39;49m\u001b[43morder\u001b[49m\u001b[43m,\u001b[49m\n\u001b[1;32m      9\u001b[0m \u001b[43m                    \u001b[49m\u001b[38;5;124;43m\"\u001b[39;49m\u001b[38;5;124;43mprice\u001b[39;49m\u001b[38;5;124;43m\"\u001b[39;49m\u001b[43m:\u001b[49m\u001b[43m \u001b[49m\u001b[43mtran\u001b[49m\u001b[38;5;241;43m.\u001b[39;49m\u001b[43mprice\u001b[49m\u001b[43m,\u001b[49m\n\u001b[1;32m     10\u001b[0m \u001b[43m                    \u001b[49m\u001b[38;5;124;43m\"\u001b[39;49m\u001b[38;5;124;43msymbol\u001b[39;49m\u001b[38;5;124;43m\"\u001b[39;49m\u001b[43m:\u001b[49m\u001b[43m \u001b[49m\u001b[43mtran\u001b[49m\u001b[38;5;241;43m.\u001b[39;49m\u001b[43msymbol\u001b[49m\u001b[43m,\u001b[49m\n\u001b[1;32m     11\u001b[0m \u001b[43m                    \u001b[49m\u001b[38;5;124;43m\"\u001b[39;49m\u001b[38;5;124;43mtype\u001b[39;49m\u001b[38;5;124;43m\"\u001b[39;49m\u001b[43m:\u001b[49m\u001b[43m \u001b[49m\u001b[38;5;241;43m2\u001b[39;49m\u001b[43m,\u001b[49m\n\u001b[1;32m     12\u001b[0m \u001b[43m                    \u001b[49m\u001b[38;5;124;43m\"\u001b[39;49m\u001b[38;5;124;43mvolume\u001b[39;49m\u001b[38;5;124;43m\"\u001b[39;49m\u001b[43m:\u001b[49m\u001b[43m \u001b[49m\u001b[43mtran\u001b[49m\u001b[38;5;241;43m.\u001b[39;49m\u001b[43mvolume\u001b[49m\u001b[43m,\u001b[49m\n\u001b[1;32m     13\u001b[0m \u001b[43m                \u001b[49m\u001b[43m}\u001b[49m\u001b[43m,\u001b[49m\n\u001b[1;32m     14\u001b[0m \u001b[43m            \u001b[49m\u001b[43m)\u001b[49m\n\u001b[1;32m     16\u001b[0m client\u001b[38;5;241m.\u001b[39mlogout()\n",
      "File \u001b[0;32m~/Repos/XTB-Trader/XTBClient/api.py:157\u001b[0m, in \u001b[0;36mXTBClient.send_command\u001b[0;34m(self, command, **kwargs)\u001b[0m\n\u001b[1;32m    155\u001b[0m \u001b[38;5;28;01mdef\u001b[39;00m \u001b[38;5;21msend_command\u001b[39m(\u001b[38;5;28mself\u001b[39m, command, \u001b[38;5;241m*\u001b[39m\u001b[38;5;241m*\u001b[39mkwargs):\n\u001b[1;32m    156\u001b[0m     \u001b[38;5;124;03m\"\"\"with check login\"\"\"\u001b[39;00m\n\u001b[0;32m--> 157\u001b[0m     \u001b[38;5;28;01mreturn\u001b[39;00m \u001b[38;5;28;43mself\u001b[39;49m\u001b[38;5;241;43m.\u001b[39;49m\u001b[43m_login_decorator\u001b[49m\u001b[43m(\u001b[49m\u001b[38;5;28;43mself\u001b[39;49m\u001b[38;5;241;43m.\u001b[39;49m\u001b[43m_send_command\u001b[49m\u001b[43m,\u001b[49m\u001b[43m \u001b[49m\u001b[43mcommand\u001b[49m\u001b[43m,\u001b[49m\u001b[43m \u001b[49m\u001b[38;5;241;43m*\u001b[39;49m\u001b[38;5;241;43m*\u001b[39;49m\u001b[43mkwargs\u001b[49m\u001b[43m)\u001b[49m\n",
      "File \u001b[0;32m~/Repos/XTB-Trader/XTBClient/api.py:131\u001b[0m, in \u001b[0;36mXTBClient._login_decorator\u001b[0;34m(self, func, *args, **kwargs)\u001b[0m\n\u001b[1;32m    129\u001b[0m LOGGER\u001b[38;5;241m.\u001b[39mwarning(e)\n\u001b[1;32m    130\u001b[0m \u001b[38;5;28mself\u001b[39m\u001b[38;5;241m.\u001b[39mlogin(\u001b[38;5;28mself\u001b[39m\u001b[38;5;241m.\u001b[39m_login_data[\u001b[38;5;241m0\u001b[39m], \u001b[38;5;28mself\u001b[39m\u001b[38;5;241m.\u001b[39m_login_data[\u001b[38;5;241m1\u001b[39m])\n\u001b[0;32m--> 131\u001b[0m \u001b[38;5;28;01mreturn\u001b[39;00m \u001b[43mfunc\u001b[49m\u001b[43m(\u001b[49m\u001b[38;5;241;43m*\u001b[39;49m\u001b[43margs\u001b[49m\u001b[43m,\u001b[49m\u001b[43m \u001b[49m\u001b[38;5;241;43m*\u001b[39;49m\u001b[38;5;241;43m*\u001b[39;49m\u001b[43mkwargs\u001b[49m\u001b[43m)\u001b[49m\n",
      "File \u001b[0;32m~/Repos/XTB-Trader/XTBClient/api.py:149\u001b[0m, in \u001b[0;36mXTBClient._send_command\u001b[0;34m(self, command, **kwargs)\u001b[0m\n\u001b[1;32m    147\u001b[0m \u001b[38;5;28;01mif\u001b[39;00m res[\u001b[38;5;124m\"\u001b[39m\u001b[38;5;124mstatus\u001b[39m\u001b[38;5;124m\"\u001b[39m] \u001b[38;5;129;01mis\u001b[39;00m \u001b[38;5;28;01mFalse\u001b[39;00m:\n\u001b[1;32m    148\u001b[0m     \u001b[38;5;28mself\u001b[39m\u001b[38;5;241m.\u001b[39mLOGGER\u001b[38;5;241m.\u001b[39minfo(\u001b[38;5;124mf\u001b[39m\u001b[38;5;124m\"\u001b[39m\u001b[38;5;124mCMD \u001b[39m\u001b[38;5;132;01m{\u001b[39;00mcommand\u001b[38;5;132;01m}\u001b[39;00m\u001b[38;5;124m with \u001b[39m\u001b[38;5;132;01m{\u001b[39;00mdict_data\u001b[38;5;132;01m}\u001b[39;00m\u001b[38;5;124m: FAILED\u001b[39m\u001b[38;5;124m\"\u001b[39m)\n\u001b[0;32m--> 149\u001b[0m     \u001b[38;5;28;01mraise\u001b[39;00m CommandFailed(res)\n\u001b[1;32m    150\u001b[0m \u001b[38;5;28;01mif\u001b[39;00m \u001b[38;5;124m\"\u001b[39m\u001b[38;5;124mreturnData\u001b[39m\u001b[38;5;124m\"\u001b[39m \u001b[38;5;129;01min\u001b[39;00m res\u001b[38;5;241m.\u001b[39mkeys():\n\u001b[1;32m    151\u001b[0m     \u001b[38;5;28mself\u001b[39m\u001b[38;5;241m.\u001b[39mLOGGER\u001b[38;5;241m.\u001b[39minfo(\u001b[38;5;124mf\u001b[39m\u001b[38;5;124m\"\u001b[39m\u001b[38;5;124mCMD \u001b[39m\u001b[38;5;132;01m{\u001b[39;00mcommand\u001b[38;5;132;01m}\u001b[39;00m\u001b[38;5;124m with \u001b[39m\u001b[38;5;132;01m{\u001b[39;00mdict_data\u001b[38;5;132;01m}\u001b[39;00m\u001b[38;5;124m: done\u001b[39m\u001b[38;5;124m\"\u001b[39m)\n",
      "\u001b[0;31mCommandFailed\u001b[0m: command failed: {'status': False, 'errorCode': 'SE199', 'errorDescr': 'Internal error'}"
     ]
    }
   ],
   "source": [
    "client = XTBClient()\n",
    "client.login(os.environ.get(\"XTB_login\"), os.environ.get(\"XTB_pass\"))\n",
    "\n",
    "client.send_command(\n",
    "                \"tradeTransaction\",\n",
    "                tradeTransInfo={\n",
    "                    \"cmd\": 0,\n",
    "                    \"order\": tran.order,\n",
    "                    \"price\": tran.price,\n",
    "                    \"symbol\": tran.symbol,\n",
    "                    \"type\": 2,\n",
    "                    \"volume\": tran.volume,\n",
    "                },\n",
    "            )\n",
    "\n",
    "client.logout()"
   ]
  },
  {
   "cell_type": "code",
   "execution_count": null,
   "id": "964065a4-49c0-4e26-b311-1a3bf6179485",
   "metadata": {},
   "outputs": [],
   "source": []
  }
 ],
 "metadata": {
  "kernelspec": {
   "display_name": "Python 3 (ipykernel)",
   "language": "python",
   "name": "python3"
  },
  "language_info": {
   "codemirror_mode": {
    "name": "ipython",
    "version": 3
   },
   "file_extension": ".py",
   "mimetype": "text/x-python",
   "name": "python",
   "nbconvert_exporter": "python",
   "pygments_lexer": "ipython3",
   "version": "3.10.6"
  }
 },
 "nbformat": 4,
 "nbformat_minor": 5
}
