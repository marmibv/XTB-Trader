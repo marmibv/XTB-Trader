{
 "cells": [
  {
   "cell_type": "code",
   "execution_count": 1,
   "id": "a99c66c6-f081-4902-9a7a-5dc0406da138",
   "metadata": {},
   "outputs": [],
   "source": [
    "import pandas as pd\n",
    "import math\n",
    "import os\n",
    "import numpy as np\n",
    "from prophet import Prophet\n",
    "import yfinance as yf\n",
    "import plotly.graph_objects as go\n",
    "import plotly.express as px \n",
    "import random\n",
    "import matplotlib.pyplot as plt\n",
    "import sys\n",
    "from tqdm.notebook import tqdm"
   ]
  },
  {
   "cell_type": "markdown",
   "id": "20aed30f-1d25-4b94-a24c-f3dd08fb0ea9",
   "metadata": {
    "tags": []
   },
   "source": [
    "# FUNCTIONS"
   ]
  },
  {
   "cell_type": "code",
   "execution_count": 2,
   "id": "0e04e483-79c9-4a03-8f82-1362e74b92f6",
   "metadata": {},
   "outputs": [],
   "source": [
    "def adjust_df(df):\n",
    "    '''Applies changes on data imported from yahoo finance'''\n",
    "    for col in df.columns:\n",
    "        df.rename(columns={col:col.lower()}, inplace=True)\n",
    "    df.drop([\"volume\"], axis=1, inplace=True)\n",
    "    df.reset_index(inplace=True)\n",
    "    \n",
    "    return df"
   ]
  },
  {
   "cell_type": "code",
   "execution_count": 3,
   "id": "0ff0d0ff-2a11-46ac-83ac-1fe39d912829",
   "metadata": {},
   "outputs": [],
   "source": [
    "def store(df, name=\"MA_tests.csv\"):\n",
    "    '''Concats the data from a csv and the data from dataframe, then saves it to the csv'''\n",
    "    \n",
    "    name = os.path.join(\"csvs\", name) \n",
    "    if os.path.exists(name):\n",
    "        read = pd.read_csv(name)\n",
    "        df = pd.concat([df, read])\n",
    "        df = df.drop_duplicates(subset=['symbol', 'period', 'interval', 'MA_1', 'MA_2'])\n",
    "    \n",
    "    df = df[df.result != 0].reset_index(drop=True)\n",
    "    df[[col for col in df.columns if col != \"index\"]].to_csv(name, index=False)\n",
    "    \n",
    "    return df"
   ]
  },
  {
   "cell_type": "code",
   "execution_count": 4,
   "id": "5a270ec1-299d-4d04-a3f1-d5f51b5f194b",
   "metadata": {},
   "outputs": [],
   "source": [
    "def analyze(symbol, period, interval, means):\n",
    "    '''Calculates the gain in pips achieved with the MA strategy'''\n",
    "    \n",
    "    df = yf.download(symbol, period=period, interval=interval);\n",
    "    adjust_df(df)\n",
    "    \n",
    "    target = df['close']\n",
    "    \n",
    "    \n",
    "    ma_cols = []\n",
    "    for i, mean in enumerate(means):\n",
    "        name = \"MA_\"+str(mean)\n",
    "        df[name] = target.rolling(window=mean).mean()\n",
    "        df[name] = df[name].shift(periods=i)\n",
    "        ma_cols.append(name)\n",
    "    \n",
    "    \n",
    "    df['diff'] = df[ma_cols[0]] - df[ma_cols[1]]\n",
    "    df['diff'] = df['diff'].astype(float)\n",
    "    df['diff_prev'] = df['diff'].shift(1)\n",
    "\n",
    "    df.dropna(how='any', inplace=True);\n",
    "    df.reset_index(drop=True, inplace=True)\n",
    "    \n",
    "    def is_trade(row):\n",
    "        if row['diff'] >= 0 and row['diff_prev'] < 0:\n",
    "            return 1\n",
    "        if row['diff'] <= 0 and row['diff_prev'] > 0:\n",
    "            return -1\n",
    "\n",
    "        return 0 \n",
    "    \n",
    "    df['is_trade'] = df.apply(is_trade, axis=1)\n",
    "    \n",
    "    \n",
    "    df_trades = df[df.is_trade != 0].copy().reset_index()\n",
    "\n",
    "    \n",
    "    \n",
    "    df_trades['delta'] = (df_trades.close.diff() / 0.0001).shift(-1)\n",
    "    df_trades['gain'] = df_trades['delta'] * df_trades['is_trade'] + 10 * df_trades['is_trade']\n",
    "    \n",
    "    result = df_trades['gain'].sum() #* 0.0001\n",
    "    \n",
    "    row = pd.DataFrame({\n",
    "        'symbol': symbol,\n",
    "        'period': period,\n",
    "        'interval': interval,\n",
    "        'MA_1': means[0],\n",
    "        'MA_2': means[1],\n",
    "        'result': result\n",
    "    }, index=[0])\n",
    "    return row "
   ]
  },
  {
   "cell_type": "markdown",
   "id": "98305735-42f5-4ca8-b03f-fbb1c545f126",
   "metadata": {},
   "source": [
    "# SETUP"
   ]
  },
  {
   "cell_type": "code",
   "execution_count": 5,
   "id": "90461458-12a8-466a-8f9a-fa600e49d041",
   "metadata": {},
   "outputs": [],
   "source": [
    "df = pd.DataFrame(columns=['symbol', 'period', 'interval', 'MA_1', 'MA_2', 'result']).reset_index(drop=True)"
   ]
  },
  {
   "cell_type": "code",
   "execution_count": 6,
   "id": "5984f514-6fac-4c4e-bf2e-06626d9d29bd",
   "metadata": {},
   "outputs": [],
   "source": [
    "df = store(df)"
   ]
  },
  {
   "cell_type": "code",
   "execution_count": 7,
   "id": "f83acef7-7148-4aa4-838d-562f80ecbcdf",
   "metadata": {},
   "outputs": [],
   "source": [
    "symbols = [\"EURUSD=X\", \"GBPUSD=X\", \"AUDUSD=X\"]\n",
    "periods = [\"1d\", \"1h\"]\n",
    "intervals = [\"1m\", \"5m\", \"15m\"]\n",
    "MA_1s =  list(range(10, 130, 10))\n",
    "MA_2s =  list(range(10, 130, 10))\n",
    "# symbols = [\"EURUSD=X\"]\n",
    "# periods = [\"1y\"]\n",
    "# intervals = [\"1d\"]\n",
    "# MA_1s =  [40]\n",
    "# MA_2s =  [50]"
   ]
  },
  {
   "cell_type": "code",
   "execution_count": 8,
   "id": "42af3cf3-9de8-46ea-a513-992032a8d0f2",
   "metadata": {
    "tags": []
   },
   "outputs": [
    {
     "data": {
      "application/vnd.jupyter.widget-view+json": {
       "model_id": "53d2c3df9b4140bc8b355d593b99b06b",
       "version_major": 2,
       "version_minor": 0
      },
      "text/plain": [
       "  0%|          | 0/2592 [00:00<?, ?it/s]"
      ]
     },
     "metadata": {},
     "output_type": "display_data"
    }
   ],
   "source": [
    "with tqdm(total=(len(symbols)*len(periods)*len(intervals)*len(MA_1s)*len(MA_2s))) as pbar:\n",
    "    for symbol in symbols:\n",
    "        for period in periods:\n",
    "            for interval in intervals:\n",
    "                for MA_1 in MA_1s:\n",
    "                    for MA_2 in MA_2s:\n",
    "                        pbar.update(1)\n",
    "                        # if len(df[(df['symbol'] == symbol) & (df['period'] == period) & (df['interval'] == interval) & (df['MA_1'] == MA_1) & (df['MA_2'] == MA_2)]) & MA_1 > MA_2:\n",
    "                        if MA_1 > MA_2:\n",
    "                            continue\n",
    "\n",
    "                        original_stdout = sys.stdout\n",
    "                        sys.stdout = open('/dev/null', 'w')\n",
    "\n",
    "                        new = analyze(symbol, period, interval, [MA_1,MA_2]);\n",
    "                        df = pd.concat([new,df.loc[:]]).reset_index(drop=True);\n",
    "\n",
    "                        sys.stdout = original_stdout \n"
   ]
  },
  {
   "cell_type": "code",
   "execution_count": 9,
   "id": "a37a4c5e-1145-4324-8325-61e3a213b591",
   "metadata": {},
   "outputs": [
    {
     "data": {
      "text/html": [
       "<div>\n",
       "<style scoped>\n",
       "    .dataframe tbody tr th:only-of-type {\n",
       "        vertical-align: middle;\n",
       "    }\n",
       "\n",
       "    .dataframe tbody tr th {\n",
       "        vertical-align: top;\n",
       "    }\n",
       "\n",
       "    .dataframe thead th {\n",
       "        text-align: right;\n",
       "    }\n",
       "</style>\n",
       "<table border=\"1\" class=\"dataframe\">\n",
       "  <thead>\n",
       "    <tr style=\"text-align: right;\">\n",
       "      <th></th>\n",
       "      <th>symbol</th>\n",
       "      <th>period</th>\n",
       "      <th>interval</th>\n",
       "      <th>MA_1</th>\n",
       "      <th>MA_2</th>\n",
       "      <th>result</th>\n",
       "    </tr>\n",
       "  </thead>\n",
       "  <tbody>\n",
       "    <tr>\n",
       "      <th>0</th>\n",
       "      <td>AUDUSD=X</td>\n",
       "      <td>1d</td>\n",
       "      <td>15m</td>\n",
       "      <td>20</td>\n",
       "      <td>30</td>\n",
       "      <td>-61.674843</td>\n",
       "    </tr>\n",
       "    <tr>\n",
       "      <th>1</th>\n",
       "      <td>AUDUSD=X</td>\n",
       "      <td>1d</td>\n",
       "      <td>15m</td>\n",
       "      <td>10</td>\n",
       "      <td>40</td>\n",
       "      <td>-61.998496</td>\n",
       "    </tr>\n",
       "    <tr>\n",
       "      <th>2</th>\n",
       "      <td>AUDUSD=X</td>\n",
       "      <td>1d</td>\n",
       "      <td>15m</td>\n",
       "      <td>10</td>\n",
       "      <td>30</td>\n",
       "      <td>-61.674843</td>\n",
       "    </tr>\n",
       "    <tr>\n",
       "      <th>3</th>\n",
       "      <td>AUDUSD=X</td>\n",
       "      <td>1d</td>\n",
       "      <td>15m</td>\n",
       "      <td>10</td>\n",
       "      <td>20</td>\n",
       "      <td>-53.386817</td>\n",
       "    </tr>\n",
       "    <tr>\n",
       "      <th>4</th>\n",
       "      <td>AUDUSD=X</td>\n",
       "      <td>1d</td>\n",
       "      <td>5m</td>\n",
       "      <td>100</td>\n",
       "      <td>110</td>\n",
       "      <td>-17.188916</td>\n",
       "    </tr>\n",
       "  </tbody>\n",
       "</table>\n",
       "</div>"
      ],
      "text/plain": [
       "     symbol period interval MA_1 MA_2     result\n",
       "0  AUDUSD=X     1d      15m   20   30 -61.674843\n",
       "1  AUDUSD=X     1d      15m   10   40 -61.998496\n",
       "2  AUDUSD=X     1d      15m   10   30 -61.674843\n",
       "3  AUDUSD=X     1d      15m   10   20 -53.386817\n",
       "4  AUDUSD=X     1d       5m  100  110 -17.188916"
      ]
     },
     "execution_count": 9,
     "metadata": {},
     "output_type": "execute_result"
    }
   ],
   "source": [
    "df = store(df, name=\"MA_data.csv\")\n",
    "df.head()"
   ]
  },
  {
   "cell_type": "code",
   "execution_count": 677,
   "id": "074550e0-33cd-4168-b96f-88c63d73bc45",
   "metadata": {},
   "outputs": [
    {
     "data": {
      "text/plain": [
       "180"
      ]
     },
     "execution_count": 677,
     "metadata": {},
     "output_type": "execute_result"
    }
   ],
   "source": [
    "len(df)"
   ]
  },
  {
   "cell_type": "code",
   "execution_count": 689,
   "id": "4d5b5bf5-91c2-49d2-aefa-c4c37c3100ba",
   "metadata": {},
   "outputs": [
    {
     "data": {
      "text/plain": [
       "-2491.2234258651733"
      ]
     },
     "execution_count": 689,
     "metadata": {},
     "output_type": "execute_result"
    }
   ],
   "source": [
    "df['result'].sum()"
   ]
  },
  {
   "cell_type": "markdown",
   "id": "34a9602f-edcc-4158-a300-6a1a33187df9",
   "metadata": {},
   "source": [
    "# EXPLORATION"
   ]
  },
  {
   "cell_type": "code",
   "execution_count": 667,
   "id": "9b2dd46a-fe3a-4d37-8eb7-105b076275f4",
   "metadata": {},
   "outputs": [
    {
     "data": {
      "image/png": "[encoded data removed]",
      "text/plain": [
       "<Figure size 640x480 with 1 Axes>"
      ]
     },
     "metadata": {},
     "output_type": "display_data"
    }
   ],
   "source": [
    "df2 = df.groupby([\"MA_1\", \"MA_2\"])['result'].mean()\n",
    "\n",
    "ax = df2.plot(x='MA_2', y='result', kind='bar')"
   ]
  },
  {
   "cell_type": "code",
   "execution_count": 668,
   "id": "284143ee-2881-4751-b723-81376515f869",
   "metadata": {},
   "outputs": [
    {
     "data": {
      "image/png": "[encoded data removed]",
      "text/plain": [
       "<Figure size 640x480 with 1 Axes>"
      ]
     },
     "metadata": {},
     "output_type": "display_data"
    }
   ],
   "source": [
    "df2 = df.groupby([\"symbol\"])['result'].mean()\n",
    "\n",
    "ax = df2.plot(x='symbol', y='result', kind='bar')"
   ]
  },
  {
   "cell_type": "code",
   "execution_count": null,
   "id": "00ea6423-d2de-4a31-bfb6-9d5bc59ce3f3",
   "metadata": {},
   "outputs": [],
   "source": []
  }
 ],
 "metadata": {
  "kernelspec": {
   "display_name": "Python 3 (ipykernel)",
   "language": "python",
   "name": "python3"
  },
  "language_info": {
   "codemirror_mode": {
    "name": "ipython",
    "version": 3
   },
   "file_extension": ".py",
   "mimetype": "text/x-python",
   "name": "python",
   "nbconvert_exporter": "python",
   "pygments_lexer": "ipython3",
   "version": "3.10.6"
  },
  "vscode": {
   "interpreter": {
    "hash": "d7ea9c19d132bf6acf033a757b85ea9dde6e0ede978acd8fdd00a50d45ea2f28"
   }
  }
 },
 "nbformat": 4,
 "nbformat_minor": 5
}
